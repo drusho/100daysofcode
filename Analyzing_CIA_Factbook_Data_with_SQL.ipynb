{
  "nbformat": 4,
  "nbformat_minor": 0,
  "metadata": {
    "colab": {
      "name": "Analyzing CIA Factbook Data with SQL.ipynb",
      "provenance": [],
      "collapsed_sections": [],
      "toc_visible": true,
      "authorship_tag": "ABX9TyPGd6sQ0CHcVfC8KFuXvUqz",
      "include_colab_link": true
    },
    "kernelspec": {
      "name": "python3",
      "display_name": "Python 3"
    }
  },
  "cells": [
    {
      "cell_type": "markdown",
      "metadata": {
        "id": "view-in-github",
        "colab_type": "text"
      },
      "source": [
        "<a href=\"https://colab.research.google.com/github/drusho/data_analysis/blob/gh-pages/Analyzing_CIA_Factbook_Data_with_SQL.ipynb\" target=\"_parent\"><img src=\"https://colab.research.google.com/assets/colab-badge.svg\" alt=\"Open In Colab\"/></a>"
      ]
    },
    {
      "cell_type": "markdown",
      "metadata": {
        "id": "hRwsuSmgH7Bc"
      },
      "source": [
        "# __Practicing SQL using CIA Factbook Data___"
      ]
    },
    {
      "cell_type": "code",
      "metadata": {
        "id": "PE2bU9myTk1Y",
        "colab": {
          "base_uri": "https://localhost:8080/"
        },
        "outputId": "806aab24-87c3-4453-bbf1-184fb83ea089"
      },
      "source": [
        "# install ipython-sql to work with SQL\n",
        "!pip install ipython-sql"
      ],
      "execution_count": null,
      "outputs": [
        {
          "output_type": "stream",
          "text": [
            "Requirement already satisfied: ipython-sql in /usr/local/lib/python3.7/dist-packages (0.3.9)\n",
            "Requirement already satisfied: six in /usr/local/lib/python3.7/dist-packages (from ipython-sql) (1.15.0)\n",
            "Requirement already satisfied: ipython-genutils>=0.1.0 in /usr/local/lib/python3.7/dist-packages (from ipython-sql) (0.2.0)\n",
            "Requirement already satisfied: prettytable in /usr/local/lib/python3.7/dist-packages (from ipython-sql) (2.0.0)\n",
            "Requirement already satisfied: sqlalchemy>=0.6.7 in /usr/local/lib/python3.7/dist-packages (from ipython-sql) (1.3.23)\n",
            "Requirement already satisfied: ipython>=1.0 in /usr/local/lib/python3.7/dist-packages (from ipython-sql) (5.5.0)\n",
            "Requirement already satisfied: sqlparse in /usr/local/lib/python3.7/dist-packages (from ipython-sql) (0.4.1)\n",
            "Requirement already satisfied: setuptools in /usr/local/lib/python3.7/dist-packages (from prettytable->ipython-sql) (53.0.0)\n",
            "Requirement already satisfied: wcwidth in /usr/local/lib/python3.7/dist-packages (from prettytable->ipython-sql) (0.2.5)\n",
            "Requirement already satisfied: traitlets>=4.2 in /usr/local/lib/python3.7/dist-packages (from ipython>=1.0->ipython-sql) (4.3.3)\n",
            "Requirement already satisfied: decorator in /usr/local/lib/python3.7/dist-packages (from ipython>=1.0->ipython-sql) (4.4.2)\n",
            "Requirement already satisfied: pickleshare in /usr/local/lib/python3.7/dist-packages (from ipython>=1.0->ipython-sql) (0.7.5)\n",
            "Requirement already satisfied: simplegeneric>0.8 in /usr/local/lib/python3.7/dist-packages (from ipython>=1.0->ipython-sql) (0.8.1)\n",
            "Requirement already satisfied: pygments in /usr/local/lib/python3.7/dist-packages (from ipython>=1.0->ipython-sql) (2.6.1)\n",
            "Requirement already satisfied: prompt-toolkit<2.0.0,>=1.0.4 in /usr/local/lib/python3.7/dist-packages (from ipython>=1.0->ipython-sql) (1.0.18)\n",
            "Requirement already satisfied: pexpect; sys_platform != \"win32\" in /usr/local/lib/python3.7/dist-packages (from ipython>=1.0->ipython-sql) (4.8.0)\n",
            "Requirement already satisfied: ptyprocess>=0.5 in /usr/local/lib/python3.7/dist-packages (from pexpect; sys_platform != \"win32\"->ipython>=1.0->ipython-sql) (0.7.0)\n"
          ],
          "name": "stdout"
        }
      ]
    },
    {
      "cell_type": "code",
      "metadata": {
        "id": "qNoOI_fqV4S4"
      },
      "source": [
        "%%capture\n",
        "%load_ext sql\n",
        "%sql sqlite:////content/CIA_World_Factbook_data.db"
      ],
      "execution_count": null,
      "outputs": []
    },
    {
      "cell_type": "code",
      "metadata": {
        "colab": {
          "base_uri": "https://localhost:8080/",
          "height": 205
        },
        "id": "O-6AMfpCTx3w",
        "outputId": "60ab06fa-ca7d-4a32-e6f8-75468d315473"
      },
      "source": [
        "%%sql\n",
        "SELECT *\n",
        "  FROM facts\n",
        " LIMIT 5;"
      ],
      "execution_count": null,
      "outputs": [
        {
          "output_type": "stream",
          "text": [
            " * sqlite:////content/CIA_World_Factbook_data.db\n",
            "Done.\n"
          ],
          "name": "stdout"
        },
        {
          "output_type": "execute_result",
          "data": {
            "text/html": [
              "<table>\n",
              "    <thead>\n",
              "        <tr>\n",
              "            <th>id</th>\n",
              "            <th>code</th>\n",
              "            <th>name</th>\n",
              "            <th>area</th>\n",
              "            <th>area_land</th>\n",
              "            <th>area_water</th>\n",
              "            <th>population</th>\n",
              "            <th>population_growth</th>\n",
              "            <th>birth_rate</th>\n",
              "            <th>death_rate</th>\n",
              "            <th>migration_rate</th>\n",
              "        </tr>\n",
              "    </thead>\n",
              "    <tbody>\n",
              "        <tr>\n",
              "            <td>1</td>\n",
              "            <td>af</td>\n",
              "            <td>Afghanistan</td>\n",
              "            <td>652230</td>\n",
              "            <td>652230</td>\n",
              "            <td>0</td>\n",
              "            <td>32564342</td>\n",
              "            <td>2.32</td>\n",
              "            <td>38.57</td>\n",
              "            <td>13.89</td>\n",
              "            <td>1.51</td>\n",
              "        </tr>\n",
              "        <tr>\n",
              "            <td>2</td>\n",
              "            <td>al</td>\n",
              "            <td>Albania</td>\n",
              "            <td>28748</td>\n",
              "            <td>27398</td>\n",
              "            <td>1350</td>\n",
              "            <td>3029278</td>\n",
              "            <td>0.3</td>\n",
              "            <td>12.92</td>\n",
              "            <td>6.58</td>\n",
              "            <td>3.3</td>\n",
              "        </tr>\n",
              "        <tr>\n",
              "            <td>3</td>\n",
              "            <td>ag</td>\n",
              "            <td>Algeria</td>\n",
              "            <td>2381741</td>\n",
              "            <td>2381741</td>\n",
              "            <td>0</td>\n",
              "            <td>39542166</td>\n",
              "            <td>1.84</td>\n",
              "            <td>23.67</td>\n",
              "            <td>4.31</td>\n",
              "            <td>0.92</td>\n",
              "        </tr>\n",
              "        <tr>\n",
              "            <td>4</td>\n",
              "            <td>an</td>\n",
              "            <td>Andorra</td>\n",
              "            <td>468</td>\n",
              "            <td>468</td>\n",
              "            <td>0</td>\n",
              "            <td>85580</td>\n",
              "            <td>0.12</td>\n",
              "            <td>8.13</td>\n",
              "            <td>6.96</td>\n",
              "            <td>0.0</td>\n",
              "        </tr>\n",
              "        <tr>\n",
              "            <td>5</td>\n",
              "            <td>ao</td>\n",
              "            <td>Angola</td>\n",
              "            <td>1246700</td>\n",
              "            <td>1246700</td>\n",
              "            <td>0</td>\n",
              "            <td>19625353</td>\n",
              "            <td>2.78</td>\n",
              "            <td>38.78</td>\n",
              "            <td>11.49</td>\n",
              "            <td>0.46</td>\n",
              "        </tr>\n",
              "    </tbody>\n",
              "</table>"
            ],
            "text/plain": [
              "[(1, 'af', 'Afghanistan', 652230, 652230, 0, 32564342, 2.32, 38.57, 13.89, 1.51),\n",
              " (2, 'al', 'Albania', 28748, 27398, 1350, 3029278, 0.3, 12.92, 6.58, 3.3),\n",
              " (3, 'ag', 'Algeria', 2381741, 2381741, 0, 39542166, 1.84, 23.67, 4.31, 0.92),\n",
              " (4, 'an', 'Andorra', 468, 468, 0, 85580, 0.12, 8.13, 6.96, 0.0),\n",
              " (5, 'ao', 'Angola', 1246700, 1246700, 0, 19625353, 2.78, 38.78, 11.49, 0.46)]"
            ]
          },
          "metadata": {
            "tags": []
          },
          "execution_count": 4
        }
      ]
    },
    {
      "cell_type": "markdown",
      "metadata": {
        "id": "E_Od-E-qWBVA"
      },
      "source": [
        "### Here are the descriptions for some of the columns:\n",
        "\n",
        "<p>name - The name of the country.\n",
        "<p>area - The total land and sea area of the country.\n",
        "<p>population - The country's population.\n",
        "<p>population_growth- The country's population growth as a percentage.\n",
        "<p>birth_rate - The country's birth rate, or the number of births a year per 1,000 people.\n",
        "<p>death_rate - The country's death rate, or the number of death a year per 1,000 people.\n",
        "<p>area- The country's total area (both land and water).\n",
        "<p>area_land - The country's land area in square kilometers.\n",
        "<p>area_water - The country's waterarea in square kilometers.\n",
        "<p>Let's start by calculating some summary statistics and see what they tell us."
      ]
    },
    {
      "cell_type": "markdown",
      "metadata": {
        "id": "bW6mKhmBWWUw"
      },
      "source": [
        "# Summary Statistics"
      ]
    },
    {
      "cell_type": "code",
      "metadata": {
        "colab": {
          "base_uri": "https://localhost:8080/",
          "height": 131
        },
        "id": "S2VRWjWJWliM",
        "outputId": "5622077d-aac9-4dcc-b589-e4e054376b2a"
      },
      "source": [
        "%%sql\n",
        "SELECT MIN(population) AS min_pop,\n",
        "       MAX(population) AS max_pop,\n",
        "       MIN(population_growth) AS min_pop_growth,\n",
        "       MAX(population_growth) max_pop_growth \n",
        "  FROM facts;"
      ],
      "execution_count": null,
      "outputs": [
        {
          "output_type": "stream",
          "text": [
            " * sqlite:////content/CIA_World_Factbook_data.db\n",
            "   sqlite:///factbook.db\n",
            "Done.\n"
          ],
          "name": "stdout"
        },
        {
          "output_type": "execute_result",
          "data": {
            "text/html": [
              "<table>\n",
              "    <thead>\n",
              "        <tr>\n",
              "            <th>min_pop</th>\n",
              "            <th>max_pop</th>\n",
              "            <th>min_pop_growth</th>\n",
              "            <th>max_pop_growth</th>\n",
              "        </tr>\n",
              "    </thead>\n",
              "    <tbody>\n",
              "        <tr>\n",
              "            <td>0</td>\n",
              "            <td>7256490011</td>\n",
              "            <td>0.0</td>\n",
              "            <td>4.02</td>\n",
              "        </tr>\n",
              "    </tbody>\n",
              "</table>"
            ],
            "text/plain": [
              "[(0, 7256490011, 0.0, 4.02)]"
            ]
          },
          "metadata": {
            "tags": []
          },
          "execution_count": 21
        }
      ]
    },
    {
      "cell_type": "code",
      "metadata": {
        "colab": {
          "base_uri": "https://localhost:8080/",
          "height": 131
        },
        "id": "6J_Quk9iXjeQ",
        "outputId": "083bd70d-5e11-4be0-b35e-edf31d5ea32c"
      },
      "source": [
        "# Find countries with min_population\n",
        "\n",
        "%%sql\n",
        "SELECT *\n",
        "  FROM facts\n",
        "  WHERE population == (SELECT MIN(population)\n",
        "                                            FROM facts\n",
        "                                          );"
      ],
      "execution_count": null,
      "outputs": [
        {
          "output_type": "stream",
          "text": [
            " * sqlite:////content/CIA_World_Factbook_data.db\n",
            "   sqlite:///factbook.db\n",
            "Done.\n"
          ],
          "name": "stdout"
        },
        {
          "output_type": "execute_result",
          "data": {
            "text/html": [
              "<table>\n",
              "    <thead>\n",
              "        <tr>\n",
              "            <th>id</th>\n",
              "            <th>code</th>\n",
              "            <th>name</th>\n",
              "            <th>area</th>\n",
              "            <th>area_land</th>\n",
              "            <th>area_water</th>\n",
              "            <th>population</th>\n",
              "            <th>population_growth</th>\n",
              "            <th>birth_rate</th>\n",
              "            <th>death_rate</th>\n",
              "            <th>migration_rate</th>\n",
              "        </tr>\n",
              "    </thead>\n",
              "    <tbody>\n",
              "        <tr>\n",
              "            <td>250</td>\n",
              "            <td>ay</td>\n",
              "            <td>Antarctica</td>\n",
              "            <td>None</td>\n",
              "            <td>280000</td>\n",
              "            <td>None</td>\n",
              "            <td>0</td>\n",
              "            <td>None</td>\n",
              "            <td>None</td>\n",
              "            <td>None</td>\n",
              "            <td>None</td>\n",
              "        </tr>\n",
              "    </tbody>\n",
              "</table>"
            ],
            "text/plain": [
              "[(250, 'ay', 'Antarctica', None, 280000, None, 0, None, None, None, None)]"
            ]
          },
          "metadata": {
            "tags": []
          },
          "execution_count": 29
        }
      ]
    },
    {
      "cell_type": "code",
      "metadata": {
        "colab": {
          "base_uri": "https://localhost:8080/",
          "height": 131
        },
        "id": "L4TxsQUsYn-o",
        "outputId": "8dabaa6e-3e7b-4037-c567-df77029db2da"
      },
      "source": [
        "# Find countries with max_population\n",
        "%%sql\n",
        "SELECT *\n",
        "  FROM facts\n",
        "  WHERE population == (SELECT MAX(population)\n",
        "                                            FROM facts\n",
        "                                          );"
      ],
      "execution_count": null,
      "outputs": [
        {
          "output_type": "stream",
          "text": [
            " * sqlite:////content/CIA_World_Factbook_data.db\n",
            "   sqlite:///factbook.db\n",
            "Done.\n"
          ],
          "name": "stdout"
        },
        {
          "output_type": "execute_result",
          "data": {
            "text/html": [
              "<table>\n",
              "    <thead>\n",
              "        <tr>\n",
              "            <th>id</th>\n",
              "            <th>code</th>\n",
              "            <th>name</th>\n",
              "            <th>area</th>\n",
              "            <th>area_land</th>\n",
              "            <th>area_water</th>\n",
              "            <th>population</th>\n",
              "            <th>population_growth</th>\n",
              "            <th>birth_rate</th>\n",
              "            <th>death_rate</th>\n",
              "            <th>migration_rate</th>\n",
              "        </tr>\n",
              "    </thead>\n",
              "    <tbody>\n",
              "        <tr>\n",
              "            <td>261</td>\n",
              "            <td>xx</td>\n",
              "            <td>World</td>\n",
              "            <td>None</td>\n",
              "            <td>None</td>\n",
              "            <td>None</td>\n",
              "            <td>7256490011</td>\n",
              "            <td>1.08</td>\n",
              "            <td>18.6</td>\n",
              "            <td>7.8</td>\n",
              "            <td>None</td>\n",
              "        </tr>\n",
              "    </tbody>\n",
              "</table>"
            ],
            "text/plain": [
              "[(261, 'xx', 'World', None, None, None, 7256490011, 1.08, 18.6, 7.8, None)]"
            ]
          },
          "metadata": {
            "tags": []
          },
          "execution_count": 30
        }
      ]
    },
    {
      "cell_type": "code",
      "metadata": {
        "colab": {
          "base_uri": "https://localhost:8080/",
          "height": 131
        },
        "id": "o3XY0kEKbiKQ",
        "outputId": "976a51a3-73f7-45ec-b835-39b36a010e74"
      },
      "source": [
        "%%sql\n",
        "SELECT MIN(population) AS min_pop,\n",
        "       MAX(population) AS max_pop,\n",
        "       MIN(population_growth) AS min_pop_growth,\n",
        "       MAX(population_growth) max_pop_growth \n",
        "  FROM facts\n",
        "  WHERE name != 'World' ;"
      ],
      "execution_count": null,
      "outputs": [
        {
          "output_type": "stream",
          "text": [
            " * sqlite:////content/CIA_World_Factbook_data.db\n",
            "   sqlite:///factbook.db\n",
            "Done.\n"
          ],
          "name": "stdout"
        },
        {
          "output_type": "execute_result",
          "data": {
            "text/html": [
              "<table>\n",
              "    <thead>\n",
              "        <tr>\n",
              "            <th>min_pop</th>\n",
              "            <th>max_pop</th>\n",
              "            <th>min_pop_growth</th>\n",
              "            <th>max_pop_growth</th>\n",
              "        </tr>\n",
              "    </thead>\n",
              "    <tbody>\n",
              "        <tr>\n",
              "            <td>0</td>\n",
              "            <td>1367485388</td>\n",
              "            <td>0.0</td>\n",
              "            <td>4.02</td>\n",
              "        </tr>\n",
              "    </tbody>\n",
              "</table>"
            ],
            "text/plain": [
              "[(0, 1367485388, 0.0, 4.02)]"
            ]
          },
          "metadata": {
            "tags": []
          },
          "execution_count": 34
        }
      ]
    },
    {
      "cell_type": "code",
      "metadata": {
        "colab": {
          "base_uri": "https://localhost:8080/",
          "height": 131
        },
        "id": "RHOSxfdFcTn4",
        "outputId": "a3286797-7efb-43ba-d99a-9d5ef5317a42"
      },
      "source": [
        "%%sql \n",
        "\n",
        "SELECT ROUND(AVG(population),2) 'Avg Pop.', ROUND(AVG(area),2) 'Avg Area'\n",
        "FROM facts\n",
        "WHERE name <> 'World'"
      ],
      "execution_count": null,
      "outputs": [
        {
          "output_type": "stream",
          "text": [
            " * sqlite:////content/CIA_World_Factbook_data.db\n",
            "   sqlite:///factbook.db\n",
            "Done.\n"
          ],
          "name": "stdout"
        },
        {
          "output_type": "execute_result",
          "data": {
            "text/html": [
              "<table>\n",
              "    <thead>\n",
              "        <tr>\n",
              "            <th>Avg Pop.</th>\n",
              "            <th>Avg Area</th>\n",
              "        </tr>\n",
              "    </thead>\n",
              "    <tbody>\n",
              "        <tr>\n",
              "            <td>32242666.57</td>\n",
              "            <td>555093.55</td>\n",
              "        </tr>\n",
              "    </tbody>\n",
              "</table>"
            ],
            "text/plain": [
              "[(32242666.57, 555093.55)]"
            ]
          },
          "metadata": {
            "tags": []
          },
          "execution_count": 40
        }
      ]
    },
    {
      "cell_type": "code",
      "metadata": {
        "colab": {
          "base_uri": "https://localhost:8080/",
          "height": 441
        },
        "id": "HkJdDvdtciUg",
        "outputId": "584f1c25-9a00-4e7f-d92b-c51dcaedff42"
      },
      "source": [
        "%%sql\n",
        "SELECT *\n",
        "FROM facts \n",
        "WHERE  population > (SELECT AVG(population)\n",
        "                                          FROM facts\n",
        "                                        WHERE name <> 'World')\n",
        "    AND area < (SELECT AVG(area)\n",
        "                            FROM facts\n",
        "                          WHERE name <> 'World');"
      ],
      "execution_count": null,
      "outputs": [
        {
          "output_type": "stream",
          "text": [
            " * sqlite:////content/CIA_World_Factbook_data.db\n",
            "   sqlite:///factbook.db\n",
            "Done.\n"
          ],
          "name": "stdout"
        },
        {
          "output_type": "execute_result",
          "data": {
            "text/html": [
              "<table>\n",
              "    <thead>\n",
              "        <tr>\n",
              "            <th>id</th>\n",
              "            <th>code</th>\n",
              "            <th>name</th>\n",
              "            <th>area</th>\n",
              "            <th>area_land</th>\n",
              "            <th>area_water</th>\n",
              "            <th>population</th>\n",
              "            <th>population_growth</th>\n",
              "            <th>birth_rate</th>\n",
              "            <th>death_rate</th>\n",
              "            <th>migration_rate</th>\n",
              "        </tr>\n",
              "    </thead>\n",
              "    <tbody>\n",
              "        <tr>\n",
              "            <td>14</td>\n",
              "            <td>bg</td>\n",
              "            <td>Bangladesh</td>\n",
              "            <td>148460</td>\n",
              "            <td>130170</td>\n",
              "            <td>18290</td>\n",
              "            <td>168957745</td>\n",
              "            <td>1.6</td>\n",
              "            <td>21.14</td>\n",
              "            <td>5.61</td>\n",
              "            <td>0.46</td>\n",
              "        </tr>\n",
              "        <tr>\n",
              "            <td>65</td>\n",
              "            <td>gm</td>\n",
              "            <td>Germany</td>\n",
              "            <td>357022</td>\n",
              "            <td>348672</td>\n",
              "            <td>8350</td>\n",
              "            <td>80854408</td>\n",
              "            <td>0.17</td>\n",
              "            <td>8.47</td>\n",
              "            <td>11.42</td>\n",
              "            <td>1.24</td>\n",
              "        </tr>\n",
              "        <tr>\n",
              "            <td>80</td>\n",
              "            <td>iz</td>\n",
              "            <td>Iraq</td>\n",
              "            <td>438317</td>\n",
              "            <td>437367</td>\n",
              "            <td>950</td>\n",
              "            <td>37056169</td>\n",
              "            <td>2.93</td>\n",
              "            <td>31.45</td>\n",
              "            <td>3.77</td>\n",
              "            <td>1.62</td>\n",
              "        </tr>\n",
              "        <tr>\n",
              "            <td>83</td>\n",
              "            <td>it</td>\n",
              "            <td>Italy</td>\n",
              "            <td>301340</td>\n",
              "            <td>294140</td>\n",
              "            <td>7200</td>\n",
              "            <td>61855120</td>\n",
              "            <td>0.27</td>\n",
              "            <td>8.74</td>\n",
              "            <td>10.19</td>\n",
              "            <td>4.1</td>\n",
              "        </tr>\n",
              "        <tr>\n",
              "            <td>85</td>\n",
              "            <td>ja</td>\n",
              "            <td>Japan</td>\n",
              "            <td>377915</td>\n",
              "            <td>364485</td>\n",
              "            <td>13430</td>\n",
              "            <td>126919659</td>\n",
              "            <td>0.16</td>\n",
              "            <td>7.93</td>\n",
              "            <td>9.51</td>\n",
              "            <td>0.0</td>\n",
              "        </tr>\n",
              "        <tr>\n",
              "            <td>91</td>\n",
              "            <td>ks</td>\n",
              "            <td>Korea, South</td>\n",
              "            <td>99720</td>\n",
              "            <td>96920</td>\n",
              "            <td>2800</td>\n",
              "            <td>49115196</td>\n",
              "            <td>0.14</td>\n",
              "            <td>8.19</td>\n",
              "            <td>6.75</td>\n",
              "            <td>0.0</td>\n",
              "        </tr>\n",
              "        <tr>\n",
              "            <td>120</td>\n",
              "            <td>mo</td>\n",
              "            <td>Morocco</td>\n",
              "            <td>446550</td>\n",
              "            <td>446300</td>\n",
              "            <td>250</td>\n",
              "            <td>33322699</td>\n",
              "            <td>1.0</td>\n",
              "            <td>18.2</td>\n",
              "            <td>4.81</td>\n",
              "            <td>3.36</td>\n",
              "        </tr>\n",
              "        <tr>\n",
              "            <td>138</td>\n",
              "            <td>rp</td>\n",
              "            <td>Philippines</td>\n",
              "            <td>300000</td>\n",
              "            <td>298170</td>\n",
              "            <td>1830</td>\n",
              "            <td>100998376</td>\n",
              "            <td>1.61</td>\n",
              "            <td>24.27</td>\n",
              "            <td>6.11</td>\n",
              "            <td>2.09</td>\n",
              "        </tr>\n",
              "        <tr>\n",
              "            <td>139</td>\n",
              "            <td>pl</td>\n",
              "            <td>Poland</td>\n",
              "            <td>312685</td>\n",
              "            <td>304255</td>\n",
              "            <td>8430</td>\n",
              "            <td>38562189</td>\n",
              "            <td>0.09</td>\n",
              "            <td>9.74</td>\n",
              "            <td>10.19</td>\n",
              "            <td>0.46</td>\n",
              "        </tr>\n",
              "        <tr>\n",
              "            <td>163</td>\n",
              "            <td>sp</td>\n",
              "            <td>Spain</td>\n",
              "            <td>505370</td>\n",
              "            <td>498980</td>\n",
              "            <td>6390</td>\n",
              "            <td>48146134</td>\n",
              "            <td>0.89</td>\n",
              "            <td>9.64</td>\n",
              "            <td>9.04</td>\n",
              "            <td>8.31</td>\n",
              "        </tr>\n",
              "        <tr>\n",
              "            <td>173</td>\n",
              "            <td>th</td>\n",
              "            <td>Thailand</td>\n",
              "            <td>513120</td>\n",
              "            <td>510890</td>\n",
              "            <td>2230</td>\n",
              "            <td>67976405</td>\n",
              "            <td>0.34</td>\n",
              "            <td>11.19</td>\n",
              "            <td>7.8</td>\n",
              "            <td>0.0</td>\n",
              "        </tr>\n",
              "        <tr>\n",
              "            <td>182</td>\n",
              "            <td>ug</td>\n",
              "            <td>Uganda</td>\n",
              "            <td>241038</td>\n",
              "            <td>197100</td>\n",
              "            <td>43938</td>\n",
              "            <td>37101745</td>\n",
              "            <td>3.24</td>\n",
              "            <td>43.79</td>\n",
              "            <td>10.69</td>\n",
              "            <td>0.74</td>\n",
              "        </tr>\n",
              "        <tr>\n",
              "            <td>185</td>\n",
              "            <td>uk</td>\n",
              "            <td>United Kingdom</td>\n",
              "            <td>243610</td>\n",
              "            <td>241930</td>\n",
              "            <td>1680</td>\n",
              "            <td>64088222</td>\n",
              "            <td>0.54</td>\n",
              "            <td>12.17</td>\n",
              "            <td>9.35</td>\n",
              "            <td>2.54</td>\n",
              "        </tr>\n",
              "        <tr>\n",
              "            <td>192</td>\n",
              "            <td>vm</td>\n",
              "            <td>Vietnam</td>\n",
              "            <td>331210</td>\n",
              "            <td>310070</td>\n",
              "            <td>21140</td>\n",
              "            <td>94348835</td>\n",
              "            <td>0.97</td>\n",
              "            <td>15.96</td>\n",
              "            <td>5.93</td>\n",
              "            <td>0.3</td>\n",
              "        </tr>\n",
              "    </tbody>\n",
              "</table>"
            ],
            "text/plain": [
              "[(14, 'bg', 'Bangladesh', 148460, 130170, 18290, 168957745, 1.6, 21.14, 5.61, 0.46),\n",
              " (65, 'gm', 'Germany', 357022, 348672, 8350, 80854408, 0.17, 8.47, 11.42, 1.24),\n",
              " (80, 'iz', 'Iraq', 438317, 437367, 950, 37056169, 2.93, 31.45, 3.77, 1.62),\n",
              " (83, 'it', 'Italy', 301340, 294140, 7200, 61855120, 0.27, 8.74, 10.19, 4.1),\n",
              " (85, 'ja', 'Japan', 377915, 364485, 13430, 126919659, 0.16, 7.93, 9.51, 0.0),\n",
              " (91, 'ks', 'Korea, South', 99720, 96920, 2800, 49115196, 0.14, 8.19, 6.75, 0.0),\n",
              " (120, 'mo', 'Morocco', 446550, 446300, 250, 33322699, 1.0, 18.2, 4.81, 3.36),\n",
              " (138, 'rp', 'Philippines', 300000, 298170, 1830, 100998376, 1.61, 24.27, 6.11, 2.09),\n",
              " (139, 'pl', 'Poland', 312685, 304255, 8430, 38562189, 0.09, 9.74, 10.19, 0.46),\n",
              " (163, 'sp', 'Spain', 505370, 498980, 6390, 48146134, 0.89, 9.64, 9.04, 8.31),\n",
              " (173, 'th', 'Thailand', 513120, 510890, 2230, 67976405, 0.34, 11.19, 7.8, 0.0),\n",
              " (182, 'ug', 'Uganda', 241038, 197100, 43938, 37101745, 3.24, 43.79, 10.69, 0.74),\n",
              " (185, 'uk', 'United Kingdom', 243610, 241930, 1680, 64088222, 0.54, 12.17, 9.35, 2.54),\n",
              " (192, 'vm', 'Vietnam', 331210, 310070, 21140, 94348835, 0.97, 15.96, 5.93, 0.3)]"
            ]
          },
          "metadata": {
            "tags": []
          },
          "execution_count": 52
        }
      ]
    }
  ]
}