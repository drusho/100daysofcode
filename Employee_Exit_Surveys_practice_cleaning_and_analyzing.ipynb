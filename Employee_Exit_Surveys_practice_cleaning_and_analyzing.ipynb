{
  "nbformat": 4,
  "nbformat_minor": 0,
  "metadata": {
    "colab": {
      "name": "Employee Exit Surveys - practice cleaning and analyzing.ipynb",
      "provenance": [],
      "authorship_tag": "ABX9TyOX/pB6nrokOILKYNsn9x1H",
      "include_colab_link": true
    },
    "kernelspec": {
      "name": "python3",
      "display_name": "Python 3"
    }
  },
  "cells": [
    {
      "cell_type": "markdown",
      "metadata": {
        "id": "view-in-github",
        "colab_type": "text"
      },
      "source": [
        "<a href=\"https://colab.research.google.com/github/drusho/data_analysis/blob/gh-pages/Employee_Exit_Surveys_practice_cleaning_and_analyzing.ipynb\" target=\"_parent\"><img src=\"https://colab.research.google.com/assets/colab-badge.svg\" alt=\"Open In Colab\"/></a>"
      ]
    },
    {
      "cell_type": "markdown",
      "metadata": {
        "id": "mtpf7sRQtWBY"
      },
      "source": [
        "## __Employee Exit Surveys__\n",
        "#### Practice for Cleaning and Analyzing Datasets"
      ]
    },
    {
      "cell_type": "code",
      "metadata": {
        "id": "58ZxLKlmuHgk"
      },
      "source": [
        "import pandas as pd\n",
        "import numpy as np\n",
        "\n",
        "import seaborn as sns\n",
        "import matplotlib.pyplot as plt"
      ],
      "execution_count": null,
      "outputs": []
    },
    {
      "cell_type": "code",
      "metadata": {
        "colab": {
          "base_uri": "https://localhost:8080/"
        },
        "id": "ZRK11jl_tTSY",
        "outputId": "5a276ce1-71fc-4de7-b498-762bde03b6bc"
      },
      "source": [
        "exit_survey = pd.read_csv('http://opendata.dete.qld.gov.au/human-resources/dete-exit-survey-january-2014.csv',\n",
        "                          usecols = ['ID','SeparationType','Cease Date','DETE Start Date','Employment Status','Position','Age','Gender'],\n",
        "                          na_values='Not Stated')\n",
        "exit_survey.info()"
      ],
      "execution_count": null,
      "outputs": [
        {
          "output_type": "stream",
          "text": [
            "<class 'pandas.core.frame.DataFrame'>\n",
            "RangeIndex: 822 entries, 0 to 821\n",
            "Data columns (total 8 columns):\n",
            " #   Column             Non-Null Count  Dtype  \n",
            "---  ------             --------------  -----  \n",
            " 0   ID                 822 non-null    int64  \n",
            " 1   SeparationType     822 non-null    object \n",
            " 2   Cease Date         788 non-null    object \n",
            " 3   DETE Start Date    749 non-null    float64\n",
            " 4   Position           817 non-null    object \n",
            " 5   Employment Status  817 non-null    object \n",
            " 6   Gender             798 non-null    object \n",
            " 7   Age                811 non-null    object \n",
            "dtypes: float64(1), int64(1), object(6)\n",
            "memory usage: 51.5+ KB\n"
          ],
          "name": "stdout"
        }
      ]
    },
    {
      "cell_type": "code",
      "metadata": {
        "colab": {
          "base_uri": "https://localhost:8080/",
          "height": 143
        },
        "id": "rbXrTnHNulDM",
        "outputId": "c8431f8b-9baf-4863-c8a1-c6f97465161f"
      },
      "source": [
        "exit_survey.head(3)"
      ],
      "execution_count": null,
      "outputs": [
        {
          "output_type": "execute_result",
          "data": {
            "text/html": [
              "<div>\n",
              "<style scoped>\n",
              "    .dataframe tbody tr th:only-of-type {\n",
              "        vertical-align: middle;\n",
              "    }\n",
              "\n",
              "    .dataframe tbody tr th {\n",
              "        vertical-align: top;\n",
              "    }\n",
              "\n",
              "    .dataframe thead th {\n",
              "        text-align: right;\n",
              "    }\n",
              "</style>\n",
              "<table border=\"1\" class=\"dataframe\">\n",
              "  <thead>\n",
              "    <tr style=\"text-align: right;\">\n",
              "      <th></th>\n",
              "      <th>ID</th>\n",
              "      <th>SeparationType</th>\n",
              "      <th>Cease Date</th>\n",
              "      <th>DETE Start Date</th>\n",
              "      <th>Position</th>\n",
              "      <th>Employment Status</th>\n",
              "      <th>Gender</th>\n",
              "      <th>Age</th>\n",
              "    </tr>\n",
              "  </thead>\n",
              "  <tbody>\n",
              "    <tr>\n",
              "      <th>0</th>\n",
              "      <td>1</td>\n",
              "      <td>Ill Health Retirement</td>\n",
              "      <td>08/2012</td>\n",
              "      <td>1984</td>\n",
              "      <td>Public Servant</td>\n",
              "      <td>Permanent Full-time</td>\n",
              "      <td>Male</td>\n",
              "      <td>56-60</td>\n",
              "    </tr>\n",
              "    <tr>\n",
              "      <th>1</th>\n",
              "      <td>2</td>\n",
              "      <td>Voluntary Early Retirement (VER)</td>\n",
              "      <td>08/2012</td>\n",
              "      <td>Not Stated</td>\n",
              "      <td>Public Servant</td>\n",
              "      <td>Permanent Full-time</td>\n",
              "      <td>Male</td>\n",
              "      <td>56-60</td>\n",
              "    </tr>\n",
              "    <tr>\n",
              "      <th>2</th>\n",
              "      <td>3</td>\n",
              "      <td>Voluntary Early Retirement (VER)</td>\n",
              "      <td>05/2012</td>\n",
              "      <td>2011</td>\n",
              "      <td>Schools Officer</td>\n",
              "      <td>Permanent Full-time</td>\n",
              "      <td>Male</td>\n",
              "      <td>61 or older</td>\n",
              "    </tr>\n",
              "  </tbody>\n",
              "</table>\n",
              "</div>"
            ],
            "text/plain": [
              "   ID                    SeparationType  ... Gender          Age\n",
              "0   1             Ill Health Retirement  ...   Male        56-60\n",
              "1   2  Voluntary Early Retirement (VER)  ...   Male        56-60\n",
              "2   3  Voluntary Early Retirement (VER)  ...   Male  61 or older\n",
              "\n",
              "[3 rows x 8 columns]"
            ]
          },
          "metadata": {
            "tags": []
          },
          "execution_count": 3
        }
      ]
    },
    {
      "cell_type": "code",
      "metadata": {
        "colab": {
          "base_uri": "https://localhost:8080/",
          "height": 143
        },
        "id": "nENQY5nojYWA",
        "outputId": "e795a35d-ad3c-4ad8-d94a-ddc1b6ffa4ca"
      },
      "source": [
        "# import tafe_survey using encoding cp1252\n",
        "\n",
        "tafe_survey = pd.read_csv('http://opendata.dete.qld.gov.au/human-resources/tafe-employee-exit-survey-access-database-december-2013.csv', \n",
        "                          encoding = 'cp1252',\n",
        "                          usecols=['Record ID','Reason for ceasing employment','LengthofServiceOverall. Overall Length of Service at Institute (in years)'])\n",
        "\n",
        "tafe_survey.head(3)"
      ],
      "execution_count": null,
      "outputs": [
        {
          "output_type": "execute_result",
          "data": {
            "text/html": [
              "<div>\n",
              "<style scoped>\n",
              "    .dataframe tbody tr th:only-of-type {\n",
              "        vertical-align: middle;\n",
              "    }\n",
              "\n",
              "    .dataframe tbody tr th {\n",
              "        vertical-align: top;\n",
              "    }\n",
              "\n",
              "    .dataframe thead th {\n",
              "        text-align: right;\n",
              "    }\n",
              "</style>\n",
              "<table border=\"1\" class=\"dataframe\">\n",
              "  <thead>\n",
              "    <tr style=\"text-align: right;\">\n",
              "      <th></th>\n",
              "      <th>Record ID</th>\n",
              "      <th>Reason for ceasing employment</th>\n",
              "      <th>LengthofServiceOverall. Overall Length of Service at Institute (in years)</th>\n",
              "    </tr>\n",
              "  </thead>\n",
              "  <tbody>\n",
              "    <tr>\n",
              "      <th>0</th>\n",
              "      <td>634133009996094000</td>\n",
              "      <td>Contract Expired</td>\n",
              "      <td>1-2</td>\n",
              "    </tr>\n",
              "    <tr>\n",
              "      <th>1</th>\n",
              "      <td>634133654064531000</td>\n",
              "      <td>Retirement</td>\n",
              "      <td>NaN</td>\n",
              "    </tr>\n",
              "    <tr>\n",
              "      <th>2</th>\n",
              "      <td>634138845606563000</td>\n",
              "      <td>Retirement</td>\n",
              "      <td>NaN</td>\n",
              "    </tr>\n",
              "  </tbody>\n",
              "</table>\n",
              "</div>"
            ],
            "text/plain": [
              "            Record ID  ... LengthofServiceOverall. Overall Length of Service at Institute (in years)\n",
              "0  634133009996094000  ...                                                1-2                       \n",
              "1  634133654064531000  ...                                                NaN                       \n",
              "2  634138845606563000  ...                                                NaN                       \n",
              "\n",
              "[3 rows x 3 columns]"
            ]
          },
          "metadata": {
            "tags": []
          },
          "execution_count": 54
        }
      ]
    },
    {
      "cell_type": "code",
      "metadata": {
        "colab": {
          "base_uri": "https://localhost:8080/"
        },
        "id": "jz85w0gNlxJs",
        "outputId": "5bd18ae9-8f34-4be8-8c4d-98e6d0a94eb3"
      },
      "source": [
        "tafe_survey.info()"
      ],
      "execution_count": null,
      "outputs": [
        {
          "output_type": "stream",
          "text": [
            "<class 'pandas.core.frame.DataFrame'>\n",
            "RangeIndex: 702 entries, 0 to 701\n",
            "Data columns (total 3 columns):\n",
            " #   Column                                                                     Non-Null Count  Dtype \n",
            "---  ------                                                                     --------------  ----- \n",
            " 0   Record ID                                                                  702 non-null    int64 \n",
            " 1   Reason for ceasing employment                                              701 non-null    object\n",
            " 2   LengthofServiceOverall. Overall Length of Service at Institute (in years)  596 non-null    object\n",
            "dtypes: int64(1), object(2)\n",
            "memory usage: 16.6+ KB\n"
          ],
          "name": "stdout"
        }
      ]
    },
    {
      "cell_type": "code",
      "metadata": {
        "colab": {
          "base_uri": "https://localhost:8080/",
          "height": 81
        },
        "id": "hqjVNuA-mwuc",
        "outputId": "9b796425-e10c-4667-9e60-96b3249dfe37"
      },
      "source": [
        "# show the one row that has null value\n",
        "tafe_survey[tafe_survey['Reason for ceasing employment'].isnull()]"
      ],
      "execution_count": null,
      "outputs": [
        {
          "output_type": "execute_result",
          "data": {
            "text/html": [
              "<div>\n",
              "<style scoped>\n",
              "    .dataframe tbody tr th:only-of-type {\n",
              "        vertical-align: middle;\n",
              "    }\n",
              "\n",
              "    .dataframe tbody tr th {\n",
              "        vertical-align: top;\n",
              "    }\n",
              "\n",
              "    .dataframe thead th {\n",
              "        text-align: right;\n",
              "    }\n",
              "</style>\n",
              "<table border=\"1\" class=\"dataframe\">\n",
              "  <thead>\n",
              "    <tr style=\"text-align: right;\">\n",
              "      <th></th>\n",
              "      <th>Record ID</th>\n",
              "      <th>Reason for ceasing employment</th>\n",
              "      <th>LengthofServiceOverall. Overall Length of Service at Institute (in years)</th>\n",
              "    </tr>\n",
              "  </thead>\n",
              "  <tbody>\n",
              "    <tr>\n",
              "      <th>324</th>\n",
              "      <td>634580449107031000</td>\n",
              "      <td>NaN</td>\n",
              "      <td>NaN</td>\n",
              "    </tr>\n",
              "  </tbody>\n",
              "</table>\n",
              "</div>"
            ],
            "text/plain": [
              "              Record ID  ... LengthofServiceOverall. Overall Length of Service at Institute (in years)\n",
              "324  634580449107031000  ...                                                NaN                       \n",
              "\n",
              "[1 rows x 3 columns]"
            ]
          },
          "metadata": {
            "tags": []
          },
          "execution_count": 13
        }
      ]
    },
    {
      "cell_type": "code",
      "metadata": {
        "colab": {
          "base_uri": "https://localhost:8080/",
          "height": 424
        },
        "id": "kV3gtdrjm9a8",
        "outputId": "8ead63ad-db21-4811-e4e4-40a3ec3f20f8"
      },
      "source": [
        "# show all rows that have null values\n",
        "tafe_survey[tafe_survey['LengthofServiceOverall. Overall Length of Service at Institute (in years)'].isnull()]"
      ],
      "execution_count": null,
      "outputs": [
        {
          "output_type": "execute_result",
          "data": {
            "text/html": [
              "<div>\n",
              "<style scoped>\n",
              "    .dataframe tbody tr th:only-of-type {\n",
              "        vertical-align: middle;\n",
              "    }\n",
              "\n",
              "    .dataframe tbody tr th {\n",
              "        vertical-align: top;\n",
              "    }\n",
              "\n",
              "    .dataframe thead th {\n",
              "        text-align: right;\n",
              "    }\n",
              "</style>\n",
              "<table border=\"1\" class=\"dataframe\">\n",
              "  <thead>\n",
              "    <tr style=\"text-align: right;\">\n",
              "      <th></th>\n",
              "      <th>Record ID</th>\n",
              "      <th>Reason for ceasing employment</th>\n",
              "      <th>LengthofServiceOverall. Overall Length of Service at Institute (in years)</th>\n",
              "    </tr>\n",
              "  </thead>\n",
              "  <tbody>\n",
              "    <tr>\n",
              "      <th>1</th>\n",
              "      <td>634133654064531000</td>\n",
              "      <td>Retirement</td>\n",
              "      <td>NaN</td>\n",
              "    </tr>\n",
              "    <tr>\n",
              "      <th>2</th>\n",
              "      <td>634138845606563000</td>\n",
              "      <td>Retirement</td>\n",
              "      <td>NaN</td>\n",
              "    </tr>\n",
              "    <tr>\n",
              "      <th>3</th>\n",
              "      <td>634139903350000000</td>\n",
              "      <td>Resignation</td>\n",
              "      <td>NaN</td>\n",
              "    </tr>\n",
              "    <tr>\n",
              "      <th>16</th>\n",
              "      <td>634177007457719000</td>\n",
              "      <td>Resignation</td>\n",
              "      <td>NaN</td>\n",
              "    </tr>\n",
              "    <tr>\n",
              "      <th>18</th>\n",
              "      <td>634177938010971000</td>\n",
              "      <td>Resignation</td>\n",
              "      <td>NaN</td>\n",
              "    </tr>\n",
              "    <tr>\n",
              "      <th>...</th>\n",
              "      <td>...</td>\n",
              "      <td>...</td>\n",
              "      <td>...</td>\n",
              "    </tr>\n",
              "    <tr>\n",
              "      <th>672</th>\n",
              "      <td>635013239645781000</td>\n",
              "      <td>Retirement</td>\n",
              "      <td>NaN</td>\n",
              "    </tr>\n",
              "    <tr>\n",
              "      <th>690</th>\n",
              "      <td>635049577295469000</td>\n",
              "      <td>Resignation</td>\n",
              "      <td>NaN</td>\n",
              "    </tr>\n",
              "    <tr>\n",
              "      <th>692</th>\n",
              "      <td>635059151164844000</td>\n",
              "      <td>Contract Expired</td>\n",
              "      <td>NaN</td>\n",
              "    </tr>\n",
              "    <tr>\n",
              "      <th>694</th>\n",
              "      <td>635065177031604000</td>\n",
              "      <td>Resignation</td>\n",
              "      <td>NaN</td>\n",
              "    </tr>\n",
              "    <tr>\n",
              "      <th>698</th>\n",
              "      <td>635067716405666000</td>\n",
              "      <td>Resignation</td>\n",
              "      <td>NaN</td>\n",
              "    </tr>\n",
              "  </tbody>\n",
              "</table>\n",
              "<p>106 rows × 3 columns</p>\n",
              "</div>"
            ],
            "text/plain": [
              "              Record ID  ... LengthofServiceOverall. Overall Length of Service at Institute (in years)\n",
              "1    634133654064531000  ...                                                NaN                       \n",
              "2    634138845606563000  ...                                                NaN                       \n",
              "3    634139903350000000  ...                                                NaN                       \n",
              "16   634177007457719000  ...                                                NaN                       \n",
              "18   634177938010971000  ...                                                NaN                       \n",
              "..                  ...  ...                                                ...                       \n",
              "672  635013239645781000  ...                                                NaN                       \n",
              "690  635049577295469000  ...                                                NaN                       \n",
              "692  635059151164844000  ...                                                NaN                       \n",
              "694  635065177031604000  ...                                                NaN                       \n",
              "698  635067716405666000  ...                                                NaN                       \n",
              "\n",
              "[106 rows x 3 columns]"
            ]
          },
          "metadata": {
            "tags": []
          },
          "execution_count": 15
        }
      ]
    },
    {
      "cell_type": "markdown",
      "metadata": {
        "id": "OCtv95qHxf_Q"
      },
      "source": [
        "#### __Questions to Answer__\n",
        "\n",
        "1. Are employees who only worked for the institutes for a short period of time resigning due to some kind of dissatisfaction? \n",
        "  - What about employees who have been there longer?\n",
        "2. Are younger employees resigning due to some kind of dissatisfaction? \n",
        " - What about older employees?\n",
        "\n"
      ]
    },
    {
      "cell_type": "markdown",
      "metadata": {
        "id": "uVM1lJdz34Vo"
      },
      "source": [
        "#### __Errors in dates found for 'Cease Date' and 'Start Date'__\n",
        "Multiple date formats for 'Cease Date'.  'Not Stated' strings are found in both columns.  'Start Date' only has years for dates information."
      ]
    },
    {
      "cell_type": "code",
      "metadata": {
        "colab": {
          "base_uri": "https://localhost:8080/",
          "height": 363
        },
        "id": "Wami66Mp3xTo",
        "outputId": "c335a633-b548-438c-97de-ae53bf48f3e0"
      },
      "source": [
        "# Errors for 'Cease Date'\n",
        "end_date = exit_survey['Cease Date']\n",
        "end_date.value_counts().head(10).to_frame()"
      ],
      "execution_count": null,
      "outputs": [
        {
          "output_type": "execute_result",
          "data": {
            "text/html": [
              "<div>\n",
              "<style scoped>\n",
              "    .dataframe tbody tr th:only-of-type {\n",
              "        vertical-align: middle;\n",
              "    }\n",
              "\n",
              "    .dataframe tbody tr th {\n",
              "        vertical-align: top;\n",
              "    }\n",
              "\n",
              "    .dataframe thead th {\n",
              "        text-align: right;\n",
              "    }\n",
              "</style>\n",
              "<table border=\"1\" class=\"dataframe\">\n",
              "  <thead>\n",
              "    <tr style=\"text-align: right;\">\n",
              "      <th></th>\n",
              "      <th>Cease Date</th>\n",
              "    </tr>\n",
              "  </thead>\n",
              "  <tbody>\n",
              "    <tr>\n",
              "      <th>2012</th>\n",
              "      <td>344</td>\n",
              "    </tr>\n",
              "    <tr>\n",
              "      <th>2013</th>\n",
              "      <td>200</td>\n",
              "    </tr>\n",
              "    <tr>\n",
              "      <th>01/2014</th>\n",
              "      <td>43</td>\n",
              "    </tr>\n",
              "    <tr>\n",
              "      <th>12/2013</th>\n",
              "      <td>40</td>\n",
              "    </tr>\n",
              "    <tr>\n",
              "      <th>09/2013</th>\n",
              "      <td>34</td>\n",
              "    </tr>\n",
              "    <tr>\n",
              "      <th>Not Stated</th>\n",
              "      <td>34</td>\n",
              "    </tr>\n",
              "    <tr>\n",
              "      <th>06/2013</th>\n",
              "      <td>27</td>\n",
              "    </tr>\n",
              "    <tr>\n",
              "      <th>07/2013</th>\n",
              "      <td>22</td>\n",
              "    </tr>\n",
              "    <tr>\n",
              "      <th>10/2013</th>\n",
              "      <td>20</td>\n",
              "    </tr>\n",
              "    <tr>\n",
              "      <th>11/2013</th>\n",
              "      <td>16</td>\n",
              "    </tr>\n",
              "  </tbody>\n",
              "</table>\n",
              "</div>"
            ],
            "text/plain": [
              "            Cease Date\n",
              "2012               344\n",
              "2013               200\n",
              "01/2014             43\n",
              "12/2013             40\n",
              "09/2013             34\n",
              "Not Stated          34\n",
              "06/2013             27\n",
              "07/2013             22\n",
              "10/2013             20\n",
              "11/2013             16"
            ]
          },
          "metadata": {
            "tags": []
          },
          "execution_count": 16
        }
      ]
    },
    {
      "cell_type": "code",
      "metadata": {
        "colab": {
          "base_uri": "https://localhost:8080/",
          "height": 363
        },
        "id": "ENNxukyG4YcU",
        "outputId": "41fe3042-e5a0-4cba-d569-df0795da1014"
      },
      "source": [
        "# Errors for 'DETE Start Date'\n",
        "start_date = exit_survey['DETE Start Date']\n",
        "start_date.value_counts().head(10).to_frame()"
      ],
      "execution_count": null,
      "outputs": [
        {
          "output_type": "execute_result",
          "data": {
            "text/html": [
              "<div>\n",
              "<style scoped>\n",
              "    .dataframe tbody tr th:only-of-type {\n",
              "        vertical-align: middle;\n",
              "    }\n",
              "\n",
              "    .dataframe tbody tr th {\n",
              "        vertical-align: top;\n",
              "    }\n",
              "\n",
              "    .dataframe thead th {\n",
              "        text-align: right;\n",
              "    }\n",
              "</style>\n",
              "<table border=\"1\" class=\"dataframe\">\n",
              "  <thead>\n",
              "    <tr style=\"text-align: right;\">\n",
              "      <th></th>\n",
              "      <th>DETE Start Date</th>\n",
              "    </tr>\n",
              "  </thead>\n",
              "  <tbody>\n",
              "    <tr>\n",
              "      <th>Not Stated</th>\n",
              "      <td>73</td>\n",
              "    </tr>\n",
              "    <tr>\n",
              "      <th>2011</th>\n",
              "      <td>40</td>\n",
              "    </tr>\n",
              "    <tr>\n",
              "      <th>2007</th>\n",
              "      <td>34</td>\n",
              "    </tr>\n",
              "    <tr>\n",
              "      <th>2008</th>\n",
              "      <td>31</td>\n",
              "    </tr>\n",
              "    <tr>\n",
              "      <th>2012</th>\n",
              "      <td>27</td>\n",
              "    </tr>\n",
              "    <tr>\n",
              "      <th>2010</th>\n",
              "      <td>27</td>\n",
              "    </tr>\n",
              "    <tr>\n",
              "      <th>2009</th>\n",
              "      <td>24</td>\n",
              "    </tr>\n",
              "    <tr>\n",
              "      <th>2006</th>\n",
              "      <td>23</td>\n",
              "    </tr>\n",
              "    <tr>\n",
              "      <th>1970</th>\n",
              "      <td>21</td>\n",
              "    </tr>\n",
              "    <tr>\n",
              "      <th>2013</th>\n",
              "      <td>21</td>\n",
              "    </tr>\n",
              "  </tbody>\n",
              "</table>\n",
              "</div>"
            ],
            "text/plain": [
              "            DETE Start Date\n",
              "Not Stated               73\n",
              "2011                     40\n",
              "2007                     34\n",
              "2008                     31\n",
              "2012                     27\n",
              "2010                     27\n",
              "2009                     24\n",
              "2006                     23\n",
              "1970                     21\n",
              "2013                     21"
            ]
          },
          "metadata": {
            "tags": []
          },
          "execution_count": 17
        }
      ]
    },
    {
      "cell_type": "code",
      "metadata": {
        "colab": {
          "base_uri": "https://localhost:8080/",
          "height": 206
        },
        "id": "X6W_YpLQx1f0",
        "outputId": "acdd3361-c900-4983-a9fa-571117526b57"
      },
      "source": [
        "# New df.  dropped rows with 'Not Stated' as dates\n",
        "\n",
        "exit_survey2 = exit_survey[exit_survey['DETE Start Date'] != 'Not Stated']\n",
        "exit_survey2 = exit_survey2[exit_survey2['Cease Date'] != 'Not Stated']\n",
        "\n",
        "exit_survey2['DETE Start Date'].value_counts()\n",
        "exit_survey2['Cease Date'].value_counts().head().to_frame()\n"
      ],
      "execution_count": null,
      "outputs": [
        {
          "output_type": "execute_result",
          "data": {
            "text/html": [
              "<div>\n",
              "<style scoped>\n",
              "    .dataframe tbody tr th:only-of-type {\n",
              "        vertical-align: middle;\n",
              "    }\n",
              "\n",
              "    .dataframe tbody tr th {\n",
              "        vertical-align: top;\n",
              "    }\n",
              "\n",
              "    .dataframe thead th {\n",
              "        text-align: right;\n",
              "    }\n",
              "</style>\n",
              "<table border=\"1\" class=\"dataframe\">\n",
              "  <thead>\n",
              "    <tr style=\"text-align: right;\">\n",
              "      <th></th>\n",
              "      <th>Cease Date</th>\n",
              "    </tr>\n",
              "  </thead>\n",
              "  <tbody>\n",
              "    <tr>\n",
              "      <th>2012</th>\n",
              "      <td>306</td>\n",
              "    </tr>\n",
              "    <tr>\n",
              "      <th>2013</th>\n",
              "      <td>183</td>\n",
              "    </tr>\n",
              "    <tr>\n",
              "      <th>01/2014</th>\n",
              "      <td>43</td>\n",
              "    </tr>\n",
              "    <tr>\n",
              "      <th>12/2013</th>\n",
              "      <td>34</td>\n",
              "    </tr>\n",
              "    <tr>\n",
              "      <th>09/2013</th>\n",
              "      <td>31</td>\n",
              "    </tr>\n",
              "  </tbody>\n",
              "</table>\n",
              "</div>"
            ],
            "text/plain": [
              "         Cease Date\n",
              "2012            306\n",
              "2013            183\n",
              "01/2014          43\n",
              "12/2013          34\n",
              "09/2013          31"
            ]
          },
          "metadata": {
            "tags": []
          },
          "execution_count": 18
        }
      ]
    },
    {
      "cell_type": "code",
      "metadata": {
        "colab": {
          "base_uri": "https://localhost:8080/",
          "height": 206
        },
        "id": "GO9mgWxE-nUc",
        "outputId": "b7255a39-aa25-4959-8f34-012e8408b8bf"
      },
      "source": [
        "# fix 'Cease Date' formating to show only years to match 'DETE Start Date'\n",
        "\n",
        "# Keep only Year for columns with dates\n",
        "exit_survey2['end_date'] = exit_survey2['Cease Date'].str[-4:].astype(int)\n",
        "exit_survey2['start_date'] = exit_survey2['DETE Start Date'].astype(int)\n",
        "exit_survey2['total_years'] = exit_survey2['end_date'] - exit_survey2['start_date']\n",
        "\n",
        "exit_survey2[['start_date','end_date','total_years']].head()"
      ],
      "execution_count": null,
      "outputs": [
        {
          "output_type": "execute_result",
          "data": {
            "text/html": [
              "<div>\n",
              "<style scoped>\n",
              "    .dataframe tbody tr th:only-of-type {\n",
              "        vertical-align: middle;\n",
              "    }\n",
              "\n",
              "    .dataframe tbody tr th {\n",
              "        vertical-align: top;\n",
              "    }\n",
              "\n",
              "    .dataframe thead th {\n",
              "        text-align: right;\n",
              "    }\n",
              "</style>\n",
              "<table border=\"1\" class=\"dataframe\">\n",
              "  <thead>\n",
              "    <tr style=\"text-align: right;\">\n",
              "      <th></th>\n",
              "      <th>start_date</th>\n",
              "      <th>end_date</th>\n",
              "      <th>total_years</th>\n",
              "    </tr>\n",
              "  </thead>\n",
              "  <tbody>\n",
              "    <tr>\n",
              "      <th>0</th>\n",
              "      <td>1984</td>\n",
              "      <td>2012</td>\n",
              "      <td>28</td>\n",
              "    </tr>\n",
              "    <tr>\n",
              "      <th>2</th>\n",
              "      <td>2011</td>\n",
              "      <td>2012</td>\n",
              "      <td>1</td>\n",
              "    </tr>\n",
              "    <tr>\n",
              "      <th>3</th>\n",
              "      <td>2005</td>\n",
              "      <td>2012</td>\n",
              "      <td>7</td>\n",
              "    </tr>\n",
              "    <tr>\n",
              "      <th>4</th>\n",
              "      <td>1970</td>\n",
              "      <td>2012</td>\n",
              "      <td>42</td>\n",
              "    </tr>\n",
              "    <tr>\n",
              "      <th>5</th>\n",
              "      <td>1994</td>\n",
              "      <td>2012</td>\n",
              "      <td>18</td>\n",
              "    </tr>\n",
              "  </tbody>\n",
              "</table>\n",
              "</div>"
            ],
            "text/plain": [
              "   start_date  end_date  total_years\n",
              "0        1984      2012           28\n",
              "2        2011      2012            1\n",
              "3        2005      2012            7\n",
              "4        1970      2012           42\n",
              "5        1994      2012           18"
            ]
          },
          "metadata": {
            "tags": []
          },
          "execution_count": 56
        }
      ]
    },
    {
      "cell_type": "code",
      "metadata": {
        "id": "5d7--Q3tDwiw"
      },
      "source": [
        "# Establish time frame to determine characteristics for a new_employee\n",
        "\n",
        "new_employees = exit_survey2[exit_survey2['total_years'] <= 1] "
      ],
      "execution_count": null,
      "outputs": []
    },
    {
      "cell_type": "code",
      "metadata": {
        "colab": {
          "base_uri": "https://localhost:8080/",
          "height": 308
        },
        "id": "qx9_p7s0kqTg",
        "outputId": "e5121061-f11c-4487-e192-eb9825fa2fb6"
      },
      "source": [
        "sns.countplot(data=new_employees, y='Employment Status', order=new_employees['Employment Status'].value_counts().head().index, palette=\"flare\")\n",
        "plt.suptitle('''Top 5 Positions for New Employees''',fontsize=13,fontweight='bold')\n",
        "plt.title('(employed for 1 year or less)',fontdict={'fontsize':8})\n",
        "plt.ylabel('')\n",
        "plt.xlabel('Count of Positions')\n",
        "plt.show()"
      ],
      "execution_count": null,
      "outputs": [
        {
          "output_type": "display_data",
          "data": {
            "image/png": "[encoded data removed]",
            "text/plain": [
              "<Figure size 432x288 with 1 Axes>"
            ]
          },
          "metadata": {
            "tags": [],
            "needs_background": "light"
          }
        }
      ]
    },
    {
      "cell_type": "code",
      "metadata": {
        "colab": {
          "base_uri": "https://localhost:8080/",
          "height": 206
        },
        "id": "Ux-YEYrSIuo4",
        "outputId": "5d23be3c-b6ff-4002-b9b8-4bfde866e79c"
      },
      "source": [
        "new_employees.head()"
      ],
      "execution_count": null,
      "outputs": [
        {
          "output_type": "execute_result",
          "data": {
            "text/html": [
              "<div>\n",
              "<style scoped>\n",
              "    .dataframe tbody tr th:only-of-type {\n",
              "        vertical-align: middle;\n",
              "    }\n",
              "\n",
              "    .dataframe tbody tr th {\n",
              "        vertical-align: top;\n",
              "    }\n",
              "\n",
              "    .dataframe thead th {\n",
              "        text-align: right;\n",
              "    }\n",
              "</style>\n",
              "<table border=\"1\" class=\"dataframe\">\n",
              "  <thead>\n",
              "    <tr style=\"text-align: right;\">\n",
              "      <th></th>\n",
              "      <th>ID</th>\n",
              "      <th>SeparationType</th>\n",
              "      <th>Cease Date</th>\n",
              "      <th>DETE Start Date</th>\n",
              "      <th>Position</th>\n",
              "      <th>Employment Status</th>\n",
              "      <th>Gender</th>\n",
              "      <th>Age</th>\n",
              "      <th>end_date</th>\n",
              "      <th>start_date</th>\n",
              "      <th>total_years</th>\n",
              "    </tr>\n",
              "  </thead>\n",
              "  <tbody>\n",
              "    <tr>\n",
              "      <th>2</th>\n",
              "      <td>3</td>\n",
              "      <td>Voluntary Early Retirement (VER)</td>\n",
              "      <td>05/2012</td>\n",
              "      <td>2011</td>\n",
              "      <td>Schools Officer</td>\n",
              "      <td>Permanent Full-time</td>\n",
              "      <td>Male</td>\n",
              "      <td>61 or older</td>\n",
              "      <td>2012</td>\n",
              "      <td>2011</td>\n",
              "      <td>1</td>\n",
              "    </tr>\n",
              "    <tr>\n",
              "      <th>37</th>\n",
              "      <td>38</td>\n",
              "      <td>Resignation-Other reasons</td>\n",
              "      <td>2012</td>\n",
              "      <td>2011</td>\n",
              "      <td>Teacher Aide</td>\n",
              "      <td>Temporary Part-time</td>\n",
              "      <td>Female</td>\n",
              "      <td>21-25</td>\n",
              "      <td>2012</td>\n",
              "      <td>2011</td>\n",
              "      <td>1</td>\n",
              "    </tr>\n",
              "    <tr>\n",
              "      <th>42</th>\n",
              "      <td>43</td>\n",
              "      <td>Resignation-Move overseas/interstate</td>\n",
              "      <td>2012</td>\n",
              "      <td>2011</td>\n",
              "      <td>Cleaner</td>\n",
              "      <td>Permanent Part-time</td>\n",
              "      <td>Female</td>\n",
              "      <td>41-45</td>\n",
              "      <td>2012</td>\n",
              "      <td>2011</td>\n",
              "      <td>1</td>\n",
              "    </tr>\n",
              "    <tr>\n",
              "      <th>61</th>\n",
              "      <td>62</td>\n",
              "      <td>Resignation-Other reasons</td>\n",
              "      <td>2012</td>\n",
              "      <td>2011</td>\n",
              "      <td>Schools Officer</td>\n",
              "      <td>Temporary Part-time</td>\n",
              "      <td>Female</td>\n",
              "      <td>31-35</td>\n",
              "      <td>2012</td>\n",
              "      <td>2011</td>\n",
              "      <td>1</td>\n",
              "    </tr>\n",
              "    <tr>\n",
              "      <th>71</th>\n",
              "      <td>72</td>\n",
              "      <td>Resignation-Other reasons</td>\n",
              "      <td>2012</td>\n",
              "      <td>2011</td>\n",
              "      <td>Teacher Aide</td>\n",
              "      <td>Permanent Part-time</td>\n",
              "      <td>Female</td>\n",
              "      <td>36-40</td>\n",
              "      <td>2012</td>\n",
              "      <td>2011</td>\n",
              "      <td>1</td>\n",
              "    </tr>\n",
              "  </tbody>\n",
              "</table>\n",
              "</div>"
            ],
            "text/plain": [
              "    ID                        SeparationType  ... start_date total_years\n",
              "2    3      Voluntary Early Retirement (VER)  ...       2011           1\n",
              "37  38             Resignation-Other reasons  ...       2011           1\n",
              "42  43  Resignation-Move overseas/interstate  ...       2011           1\n",
              "61  62             Resignation-Other reasons  ...       2011           1\n",
              "71  72             Resignation-Other reasons  ...       2011           1\n",
              "\n",
              "[5 rows x 11 columns]"
            ]
          },
          "metadata": {
            "tags": []
          },
          "execution_count": 23
        }
      ]
    },
    {
      "cell_type": "code",
      "metadata": {
        "colab": {
          "base_uri": "https://localhost:8080/",
          "height": 206
        },
        "id": "dY0aqoCbVizM",
        "outputId": "f69afb9a-e424-4c09-cc5d-e46e86a502a7"
      },
      "source": [
        "new_employees.Position.value_counts().head().to_frame(name='Top 5 Positions for New Employees')"
      ],
      "execution_count": null,
      "outputs": [
        {
          "output_type": "execute_result",
          "data": {
            "text/html": [
              "<div>\n",
              "<style scoped>\n",
              "    .dataframe tbody tr th:only-of-type {\n",
              "        vertical-align: middle;\n",
              "    }\n",
              "\n",
              "    .dataframe tbody tr th {\n",
              "        vertical-align: top;\n",
              "    }\n",
              "\n",
              "    .dataframe thead th {\n",
              "        text-align: right;\n",
              "    }\n",
              "</style>\n",
              "<table border=\"1\" class=\"dataframe\">\n",
              "  <thead>\n",
              "    <tr style=\"text-align: right;\">\n",
              "      <th></th>\n",
              "      <th>Top 5 Positions for New Employees</th>\n",
              "    </tr>\n",
              "  </thead>\n",
              "  <tbody>\n",
              "    <tr>\n",
              "      <th>Public Servant</th>\n",
              "      <td>21</td>\n",
              "    </tr>\n",
              "    <tr>\n",
              "      <th>Teacher</th>\n",
              "      <td>14</td>\n",
              "    </tr>\n",
              "    <tr>\n",
              "      <th>Teacher Aide</th>\n",
              "      <td>12</td>\n",
              "    </tr>\n",
              "    <tr>\n",
              "      <th>Cleaner</th>\n",
              "      <td>8</td>\n",
              "    </tr>\n",
              "    <tr>\n",
              "      <th>School Administrative Staff</th>\n",
              "      <td>4</td>\n",
              "    </tr>\n",
              "  </tbody>\n",
              "</table>\n",
              "</div>"
            ],
            "text/plain": [
              "                             Top 5 Positions for New Employees\n",
              "Public Servant                                              21\n",
              "Teacher                                                     14\n",
              "Teacher Aide                                                12\n",
              "Cleaner                                                      8\n",
              "School Administrative Staff                                  4"
            ]
          },
          "metadata": {
            "tags": []
          },
          "execution_count": 24
        }
      ]
    },
    {
      "cell_type": "code",
      "metadata": {
        "colab": {
          "base_uri": "https://localhost:8080/",
          "height": 258
        },
        "id": "EKoJLTc-AU48",
        "outputId": "97c24794-0e42-41d3-e4e1-869c119a66c5"
      },
      "source": [
        "temp_list = ['Temporary Full-time', 'Temporary Part-time']\n",
        "\n",
        "new_temp = new_employees[new_employees['Employment Status'].isin(temp_list)]\n",
        "print('\\nTop 5 Positions for New Employees w/ Temp. Status\\n')\n",
        "new_temp.Position.value_counts().head().to_frame(name='Positions')"
      ],
      "execution_count": null,
      "outputs": [
        {
          "output_type": "stream",
          "text": [
            "\n",
            "Top 5 Positions for New Employees w/ Temp. Status\n",
            "\n"
          ],
          "name": "stdout"
        },
        {
          "output_type": "execute_result",
          "data": {
            "text/html": [
              "<div>\n",
              "<style scoped>\n",
              "    .dataframe tbody tr th:only-of-type {\n",
              "        vertical-align: middle;\n",
              "    }\n",
              "\n",
              "    .dataframe tbody tr th {\n",
              "        vertical-align: top;\n",
              "    }\n",
              "\n",
              "    .dataframe thead th {\n",
              "        text-align: right;\n",
              "    }\n",
              "</style>\n",
              "<table border=\"1\" class=\"dataframe\">\n",
              "  <thead>\n",
              "    <tr style=\"text-align: right;\">\n",
              "      <th></th>\n",
              "      <th>Positions</th>\n",
              "    </tr>\n",
              "  </thead>\n",
              "  <tbody>\n",
              "    <tr>\n",
              "      <th>Public Servant</th>\n",
              "      <td>13</td>\n",
              "    </tr>\n",
              "    <tr>\n",
              "      <th>Teacher Aide</th>\n",
              "      <td>5</td>\n",
              "    </tr>\n",
              "    <tr>\n",
              "      <th>Teacher</th>\n",
              "      <td>3</td>\n",
              "    </tr>\n",
              "    <tr>\n",
              "      <th>School Administrative Staff</th>\n",
              "      <td>2</td>\n",
              "    </tr>\n",
              "    <tr>\n",
              "      <th>School Based Professional Staff (Therapist, nurse, etc)</th>\n",
              "      <td>2</td>\n",
              "    </tr>\n",
              "  </tbody>\n",
              "</table>\n",
              "</div>"
            ],
            "text/plain": [
              "                                                    Positions\n",
              "Public Servant                                             13\n",
              "Teacher Aide                                                5\n",
              "Teacher                                                     3\n",
              "School Administrative Staff                                 2\n",
              "School Based Professional Staff (Therapist, nur...          2"
            ]
          },
          "metadata": {
            "tags": []
          },
          "execution_count": 25
        }
      ]
    },
    {
      "cell_type": "code",
      "metadata": {
        "colab": {
          "base_uri": "https://localhost:8080/",
          "height": 363
        },
        "id": "u8NUNyitVqOM",
        "outputId": "4a2662d0-c336-44bd-ae56-a39de8273d9f"
      },
      "source": [
        "# All positions with a start and end date\n",
        "total_positions = exit_survey2.Position.value_counts().head(10)\n",
        "total_positions.to_frame()"
      ],
      "execution_count": null,
      "outputs": [
        {
          "output_type": "execute_result",
          "data": {
            "text/html": [
              "<div>\n",
              "<style scoped>\n",
              "    .dataframe tbody tr th:only-of-type {\n",
              "        vertical-align: middle;\n",
              "    }\n",
              "\n",
              "    .dataframe tbody tr th {\n",
              "        vertical-align: top;\n",
              "    }\n",
              "\n",
              "    .dataframe thead th {\n",
              "        text-align: right;\n",
              "    }\n",
              "</style>\n",
              "<table border=\"1\" class=\"dataframe\">\n",
              "  <thead>\n",
              "    <tr style=\"text-align: right;\">\n",
              "      <th></th>\n",
              "      <th>Position</th>\n",
              "    </tr>\n",
              "  </thead>\n",
              "  <tbody>\n",
              "    <tr>\n",
              "      <th>Teacher</th>\n",
              "      <td>288</td>\n",
              "    </tr>\n",
              "    <tr>\n",
              "      <th>Public Servant</th>\n",
              "      <td>117</td>\n",
              "    </tr>\n",
              "    <tr>\n",
              "      <th>Teacher Aide</th>\n",
              "      <td>114</td>\n",
              "    </tr>\n",
              "    <tr>\n",
              "      <th>Cleaner</th>\n",
              "      <td>81</td>\n",
              "    </tr>\n",
              "    <tr>\n",
              "      <th>Head of Curriculum/Head of Special Education</th>\n",
              "      <td>34</td>\n",
              "    </tr>\n",
              "    <tr>\n",
              "      <th>Schools Officer</th>\n",
              "      <td>18</td>\n",
              "    </tr>\n",
              "    <tr>\n",
              "      <th>School Administrative Staff</th>\n",
              "      <td>12</td>\n",
              "    </tr>\n",
              "    <tr>\n",
              "      <th>Guidance Officer</th>\n",
              "      <td>10</td>\n",
              "    </tr>\n",
              "    <tr>\n",
              "      <th>Technical Officer</th>\n",
              "      <td>9</td>\n",
              "    </tr>\n",
              "    <tr>\n",
              "      <th>Professional Officer</th>\n",
              "      <td>7</td>\n",
              "    </tr>\n",
              "  </tbody>\n",
              "</table>\n",
              "</div>"
            ],
            "text/plain": [
              "                                              Position\n",
              "Teacher                                            288\n",
              "Public Servant                                     117\n",
              "Teacher Aide                                       114\n",
              "Cleaner                                             81\n",
              "Head of Curriculum/Head of Special Education        34\n",
              "Schools Officer                                     18\n",
              "School Administrative Staff                         12\n",
              "Guidance Officer                                    10\n",
              "Technical Officer                                    9\n",
              "Professional Officer                                 7"
            ]
          },
          "metadata": {
            "tags": []
          },
          "execution_count": 26
        }
      ]
    },
    {
      "cell_type": "code",
      "metadata": {
        "colab": {
          "base_uri": "https://localhost:8080/",
          "height": 308
        },
        "id": "34cUTJxvjyts",
        "outputId": "0dfb5fc4-37d5-4ed5-ce06-dba8da6f2b70"
      },
      "source": [
        "# All positions with a start and end date\n",
        "sns.countplot(data=exit_survey2, y='Position', order=exit_survey2.Position.value_counts().head().index, palette=\"Blues\")\n",
        "plt.suptitle('Top 5 Positions',fontsize=13,fontweight='bold')\n",
        "plt.title(\"(All Positions with a start/end date)\",fontdict={'fontsize':9})\n",
        "plt.ylabel('')\n",
        "plt.xlabel('Count of Positions')\n",
        "plt.show()"
      ],
      "execution_count": null,
      "outputs": [
        {
          "output_type": "display_data",
          "data": {
            "image/png": "[encoded data removed]",
            "text/plain": [
              "<Figure size 432x288 with 1 Axes>"
            ]
          },
          "metadata": {
            "tags": [],
            "needs_background": "light"
          }
        }
      ]
    }
  ]
}