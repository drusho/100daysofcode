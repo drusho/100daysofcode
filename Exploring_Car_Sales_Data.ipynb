{
  "nbformat": 4,
  "nbformat_minor": 0,
  "metadata": {
    "colab": {
      "name": "Exploring Car Sales Data.ipynb",
      "provenance": [],
      "collapsed_sections": [],
      "authorship_tag": "ABX9TyPTEsAJPN39573GGlTSt2Ws",
      "include_colab_link": true
    },
    "kernelspec": {
      "name": "python3",
      "display_name": "Python 3"
    }
  },
  "cells": [
    {
      "cell_type": "markdown",
      "metadata": {
        "id": "view-in-github",
        "colab_type": "text"
      },
      "source": [
        "<a href=\"https://colab.research.google.com/github/drusho/100daysofcode/blob/main/Exploring_Car_Sales_Data.ipynb\" target=\"_parent\"><img src=\"https://colab.research.google.com/assets/colab-badge.svg\" alt=\"Open In Colab\"/></a>"
      ]
    },
    {
      "cell_type": "markdown",
      "metadata": {
        "id": "ZZEnKkknEMrQ"
      },
      "source": [
        "# Exploring Ebay Car Sales Data\n",
        "\n",
        "Data comes from a modified csv containing informaiton on used cars from eBay Kleinanzeigen, a classifieds section of the German eBay website.\n",
        "\n",
        "<br>\n",
        "\n",
        "### __Project Goal:__\n",
        "- Clean raw data and analyze the used car listings.\n",
        "<br>\n",
        "\n",
        "### __Results__\n"
      ]
    },
    {
      "cell_type": "code",
      "metadata": {
        "colab": {
          "base_uri": "https://localhost:8080/"
        },
        "id": "PoZzyC57DqRs",
        "outputId": "5410e2bc-5789-4a09-e35b-0911ae565156"
      },
      "source": [
        "# Fetch a single <1MB file using the raw GitHub URL.\n",
        "!curl --remote-name \\\n",
        "     -H 'Accept: application/vnd.github.v3.raw' \\\n",
        "     --location https://raw.githubusercontent.com/drusho/100daysofcode/main/csv_files/Exploring_Ebay_Car_Sales_Data.csv\n"
      ],
      "execution_count": 74,
      "outputs": [
        {
          "output_type": "stream",
          "text": [
            "  % Total    % Received % Xferd  Average Speed   Time    Time     Time  Current\n",
            "                                 Dload  Upload   Total   Spent    Left  Speed\n",
            "100 9392k  100 9392k    0     0  13.4M      0 --:--:-- --:--:-- --:--:-- 13.4M\n"
          ],
          "name": "stdout"
        }
      ]
    },
    {
      "cell_type": "code",
      "metadata": {
        "colab": {
          "base_uri": "https://localhost:8080/",
          "height": 282
        },
        "id": "dnTknGcAEJk0",
        "outputId": "85d0908b-0d70-4caf-95bf-e8462c751de7"
      },
      "source": [
        "# Read in the data\n",
        "import pandas as pd\n",
        "import numpy as np\n",
        "\n",
        "\n",
        "df = pd.read_csv('Exploring_Ebay_Car_Sales_Data.csv', encoding='Latin-1')\n",
        "df.head()"
      ],
      "execution_count": 75,
      "outputs": [
        {
          "output_type": "execute_result",
          "data": {
            "application/vnd.google.colaboratory.module+javascript": "\n      import \"https://ssl.gstatic.com/colaboratory/data_table/a6224c040fa35dcf/data_table.js\";\n\n      window.createDataTable({\n        data: [[{\n            'v': 0,\n            'f': \"0\",\n        },\n\"2016-03-26 17:47:46\",\n\"Peugeot_807_160_NAVTECH_ON_BOARD\",\n\"privat\",\n\"Angebot\",\n\"$5,000\",\n\"control\",\n\"bus\",\n{\n            'v': 2004,\n            'f': \"2004\",\n        },\n\"manuell\",\n{\n            'v': 158,\n            'f': \"158\",\n        },\n\"andere\",\n\"150,000km\",\n{\n            'v': 3,\n            'f': \"3\",\n        },\n\"lpg\",\n\"peugeot\",\n\"nein\",\n\"2016-03-26 00:00:00\",\n{\n            'v': 0,\n            'f': \"0\",\n        },\n{\n            'v': 79588,\n            'f': \"79588\",\n        },\n\"2016-04-06 06:45:54\"],\n [{\n            'v': 1,\n            'f': \"1\",\n        },\n\"2016-04-04 13:38:56\",\n\"BMW_740i_4_4_Liter_HAMANN_UMBAU_Mega_Optik\",\n\"privat\",\n\"Angebot\",\n\"$8,500\",\n\"control\",\n\"limousine\",\n{\n            'v': 1997,\n            'f': \"1997\",\n        },\n\"automatik\",\n{\n            'v': 286,\n            'f': \"286\",\n        },\n\"7er\",\n\"150,000km\",\n{\n            'v': 6,\n            'f': \"6\",\n        },\n\"benzin\",\n\"bmw\",\n\"nein\",\n\"2016-04-04 00:00:00\",\n{\n            'v': 0,\n            'f': \"0\",\n        },\n{\n            'v': 71034,\n            'f': \"71034\",\n        },\n\"2016-04-06 14:45:08\"],\n [{\n            'v': 2,\n            'f': \"2\",\n        },\n\"2016-03-26 18:57:24\",\n\"Volkswagen_Golf_1.6_United\",\n\"privat\",\n\"Angebot\",\n\"$8,990\",\n\"test\",\n\"limousine\",\n{\n            'v': 2009,\n            'f': \"2009\",\n        },\n\"manuell\",\n{\n            'v': 102,\n            'f': \"102\",\n        },\n\"golf\",\n\"70,000km\",\n{\n            'v': 7,\n            'f': \"7\",\n        },\n\"benzin\",\n\"volkswagen\",\n\"nein\",\n\"2016-03-26 00:00:00\",\n{\n            'v': 0,\n            'f': \"0\",\n        },\n{\n            'v': 35394,\n            'f': \"35394\",\n        },\n\"2016-04-06 20:15:37\"],\n [{\n            'v': 3,\n            'f': \"3\",\n        },\n\"2016-03-12 16:58:10\",\n\"Smart_smart_fortwo_coupe_softouch/F1/Klima/Panorama\",\n\"privat\",\n\"Angebot\",\n\"$4,350\",\n\"control\",\n\"kleinwagen\",\n{\n            'v': 2007,\n            'f': \"2007\",\n        },\n\"automatik\",\n{\n            'v': 71,\n            'f': \"71\",\n        },\n\"fortwo\",\n\"70,000km\",\n{\n            'v': 6,\n            'f': \"6\",\n        },\n\"benzin\",\n\"smart\",\n\"nein\",\n\"2016-03-12 00:00:00\",\n{\n            'v': 0,\n            'f': \"0\",\n        },\n{\n            'v': 33729,\n            'f': \"33729\",\n        },\n\"2016-03-15 03:16:28\"],\n [{\n            'v': 4,\n            'f': \"4\",\n        },\n\"2016-04-01 14:38:50\",\n\"Ford_Focus_1_6_Benzin_T\\u00dcV_neu_ist_sehr_gepflegt.mit_Klimaanlage\",\n\"privat\",\n\"Angebot\",\n\"$1,350\",\n\"test\",\n\"kombi\",\n{\n            'v': 2003,\n            'f': \"2003\",\n        },\n\"manuell\",\n{\n            'v': 0,\n            'f': \"0\",\n        },\n\"focus\",\n\"150,000km\",\n{\n            'v': 7,\n            'f': \"7\",\n        },\n\"benzin\",\n\"ford\",\n\"nein\",\n\"2016-04-01 00:00:00\",\n{\n            'v': 0,\n            'f': \"0\",\n        },\n{\n            'v': 39218,\n            'f': \"39218\",\n        },\n\"2016-04-01 14:38:50\"]],\n        columns: [[\"number\", \"index\"], [\"string\", \"dateCrawled\"], [\"string\", \"name\"], [\"string\", \"seller\"], [\"string\", \"offerType\"], [\"string\", \"price\"], [\"string\", \"abtest\"], [\"string\", \"vehicleType\"], [\"number\", \"yearOfRegistration\"], [\"string\", \"gearbox\"], [\"number\", \"powerPS\"], [\"string\", \"model\"], [\"string\", \"odometer\"], [\"number\", \"monthOfRegistration\"], [\"string\", \"fuelType\"], [\"string\", \"brand\"], [\"string\", \"notRepairedDamage\"], [\"string\", \"dateCreated\"], [\"number\", \"nrOfPictures\"], [\"number\", \"postalCode\"], [\"string\", \"lastSeen\"]],\n        columnOptions: [{\"width\": \"1px\", \"className\": \"index_column\"}],\n        rowsPerPage: 25,\n        helpUrl: \"https://colab.research.google.com/notebooks/data_table.ipynb\",\n        suppressOutputScrolling: true,\n        minimumWidth: undefined,\n      });\n    ",
            "text/html": [
              "<div>\n",
              "<style scoped>\n",
              "    .dataframe tbody tr th:only-of-type {\n",
              "        vertical-align: middle;\n",
              "    }\n",
              "\n",
              "    .dataframe tbody tr th {\n",
              "        vertical-align: top;\n",
              "    }\n",
              "\n",
              "    .dataframe thead th {\n",
              "        text-align: right;\n",
              "    }\n",
              "</style>\n",
              "<table border=\"1\" class=\"dataframe\">\n",
              "  <thead>\n",
              "    <tr style=\"text-align: right;\">\n",
              "      <th></th>\n",
              "      <th>dateCrawled</th>\n",
              "      <th>name</th>\n",
              "      <th>seller</th>\n",
              "      <th>offerType</th>\n",
              "      <th>price</th>\n",
              "      <th>abtest</th>\n",
              "      <th>vehicleType</th>\n",
              "      <th>yearOfRegistration</th>\n",
              "      <th>gearbox</th>\n",
              "      <th>powerPS</th>\n",
              "      <th>model</th>\n",
              "      <th>odometer</th>\n",
              "      <th>monthOfRegistration</th>\n",
              "      <th>fuelType</th>\n",
              "      <th>brand</th>\n",
              "      <th>notRepairedDamage</th>\n",
              "      <th>dateCreated</th>\n",
              "      <th>nrOfPictures</th>\n",
              "      <th>postalCode</th>\n",
              "      <th>lastSeen</th>\n",
              "    </tr>\n",
              "  </thead>\n",
              "  <tbody>\n",
              "    <tr>\n",
              "      <th>0</th>\n",
              "      <td>2016-03-26 17:47:46</td>\n",
              "      <td>Peugeot_807_160_NAVTECH_ON_BOARD</td>\n",
              "      <td>privat</td>\n",
              "      <td>Angebot</td>\n",
              "      <td>$5,000</td>\n",
              "      <td>control</td>\n",
              "      <td>bus</td>\n",
              "      <td>2004</td>\n",
              "      <td>manuell</td>\n",
              "      <td>158</td>\n",
              "      <td>andere</td>\n",
              "      <td>150,000km</td>\n",
              "      <td>3</td>\n",
              "      <td>lpg</td>\n",
              "      <td>peugeot</td>\n",
              "      <td>nein</td>\n",
              "      <td>2016-03-26 00:00:00</td>\n",
              "      <td>0</td>\n",
              "      <td>79588</td>\n",
              "      <td>2016-04-06 06:45:54</td>\n",
              "    </tr>\n",
              "    <tr>\n",
              "      <th>1</th>\n",
              "      <td>2016-04-04 13:38:56</td>\n",
              "      <td>BMW_740i_4_4_Liter_HAMANN_UMBAU_Mega_Optik</td>\n",
              "      <td>privat</td>\n",
              "      <td>Angebot</td>\n",
              "      <td>$8,500</td>\n",
              "      <td>control</td>\n",
              "      <td>limousine</td>\n",
              "      <td>1997</td>\n",
              "      <td>automatik</td>\n",
              "      <td>286</td>\n",
              "      <td>7er</td>\n",
              "      <td>150,000km</td>\n",
              "      <td>6</td>\n",
              "      <td>benzin</td>\n",
              "      <td>bmw</td>\n",
              "      <td>nein</td>\n",
              "      <td>2016-04-04 00:00:00</td>\n",
              "      <td>0</td>\n",
              "      <td>71034</td>\n",
              "      <td>2016-04-06 14:45:08</td>\n",
              "    </tr>\n",
              "    <tr>\n",
              "      <th>2</th>\n",
              "      <td>2016-03-26 18:57:24</td>\n",
              "      <td>Volkswagen_Golf_1.6_United</td>\n",
              "      <td>privat</td>\n",
              "      <td>Angebot</td>\n",
              "      <td>$8,990</td>\n",
              "      <td>test</td>\n",
              "      <td>limousine</td>\n",
              "      <td>2009</td>\n",
              "      <td>manuell</td>\n",
              "      <td>102</td>\n",
              "      <td>golf</td>\n",
              "      <td>70,000km</td>\n",
              "      <td>7</td>\n",
              "      <td>benzin</td>\n",
              "      <td>volkswagen</td>\n",
              "      <td>nein</td>\n",
              "      <td>2016-03-26 00:00:00</td>\n",
              "      <td>0</td>\n",
              "      <td>35394</td>\n",
              "      <td>2016-04-06 20:15:37</td>\n",
              "    </tr>\n",
              "    <tr>\n",
              "      <th>3</th>\n",
              "      <td>2016-03-12 16:58:10</td>\n",
              "      <td>Smart_smart_fortwo_coupe_softouch/F1/Klima/Pan...</td>\n",
              "      <td>privat</td>\n",
              "      <td>Angebot</td>\n",
              "      <td>$4,350</td>\n",
              "      <td>control</td>\n",
              "      <td>kleinwagen</td>\n",
              "      <td>2007</td>\n",
              "      <td>automatik</td>\n",
              "      <td>71</td>\n",
              "      <td>fortwo</td>\n",
              "      <td>70,000km</td>\n",
              "      <td>6</td>\n",
              "      <td>benzin</td>\n",
              "      <td>smart</td>\n",
              "      <td>nein</td>\n",
              "      <td>2016-03-12 00:00:00</td>\n",
              "      <td>0</td>\n",
              "      <td>33729</td>\n",
              "      <td>2016-03-15 03:16:28</td>\n",
              "    </tr>\n",
              "    <tr>\n",
              "      <th>4</th>\n",
              "      <td>2016-04-01 14:38:50</td>\n",
              "      <td>Ford_Focus_1_6_Benzin_TÜV_neu_ist_sehr_gepfleg...</td>\n",
              "      <td>privat</td>\n",
              "      <td>Angebot</td>\n",
              "      <td>$1,350</td>\n",
              "      <td>test</td>\n",
              "      <td>kombi</td>\n",
              "      <td>2003</td>\n",
              "      <td>manuell</td>\n",
              "      <td>0</td>\n",
              "      <td>focus</td>\n",
              "      <td>150,000km</td>\n",
              "      <td>7</td>\n",
              "      <td>benzin</td>\n",
              "      <td>ford</td>\n",
              "      <td>nein</td>\n",
              "      <td>2016-04-01 00:00:00</td>\n",
              "      <td>0</td>\n",
              "      <td>39218</td>\n",
              "      <td>2016-04-01 14:38:50</td>\n",
              "    </tr>\n",
              "  </tbody>\n",
              "</table>\n",
              "</div>"
            ],
            "text/plain": [
              "           dateCrawled  ...             lastSeen\n",
              "0  2016-03-26 17:47:46  ...  2016-04-06 06:45:54\n",
              "1  2016-04-04 13:38:56  ...  2016-04-06 14:45:08\n",
              "2  2016-03-26 18:57:24  ...  2016-04-06 20:15:37\n",
              "3  2016-03-12 16:58:10  ...  2016-03-15 03:16:28\n",
              "4  2016-04-01 14:38:50  ...  2016-04-01 14:38:50\n",
              "\n",
              "[5 rows x 20 columns]"
            ]
          },
          "metadata": {
            "tags": []
          },
          "execution_count": 75
        }
      ]
    },
    {
      "cell_type": "markdown",
      "metadata": {
        "id": "cyVWww7RI3sw"
      },
      "source": [
        "#### __Description of Column Headings__\n",
        "|Column  |Description |\n",
        "|:-- |:-- |\n",
        "|*dateCrawled* | When this ad was first crawled. All field-values are taken from this date. |\n",
        "|*name*|Name of the car |\n",
        "|*seller*|Whether the seller is private or a dealer.|\n",
        "|*offerType*|The type of listing|\n",
        "|*price*|The price on the ad to sell the car.|\n",
        "|*abtest*|Whether the listing is included in an A/B test.\n",
        "|*vehicleType*|The vehicle Type.|\n",
        "|*yearOfRegistration*|The year in which the car was first registered.|\n",
        "|*gearbox*|The transmission type.|\n",
        "|*powerPS*|The power of the car in PS.|\n",
        "|*model*|The car model name.|\n",
        "|*kilometer*|How many kilometers the car has driven.|\n",
        "|*monthOfRegistration*|The month in which the car was first registered.|\n",
        "|*fuelType*|What type of fuel the car uses.|\n",
        "|*brand*|The brand of the car.|\n",
        "|*notRepairedDamage|If the car has a damage which is not yet repaired.|\n",
        "|*dateCreated*|The date on which the eBay listing was created.|\n",
        "|*nrOfPictures*|The number of pictures in the ad.|\n",
        "|*postalCode*|The postal code for the location of the vehicle.|\n",
        "|*lastSeenOnline*|When the crawler saw this ad last online.|"
      ]
    },
    {
      "cell_type": "code",
      "metadata": {
        "colab": {
          "base_uri": "https://localhost:8080/"
        },
        "id": "Lj61R-eoGdVE",
        "outputId": "205c83b4-d4e7-4f8e-c20c-b72f735fba8a"
      },
      "source": [
        "df.info()"
      ],
      "execution_count": 76,
      "outputs": [
        {
          "output_type": "stream",
          "text": [
            "<class 'pandas.core.frame.DataFrame'>\n",
            "RangeIndex: 50000 entries, 0 to 49999\n",
            "Data columns (total 20 columns):\n",
            " #   Column               Non-Null Count  Dtype \n",
            "---  ------               --------------  ----- \n",
            " 0   dateCrawled          50000 non-null  object\n",
            " 1   name                 50000 non-null  object\n",
            " 2   seller               50000 non-null  object\n",
            " 3   offerType            50000 non-null  object\n",
            " 4   price                50000 non-null  object\n",
            " 5   abtest               50000 non-null  object\n",
            " 6   vehicleType          44905 non-null  object\n",
            " 7   yearOfRegistration   50000 non-null  int64 \n",
            " 8   gearbox              47320 non-null  object\n",
            " 9   powerPS              50000 non-null  int64 \n",
            " 10  model                47242 non-null  object\n",
            " 11  odometer             50000 non-null  object\n",
            " 12  monthOfRegistration  50000 non-null  int64 \n",
            " 13  fuelType             45518 non-null  object\n",
            " 14  brand                50000 non-null  object\n",
            " 15  notRepairedDamage    40171 non-null  object\n",
            " 16  dateCreated          50000 non-null  object\n",
            " 17  nrOfPictures         50000 non-null  int64 \n",
            " 18  postalCode           50000 non-null  int64 \n",
            " 19  lastSeen             50000 non-null  object\n",
            "dtypes: int64(5), object(15)\n",
            "memory usage: 7.6+ MB\n"
          ],
          "name": "stdout"
        }
      ]
    },
    {
      "cell_type": "markdown",
      "metadata": {
        "id": "zERi5kbwT8fQ"
      },
      "source": [
        "### __* Initial Observations of the Raw Data__\n",
        "- The dataset contains 20 columns.  \n",
        "- The majority of the data is stored as strings. \n",
        "- A few columns contain null values (ex. *vehicleType, gearbox, model*)\n",
        "- None of the columns have more than ~20% null values (based off 49,999 entries compared to non-null counts)\n",
        "- There are some columns that contain dates stored as strings.\n"
      ]
    },
    {
      "cell_type": "markdown",
      "metadata": {
        "id": "hVc6NWK-S5U0"
      },
      "source": [
        "### **Clean Columns**\n",
        "- Camelcase to snakecase.\n",
        "- Renaming some columns so that the headings reflect the data they contain"
      ]
    },
    {
      "cell_type": "code",
      "metadata": {
        "colab": {
          "base_uri": "https://localhost:8080/"
        },
        "id": "Id47B5wQNsrw",
        "outputId": "cebe9211-5239-45bd-d633-88017b7b444e"
      },
      "source": [
        "# convert the column names from camelcase to snakecase\n",
        "\n",
        "column_names = []\n",
        "for column in df.columns:\n",
        "  column_names.append(column.lower())\n",
        "df.columns = column_names\n",
        "\n",
        "df.columns"
      ],
      "execution_count": 78,
      "outputs": [
        {
          "output_type": "execute_result",
          "data": {
            "text/plain": [
              "Index(['datecrawled', 'name', 'seller', 'offertype', 'price', 'abtest',\n",
              "       'vehicletype', 'yearofregistration', 'gearbox', 'powerps', 'model',\n",
              "       'odometer', 'monthofregistration', 'fueltype', 'brand',\n",
              "       'notrepaireddamage', 'datecreated', 'nrofpictures', 'postalcode',\n",
              "       'lastseen'],\n",
              "      dtype='object')"
            ]
          },
          "metadata": {
            "tags": []
          },
          "execution_count": 78
        }
      ]
    },
    {
      "cell_type": "code",
      "metadata": {
        "colab": {
          "base_uri": "https://localhost:8080/"
        },
        "id": "Doza3Cq6QKyg",
        "outputId": "9877dafb-fe3d-4306-af68-72c64284504c"
      },
      "source": [
        "# rename some column names to increase fluency\n",
        "\n",
        "df.columns = ['date_crawled', 'name', 'seller', 'offer_type', 'price', 'ab_test',\n",
        "       'vehicle_type', 'registration_year', 'gearbox', 'power_ps', 'model',\n",
        "       'odometer', 'registration_month', 'fuel_type', 'brand',\n",
        "       'unrepaired_damage', 'ad_created', 'num_photos', 'postal_code',\n",
        "       'last_seen']\n",
        "\n",
        "df.columns\n"
      ],
      "execution_count": 79,
      "outputs": [
        {
          "output_type": "execute_result",
          "data": {
            "text/plain": [
              "Index(['date_crawled', 'name', 'seller', 'offer_type', 'price', 'ab_test',\n",
              "       'vehicle_type', 'registration_year', 'gearbox', 'power_ps', 'model',\n",
              "       'odometer', 'registration_month', 'fuel_type', 'brand',\n",
              "       'unrepaired_damage', 'ad_created', 'num_photos', 'postal_code',\n",
              "       'last_seen'],\n",
              "      dtype='object')"
            ]
          },
          "metadata": {
            "tags": []
          },
          "execution_count": 79
        }
      ]
    },
    {
      "cell_type": "code",
      "metadata": {
        "colab": {
          "base_uri": "https://localhost:8080/",
          "height": 282
        },
        "id": "Ium5CR2HQ-9k",
        "outputId": "325d4a96-8e1b-4fb5-d596-37ad2d95be0d"
      },
      "source": [
        ""
      ],
      "execution_count": 49,
      "outputs": [
        {
          "output_type": "execute_result",
          "data": {
            "application/vnd.google.colaboratory.module+javascript": "\n      import \"https://ssl.gstatic.com/colaboratory/data_table/a6224c040fa35dcf/data_table.js\";\n\n      window.createDataTable({\n        data: [[{\n            'v': 0,\n            'f': \"0\",\n        },\n\"2016-03-26 17:47:46\",\n\"Peugeot_807_160_NAVTECH_ON_BOARD\",\n\"privat\",\n\"Angebot\",\n\"$5,000\",\n\"control\",\n\"bus\",\n{\n            'v': 2004,\n            'f': \"2004\",\n        },\n\"manuell\",\n{\n            'v': 158,\n            'f': \"158\",\n        },\n\"andere\",\n\"150,000km\",\n{\n            'v': 3,\n            'f': \"3\",\n        },\n\"lpg\",\n\"peugeot\",\n\"nein\",\n\"2016-03-26 00:00:00\",\n{\n            'v': 0,\n            'f': \"0\",\n        },\n{\n            'v': 79588,\n            'f': \"79588\",\n        },\n\"2016-04-06 06:45:54\"],\n [{\n            'v': 1,\n            'f': \"1\",\n        },\n\"2016-04-04 13:38:56\",\n\"BMW_740i_4_4_Liter_HAMANN_UMBAU_Mega_Optik\",\n\"privat\",\n\"Angebot\",\n\"$8,500\",\n\"control\",\n\"limousine\",\n{\n            'v': 1997,\n            'f': \"1997\",\n        },\n\"automatik\",\n{\n            'v': 286,\n            'f': \"286\",\n        },\n\"7er\",\n\"150,000km\",\n{\n            'v': 6,\n            'f': \"6\",\n        },\n\"benzin\",\n\"bmw\",\n\"nein\",\n\"2016-04-04 00:00:00\",\n{\n            'v': 0,\n            'f': \"0\",\n        },\n{\n            'v': 71034,\n            'f': \"71034\",\n        },\n\"2016-04-06 14:45:08\"],\n [{\n            'v': 2,\n            'f': \"2\",\n        },\n\"2016-03-26 18:57:24\",\n\"Volkswagen_Golf_1.6_United\",\n\"privat\",\n\"Angebot\",\n\"$8,990\",\n\"test\",\n\"limousine\",\n{\n            'v': 2009,\n            'f': \"2009\",\n        },\n\"manuell\",\n{\n            'v': 102,\n            'f': \"102\",\n        },\n\"golf\",\n\"70,000km\",\n{\n            'v': 7,\n            'f': \"7\",\n        },\n\"benzin\",\n\"volkswagen\",\n\"nein\",\n\"2016-03-26 00:00:00\",\n{\n            'v': 0,\n            'f': \"0\",\n        },\n{\n            'v': 35394,\n            'f': \"35394\",\n        },\n\"2016-04-06 20:15:37\"],\n [{\n            'v': 3,\n            'f': \"3\",\n        },\n\"2016-03-12 16:58:10\",\n\"Smart_smart_fortwo_coupe_softouch/F1/Klima/Panorama\",\n\"privat\",\n\"Angebot\",\n\"$4,350\",\n\"control\",\n\"kleinwagen\",\n{\n            'v': 2007,\n            'f': \"2007\",\n        },\n\"automatik\",\n{\n            'v': 71,\n            'f': \"71\",\n        },\n\"fortwo\",\n\"70,000km\",\n{\n            'v': 6,\n            'f': \"6\",\n        },\n\"benzin\",\n\"smart\",\n\"nein\",\n\"2016-03-12 00:00:00\",\n{\n            'v': 0,\n            'f': \"0\",\n        },\n{\n            'v': 33729,\n            'f': \"33729\",\n        },\n\"2016-03-15 03:16:28\"],\n [{\n            'v': 4,\n            'f': \"4\",\n        },\n\"2016-04-01 14:38:50\",\n\"Ford_Focus_1_6_Benzin_T\\u00dcV_neu_ist_sehr_gepflegt.mit_Klimaanlage\",\n\"privat\",\n\"Angebot\",\n\"$1,350\",\n\"test\",\n\"kombi\",\n{\n            'v': 2003,\n            'f': \"2003\",\n        },\n\"manuell\",\n{\n            'v': 0,\n            'f': \"0\",\n        },\n\"focus\",\n\"150,000km\",\n{\n            'v': 7,\n            'f': \"7\",\n        },\n\"benzin\",\n\"ford\",\n\"nein\",\n\"2016-04-01 00:00:00\",\n{\n            'v': 0,\n            'f': \"0\",\n        },\n{\n            'v': 39218,\n            'f': \"39218\",\n        },\n\"2016-04-01 14:38:50\"]],\n        columns: [[\"number\", \"index\"], [\"string\", \"datecrawled\"], [\"string\", \"name\"], [\"string\", \"seller\"], [\"string\", \"offertype\"], [\"string\", \"price\"], [\"string\", \"abtest\"], [\"string\", \"vehicletype\"], [\"number\", \"yearofregistration\"], [\"string\", \"gearbox\"], [\"number\", \"powerps\"], [\"string\", \"model\"], [\"string\", \"odometer\"], [\"number\", \"monthofregistration\"], [\"string\", \"fueltype\"], [\"string\", \"brand\"], [\"string\", \"notrepaireddamage\"], [\"string\", \"datecreated\"], [\"number\", \"nrofpictures\"], [\"number\", \"postalcode\"], [\"string\", \"lastseen\"]],\n        columnOptions: [{\"width\": \"1px\", \"className\": \"index_column\"}],\n        rowsPerPage: 25,\n        helpUrl: \"https://colab.research.google.com/notebooks/data_table.ipynb\",\n        suppressOutputScrolling: true,\n        minimumWidth: undefined,\n      });\n    ",
            "text/html": [
              "<div>\n",
              "<style scoped>\n",
              "    .dataframe tbody tr th:only-of-type {\n",
              "        vertical-align: middle;\n",
              "    }\n",
              "\n",
              "    .dataframe tbody tr th {\n",
              "        vertical-align: top;\n",
              "    }\n",
              "\n",
              "    .dataframe thead th {\n",
              "        text-align: right;\n",
              "    }\n",
              "</style>\n",
              "<table border=\"1\" class=\"dataframe\">\n",
              "  <thead>\n",
              "    <tr style=\"text-align: right;\">\n",
              "      <th></th>\n",
              "      <th>datecrawled</th>\n",
              "      <th>name</th>\n",
              "      <th>seller</th>\n",
              "      <th>offertype</th>\n",
              "      <th>price</th>\n",
              "      <th>abtest</th>\n",
              "      <th>vehicletype</th>\n",
              "      <th>yearofregistration</th>\n",
              "      <th>gearbox</th>\n",
              "      <th>powerps</th>\n",
              "      <th>model</th>\n",
              "      <th>odometer</th>\n",
              "      <th>monthofregistration</th>\n",
              "      <th>fueltype</th>\n",
              "      <th>brand</th>\n",
              "      <th>notrepaireddamage</th>\n",
              "      <th>datecreated</th>\n",
              "      <th>nrofpictures</th>\n",
              "      <th>postalcode</th>\n",
              "      <th>lastseen</th>\n",
              "    </tr>\n",
              "  </thead>\n",
              "  <tbody>\n",
              "    <tr>\n",
              "      <th>0</th>\n",
              "      <td>2016-03-26 17:47:46</td>\n",
              "      <td>Peugeot_807_160_NAVTECH_ON_BOARD</td>\n",
              "      <td>privat</td>\n",
              "      <td>Angebot</td>\n",
              "      <td>$5,000</td>\n",
              "      <td>control</td>\n",
              "      <td>bus</td>\n",
              "      <td>2004</td>\n",
              "      <td>manuell</td>\n",
              "      <td>158</td>\n",
              "      <td>andere</td>\n",
              "      <td>150,000km</td>\n",
              "      <td>3</td>\n",
              "      <td>lpg</td>\n",
              "      <td>peugeot</td>\n",
              "      <td>nein</td>\n",
              "      <td>2016-03-26 00:00:00</td>\n",
              "      <td>0</td>\n",
              "      <td>79588</td>\n",
              "      <td>2016-04-06 06:45:54</td>\n",
              "    </tr>\n",
              "    <tr>\n",
              "      <th>1</th>\n",
              "      <td>2016-04-04 13:38:56</td>\n",
              "      <td>BMW_740i_4_4_Liter_HAMANN_UMBAU_Mega_Optik</td>\n",
              "      <td>privat</td>\n",
              "      <td>Angebot</td>\n",
              "      <td>$8,500</td>\n",
              "      <td>control</td>\n",
              "      <td>limousine</td>\n",
              "      <td>1997</td>\n",
              "      <td>automatik</td>\n",
              "      <td>286</td>\n",
              "      <td>7er</td>\n",
              "      <td>150,000km</td>\n",
              "      <td>6</td>\n",
              "      <td>benzin</td>\n",
              "      <td>bmw</td>\n",
              "      <td>nein</td>\n",
              "      <td>2016-04-04 00:00:00</td>\n",
              "      <td>0</td>\n",
              "      <td>71034</td>\n",
              "      <td>2016-04-06 14:45:08</td>\n",
              "    </tr>\n",
              "    <tr>\n",
              "      <th>2</th>\n",
              "      <td>2016-03-26 18:57:24</td>\n",
              "      <td>Volkswagen_Golf_1.6_United</td>\n",
              "      <td>privat</td>\n",
              "      <td>Angebot</td>\n",
              "      <td>$8,990</td>\n",
              "      <td>test</td>\n",
              "      <td>limousine</td>\n",
              "      <td>2009</td>\n",
              "      <td>manuell</td>\n",
              "      <td>102</td>\n",
              "      <td>golf</td>\n",
              "      <td>70,000km</td>\n",
              "      <td>7</td>\n",
              "      <td>benzin</td>\n",
              "      <td>volkswagen</td>\n",
              "      <td>nein</td>\n",
              "      <td>2016-03-26 00:00:00</td>\n",
              "      <td>0</td>\n",
              "      <td>35394</td>\n",
              "      <td>2016-04-06 20:15:37</td>\n",
              "    </tr>\n",
              "    <tr>\n",
              "      <th>3</th>\n",
              "      <td>2016-03-12 16:58:10</td>\n",
              "      <td>Smart_smart_fortwo_coupe_softouch/F1/Klima/Pan...</td>\n",
              "      <td>privat</td>\n",
              "      <td>Angebot</td>\n",
              "      <td>$4,350</td>\n",
              "      <td>control</td>\n",
              "      <td>kleinwagen</td>\n",
              "      <td>2007</td>\n",
              "      <td>automatik</td>\n",
              "      <td>71</td>\n",
              "      <td>fortwo</td>\n",
              "      <td>70,000km</td>\n",
              "      <td>6</td>\n",
              "      <td>benzin</td>\n",
              "      <td>smart</td>\n",
              "      <td>nein</td>\n",
              "      <td>2016-03-12 00:00:00</td>\n",
              "      <td>0</td>\n",
              "      <td>33729</td>\n",
              "      <td>2016-03-15 03:16:28</td>\n",
              "    </tr>\n",
              "    <tr>\n",
              "      <th>4</th>\n",
              "      <td>2016-04-01 14:38:50</td>\n",
              "      <td>Ford_Focus_1_6_Benzin_TÜV_neu_ist_sehr_gepfleg...</td>\n",
              "      <td>privat</td>\n",
              "      <td>Angebot</td>\n",
              "      <td>$1,350</td>\n",
              "      <td>test</td>\n",
              "      <td>kombi</td>\n",
              "      <td>2003</td>\n",
              "      <td>manuell</td>\n",
              "      <td>0</td>\n",
              "      <td>focus</td>\n",
              "      <td>150,000km</td>\n",
              "      <td>7</td>\n",
              "      <td>benzin</td>\n",
              "      <td>ford</td>\n",
              "      <td>nein</td>\n",
              "      <td>2016-04-01 00:00:00</td>\n",
              "      <td>0</td>\n",
              "      <td>39218</td>\n",
              "      <td>2016-04-01 14:38:50</td>\n",
              "    </tr>\n",
              "  </tbody>\n",
              "</table>\n",
              "</div>"
            ],
            "text/plain": [
              "           datecrawled  ...             lastseen\n",
              "0  2016-03-26 17:47:46  ...  2016-04-06 06:45:54\n",
              "1  2016-04-04 13:38:56  ...  2016-04-06 14:45:08\n",
              "2  2016-03-26 18:57:24  ...  2016-04-06 20:15:37\n",
              "3  2016-03-12 16:58:10  ...  2016-03-15 03:16:28\n",
              "4  2016-04-01 14:38:50  ...  2016-04-01 14:38:50\n",
              "\n",
              "[5 rows x 20 columns]"
            ]
          },
          "metadata": {
            "tags": []
          },
          "execution_count": 49
        }
      ]
    }
  ]
}