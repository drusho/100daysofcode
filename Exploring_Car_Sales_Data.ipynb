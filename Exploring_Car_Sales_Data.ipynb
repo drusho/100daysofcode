{
  "nbformat": 4,
  "nbformat_minor": 0,
  "metadata": {
    "colab": {
      "name": "Exploring Car Sales Data.ipynb",
      "provenance": [],
      "collapsed_sections": [],
      "authorship_tag": "ABX9TyNzDay8Vz063bIFjWA57q7b",
      "include_colab_link": true
    },
    "kernelspec": {
      "name": "python3",
      "display_name": "Python 3"
    }
  },
  "cells": [
    {
      "cell_type": "markdown",
      "metadata": {
        "id": "view-in-github",
        "colab_type": "text"
      },
      "source": [
        "<a href=\"https://colab.research.google.com/github/drusho/data_analysis/blob/main/Exploring_Car_Sales_Data.ipynb\" target=\"_parent\"><img src=\"https://colab.research.google.com/assets/colab-badge.svg\" alt=\"Open In Colab\"/></a>"
      ]
    },
    {
      "cell_type": "markdown",
      "metadata": {
        "id": "ZZEnKkknEMrQ"
      },
      "source": [
        "# Exploring Ebay Car Sales Data\n",
        "\n",
        "Data comes from a modified csv containing informaiton on used cars from eBay Kleinanzeigen, a classifieds section of the German eBay website.\n",
        "\n",
        "<br>\n",
        "\n",
        "### __Project Goal:__\n",
        "- Clean raw data and analyze the used car listings.\n",
        "<br>\n",
        "\n",
        "### __Results__\n",
        "\n",
        "__Price__ \n",
        "\n",
        "- Many of the number values for the 'price' column seem to be rounded, however given there are 2357 unique values in the column, this may just be a common trend for auction/bidding type websites (Ebay.com).\n",
        "\n",
        "- The maximum price is one hundred million dollars. \n",
        "\n",
        "<l>\n",
        "\n",
        "|Price| Description| % Total Sales|\n",
        "|:---|:----|:-:|\n",
        "| \\$1.00 - \\$350,000 | Most common car prices |97% |\n",
        "|\\$0.00|Cars listed with no price|2.8 %|\n",
        "|Over $1 Million| 14 total sales| 0.2%|\n",
        " \n",
        " </l>\n",
        " \n",
        "__Odometer__\n",
        "\n",
        "- **150,000 km** is the max odometer reading and is also very common, accounting for **over 30,000 cars** *or* **65% of all cars**.  \n",
        "- Overall there are more high mileage cars than low mileage ones.\n",
        "- The _'odometer_km'_ column numbers are round numbers. This data was likely recorded using predetermined options such as from a dropdown menu on the website.\n",
        "\n",
        "\n",
        "\n",
        "__Registration Year__\n",
        "\n",
        "- Data from Registration Year shows cars were registered from a range of  1995-2016. \n",
        "- The most popular registration year is 1996, followed closily by 2013 and 2014. \n",
        "- Most of the vehicles appear to be registered within the past 20 years.\n",
        "\n",
        "\n",
        "__Brands__\n",
        "\n",
        "- There are a total of 40 unique car brands listed.  The most popular being: Volkswagen, BMW, Opel, Mercedes Benz, Audi, and Ford.\n",
        "- Of the top 6 brands, there is a distinct price gap amoung them. Audi, BMW and Mercedes Benz are the most expensive. \n",
        "\n",
        "<br>\n",
        "\n",
        "\n",
        "|Car Brand|mean Price ($) |mean Odometer (km)|\n",
        "|:---|:----|:----|\n",
        "|Audi |\t\\$9,336 |\t129,157|\n",
        "|BMW \t|\\$8,332 \t|132,572|\n",
        "|Ford |\t\\$3,749 |\t124,266|\n",
        "|Mercedes Benz \t|\\$8,628 |\t130,788|\n",
        "|Opel |\t\\$2,975 |\t129,310|\n",
        "|Volkswagen |\t\\$5,402 |\t128,707|\n",
        "\n",
        "- The higher priced cars tend to also have higher odometer numbers.  \n",
        "- Opel (the cheapest of the top car brands) is an exception to this trend with its odometer mean almost matching Audi (the most expensive of the top car brands).\n"
      ]
    },
    {
      "cell_type": "code",
      "metadata": {
        "colab": {
          "base_uri": "https://localhost:8080/"
        },
        "id": "PoZzyC57DqRs",
        "outputId": "79585d7d-774f-4de5-a326-1b52526c18f2"
      },
      "source": [
        "# Fetch a single <1MB file using the raw GitHub URL.\n",
        "!curl --remote-name \\\n",
        "     -H 'Accept: application/vnd.github.v3.raw' \\\n",
        "     --location https://raw.githubusercontent.com/drusho/data_analysis/main/csv_files/Exploring_Ebay_Car_Sales_Data.csv\n"
      ],
      "execution_count": null,
      "outputs": [
        {
          "output_type": "stream",
          "text": [
            "  % Total    % Received % Xferd  Average Speed   Time    Time     Time  Current\n",
            "                                 Dload  Upload   Total   Spent    Left  Speed\n",
            "100 9392k  100 9392k    0     0  18.2M      0 --:--:-- --:--:-- --:--:-- 18.2M\n"
          ],
          "name": "stdout"
        }
      ]
    },
    {
      "cell_type": "code",
      "metadata": {
        "colab": {
          "base_uri": "https://localhost:8080/",
          "height": 313
        },
        "id": "dnTknGcAEJk0",
        "outputId": "73c003c3-d8e4-477e-d46f-c05e869e39d3"
      },
      "source": [
        "# Read in the data\n",
        "import pandas as pd\n",
        "import numpy as np\n",
        "import seaborn as sns\n",
        "\n",
        "\n",
        "df = pd.read_csv('Exploring_Ebay_Car_Sales_Data.csv', encoding='Latin-1')\n",
        "df.head()"
      ],
      "execution_count": null,
      "outputs": [
        {
          "output_type": "execute_result",
          "data": {
            "text/html": [
              "<div>\n",
              "<style scoped>\n",
              "    .dataframe tbody tr th:only-of-type {\n",
              "        vertical-align: middle;\n",
              "    }\n",
              "\n",
              "    .dataframe tbody tr th {\n",
              "        vertical-align: top;\n",
              "    }\n",
              "\n",
              "    .dataframe thead th {\n",
              "        text-align: right;\n",
              "    }\n",
              "</style>\n",
              "<table border=\"1\" class=\"dataframe\">\n",
              "  <thead>\n",
              "    <tr style=\"text-align: right;\">\n",
              "      <th></th>\n",
              "      <th>dateCrawled</th>\n",
              "      <th>name</th>\n",
              "      <th>seller</th>\n",
              "      <th>offerType</th>\n",
              "      <th>price</th>\n",
              "      <th>abtest</th>\n",
              "      <th>vehicleType</th>\n",
              "      <th>yearOfRegistration</th>\n",
              "      <th>gearbox</th>\n",
              "      <th>powerPS</th>\n",
              "      <th>model</th>\n",
              "      <th>odometer</th>\n",
              "      <th>monthOfRegistration</th>\n",
              "      <th>fuelType</th>\n",
              "      <th>brand</th>\n",
              "      <th>notRepairedDamage</th>\n",
              "      <th>dateCreated</th>\n",
              "      <th>nrOfPictures</th>\n",
              "      <th>postalCode</th>\n",
              "      <th>lastSeen</th>\n",
              "    </tr>\n",
              "  </thead>\n",
              "  <tbody>\n",
              "    <tr>\n",
              "      <th>0</th>\n",
              "      <td>2016-03-26 17:47:46</td>\n",
              "      <td>Peugeot_807_160_NAVTECH_ON_BOARD</td>\n",
              "      <td>privat</td>\n",
              "      <td>Angebot</td>\n",
              "      <td>$5,000</td>\n",
              "      <td>control</td>\n",
              "      <td>bus</td>\n",
              "      <td>2004</td>\n",
              "      <td>manuell</td>\n",
              "      <td>158</td>\n",
              "      <td>andere</td>\n",
              "      <td>150,000km</td>\n",
              "      <td>3</td>\n",
              "      <td>lpg</td>\n",
              "      <td>peugeot</td>\n",
              "      <td>nein</td>\n",
              "      <td>2016-03-26 00:00:00</td>\n",
              "      <td>0</td>\n",
              "      <td>79588</td>\n",
              "      <td>2016-04-06 06:45:54</td>\n",
              "    </tr>\n",
              "    <tr>\n",
              "      <th>1</th>\n",
              "      <td>2016-04-04 13:38:56</td>\n",
              "      <td>BMW_740i_4_4_Liter_HAMANN_UMBAU_Mega_Optik</td>\n",
              "      <td>privat</td>\n",
              "      <td>Angebot</td>\n",
              "      <td>$8,500</td>\n",
              "      <td>control</td>\n",
              "      <td>limousine</td>\n",
              "      <td>1997</td>\n",
              "      <td>automatik</td>\n",
              "      <td>286</td>\n",
              "      <td>7er</td>\n",
              "      <td>150,000km</td>\n",
              "      <td>6</td>\n",
              "      <td>benzin</td>\n",
              "      <td>bmw</td>\n",
              "      <td>nein</td>\n",
              "      <td>2016-04-04 00:00:00</td>\n",
              "      <td>0</td>\n",
              "      <td>71034</td>\n",
              "      <td>2016-04-06 14:45:08</td>\n",
              "    </tr>\n",
              "    <tr>\n",
              "      <th>2</th>\n",
              "      <td>2016-03-26 18:57:24</td>\n",
              "      <td>Volkswagen_Golf_1.6_United</td>\n",
              "      <td>privat</td>\n",
              "      <td>Angebot</td>\n",
              "      <td>$8,990</td>\n",
              "      <td>test</td>\n",
              "      <td>limousine</td>\n",
              "      <td>2009</td>\n",
              "      <td>manuell</td>\n",
              "      <td>102</td>\n",
              "      <td>golf</td>\n",
              "      <td>70,000km</td>\n",
              "      <td>7</td>\n",
              "      <td>benzin</td>\n",
              "      <td>volkswagen</td>\n",
              "      <td>nein</td>\n",
              "      <td>2016-03-26 00:00:00</td>\n",
              "      <td>0</td>\n",
              "      <td>35394</td>\n",
              "      <td>2016-04-06 20:15:37</td>\n",
              "    </tr>\n",
              "    <tr>\n",
              "      <th>3</th>\n",
              "      <td>2016-03-12 16:58:10</td>\n",
              "      <td>Smart_smart_fortwo_coupe_softouch/F1/Klima/Pan...</td>\n",
              "      <td>privat</td>\n",
              "      <td>Angebot</td>\n",
              "      <td>$4,350</td>\n",
              "      <td>control</td>\n",
              "      <td>kleinwagen</td>\n",
              "      <td>2007</td>\n",
              "      <td>automatik</td>\n",
              "      <td>71</td>\n",
              "      <td>fortwo</td>\n",
              "      <td>70,000km</td>\n",
              "      <td>6</td>\n",
              "      <td>benzin</td>\n",
              "      <td>smart</td>\n",
              "      <td>nein</td>\n",
              "      <td>2016-03-12 00:00:00</td>\n",
              "      <td>0</td>\n",
              "      <td>33729</td>\n",
              "      <td>2016-03-15 03:16:28</td>\n",
              "    </tr>\n",
              "    <tr>\n",
              "      <th>4</th>\n",
              "      <td>2016-04-01 14:38:50</td>\n",
              "      <td>Ford_Focus_1_6_Benzin_TÜV_neu_ist_sehr_gepfleg...</td>\n",
              "      <td>privat</td>\n",
              "      <td>Angebot</td>\n",
              "      <td>$1,350</td>\n",
              "      <td>test</td>\n",
              "      <td>kombi</td>\n",
              "      <td>2003</td>\n",
              "      <td>manuell</td>\n",
              "      <td>0</td>\n",
              "      <td>focus</td>\n",
              "      <td>150,000km</td>\n",
              "      <td>7</td>\n",
              "      <td>benzin</td>\n",
              "      <td>ford</td>\n",
              "      <td>nein</td>\n",
              "      <td>2016-04-01 00:00:00</td>\n",
              "      <td>0</td>\n",
              "      <td>39218</td>\n",
              "      <td>2016-04-01 14:38:50</td>\n",
              "    </tr>\n",
              "  </tbody>\n",
              "</table>\n",
              "</div>"
            ],
            "text/plain": [
              "           dateCrawled  ...             lastSeen\n",
              "0  2016-03-26 17:47:46  ...  2016-04-06 06:45:54\n",
              "1  2016-04-04 13:38:56  ...  2016-04-06 14:45:08\n",
              "2  2016-03-26 18:57:24  ...  2016-04-06 20:15:37\n",
              "3  2016-03-12 16:58:10  ...  2016-03-15 03:16:28\n",
              "4  2016-04-01 14:38:50  ...  2016-04-01 14:38:50\n",
              "\n",
              "[5 rows x 20 columns]"
            ]
          },
          "metadata": {
            "tags": []
          },
          "execution_count": 186
        }
      ]
    },
    {
      "cell_type": "markdown",
      "metadata": {
        "id": "cyVWww7RI3sw"
      },
      "source": [
        "### __Description of Column Headings__\n",
        "|Column  |Description |\n",
        "|:-- |:-- |\n",
        "|*dateCrawled* | When this ad was first crawled. All field-values are taken from this date. |\n",
        "|*name*|Name of the car |\n",
        "|*seller*|Whether the seller is private or a dealer.|\n",
        "|*offerType*|The type of listing|\n",
        "|*price*|The price on the ad to sell the car.|\n",
        "|*abtest*|Whether the listing is included in an A/B test.\n",
        "|*vehicleType*|The vehicle Type.|\n",
        "|*yearOfRegistration*|The year in which the car was first registered.|\n",
        "|*gearbox*|The transmission type.|\n",
        "|*powerPS*|The power of the car in PS.|\n",
        "|*model*|The car model name.|\n",
        "|*kilometer*|How many kilometers the car has driven.|\n",
        "|*monthOfRegistration*|The month in which the car was first registered.|\n",
        "|*fuelType*|What type of fuel the car uses.|\n",
        "|*brand*|The brand of the car.|\n",
        "|*notRepairedDamage|If the car has a damage which is not yet repaired.|\n",
        "|*dateCreated*|The date on which the eBay listing was created.|\n",
        "|*nrOfPictures*|The number of pictures in the ad.|\n",
        "|*postalCode*|The postal code for the location of the vehicle.|\n",
        "|*lastSeenOnline*|When the crawler saw this ad last online.|"
      ]
    },
    {
      "cell_type": "code",
      "metadata": {
        "colab": {
          "base_uri": "https://localhost:8080/"
        },
        "id": "Lj61R-eoGdVE",
        "outputId": "b90047eb-8e82-446c-b451-4c57bdea78f0"
      },
      "source": [
        "df.info()"
      ],
      "execution_count": null,
      "outputs": [
        {
          "output_type": "stream",
          "text": [
            "<class 'pandas.core.frame.DataFrame'>\n",
            "RangeIndex: 50000 entries, 0 to 49999\n",
            "Data columns (total 20 columns):\n",
            " #   Column               Non-Null Count  Dtype \n",
            "---  ------               --------------  ----- \n",
            " 0   dateCrawled          50000 non-null  object\n",
            " 1   name                 50000 non-null  object\n",
            " 2   seller               50000 non-null  object\n",
            " 3   offerType            50000 non-null  object\n",
            " 4   price                50000 non-null  object\n",
            " 5   abtest               50000 non-null  object\n",
            " 6   vehicleType          44905 non-null  object\n",
            " 7   yearOfRegistration   50000 non-null  int64 \n",
            " 8   gearbox              47320 non-null  object\n",
            " 9   powerPS              50000 non-null  int64 \n",
            " 10  model                47242 non-null  object\n",
            " 11  odometer             50000 non-null  object\n",
            " 12  monthOfRegistration  50000 non-null  int64 \n",
            " 13  fuelType             45518 non-null  object\n",
            " 14  brand                50000 non-null  object\n",
            " 15  notRepairedDamage    40171 non-null  object\n",
            " 16  dateCreated          50000 non-null  object\n",
            " 17  nrOfPictures         50000 non-null  int64 \n",
            " 18  postalCode           50000 non-null  int64 \n",
            " 19  lastSeen             50000 non-null  object\n",
            "dtypes: int64(5), object(15)\n",
            "memory usage: 7.6+ MB\n"
          ],
          "name": "stdout"
        }
      ]
    },
    {
      "cell_type": "markdown",
      "metadata": {
        "id": "zERi5kbwT8fQ"
      },
      "source": [
        "#### __Observation of Raw Data__\n",
        "- The dataset contains 20 columns.  \n",
        "- The majority of the data is stored as strings. \n",
        "- A few columns contain null values (ex. *vehicleType, gearbox, model*)\n",
        "- None of the columns have more than ~20% null values (based off 49,999 entries compared to non-null counts)\n",
        "- There are some columns that contain dates stored as strings.\n"
      ]
    },
    {
      "cell_type": "markdown",
      "metadata": {
        "id": "hVc6NWK-S5U0"
      },
      "source": [
        "### **Clean Columns**\n",
        "- Camelcase to snakecase.\n",
        "- Renaming some columns so that the headings reflect the data they contain\n",
        "\n",
        "_examples:_\n",
        "- _yearOfRegistration_ → _registration_year_\n",
        "-  _odometer_ → _odometer_km_"
      ]
    },
    {
      "cell_type": "code",
      "metadata": {
        "colab": {
          "base_uri": "https://localhost:8080/"
        },
        "id": "Id47B5wQNsrw",
        "outputId": "fe9e6668-961b-403b-dc9d-8da50c25eb2e"
      },
      "source": [
        "# convert the column names from camelcase to snakecase\n",
        "\n",
        "column_names = []\n",
        "for column in df.columns:\n",
        "  column_names.append(column.lower())\n",
        "df.columns = column_names\n",
        "\n",
        "df.columns"
      ],
      "execution_count": null,
      "outputs": [
        {
          "output_type": "execute_result",
          "data": {
            "text/plain": [
              "Index(['datecrawled', 'name', 'seller', 'offertype', 'price', 'abtest',\n",
              "       'vehicletype', 'yearofregistration', 'gearbox', 'powerps', 'model',\n",
              "       'odometer', 'monthofregistration', 'fueltype', 'brand',\n",
              "       'notrepaireddamage', 'datecreated', 'nrofpictures', 'postalcode',\n",
              "       'lastseen'],\n",
              "      dtype='object')"
            ]
          },
          "metadata": {
            "tags": []
          },
          "execution_count": 188
        }
      ]
    },
    {
      "cell_type": "code",
      "metadata": {
        "colab": {
          "base_uri": "https://localhost:8080/"
        },
        "id": "Doza3Cq6QKyg",
        "outputId": "7fe618de-94bf-4243-ef7d-13691ea8fe64"
      },
      "source": [
        "# rename some column names to increase fluency\n",
        "\n",
        "df.columns = ['date_crawled', 'name', 'seller', 'offer_type', 'price', 'ab_test',\n",
        "       'vehicle_type', 'registration_year', 'gearbox', 'power_ps', 'model',\n",
        "       'odometer', 'registration_month', 'fuel_type', 'brand',\n",
        "       'unrepaired_damage', 'ad_created', 'num_photos', 'postal_code',\n",
        "       'last_seen']\n",
        "\n",
        "df.columns\n"
      ],
      "execution_count": null,
      "outputs": [
        {
          "output_type": "execute_result",
          "data": {
            "text/plain": [
              "Index(['date_crawled', 'name', 'seller', 'offer_type', 'price', 'ab_test',\n",
              "       'vehicle_type', 'registration_year', 'gearbox', 'power_ps', 'model',\n",
              "       'odometer', 'registration_month', 'fuel_type', 'brand',\n",
              "       'unrepaired_damage', 'ad_created', 'num_photos', 'postal_code',\n",
              "       'last_seen'],\n",
              "      dtype='object')"
            ]
          },
          "metadata": {
            "tags": []
          },
          "execution_count": 189
        }
      ]
    },
    {
      "cell_type": "code",
      "metadata": {
        "colab": {
          "base_uri": "https://localhost:8080/",
          "height": 432
        },
        "id": "Ium5CR2HQ-9k",
        "outputId": "55357699-0ca7-44ee-b3b5-bc8190bc3031"
      },
      "source": [
        "df.describe(include='all')"
      ],
      "execution_count": null,
      "outputs": [
        {
          "output_type": "execute_result",
          "data": {
            "text/html": [
              "<div>\n",
              "<style scoped>\n",
              "    .dataframe tbody tr th:only-of-type {\n",
              "        vertical-align: middle;\n",
              "    }\n",
              "\n",
              "    .dataframe tbody tr th {\n",
              "        vertical-align: top;\n",
              "    }\n",
              "\n",
              "    .dataframe thead th {\n",
              "        text-align: right;\n",
              "    }\n",
              "</style>\n",
              "<table border=\"1\" class=\"dataframe\">\n",
              "  <thead>\n",
              "    <tr style=\"text-align: right;\">\n",
              "      <th></th>\n",
              "      <th>date_crawled</th>\n",
              "      <th>name</th>\n",
              "      <th>seller</th>\n",
              "      <th>offer_type</th>\n",
              "      <th>price</th>\n",
              "      <th>ab_test</th>\n",
              "      <th>vehicle_type</th>\n",
              "      <th>registration_year</th>\n",
              "      <th>gearbox</th>\n",
              "      <th>power_ps</th>\n",
              "      <th>model</th>\n",
              "      <th>odometer</th>\n",
              "      <th>registration_month</th>\n",
              "      <th>fuel_type</th>\n",
              "      <th>brand</th>\n",
              "      <th>unrepaired_damage</th>\n",
              "      <th>ad_created</th>\n",
              "      <th>num_photos</th>\n",
              "      <th>postal_code</th>\n",
              "      <th>last_seen</th>\n",
              "    </tr>\n",
              "  </thead>\n",
              "  <tbody>\n",
              "    <tr>\n",
              "      <th>count</th>\n",
              "      <td>50000</td>\n",
              "      <td>50000</td>\n",
              "      <td>50000</td>\n",
              "      <td>50000</td>\n",
              "      <td>50000</td>\n",
              "      <td>50000</td>\n",
              "      <td>44905</td>\n",
              "      <td>50000.000000</td>\n",
              "      <td>47320</td>\n",
              "      <td>50000.000000</td>\n",
              "      <td>47242</td>\n",
              "      <td>50000</td>\n",
              "      <td>50000.000000</td>\n",
              "      <td>45518</td>\n",
              "      <td>50000</td>\n",
              "      <td>40171</td>\n",
              "      <td>50000</td>\n",
              "      <td>50000.0</td>\n",
              "      <td>50000.000000</td>\n",
              "      <td>50000</td>\n",
              "    </tr>\n",
              "    <tr>\n",
              "      <th>unique</th>\n",
              "      <td>48213</td>\n",
              "      <td>38754</td>\n",
              "      <td>2</td>\n",
              "      <td>2</td>\n",
              "      <td>2357</td>\n",
              "      <td>2</td>\n",
              "      <td>8</td>\n",
              "      <td>NaN</td>\n",
              "      <td>2</td>\n",
              "      <td>NaN</td>\n",
              "      <td>245</td>\n",
              "      <td>13</td>\n",
              "      <td>NaN</td>\n",
              "      <td>7</td>\n",
              "      <td>40</td>\n",
              "      <td>2</td>\n",
              "      <td>76</td>\n",
              "      <td>NaN</td>\n",
              "      <td>NaN</td>\n",
              "      <td>39481</td>\n",
              "    </tr>\n",
              "    <tr>\n",
              "      <th>top</th>\n",
              "      <td>2016-03-27 22:55:05</td>\n",
              "      <td>Ford_Fiesta</td>\n",
              "      <td>privat</td>\n",
              "      <td>Angebot</td>\n",
              "      <td>$0</td>\n",
              "      <td>test</td>\n",
              "      <td>limousine</td>\n",
              "      <td>NaN</td>\n",
              "      <td>manuell</td>\n",
              "      <td>NaN</td>\n",
              "      <td>golf</td>\n",
              "      <td>150,000km</td>\n",
              "      <td>NaN</td>\n",
              "      <td>benzin</td>\n",
              "      <td>volkswagen</td>\n",
              "      <td>nein</td>\n",
              "      <td>2016-04-03 00:00:00</td>\n",
              "      <td>NaN</td>\n",
              "      <td>NaN</td>\n",
              "      <td>2016-04-07 06:17:27</td>\n",
              "    </tr>\n",
              "    <tr>\n",
              "      <th>freq</th>\n",
              "      <td>3</td>\n",
              "      <td>78</td>\n",
              "      <td>49999</td>\n",
              "      <td>49999</td>\n",
              "      <td>1421</td>\n",
              "      <td>25756</td>\n",
              "      <td>12859</td>\n",
              "      <td>NaN</td>\n",
              "      <td>36993</td>\n",
              "      <td>NaN</td>\n",
              "      <td>4024</td>\n",
              "      <td>32424</td>\n",
              "      <td>NaN</td>\n",
              "      <td>30107</td>\n",
              "      <td>10687</td>\n",
              "      <td>35232</td>\n",
              "      <td>1946</td>\n",
              "      <td>NaN</td>\n",
              "      <td>NaN</td>\n",
              "      <td>8</td>\n",
              "    </tr>\n",
              "    <tr>\n",
              "      <th>mean</th>\n",
              "      <td>NaN</td>\n",
              "      <td>NaN</td>\n",
              "      <td>NaN</td>\n",
              "      <td>NaN</td>\n",
              "      <td>NaN</td>\n",
              "      <td>NaN</td>\n",
              "      <td>NaN</td>\n",
              "      <td>2005.073280</td>\n",
              "      <td>NaN</td>\n",
              "      <td>116.355920</td>\n",
              "      <td>NaN</td>\n",
              "      <td>NaN</td>\n",
              "      <td>5.723360</td>\n",
              "      <td>NaN</td>\n",
              "      <td>NaN</td>\n",
              "      <td>NaN</td>\n",
              "      <td>NaN</td>\n",
              "      <td>0.0</td>\n",
              "      <td>50813.627300</td>\n",
              "      <td>NaN</td>\n",
              "    </tr>\n",
              "    <tr>\n",
              "      <th>std</th>\n",
              "      <td>NaN</td>\n",
              "      <td>NaN</td>\n",
              "      <td>NaN</td>\n",
              "      <td>NaN</td>\n",
              "      <td>NaN</td>\n",
              "      <td>NaN</td>\n",
              "      <td>NaN</td>\n",
              "      <td>105.712813</td>\n",
              "      <td>NaN</td>\n",
              "      <td>209.216627</td>\n",
              "      <td>NaN</td>\n",
              "      <td>NaN</td>\n",
              "      <td>3.711984</td>\n",
              "      <td>NaN</td>\n",
              "      <td>NaN</td>\n",
              "      <td>NaN</td>\n",
              "      <td>NaN</td>\n",
              "      <td>0.0</td>\n",
              "      <td>25779.747957</td>\n",
              "      <td>NaN</td>\n",
              "    </tr>\n",
              "    <tr>\n",
              "      <th>min</th>\n",
              "      <td>NaN</td>\n",
              "      <td>NaN</td>\n",
              "      <td>NaN</td>\n",
              "      <td>NaN</td>\n",
              "      <td>NaN</td>\n",
              "      <td>NaN</td>\n",
              "      <td>NaN</td>\n",
              "      <td>1000.000000</td>\n",
              "      <td>NaN</td>\n",
              "      <td>0.000000</td>\n",
              "      <td>NaN</td>\n",
              "      <td>NaN</td>\n",
              "      <td>0.000000</td>\n",
              "      <td>NaN</td>\n",
              "      <td>NaN</td>\n",
              "      <td>NaN</td>\n",
              "      <td>NaN</td>\n",
              "      <td>0.0</td>\n",
              "      <td>1067.000000</td>\n",
              "      <td>NaN</td>\n",
              "    </tr>\n",
              "    <tr>\n",
              "      <th>25%</th>\n",
              "      <td>NaN</td>\n",
              "      <td>NaN</td>\n",
              "      <td>NaN</td>\n",
              "      <td>NaN</td>\n",
              "      <td>NaN</td>\n",
              "      <td>NaN</td>\n",
              "      <td>NaN</td>\n",
              "      <td>1999.000000</td>\n",
              "      <td>NaN</td>\n",
              "      <td>70.000000</td>\n",
              "      <td>NaN</td>\n",
              "      <td>NaN</td>\n",
              "      <td>3.000000</td>\n",
              "      <td>NaN</td>\n",
              "      <td>NaN</td>\n",
              "      <td>NaN</td>\n",
              "      <td>NaN</td>\n",
              "      <td>0.0</td>\n",
              "      <td>30451.000000</td>\n",
              "      <td>NaN</td>\n",
              "    </tr>\n",
              "    <tr>\n",
              "      <th>50%</th>\n",
              "      <td>NaN</td>\n",
              "      <td>NaN</td>\n",
              "      <td>NaN</td>\n",
              "      <td>NaN</td>\n",
              "      <td>NaN</td>\n",
              "      <td>NaN</td>\n",
              "      <td>NaN</td>\n",
              "      <td>2003.000000</td>\n",
              "      <td>NaN</td>\n",
              "      <td>105.000000</td>\n",
              "      <td>NaN</td>\n",
              "      <td>NaN</td>\n",
              "      <td>6.000000</td>\n",
              "      <td>NaN</td>\n",
              "      <td>NaN</td>\n",
              "      <td>NaN</td>\n",
              "      <td>NaN</td>\n",
              "      <td>0.0</td>\n",
              "      <td>49577.000000</td>\n",
              "      <td>NaN</td>\n",
              "    </tr>\n",
              "    <tr>\n",
              "      <th>75%</th>\n",
              "      <td>NaN</td>\n",
              "      <td>NaN</td>\n",
              "      <td>NaN</td>\n",
              "      <td>NaN</td>\n",
              "      <td>NaN</td>\n",
              "      <td>NaN</td>\n",
              "      <td>NaN</td>\n",
              "      <td>2008.000000</td>\n",
              "      <td>NaN</td>\n",
              "      <td>150.000000</td>\n",
              "      <td>NaN</td>\n",
              "      <td>NaN</td>\n",
              "      <td>9.000000</td>\n",
              "      <td>NaN</td>\n",
              "      <td>NaN</td>\n",
              "      <td>NaN</td>\n",
              "      <td>NaN</td>\n",
              "      <td>0.0</td>\n",
              "      <td>71540.000000</td>\n",
              "      <td>NaN</td>\n",
              "    </tr>\n",
              "    <tr>\n",
              "      <th>max</th>\n",
              "      <td>NaN</td>\n",
              "      <td>NaN</td>\n",
              "      <td>NaN</td>\n",
              "      <td>NaN</td>\n",
              "      <td>NaN</td>\n",
              "      <td>NaN</td>\n",
              "      <td>NaN</td>\n",
              "      <td>9999.000000</td>\n",
              "      <td>NaN</td>\n",
              "      <td>17700.000000</td>\n",
              "      <td>NaN</td>\n",
              "      <td>NaN</td>\n",
              "      <td>12.000000</td>\n",
              "      <td>NaN</td>\n",
              "      <td>NaN</td>\n",
              "      <td>NaN</td>\n",
              "      <td>NaN</td>\n",
              "      <td>0.0</td>\n",
              "      <td>99998.000000</td>\n",
              "      <td>NaN</td>\n",
              "    </tr>\n",
              "  </tbody>\n",
              "</table>\n",
              "</div>"
            ],
            "text/plain": [
              "               date_crawled         name  ...   postal_code            last_seen\n",
              "count                 50000        50000  ...  50000.000000                50000\n",
              "unique                48213        38754  ...           NaN                39481\n",
              "top     2016-03-27 22:55:05  Ford_Fiesta  ...           NaN  2016-04-07 06:17:27\n",
              "freq                      3           78  ...           NaN                    8\n",
              "mean                    NaN          NaN  ...  50813.627300                  NaN\n",
              "std                     NaN          NaN  ...  25779.747957                  NaN\n",
              "min                     NaN          NaN  ...   1067.000000                  NaN\n",
              "25%                     NaN          NaN  ...  30451.000000                  NaN\n",
              "50%                     NaN          NaN  ...  49577.000000                  NaN\n",
              "75%                     NaN          NaN  ...  71540.000000                  NaN\n",
              "max                     NaN          NaN  ...  99998.000000                  NaN\n",
              "\n",
              "[11 rows x 20 columns]"
            ]
          },
          "metadata": {
            "tags": []
          },
          "execution_count": 190
        }
      ]
    },
    {
      "cell_type": "markdown",
      "metadata": {
        "id": "uJTEXoiY7IZg"
      },
      "source": [
        "### __Drop Columns__\n",
        " \n",
        " The following columns have one or fewer unique values listed\n",
        "- **num_photos** (0 for every row)\n",
        "- _offer_type_\n",
        "- _seller_"
      ]
    },
    {
      "cell_type": "code",
      "metadata": {
        "colab": {
          "base_uri": "https://localhost:8080/",
          "height": 432
        },
        "id": "Mbvu8aOlBKwE",
        "outputId": "f9ad3b3c-00da-4c27-ae97-1222c695fb11"
      },
      "source": [
        "# drop columns with 1 or fewer values\n",
        " \n",
        "df.drop(columns=['num_photos', 'offer_type', 'seller'], axis=1,inplace=True)\n",
        "df.describe(include='all')"
      ],
      "execution_count": null,
      "outputs": [
        {
          "output_type": "execute_result",
          "data": {
            "text/html": [
              "<div>\n",
              "<style scoped>\n",
              "    .dataframe tbody tr th:only-of-type {\n",
              "        vertical-align: middle;\n",
              "    }\n",
              "\n",
              "    .dataframe tbody tr th {\n",
              "        vertical-align: top;\n",
              "    }\n",
              "\n",
              "    .dataframe thead th {\n",
              "        text-align: right;\n",
              "    }\n",
              "</style>\n",
              "<table border=\"1\" class=\"dataframe\">\n",
              "  <thead>\n",
              "    <tr style=\"text-align: right;\">\n",
              "      <th></th>\n",
              "      <th>date_crawled</th>\n",
              "      <th>name</th>\n",
              "      <th>price</th>\n",
              "      <th>ab_test</th>\n",
              "      <th>vehicle_type</th>\n",
              "      <th>registration_year</th>\n",
              "      <th>gearbox</th>\n",
              "      <th>power_ps</th>\n",
              "      <th>model</th>\n",
              "      <th>odometer</th>\n",
              "      <th>registration_month</th>\n",
              "      <th>fuel_type</th>\n",
              "      <th>brand</th>\n",
              "      <th>unrepaired_damage</th>\n",
              "      <th>ad_created</th>\n",
              "      <th>postal_code</th>\n",
              "      <th>last_seen</th>\n",
              "    </tr>\n",
              "  </thead>\n",
              "  <tbody>\n",
              "    <tr>\n",
              "      <th>count</th>\n",
              "      <td>50000</td>\n",
              "      <td>50000</td>\n",
              "      <td>50000</td>\n",
              "      <td>50000</td>\n",
              "      <td>44905</td>\n",
              "      <td>50000.000000</td>\n",
              "      <td>47320</td>\n",
              "      <td>50000.000000</td>\n",
              "      <td>47242</td>\n",
              "      <td>50000</td>\n",
              "      <td>50000.000000</td>\n",
              "      <td>45518</td>\n",
              "      <td>50000</td>\n",
              "      <td>40171</td>\n",
              "      <td>50000</td>\n",
              "      <td>50000.000000</td>\n",
              "      <td>50000</td>\n",
              "    </tr>\n",
              "    <tr>\n",
              "      <th>unique</th>\n",
              "      <td>48213</td>\n",
              "      <td>38754</td>\n",
              "      <td>2357</td>\n",
              "      <td>2</td>\n",
              "      <td>8</td>\n",
              "      <td>NaN</td>\n",
              "      <td>2</td>\n",
              "      <td>NaN</td>\n",
              "      <td>245</td>\n",
              "      <td>13</td>\n",
              "      <td>NaN</td>\n",
              "      <td>7</td>\n",
              "      <td>40</td>\n",
              "      <td>2</td>\n",
              "      <td>76</td>\n",
              "      <td>NaN</td>\n",
              "      <td>39481</td>\n",
              "    </tr>\n",
              "    <tr>\n",
              "      <th>top</th>\n",
              "      <td>2016-03-27 22:55:05</td>\n",
              "      <td>Ford_Fiesta</td>\n",
              "      <td>$0</td>\n",
              "      <td>test</td>\n",
              "      <td>limousine</td>\n",
              "      <td>NaN</td>\n",
              "      <td>manuell</td>\n",
              "      <td>NaN</td>\n",
              "      <td>golf</td>\n",
              "      <td>150,000km</td>\n",
              "      <td>NaN</td>\n",
              "      <td>benzin</td>\n",
              "      <td>volkswagen</td>\n",
              "      <td>nein</td>\n",
              "      <td>2016-04-03 00:00:00</td>\n",
              "      <td>NaN</td>\n",
              "      <td>2016-04-07 06:17:27</td>\n",
              "    </tr>\n",
              "    <tr>\n",
              "      <th>freq</th>\n",
              "      <td>3</td>\n",
              "      <td>78</td>\n",
              "      <td>1421</td>\n",
              "      <td>25756</td>\n",
              "      <td>12859</td>\n",
              "      <td>NaN</td>\n",
              "      <td>36993</td>\n",
              "      <td>NaN</td>\n",
              "      <td>4024</td>\n",
              "      <td>32424</td>\n",
              "      <td>NaN</td>\n",
              "      <td>30107</td>\n",
              "      <td>10687</td>\n",
              "      <td>35232</td>\n",
              "      <td>1946</td>\n",
              "      <td>NaN</td>\n",
              "      <td>8</td>\n",
              "    </tr>\n",
              "    <tr>\n",
              "      <th>mean</th>\n",
              "      <td>NaN</td>\n",
              "      <td>NaN</td>\n",
              "      <td>NaN</td>\n",
              "      <td>NaN</td>\n",
              "      <td>NaN</td>\n",
              "      <td>2005.073280</td>\n",
              "      <td>NaN</td>\n",
              "      <td>116.355920</td>\n",
              "      <td>NaN</td>\n",
              "      <td>NaN</td>\n",
              "      <td>5.723360</td>\n",
              "      <td>NaN</td>\n",
              "      <td>NaN</td>\n",
              "      <td>NaN</td>\n",
              "      <td>NaN</td>\n",
              "      <td>50813.627300</td>\n",
              "      <td>NaN</td>\n",
              "    </tr>\n",
              "    <tr>\n",
              "      <th>std</th>\n",
              "      <td>NaN</td>\n",
              "      <td>NaN</td>\n",
              "      <td>NaN</td>\n",
              "      <td>NaN</td>\n",
              "      <td>NaN</td>\n",
              "      <td>105.712813</td>\n",
              "      <td>NaN</td>\n",
              "      <td>209.216627</td>\n",
              "      <td>NaN</td>\n",
              "      <td>NaN</td>\n",
              "      <td>3.711984</td>\n",
              "      <td>NaN</td>\n",
              "      <td>NaN</td>\n",
              "      <td>NaN</td>\n",
              "      <td>NaN</td>\n",
              "      <td>25779.747957</td>\n",
              "      <td>NaN</td>\n",
              "    </tr>\n",
              "    <tr>\n",
              "      <th>min</th>\n",
              "      <td>NaN</td>\n",
              "      <td>NaN</td>\n",
              "      <td>NaN</td>\n",
              "      <td>NaN</td>\n",
              "      <td>NaN</td>\n",
              "      <td>1000.000000</td>\n",
              "      <td>NaN</td>\n",
              "      <td>0.000000</td>\n",
              "      <td>NaN</td>\n",
              "      <td>NaN</td>\n",
              "      <td>0.000000</td>\n",
              "      <td>NaN</td>\n",
              "      <td>NaN</td>\n",
              "      <td>NaN</td>\n",
              "      <td>NaN</td>\n",
              "      <td>1067.000000</td>\n",
              "      <td>NaN</td>\n",
              "    </tr>\n",
              "    <tr>\n",
              "      <th>25%</th>\n",
              "      <td>NaN</td>\n",
              "      <td>NaN</td>\n",
              "      <td>NaN</td>\n",
              "      <td>NaN</td>\n",
              "      <td>NaN</td>\n",
              "      <td>1999.000000</td>\n",
              "      <td>NaN</td>\n",
              "      <td>70.000000</td>\n",
              "      <td>NaN</td>\n",
              "      <td>NaN</td>\n",
              "      <td>3.000000</td>\n",
              "      <td>NaN</td>\n",
              "      <td>NaN</td>\n",
              "      <td>NaN</td>\n",
              "      <td>NaN</td>\n",
              "      <td>30451.000000</td>\n",
              "      <td>NaN</td>\n",
              "    </tr>\n",
              "    <tr>\n",
              "      <th>50%</th>\n",
              "      <td>NaN</td>\n",
              "      <td>NaN</td>\n",
              "      <td>NaN</td>\n",
              "      <td>NaN</td>\n",
              "      <td>NaN</td>\n",
              "      <td>2003.000000</td>\n",
              "      <td>NaN</td>\n",
              "      <td>105.000000</td>\n",
              "      <td>NaN</td>\n",
              "      <td>NaN</td>\n",
              "      <td>6.000000</td>\n",
              "      <td>NaN</td>\n",
              "      <td>NaN</td>\n",
              "      <td>NaN</td>\n",
              "      <td>NaN</td>\n",
              "      <td>49577.000000</td>\n",
              "      <td>NaN</td>\n",
              "    </tr>\n",
              "    <tr>\n",
              "      <th>75%</th>\n",
              "      <td>NaN</td>\n",
              "      <td>NaN</td>\n",
              "      <td>NaN</td>\n",
              "      <td>NaN</td>\n",
              "      <td>NaN</td>\n",
              "      <td>2008.000000</td>\n",
              "      <td>NaN</td>\n",
              "      <td>150.000000</td>\n",
              "      <td>NaN</td>\n",
              "      <td>NaN</td>\n",
              "      <td>9.000000</td>\n",
              "      <td>NaN</td>\n",
              "      <td>NaN</td>\n",
              "      <td>NaN</td>\n",
              "      <td>NaN</td>\n",
              "      <td>71540.000000</td>\n",
              "      <td>NaN</td>\n",
              "    </tr>\n",
              "    <tr>\n",
              "      <th>max</th>\n",
              "      <td>NaN</td>\n",
              "      <td>NaN</td>\n",
              "      <td>NaN</td>\n",
              "      <td>NaN</td>\n",
              "      <td>NaN</td>\n",
              "      <td>9999.000000</td>\n",
              "      <td>NaN</td>\n",
              "      <td>17700.000000</td>\n",
              "      <td>NaN</td>\n",
              "      <td>NaN</td>\n",
              "      <td>12.000000</td>\n",
              "      <td>NaN</td>\n",
              "      <td>NaN</td>\n",
              "      <td>NaN</td>\n",
              "      <td>NaN</td>\n",
              "      <td>99998.000000</td>\n",
              "      <td>NaN</td>\n",
              "    </tr>\n",
              "  </tbody>\n",
              "</table>\n",
              "</div>"
            ],
            "text/plain": [
              "               date_crawled         name  ...   postal_code            last_seen\n",
              "count                 50000        50000  ...  50000.000000                50000\n",
              "unique                48213        38754  ...           NaN                39481\n",
              "top     2016-03-27 22:55:05  Ford_Fiesta  ...           NaN  2016-04-07 06:17:27\n",
              "freq                      3           78  ...           NaN                    8\n",
              "mean                    NaN          NaN  ...  50813.627300                  NaN\n",
              "std                     NaN          NaN  ...  25779.747957                  NaN\n",
              "min                     NaN          NaN  ...   1067.000000                  NaN\n",
              "25%                     NaN          NaN  ...  30451.000000                  NaN\n",
              "50%                     NaN          NaN  ...  49577.000000                  NaN\n",
              "75%                     NaN          NaN  ...  71540.000000                  NaN\n",
              "max                     NaN          NaN  ...  99998.000000                  NaN\n",
              "\n",
              "[11 rows x 17 columns]"
            ]
          },
          "metadata": {
            "tags": []
          },
          "execution_count": 191
        }
      ]
    },
    {
      "cell_type": "code",
      "metadata": {
        "colab": {
          "base_uri": "https://localhost:8080/"
        },
        "id": "T-slAHEJ6fSQ",
        "outputId": "fa3eeaf4-4a56-45f7-d249-7b2ce937343c"
      },
      "source": [
        "df.info(verbose=True)"
      ],
      "execution_count": null,
      "outputs": [
        {
          "output_type": "stream",
          "text": [
            "<class 'pandas.core.frame.DataFrame'>\n",
            "RangeIndex: 50000 entries, 0 to 49999\n",
            "Data columns (total 17 columns):\n",
            " #   Column              Non-Null Count  Dtype \n",
            "---  ------              --------------  ----- \n",
            " 0   date_crawled        50000 non-null  object\n",
            " 1   name                50000 non-null  object\n",
            " 2   price               50000 non-null  object\n",
            " 3   ab_test             50000 non-null  object\n",
            " 4   vehicle_type        44905 non-null  object\n",
            " 5   registration_year   50000 non-null  int64 \n",
            " 6   gearbox             47320 non-null  object\n",
            " 7   power_ps            50000 non-null  int64 \n",
            " 8   model               47242 non-null  object\n",
            " 9   odometer            50000 non-null  object\n",
            " 10  registration_month  50000 non-null  int64 \n",
            " 11  fuel_type           45518 non-null  object\n",
            " 12  brand               50000 non-null  object\n",
            " 13  unrepaired_damage   40171 non-null  object\n",
            " 14  ad_created          50000 non-null  object\n",
            " 15  postal_code         50000 non-null  int64 \n",
            " 16  last_seen           50000 non-null  object\n",
            "dtypes: int64(4), object(13)\n",
            "memory usage: 6.5+ MB\n"
          ],
          "name": "stdout"
        }
      ]
    },
    {
      "cell_type": "markdown",
      "metadata": {
        "id": "cCOM-sqIatOU"
      },
      "source": [
        "### __Convert str Columns to num Type__\n",
        "Columns with numeric data stored as text that needs to be cleaned:\n",
        "- _price_ ( $ , )\n",
        "- _odometer_ ( km , )"
      ]
    },
    {
      "cell_type": "code",
      "metadata": {
        "colab": {
          "base_uri": "https://localhost:8080/"
        },
        "id": "mUTwJ7wH94pM",
        "outputId": "cf191ce7-70bf-43d2-f814-1097a9f53a30"
      },
      "source": [
        "df['odometer'].value_counts()"
      ],
      "execution_count": null,
      "outputs": [
        {
          "output_type": "execute_result",
          "data": {
            "text/plain": [
              "150,000km    32424\n",
              "125,000km     5170\n",
              "100,000km     2169\n",
              "90,000km      1757\n",
              "80,000km      1436\n",
              "70,000km      1230\n",
              "60,000km      1164\n",
              "50,000km      1027\n",
              "5,000km        967\n",
              "40,000km       819\n",
              "30,000km       789\n",
              "20,000km       784\n",
              "10,000km       264\n",
              "Name: odometer, dtype: int64"
            ]
          },
          "metadata": {
            "tags": []
          },
          "execution_count": 193
        }
      ]
    },
    {
      "cell_type": "code",
      "metadata": {
        "colab": {
          "base_uri": "https://localhost:8080/"
        },
        "id": "wCNqFkEd-PDk",
        "outputId": "bf279c1a-3aaa-4a56-e29e-1e8e58e7a14f"
      },
      "source": [
        "df['price'].value_counts()"
      ],
      "execution_count": null,
      "outputs": [
        {
          "output_type": "execute_result",
          "data": {
            "text/plain": [
              "$0         1421\n",
              "$500        781\n",
              "$1,500      734\n",
              "$2,500      643\n",
              "$1,000      639\n",
              "           ... \n",
              "$28,400       1\n",
              "$8,970        1\n",
              "$7,680        1\n",
              "$839          1\n",
              "$251          1\n",
              "Name: price, Length: 2357, dtype: int64"
            ]
          },
          "metadata": {
            "tags": []
          },
          "execution_count": 194
        }
      ]
    },
    {
      "cell_type": "code",
      "metadata": {
        "colab": {
          "base_uri": "https://localhost:8080/"
        },
        "id": "qYEdAcrx_Nms",
        "outputId": "5d893837-067c-4d7b-b806-76f4473ffb2c"
      },
      "source": [
        "# 'price' column has numeric values with chars stored as text.\n",
        "# remove '$' , ',' and convert to int type\n",
        "df['price'] = df['price'].str.replace('$','').str.replace(\",\",\"\").astype(int)\n",
        "df['price'].head()"
      ],
      "execution_count": null,
      "outputs": [
        {
          "output_type": "execute_result",
          "data": {
            "text/plain": [
              "0    5000\n",
              "1    8500\n",
              "2    8990\n",
              "3    4350\n",
              "4    1350\n",
              "Name: price, dtype: int64"
            ]
          },
          "metadata": {
            "tags": []
          },
          "execution_count": 195
        }
      ]
    },
    {
      "cell_type": "code",
      "metadata": {
        "colab": {
          "base_uri": "https://localhost:8080/"
        },
        "id": "_4DGEtTWABPY",
        "outputId": "7617fb54-d99f-4473-802f-f99cfa8b0c9d"
      },
      "source": [
        "# 'odometer' column also has numeric values with chars  stored as text.\n",
        "# remove 'km' , ',' and convert to int type\n",
        "df['odometer'] = df['odometer'].str.replace(\"km\",\"\").str.replace(\",\",\"\").astype(int)\n",
        "df['odometer'].head()"
      ],
      "execution_count": null,
      "outputs": [
        {
          "output_type": "execute_result",
          "data": {
            "text/plain": [
              "0    150000\n",
              "1    150000\n",
              "2     70000\n",
              "3     70000\n",
              "4    150000\n",
              "Name: odometer, dtype: int64"
            ]
          },
          "metadata": {
            "tags": []
          },
          "execution_count": 196
        }
      ]
    },
    {
      "cell_type": "code",
      "metadata": {
        "colab": {
          "base_uri": "https://localhost:8080/"
        },
        "id": "88fYWWJdDQwo",
        "outputId": "d03a786c-25db-409b-da78-e0e39909b887"
      },
      "source": [
        "# rename odometer to reflect data in column (kilometers)\n",
        "df.rename({\"odometer\": \"odometer_km\"}, axis=1, inplace=True)\n",
        "df.info(column_names)"
      ],
      "execution_count": null,
      "outputs": [
        {
          "output_type": "stream",
          "text": [
            "<class 'pandas.core.frame.DataFrame'>\n",
            "RangeIndex: 50000 entries, 0 to 49999\n",
            "Data columns (total 17 columns):\n",
            " #   Column              Non-Null Count  Dtype \n",
            "---  ------              --------------  ----- \n",
            " 0   date_crawled        50000 non-null  object\n",
            " 1   name                50000 non-null  object\n",
            " 2   price               50000 non-null  int64 \n",
            " 3   ab_test             50000 non-null  object\n",
            " 4   vehicle_type        44905 non-null  object\n",
            " 5   registration_year   50000 non-null  int64 \n",
            " 6   gearbox             47320 non-null  object\n",
            " 7   power_ps            50000 non-null  int64 \n",
            " 8   model               47242 non-null  object\n",
            " 9   odometer_km         50000 non-null  int64 \n",
            " 10  registration_month  50000 non-null  int64 \n",
            " 11  fuel_type           45518 non-null  object\n",
            " 12  brand               50000 non-null  object\n",
            " 13  unrepaired_damage   40171 non-null  object\n",
            " 14  ad_created          50000 non-null  object\n",
            " 15  postal_code         50000 non-null  int64 \n",
            " 16  last_seen           50000 non-null  object\n",
            "dtypes: int64(6), object(11)\n",
            "memory usage: 6.5+ MB\n"
          ],
          "name": "stdout"
        }
      ]
    },
    {
      "cell_type": "code",
      "metadata": {
        "colab": {
          "base_uri": "https://localhost:8080/"
        },
        "id": "2PCbKa-s4hq4",
        "outputId": "9ef7043a-c2b7-4ee5-a95a-2bc15b64fd7a"
      },
      "source": [
        "df['odometer_km'].describe()"
      ],
      "execution_count": null,
      "outputs": [
        {
          "output_type": "execute_result",
          "data": {
            "text/plain": [
              "count     50000.000000\n",
              "mean     125732.700000\n",
              "std       40042.211706\n",
              "min        5000.000000\n",
              "25%      125000.000000\n",
              "50%      150000.000000\n",
              "75%      150000.000000\n",
              "max      150000.000000\n",
              "Name: odometer_km, dtype: float64"
            ]
          },
          "metadata": {
            "tags": []
          },
          "execution_count": 198
        }
      ]
    },
    {
      "cell_type": "markdown",
      "metadata": {
        "id": "0Oy3PmQUDqyQ"
      },
      "source": [
        "### **Analyze Odometer and Price**"
      ]
    },
    {
      "cell_type": "code",
      "metadata": {
        "colab": {
          "base_uri": "https://localhost:8080/",
          "height": 282
        },
        "id": "tkWor69pEnUU",
        "outputId": "94aeb7e2-b2f5-41c7-db44-23680376b688"
      },
      "source": [
        "\n",
        "df[\"odometer_km\"].plot.hist(bins=15, label=\"Histogram\")"
      ],
      "execution_count": null,
      "outputs": [
        {
          "output_type": "execute_result",
          "data": {
            "text/plain": [
              "<matplotlib.axes._subplots.AxesSubplot at 0x7f02aad9b748>"
            ]
          },
          "metadata": {
            "tags": []
          },
          "execution_count": 199
        },
        {
          "output_type": "display_data",
          "data": {
            "image/png": "[encoded data removed]",
            "text/plain": [
              "<Figure size 432x288 with 1 Axes>"
            ]
          },
          "metadata": {
            "tags": [],
            "needs_background": "light"
          }
        }
      ]
    },
    {
      "cell_type": "markdown",
      "metadata": {
        "id": "TucVEelp4vds"
      },
      "source": [
        "- The majority (32,424) of odometer readings show cars with 150,000 km.\n",
        "- Minimium odometer readings was 5,000 km\n",
        "- 150,000 km could be the max limit on what can be listed in an auction listing for a car.  It's likely that many cars go beyond this limit."
      ]
    },
    {
      "cell_type": "code",
      "metadata": {
        "colab": {
          "base_uri": "https://localhost:8080/"
        },
        "id": "6IJJLP26Dy_Q",
        "outputId": "ff12d4c1-2b6d-48bf-b8a1-36cdc81c047d"
      },
      "source": [
        "print(f'Unique:\\n {df[\"price\"].unique().shape} \\n')\n",
        "print(f'Describe: \\n{df[\"price\"].describe()} \\n')\n",
        "print(f'Value Count (Top 5):')\n",
        "df['price'].value_counts(ascending=False).head(5)"
      ],
      "execution_count": null,
      "outputs": [
        {
          "output_type": "stream",
          "text": [
            "Unique:\n",
            " (2357,) \n",
            "\n",
            "Describe: \n",
            "count    5.000000e+04\n",
            "mean     9.840044e+03\n",
            "std      4.811044e+05\n",
            "min      0.000000e+00\n",
            "25%      1.100000e+03\n",
            "50%      2.950000e+03\n",
            "75%      7.200000e+03\n",
            "max      1.000000e+08\n",
            "Name: price, dtype: float64 \n",
            "\n",
            "Value Count (Top 5):\n"
          ],
          "name": "stdout"
        },
        {
          "output_type": "execute_result",
          "data": {
            "text/plain": [
              "0       1421\n",
              "500      781\n",
              "1500     734\n",
              "2500     643\n",
              "1000     639\n",
              "Name: price, dtype: int64"
            ]
          },
          "metadata": {
            "tags": []
          },
          "execution_count": 200
        }
      ]
    },
    {
      "cell_type": "markdown",
      "metadata": {
        "id": "sbRuayOlGhsg"
      },
      "source": [
        "#### __Observation of _'Price'_ Column (1)__\n",
        "- **$0** accounts for 1421 cars or just 2.8 % of all cars in the _'prices'_ column.\n",
        "\n",
        "- Many of the number values for the 'price' column seem to be rounded, however given there are 2357 unique values in the column, this may just be a common trend for auction/bidding type websites (Ebay.com).\n",
        "\n",
        "- The maximum price is one hundred million dollars."
      ]
    },
    {
      "cell_type": "code",
      "metadata": {
        "colab": {
          "base_uri": "https://localhost:8080/"
        },
        "id": "deLU6rKBJZuo",
        "outputId": "4329d8de-b2b8-4873-e26e-d6116f364624"
      },
      "source": [
        "# further analysis of 'price' column to isolate outlyers \n",
        "print('Price by Index (Top 20):')\n",
        "print(df['price'].value_counts().sort_index(ascending=False).head(20))\n",
        "print('\\nPrice by Index (Bottom 10):')\n",
        "df['price'].value_counts().sort_index(ascending=True).head(10)"
      ],
      "execution_count": null,
      "outputs": [
        {
          "output_type": "stream",
          "text": [
            "Price by Index (Top 20):\n",
            "99999999    1\n",
            "27322222    1\n",
            "12345678    3\n",
            "11111111    2\n",
            "10000000    1\n",
            "3890000     1\n",
            "1300000     1\n",
            "1234566     1\n",
            "999999      2\n",
            "999990      1\n",
            "350000      1\n",
            "345000      1\n",
            "299000      1\n",
            "295000      1\n",
            "265000      1\n",
            "259000      1\n",
            "250000      1\n",
            "220000      1\n",
            "198000      1\n",
            "197000      1\n",
            "Name: price, dtype: int64\n",
            "\n",
            "Price by Index (Bottom 10):\n"
          ],
          "name": "stdout"
        },
        {
          "output_type": "execute_result",
          "data": {
            "text/plain": [
              "0     1421\n",
              "1      156\n",
              "2        3\n",
              "3        1\n",
              "5        2\n",
              "8        1\n",
              "9        1\n",
              "10       7\n",
              "11       2\n",
              "12       3\n",
              "Name: price, dtype: int64"
            ]
          },
          "metadata": {
            "tags": []
          },
          "execution_count": 201
        }
      ]
    },
    {
      "cell_type": "markdown",
      "metadata": {
        "id": "P3EXoRNwKOBg"
      },
      "source": [
        "#### __Observation of _'Price'_ Column (2)__\n",
        "\n",
        "| Price|% of Total|Description|\n",
        "|:--|:--:| :--|\n",
        "|\\$1-\\$350,000|  97%|Range of gradual price increases|\n",
        "|$1| 0.3%|156 Cars|\n",
        "|\\$0|  2.8% |1421 Cars |\n",
        "|Over \\$999,990| 0.2%|14 Cars|\n",
        "\n",
        "\n",
        "\n",
        "##### __Filter  _'Price'_ Data__\n",
        "All 'price' data outside of the \\$1.00 - \\$350,000 dollar range will be excluded from further analysis.  This includes:\n",
        "\n",
        "- 14 cars listed near or above 1 million.\n",
        "- 1,421 cars listed at 0.00 dollars\n",
        "\n",
        "\n"
      ]
    },
    {
      "cell_type": "code",
      "metadata": {
        "colab": {
          "base_uri": "https://localhost:8080/"
        },
        "id": "5goKjQJ6NP64",
        "outputId": "e2bc624c-21a5-4286-e33c-9b63b1e5f382"
      },
      "source": [
        "# update df to show only prices between $1 - $351,000 \n",
        "df = df[df['price'].between(1,351000)]\n",
        "\n",
        "print(f\"Price by Index (Top 5):\\n{df['price'].value_counts().sort_index(ascending=False).head(5)} \\n\")\n",
        "\n",
        "\n",
        "print(f\"Price by Index (Bottom 5):\")\n",
        "df['price'].value_counts().sort_index(ascending=True).head(5)"
      ],
      "execution_count": null,
      "outputs": [
        {
          "output_type": "stream",
          "text": [
            "Price by Index (Top 5):\n",
            "350000    1\n",
            "345000    1\n",
            "299000    1\n",
            "295000    1\n",
            "265000    1\n",
            "Name: price, dtype: int64 \n",
            "\n",
            "Price by Index (Bottom 5):\n"
          ],
          "name": "stdout"
        },
        {
          "output_type": "execute_result",
          "data": {
            "text/plain": [
              "1    156\n",
              "2      3\n",
              "3      1\n",
              "5      2\n",
              "8      1\n",
              "Name: price, dtype: int64"
            ]
          },
          "metadata": {
            "tags": []
          },
          "execution_count": 202
        }
      ]
    },
    {
      "cell_type": "markdown",
      "metadata": {
        "id": "KjcL8xMGnlO4"
      },
      "source": [
        "#### __Observation of _'odomenter_km'_ Column__"
      ]
    },
    {
      "cell_type": "code",
      "metadata": {
        "colab": {
          "base_uri": "https://localhost:8080/"
        },
        "id": "P3cFlhGdGO5Y",
        "outputId": "39cf7592-2e11-4b53-bfe1-020d566c1bb5"
      },
      "source": [
        "print(f\"Describe 'odometer_km':\\n{df['odometer_km'].describe()} \\n\")\n",
        "print(f\"Odometer by Index (Top 5):\\n{df['odometer_km'].value_counts().sort_index(ascending=False).head(5)}\\n\")\n",
        "print(f\"Odeometer by Index (Bottom 5):\\n{df['odometer_km'].value_counts().sort_index(ascending=True).head(5)}\\n\")"
      ],
      "execution_count": null,
      "outputs": [
        {
          "output_type": "stream",
          "text": [
            "Describe 'odometer_km':\n",
            "count     48565.000000\n",
            "mean     125770.101925\n",
            "std       39788.636804\n",
            "min        5000.000000\n",
            "25%      125000.000000\n",
            "50%      150000.000000\n",
            "75%      150000.000000\n",
            "max      150000.000000\n",
            "Name: odometer_km, dtype: float64 \n",
            "\n",
            "Odometer by Index (Top 5):\n",
            "150000    31414\n",
            "125000     5057\n",
            "100000     2115\n",
            "90000      1734\n",
            "80000      1415\n",
            "Name: odometer_km, dtype: int64\n",
            "\n",
            "Odeometer by Index (Bottom 5):\n",
            "5000     836\n",
            "10000    253\n",
            "20000    762\n",
            "30000    780\n",
            "40000    815\n",
            "Name: odometer_km, dtype: int64\n",
            "\n"
          ],
          "name": "stdout"
        }
      ]
    },
    {
      "cell_type": "markdown",
      "metadata": {
        "id": "Czh3PvktGkgM"
      },
      "source": [
        "The _'odometer_km'_ column numbers are round numbers. This data was likely recorded using predetermined options such as from a dropdown menu on the website.\n",
        "\n",
        "\n",
        "**150,000 km** is the max odometer reading and is also very common, accounting for **over 30,000 cars** *or* **65% of all cars**.  Overall there are more high mileage cars than low mileage ones."
      ]
    },
    {
      "cell_type": "markdown",
      "metadata": {
        "id": "wCvIvHlewVJQ"
      },
      "source": [
        "### __Exploring the Date Columns__\n",
        "Columns with dates as values \n",
        "_(some of the data is in string format)_\n",
        "    \n",
        "- date_crawled\n",
        "- registration_month\n",
        "- registration_year\n",
        "- ad_created\n",
        "- last_seen\n",
        "\n",
        "Dates in the columns listed above are currently displayed in a variety of formats (ex. str) that need to be converted to workable date types before exploration can continue.\n"
      ]
    },
    {
      "cell_type": "code",
      "metadata": {
        "colab": {
          "base_uri": "https://localhost:8080/",
          "height": 380
        },
        "id": "LNtMiv4Z9RH4",
        "outputId": "7c9b705e-576e-4b10-e6d7-d84c44c116b2"
      },
      "source": [
        "df[['date_crawled', 'ad_created', 'last_seen']][0:5].info()\n",
        "df[['date_crawled', 'ad_created', 'last_seen']][0:5]"
      ],
      "execution_count": null,
      "outputs": [
        {
          "output_type": "stream",
          "text": [
            "<class 'pandas.core.frame.DataFrame'>\n",
            "Int64Index: 5 entries, 0 to 4\n",
            "Data columns (total 3 columns):\n",
            " #   Column        Non-Null Count  Dtype \n",
            "---  ------        --------------  ----- \n",
            " 0   date_crawled  5 non-null      object\n",
            " 1   ad_created    5 non-null      object\n",
            " 2   last_seen     5 non-null      object\n",
            "dtypes: object(3)\n",
            "memory usage: 160.0+ bytes\n"
          ],
          "name": "stdout"
        },
        {
          "output_type": "execute_result",
          "data": {
            "text/html": [
              "<div>\n",
              "<style scoped>\n",
              "    .dataframe tbody tr th:only-of-type {\n",
              "        vertical-align: middle;\n",
              "    }\n",
              "\n",
              "    .dataframe tbody tr th {\n",
              "        vertical-align: top;\n",
              "    }\n",
              "\n",
              "    .dataframe thead th {\n",
              "        text-align: right;\n",
              "    }\n",
              "</style>\n",
              "<table border=\"1\" class=\"dataframe\">\n",
              "  <thead>\n",
              "    <tr style=\"text-align: right;\">\n",
              "      <th></th>\n",
              "      <th>date_crawled</th>\n",
              "      <th>ad_created</th>\n",
              "      <th>last_seen</th>\n",
              "    </tr>\n",
              "  </thead>\n",
              "  <tbody>\n",
              "    <tr>\n",
              "      <th>0</th>\n",
              "      <td>2016-03-26 17:47:46</td>\n",
              "      <td>2016-03-26 00:00:00</td>\n",
              "      <td>2016-04-06 06:45:54</td>\n",
              "    </tr>\n",
              "    <tr>\n",
              "      <th>1</th>\n",
              "      <td>2016-04-04 13:38:56</td>\n",
              "      <td>2016-04-04 00:00:00</td>\n",
              "      <td>2016-04-06 14:45:08</td>\n",
              "    </tr>\n",
              "    <tr>\n",
              "      <th>2</th>\n",
              "      <td>2016-03-26 18:57:24</td>\n",
              "      <td>2016-03-26 00:00:00</td>\n",
              "      <td>2016-04-06 20:15:37</td>\n",
              "    </tr>\n",
              "    <tr>\n",
              "      <th>3</th>\n",
              "      <td>2016-03-12 16:58:10</td>\n",
              "      <td>2016-03-12 00:00:00</td>\n",
              "      <td>2016-03-15 03:16:28</td>\n",
              "    </tr>\n",
              "    <tr>\n",
              "      <th>4</th>\n",
              "      <td>2016-04-01 14:38:50</td>\n",
              "      <td>2016-04-01 00:00:00</td>\n",
              "      <td>2016-04-01 14:38:50</td>\n",
              "    </tr>\n",
              "  </tbody>\n",
              "</table>\n",
              "</div>"
            ],
            "text/plain": [
              "          date_crawled           ad_created            last_seen\n",
              "0  2016-03-26 17:47:46  2016-03-26 00:00:00  2016-04-06 06:45:54\n",
              "1  2016-04-04 13:38:56  2016-04-04 00:00:00  2016-04-06 14:45:08\n",
              "2  2016-03-26 18:57:24  2016-03-26 00:00:00  2016-04-06 20:15:37\n",
              "3  2016-03-12 16:58:10  2016-03-12 00:00:00  2016-03-15 03:16:28\n",
              "4  2016-04-01 14:38:50  2016-04-01 00:00:00  2016-04-01 14:38:50"
            ]
          },
          "metadata": {
            "tags": []
          },
          "execution_count": 204
        }
      ]
    },
    {
      "cell_type": "markdown",
      "metadata": {
        "id": "puJWDyDV_iMQ"
      },
      "source": [
        "Date columns that are in string format: \n",
        "- date_crawled\n",
        "- ad_created\n",
        "- last_seen"
      ]
    },
    {
      "cell_type": "code",
      "metadata": {
        "colab": {
          "base_uri": "https://localhost:8080/",
          "height": 276
        },
        "id": "J45Iwz0PNLPQ",
        "outputId": "508f201e-d30e-4ab2-8588-c2b10ce6fa4e"
      },
      "source": [
        "# convert strings to date types \n",
        "\n",
        "df['date_crawled'] = pd.to_datetime(df['date_crawled']).dt.normalize()\n",
        "df['last_seen'] = pd.to_datetime(df['last_seen']).dt.normalize()\n",
        "df['ad_created'] = pd.to_datetime(df['ad_created']).dt.normalize()\n",
        "\n",
        "print(df[['date_crawled', 'ad_created', 'last_seen']].dtypes)\n",
        "\n",
        "df[['date_crawled', 'ad_created', 'last_seen']][0:5]"
      ],
      "execution_count": null,
      "outputs": [
        {
          "output_type": "stream",
          "text": [
            "date_crawled    datetime64[ns]\n",
            "ad_created      datetime64[ns]\n",
            "last_seen       datetime64[ns]\n",
            "dtype: object\n"
          ],
          "name": "stdout"
        },
        {
          "output_type": "execute_result",
          "data": {
            "text/html": [
              "<div>\n",
              "<style scoped>\n",
              "    .dataframe tbody tr th:only-of-type {\n",
              "        vertical-align: middle;\n",
              "    }\n",
              "\n",
              "    .dataframe tbody tr th {\n",
              "        vertical-align: top;\n",
              "    }\n",
              "\n",
              "    .dataframe thead th {\n",
              "        text-align: right;\n",
              "    }\n",
              "</style>\n",
              "<table border=\"1\" class=\"dataframe\">\n",
              "  <thead>\n",
              "    <tr style=\"text-align: right;\">\n",
              "      <th></th>\n",
              "      <th>date_crawled</th>\n",
              "      <th>ad_created</th>\n",
              "      <th>last_seen</th>\n",
              "    </tr>\n",
              "  </thead>\n",
              "  <tbody>\n",
              "    <tr>\n",
              "      <th>0</th>\n",
              "      <td>2016-03-26</td>\n",
              "      <td>2016-03-26</td>\n",
              "      <td>2016-04-06</td>\n",
              "    </tr>\n",
              "    <tr>\n",
              "      <th>1</th>\n",
              "      <td>2016-04-04</td>\n",
              "      <td>2016-04-04</td>\n",
              "      <td>2016-04-06</td>\n",
              "    </tr>\n",
              "    <tr>\n",
              "      <th>2</th>\n",
              "      <td>2016-03-26</td>\n",
              "      <td>2016-03-26</td>\n",
              "      <td>2016-04-06</td>\n",
              "    </tr>\n",
              "    <tr>\n",
              "      <th>3</th>\n",
              "      <td>2016-03-12</td>\n",
              "      <td>2016-03-12</td>\n",
              "      <td>2016-03-15</td>\n",
              "    </tr>\n",
              "    <tr>\n",
              "      <th>4</th>\n",
              "      <td>2016-04-01</td>\n",
              "      <td>2016-04-01</td>\n",
              "      <td>2016-04-01</td>\n",
              "    </tr>\n",
              "  </tbody>\n",
              "</table>\n",
              "</div>"
            ],
            "text/plain": [
              "  date_crawled ad_created  last_seen\n",
              "0   2016-03-26 2016-03-26 2016-04-06\n",
              "1   2016-04-04 2016-04-04 2016-04-06\n",
              "2   2016-03-26 2016-03-26 2016-04-06\n",
              "3   2016-03-12 2016-03-12 2016-03-15\n",
              "4   2016-04-01 2016-04-01 2016-04-01"
            ]
          },
          "metadata": {
            "tags": []
          },
          "execution_count": 205
        }
      ]
    },
    {
      "cell_type": "code",
      "metadata": {
        "colab": {
          "base_uri": "https://localhost:8080/",
          "height": 226
        },
        "id": "HmHYGzCZ_JMQ",
        "outputId": "9a471744-8b96-4c5a-f75f-1cda43b7c0d6"
      },
      "source": [
        "#ordering df by 'date_crawled'using between\n",
        "df[df['date_crawled'].between(\"2014-02\",\"2016-03-30\")].sort_values(by='date_crawled',ascending=True).head(5)\n"
      ],
      "execution_count": null,
      "outputs": [
        {
          "output_type": "execute_result",
          "data": {
            "text/html": [
              "<div>\n",
              "<style scoped>\n",
              "    .dataframe tbody tr th:only-of-type {\n",
              "        vertical-align: middle;\n",
              "    }\n",
              "\n",
              "    .dataframe tbody tr th {\n",
              "        vertical-align: top;\n",
              "    }\n",
              "\n",
              "    .dataframe thead th {\n",
              "        text-align: right;\n",
              "    }\n",
              "</style>\n",
              "<table border=\"1\" class=\"dataframe\">\n",
              "  <thead>\n",
              "    <tr style=\"text-align: right;\">\n",
              "      <th></th>\n",
              "      <th>date_crawled</th>\n",
              "      <th>name</th>\n",
              "      <th>price</th>\n",
              "      <th>ab_test</th>\n",
              "      <th>vehicle_type</th>\n",
              "      <th>registration_year</th>\n",
              "      <th>gearbox</th>\n",
              "      <th>power_ps</th>\n",
              "      <th>model</th>\n",
              "      <th>odometer_km</th>\n",
              "      <th>registration_month</th>\n",
              "      <th>fuel_type</th>\n",
              "      <th>brand</th>\n",
              "      <th>unrepaired_damage</th>\n",
              "      <th>ad_created</th>\n",
              "      <th>postal_code</th>\n",
              "      <th>last_seen</th>\n",
              "    </tr>\n",
              "  </thead>\n",
              "  <tbody>\n",
              "    <tr>\n",
              "      <th>42065</th>\n",
              "      <td>2016-03-05</td>\n",
              "      <td>Volkswagen_Passat_1.8</td>\n",
              "      <td>799</td>\n",
              "      <td>test</td>\n",
              "      <td>limousine</td>\n",
              "      <td>1996</td>\n",
              "      <td>manuell</td>\n",
              "      <td>75</td>\n",
              "      <td>passat</td>\n",
              "      <td>150000</td>\n",
              "      <td>6</td>\n",
              "      <td>benzin</td>\n",
              "      <td>volkswagen</td>\n",
              "      <td>ja</td>\n",
              "      <td>2016-03-03</td>\n",
              "      <td>55494</td>\n",
              "      <td>2016-03-06</td>\n",
              "    </tr>\n",
              "    <tr>\n",
              "      <th>31862</th>\n",
              "      <td>2016-03-05</td>\n",
              "      <td>Smart_Schaltwippen_Tempomat_Spikeline_16\"</td>\n",
              "      <td>5399</td>\n",
              "      <td>test</td>\n",
              "      <td>cabrio</td>\n",
              "      <td>2003</td>\n",
              "      <td>automatik</td>\n",
              "      <td>82</td>\n",
              "      <td>roadster</td>\n",
              "      <td>80000</td>\n",
              "      <td>9</td>\n",
              "      <td>benzin</td>\n",
              "      <td>smart</td>\n",
              "      <td>nein</td>\n",
              "      <td>2016-03-03</td>\n",
              "      <td>60322</td>\n",
              "      <td>2016-04-01</td>\n",
              "    </tr>\n",
              "    <tr>\n",
              "      <th>22750</th>\n",
              "      <td>2016-03-05</td>\n",
              "      <td>Audi_A4___2.5TDi__Xenon__18\"_AEZ__Klima_und_mehr</td>\n",
              "      <td>3999</td>\n",
              "      <td>control</td>\n",
              "      <td>limousine</td>\n",
              "      <td>2001</td>\n",
              "      <td>manuell</td>\n",
              "      <td>160</td>\n",
              "      <td>a4</td>\n",
              "      <td>150000</td>\n",
              "      <td>8</td>\n",
              "      <td>diesel</td>\n",
              "      <td>audi</td>\n",
              "      <td>nein</td>\n",
              "      <td>2016-03-05</td>\n",
              "      <td>37632</td>\n",
              "      <td>2016-03-08</td>\n",
              "    </tr>\n",
              "    <tr>\n",
              "      <th>22743</th>\n",
              "      <td>2016-03-05</td>\n",
              "      <td>Ford_Kuga_2.0_TDCi_2x4_Titanium</td>\n",
              "      <td>11690</td>\n",
              "      <td>control</td>\n",
              "      <td>suv</td>\n",
              "      <td>2008</td>\n",
              "      <td>manuell</td>\n",
              "      <td>136</td>\n",
              "      <td>kuga</td>\n",
              "      <td>125000</td>\n",
              "      <td>10</td>\n",
              "      <td>diesel</td>\n",
              "      <td>ford</td>\n",
              "      <td>nein</td>\n",
              "      <td>2016-03-05</td>\n",
              "      <td>53909</td>\n",
              "      <td>2016-04-05</td>\n",
              "    </tr>\n",
              "    <tr>\n",
              "      <th>3085</th>\n",
              "      <td>2016-03-05</td>\n",
              "      <td>Volvo_142</td>\n",
              "      <td>8990</td>\n",
              "      <td>control</td>\n",
              "      <td>limousine</td>\n",
              "      <td>1970</td>\n",
              "      <td>manuell</td>\n",
              "      <td>82</td>\n",
              "      <td>andere</td>\n",
              "      <td>150000</td>\n",
              "      <td>3</td>\n",
              "      <td>benzin</td>\n",
              "      <td>volvo</td>\n",
              "      <td>nein</td>\n",
              "      <td>2016-03-05</td>\n",
              "      <td>81925</td>\n",
              "      <td>2016-04-05</td>\n",
              "    </tr>\n",
              "  </tbody>\n",
              "</table>\n",
              "</div>"
            ],
            "text/plain": [
              "      date_crawled  ...  last_seen\n",
              "42065   2016-03-05  ... 2016-03-06\n",
              "31862   2016-03-05  ... 2016-04-01\n",
              "22750   2016-03-05  ... 2016-03-08\n",
              "22743   2016-03-05  ... 2016-04-05\n",
              "3085    2016-03-05  ... 2016-04-05\n",
              "\n",
              "[5 rows x 17 columns]"
            ]
          },
          "metadata": {
            "tags": []
          },
          "execution_count": 206
        }
      ]
    },
    {
      "cell_type": "code",
      "metadata": {
        "colab": {
          "base_uri": "https://localhost:8080/"
        },
        "id": "rlFTHIQTaopw",
        "outputId": "34c26f2f-4eb9-4811-8ca9-1e0f4e9ffcbb"
      },
      "source": [
        "print(f\"Registration_Year (top 5):\\n{df['registration_year'].sort_index(ascending=False).head(5)}\\n\")\n",
        "df['registration_year'].describe()"
      ],
      "execution_count": null,
      "outputs": [
        {
          "output_type": "stream",
          "text": [
            "Registration_Year (top 5):\n",
            "49999    1996\n",
            "49998    2013\n",
            "49997    2014\n",
            "49996    1996\n",
            "49995    2011\n",
            "Name: registration_year, dtype: int64\n",
            "\n"
          ],
          "name": "stdout"
        },
        {
          "output_type": "execute_result",
          "data": {
            "text/plain": [
              "count    48565.000000\n",
              "mean      2004.755421\n",
              "std         88.643887\n",
              "min       1000.000000\n",
              "25%       1999.000000\n",
              "50%       2004.000000\n",
              "75%       2008.000000\n",
              "max       9999.000000\n",
              "Name: registration_year, dtype: float64"
            ]
          },
          "metadata": {
            "tags": []
          },
          "execution_count": 207
        }
      ]
    },
    {
      "cell_type": "markdown",
      "metadata": {
        "id": "jmc483uwe4ss"
      },
      "source": [
        "#### __Incorrect Registration_Year Data__\n",
        "The car registration years are inaccurate.  Max year is 9999 and min is 1000\n",
        "\n",
        "A car can't registered on Ebay before the listing has been seen.  Looking at other date scraping columns ('date_crawled', 'ad_created', 'last_seen') the latest registration year will be no more than 2016. Determining the earliest valid year will be more difficult. It can be asumed that cars before 1900s should be removed of the dataset.\n"
      ]
    },
    {
      "cell_type": "code",
      "metadata": {
        "colab": {
          "base_uri": "https://localhost:8080/"
        },
        "id": "hADv8-YBiiu0",
        "outputId": "9da49ea1-80ce-468b-db54-09fec9a4bf3b"
      },
      "source": [
        "# Number of Dates that fall within reasonable timeline (1995 to present)\n",
        "print(f\"Count for Registration_Year (1900-2020):\\n{df['registration_year'].between(1900,2016).sum()}\\n\")\n",
        "\n",
        "# Update registration year to reflect 1995-present timeline\n",
        "df = df[df['registration_year'].between(1900,2016)]\n",
        "\n",
        "df['registration_year'].describe()"
      ],
      "execution_count": null,
      "outputs": [
        {
          "output_type": "stream",
          "text": [
            "Count for Registration_Year (1900-2020):\n",
            "46681\n",
            "\n"
          ],
          "name": "stdout"
        },
        {
          "output_type": "execute_result",
          "data": {
            "text/plain": [
              "count    46681.000000\n",
              "mean      2002.910756\n",
              "std          7.185103\n",
              "min       1910.000000\n",
              "25%       1999.000000\n",
              "50%       2003.000000\n",
              "75%       2008.000000\n",
              "max       2016.000000\n",
              "Name: registration_year, dtype: float64"
            ]
          },
          "metadata": {
            "tags": []
          },
          "execution_count": 208
        }
      ]
    },
    {
      "cell_type": "code",
      "metadata": {
        "colab": {
          "base_uri": "https://localhost:8080/"
        },
        "id": "c4DbSeYQi1pw",
        "outputId": "1715130d-2c3a-4db9-bf4f-8747d066fd73"
      },
      "source": [
        "print(f\"Registration_Year (Top 5):\\n{df['registration_year'].sort_index(ascending=False).head(5)}\\n\")\n",
        "print(f\"Registration_Year (Bottom 5):\\n{df['registration_year'].sort_index(ascending=True).head(5)}\\n\")\n",
        "\n",
        "df[\"registration_year\"].value_counts(normalize=True).head(10)"
      ],
      "execution_count": null,
      "outputs": [
        {
          "output_type": "stream",
          "text": [
            "Registration_Year (Top 5):\n",
            "49999    1996\n",
            "49998    2013\n",
            "49997    2014\n",
            "49996    1996\n",
            "49995    2011\n",
            "Name: registration_year, dtype: int64\n",
            "\n",
            "Registration_Year (Bottom 5):\n",
            "0    2004\n",
            "1    1997\n",
            "2    2009\n",
            "3    2007\n",
            "4    2003\n",
            "Name: registration_year, dtype: int64\n",
            "\n"
          ],
          "name": "stdout"
        },
        {
          "output_type": "execute_result",
          "data": {
            "text/plain": [
              "2000    0.067608\n",
              "2005    0.062895\n",
              "1999    0.062060\n",
              "2004    0.057904\n",
              "2003    0.057818\n",
              "2006    0.057197\n",
              "2001    0.056468\n",
              "2002    0.053255\n",
              "1998    0.050620\n",
              "2007    0.048778\n",
              "Name: registration_year, dtype: float64"
            ]
          },
          "metadata": {
            "tags": []
          },
          "execution_count": 209
        }
      ]
    },
    {
      "cell_type": "markdown",
      "metadata": {
        "id": "sMUg80oufqeo"
      },
      "source": [
        "### Analysis: Registration_Year (2)\n",
        "\n",
        "With registration_year dates fixed the timeline now displays data from the years 1995-2016.  The most popular registration year is 1996, followed closily by 2013 and 2014.  Overall it appears that most of the vehicles were registered in the past 20 years"
      ]
    },
    {
      "cell_type": "markdown",
      "metadata": {
        "id": "jwuX9icna_QY"
      },
      "source": [
        "### __Brands__"
      ]
    },
    {
      "cell_type": "code",
      "metadata": {
        "colab": {
          "base_uri": "https://localhost:8080/"
        },
        "id": "TdbXZXVVbLOA",
        "outputId": "088b24cb-fc4f-4094-9175-c831cc010771"
      },
      "source": [
        "print(f\"Unique Brands Total:{len(df['brand'].unique())}\\n\")\n",
        "df['brand'].unique()"
      ],
      "execution_count": null,
      "outputs": [
        {
          "output_type": "stream",
          "text": [
            "Unique Brands Total:40\n",
            "\n"
          ],
          "name": "stdout"
        },
        {
          "output_type": "execute_result",
          "data": {
            "text/plain": [
              "array(['peugeot', 'bmw', 'volkswagen', 'smart', 'ford', 'chrysler',\n",
              "       'seat', 'renault', 'mercedes_benz', 'audi', 'sonstige_autos',\n",
              "       'opel', 'mazda', 'porsche', 'mini', 'toyota', 'dacia', 'nissan',\n",
              "       'jeep', 'saab', 'volvo', 'mitsubishi', 'jaguar', 'fiat', 'skoda',\n",
              "       'subaru', 'kia', 'citroen', 'chevrolet', 'hyundai', 'honda',\n",
              "       'daewoo', 'suzuki', 'trabant', 'land_rover', 'alfa_romeo', 'lada',\n",
              "       'rover', 'daihatsu', 'lancia'], dtype=object)"
            ]
          },
          "metadata": {
            "tags": []
          },
          "execution_count": 210
        }
      ]
    },
    {
      "cell_type": "code",
      "metadata": {
        "colab": {
          "base_uri": "https://localhost:8080/"
        },
        "id": "q2n4oW99QPJU",
        "outputId": "bfe4e158-5674-4f94-dc83-a36c1b006474"
      },
      "source": [
        "df[\"brand\"].value_counts(normalize=True).head(10)"
      ],
      "execution_count": null,
      "outputs": [
        {
          "output_type": "execute_result",
          "data": {
            "text/plain": [
              "volkswagen       0.211264\n",
              "bmw              0.110045\n",
              "opel             0.107581\n",
              "mercedes_benz    0.096463\n",
              "audi             0.086566\n",
              "ford             0.069900\n",
              "renault          0.047150\n",
              "peugeot          0.029841\n",
              "fiat             0.025642\n",
              "seat             0.018273\n",
              "Name: brand, dtype: float64"
            ]
          },
          "metadata": {
            "tags": []
          },
          "execution_count": 211
        }
      ]
    },
    {
      "cell_type": "code",
      "metadata": {
        "colab": {
          "base_uri": "https://localhost:8080/"
        },
        "id": "diDjuViKzfNE",
        "outputId": "824d368e-95ee-4233-b249-1c18ffc00502"
      },
      "source": [
        "# Top 'brands' by index\n",
        "brand_counts = df[\"brand\"].value_counts(normalize=True)\n",
        "\n",
        "# Convert top brands to a list to be used in query\n",
        "top_brands = brand_counts[brand_counts > .05].index.tolist()\n",
        "\n",
        "# list of top brands\n",
        "top_brands"
      ],
      "execution_count": null,
      "outputs": [
        {
          "output_type": "execute_result",
          "data": {
            "text/plain": [
              "['volkswagen', 'bmw', 'opel', 'mercedes_benz', 'audi', 'ford']"
            ]
          },
          "metadata": {
            "tags": []
          },
          "execution_count": 212
        }
      ]
    },
    {
      "cell_type": "code",
      "metadata": {
        "colab": {
          "base_uri": "https://localhost:8080/",
          "height": 211
        },
        "id": "MvZif0kg8lrM",
        "outputId": "07887592-6b2d-4306-81df-6d1ca9e75616"
      },
      "source": [
        "# group top brands using query\n",
        "brand_query = df.query('(brand in @top_brands)')\n",
        "\n",
        "# seaborn used to highlight different higher num ranges\n",
        "cm = sns.light_palette(\"gold\", as_cmap=True)\n",
        "\n",
        "# Mean and Max of Top 6 brands aggregated by Price\n",
        "# number format changed to include commas and remove decimals\n",
        "brand_query.groupby('brand')[['price']].agg(['mean','max']).astype(int).style.background_gradient(cmap=cm).format('{:,}')"
      ],
      "execution_count": null,
      "outputs": [
        {
          "output_type": "execute_result",
          "data": {
            "text/html": [
              "<style  type=\"text/css\" >\n",
              "#T_efcbbd9c_494a_11eb_9aaa_0242ac1c0002row0_col0,#T_efcbbd9c_494a_11eb_9aaa_0242ac1c0002row1_col1{\n",
              "            background-color:  #ffd700;\n",
              "            color:  #000000;\n",
              "        }#T_efcbbd9c_494a_11eb_9aaa_0242ac1c0002row0_col1{\n",
              "            background-color:  #fae159;\n",
              "            color:  #000000;\n",
              "        }#T_efcbbd9c_494a_11eb_9aaa_0242ac1c0002row1_col0{\n",
              "            background-color:  #fddb25;\n",
              "            color:  #000000;\n",
              "        }#T_efcbbd9c_494a_11eb_9aaa_0242ac1c0002row2_col0{\n",
              "            background-color:  #f4edce;\n",
              "            color:  #000000;\n",
              "        }#T_efcbbd9c_494a_11eb_9aaa_0242ac1c0002row2_col1{\n",
              "            background-color:  #f8e68a;\n",
              "            color:  #000000;\n",
              "        }#T_efcbbd9c_494a_11eb_9aaa_0242ac1c0002row3_col0{\n",
              "            background-color:  #feda1a;\n",
              "            color:  #000000;\n",
              "        }#T_efcbbd9c_494a_11eb_9aaa_0242ac1c0002row3_col1{\n",
              "            background-color:  #fbe054;\n",
              "            color:  #000000;\n",
              "        }#T_efcbbd9c_494a_11eb_9aaa_0242ac1c0002row4_col0,#T_efcbbd9c_494a_11eb_9aaa_0242ac1c0002row4_col1{\n",
              "            background-color:  #f3f0eb;\n",
              "            color:  #000000;\n",
              "        }#T_efcbbd9c_494a_11eb_9aaa_0242ac1c0002row5_col0{\n",
              "            background-color:  #f8e792;\n",
              "            color:  #000000;\n",
              "        }#T_efcbbd9c_494a_11eb_9aaa_0242ac1c0002row5_col1{\n",
              "            background-color:  #f4eed0;\n",
              "            color:  #000000;\n",
              "        }</style><table id=\"T_efcbbd9c_494a_11eb_9aaa_0242ac1c0002\" ><thead>    <tr>        <th class=\"blank level0\" ></th>        <th class=\"col_heading level0 col0\" colspan=2>price</th>    </tr>    <tr>        <th class=\"blank level1\" ></th>        <th class=\"col_heading level1 col0\" >mean</th>        <th class=\"col_heading level1 col1\" >max</th>    </tr>    <tr>        <th class=\"index_name level0\" >brand</th>        <th class=\"blank\" ></th>        <th class=\"blank\" ></th>    </tr></thead><tbody>\n",
              "                <tr>\n",
              "                        <th id=\"T_efcbbd9c_494a_11eb_9aaa_0242ac1c0002level0_row0\" class=\"row_heading level0 row0\" >audi</th>\n",
              "                        <td id=\"T_efcbbd9c_494a_11eb_9aaa_0242ac1c0002row0_col0\" class=\"data row0 col0\" >9,336</td>\n",
              "                        <td id=\"T_efcbbd9c_494a_11eb_9aaa_0242ac1c0002row0_col1\" class=\"data row0 col1\" >175,000</td>\n",
              "            </tr>\n",
              "            <tr>\n",
              "                        <th id=\"T_efcbbd9c_494a_11eb_9aaa_0242ac1c0002level0_row1\" class=\"row_heading level0 row1\" >bmw</th>\n",
              "                        <td id=\"T_efcbbd9c_494a_11eb_9aaa_0242ac1c0002row1_col0\" class=\"data row1 col0\" >8,332</td>\n",
              "                        <td id=\"T_efcbbd9c_494a_11eb_9aaa_0242ac1c0002row1_col1\" class=\"data row1 col1\" >259,000</td>\n",
              "            </tr>\n",
              "            <tr>\n",
              "                        <th id=\"T_efcbbd9c_494a_11eb_9aaa_0242ac1c0002level0_row2\" class=\"row_heading level0 row2\" >ford</th>\n",
              "                        <td id=\"T_efcbbd9c_494a_11eb_9aaa_0242ac1c0002row2_col0\" class=\"data row2 col0\" >3,749</td>\n",
              "                        <td id=\"T_efcbbd9c_494a_11eb_9aaa_0242ac1c0002row2_col1\" class=\"data row2 col1\" >130,000</td>\n",
              "            </tr>\n",
              "            <tr>\n",
              "                        <th id=\"T_efcbbd9c_494a_11eb_9aaa_0242ac1c0002level0_row3\" class=\"row_heading level0 row3\" >mercedes_benz</th>\n",
              "                        <td id=\"T_efcbbd9c_494a_11eb_9aaa_0242ac1c0002row3_col0\" class=\"data row3 col0\" >8,628</td>\n",
              "                        <td id=\"T_efcbbd9c_494a_11eb_9aaa_0242ac1c0002row3_col1\" class=\"data row3 col1\" >180,000</td>\n",
              "            </tr>\n",
              "            <tr>\n",
              "                        <th id=\"T_efcbbd9c_494a_11eb_9aaa_0242ac1c0002level0_row4\" class=\"row_heading level0 row4\" >opel</th>\n",
              "                        <td id=\"T_efcbbd9c_494a_11eb_9aaa_0242ac1c0002row4_col0\" class=\"data row4 col0\" >2,975</td>\n",
              "                        <td id=\"T_efcbbd9c_494a_11eb_9aaa_0242ac1c0002row4_col1\" class=\"data row4 col1\" >38,990</td>\n",
              "            </tr>\n",
              "            <tr>\n",
              "                        <th id=\"T_efcbbd9c_494a_11eb_9aaa_0242ac1c0002level0_row5\" class=\"row_heading level0 row5\" >volkswagen</th>\n",
              "                        <td id=\"T_efcbbd9c_494a_11eb_9aaa_0242ac1c0002row5_col0\" class=\"data row5 col0\" >5,402</td>\n",
              "                        <td id=\"T_efcbbd9c_494a_11eb_9aaa_0242ac1c0002row5_col1\" class=\"data row5 col1\" >64,500</td>\n",
              "            </tr>\n",
              "    </tbody></table>"
            ],
            "text/plain": [
              "<pandas.io.formats.style.Styler at 0x7f02ad239ac8>"
            ]
          },
          "metadata": {
            "tags": []
          },
          "execution_count": 213
        }
      ]
    },
    {
      "cell_type": "markdown",
      "metadata": {
        "id": "oL0NRuKKAidU"
      },
      "source": [
        "#### __Analysis: Brands__\n",
        "\n",
        "There are a total of 40 unique car brands listed.  \n",
        "The most popular being: Volkswagen, BMW, Opel, Mercedes Benz, Audi, and Ford.\n",
        "\n",
        "Of the top 6 brands, there is a distinct price gap amoung them.\n",
        "Audi, BMW and Mercedes Benz are the most expensive.\n",
        "The cheapest brands are Opel and Ford, with Volkswagen taking up the mid price range ($5,400) for the top cars brands.\n",
        "\n"
      ]
    },
    {
      "cell_type": "markdown",
      "metadata": {
        "id": "RT2KB665px0o"
      },
      "source": [
        "### Exploring Mileage"
      ]
    },
    {
      "cell_type": "code",
      "metadata": {
        "colab": {
          "base_uri": "https://localhost:8080/",
          "height": 211
        },
        "id": "U4Kg_2T1p208",
        "outputId": "c1c2a121-e638-4c32-fc7b-62827e8e6fd3"
      },
      "source": [
        "# Mean Top 6 brands aggregated by Price and Odometer\n",
        "brand_query.groupby('brand')[['price','odometer_km']].agg(['mean']).astype(int).style.background_gradient(cmap=cm).format('{:,}')"
      ],
      "execution_count": null,
      "outputs": [
        {
          "output_type": "execute_result",
          "data": {
            "text/html": [
              "<style  type=\"text/css\" >\n",
              "#T_efd354c6_494a_11eb_9aaa_0242ac1c0002row0_col0,#T_efd354c6_494a_11eb_9aaa_0242ac1c0002row1_col1{\n",
              "            background-color:  #ffd700;\n",
              "            color:  #000000;\n",
              "        }#T_efd354c6_494a_11eb_9aaa_0242ac1c0002row0_col1{\n",
              "            background-color:  #fae161;\n",
              "            color:  #000000;\n",
              "        }#T_efd354c6_494a_11eb_9aaa_0242ac1c0002row1_col0{\n",
              "            background-color:  #fddb25;\n",
              "            color:  #000000;\n",
              "        }#T_efd354c6_494a_11eb_9aaa_0242ac1c0002row2_col0{\n",
              "            background-color:  #f4edce;\n",
              "            color:  #000000;\n",
              "        }#T_efd354c6_494a_11eb_9aaa_0242ac1c0002row2_col1,#T_efd354c6_494a_11eb_9aaa_0242ac1c0002row4_col0{\n",
              "            background-color:  #f3f0eb;\n",
              "            color:  #000000;\n",
              "        }#T_efd354c6_494a_11eb_9aaa_0242ac1c0002row3_col0{\n",
              "            background-color:  #feda1a;\n",
              "            color:  #000000;\n",
              "        }#T_efd354c6_494a_11eb_9aaa_0242ac1c0002row3_col1{\n",
              "            background-color:  #fcdc32;\n",
              "            color:  #000000;\n",
              "        }#T_efd354c6_494a_11eb_9aaa_0242ac1c0002row4_col1{\n",
              "            background-color:  #fae15c;\n",
              "            color:  #000000;\n",
              "        }#T_efd354c6_494a_11eb_9aaa_0242ac1c0002row5_col0{\n",
              "            background-color:  #f8e792;\n",
              "            color:  #000000;\n",
              "        }#T_efd354c6_494a_11eb_9aaa_0242ac1c0002row5_col1{\n",
              "            background-color:  #f9e36e;\n",
              "            color:  #000000;\n",
              "        }</style><table id=\"T_efd354c6_494a_11eb_9aaa_0242ac1c0002\" ><thead>    <tr>        <th class=\"blank level0\" ></th>        <th class=\"col_heading level0 col0\" >price</th>        <th class=\"col_heading level0 col1\" >odometer_km</th>    </tr>    <tr>        <th class=\"blank level1\" ></th>        <th class=\"col_heading level1 col0\" >mean</th>        <th class=\"col_heading level1 col1\" >mean</th>    </tr>    <tr>        <th class=\"index_name level0\" >brand</th>        <th class=\"blank\" ></th>        <th class=\"blank\" ></th>    </tr></thead><tbody>\n",
              "                <tr>\n",
              "                        <th id=\"T_efd354c6_494a_11eb_9aaa_0242ac1c0002level0_row0\" class=\"row_heading level0 row0\" >audi</th>\n",
              "                        <td id=\"T_efd354c6_494a_11eb_9aaa_0242ac1c0002row0_col0\" class=\"data row0 col0\" >9,336</td>\n",
              "                        <td id=\"T_efd354c6_494a_11eb_9aaa_0242ac1c0002row0_col1\" class=\"data row0 col1\" >129,157</td>\n",
              "            </tr>\n",
              "            <tr>\n",
              "                        <th id=\"T_efd354c6_494a_11eb_9aaa_0242ac1c0002level0_row1\" class=\"row_heading level0 row1\" >bmw</th>\n",
              "                        <td id=\"T_efd354c6_494a_11eb_9aaa_0242ac1c0002row1_col0\" class=\"data row1 col0\" >8,332</td>\n",
              "                        <td id=\"T_efd354c6_494a_11eb_9aaa_0242ac1c0002row1_col1\" class=\"data row1 col1\" >132,572</td>\n",
              "            </tr>\n",
              "            <tr>\n",
              "                        <th id=\"T_efd354c6_494a_11eb_9aaa_0242ac1c0002level0_row2\" class=\"row_heading level0 row2\" >ford</th>\n",
              "                        <td id=\"T_efd354c6_494a_11eb_9aaa_0242ac1c0002row2_col0\" class=\"data row2 col0\" >3,749</td>\n",
              "                        <td id=\"T_efd354c6_494a_11eb_9aaa_0242ac1c0002row2_col1\" class=\"data row2 col1\" >124,266</td>\n",
              "            </tr>\n",
              "            <tr>\n",
              "                        <th id=\"T_efd354c6_494a_11eb_9aaa_0242ac1c0002level0_row3\" class=\"row_heading level0 row3\" >mercedes_benz</th>\n",
              "                        <td id=\"T_efd354c6_494a_11eb_9aaa_0242ac1c0002row3_col0\" class=\"data row3 col0\" >8,628</td>\n",
              "                        <td id=\"T_efd354c6_494a_11eb_9aaa_0242ac1c0002row3_col1\" class=\"data row3 col1\" >130,788</td>\n",
              "            </tr>\n",
              "            <tr>\n",
              "                        <th id=\"T_efd354c6_494a_11eb_9aaa_0242ac1c0002level0_row4\" class=\"row_heading level0 row4\" >opel</th>\n",
              "                        <td id=\"T_efd354c6_494a_11eb_9aaa_0242ac1c0002row4_col0\" class=\"data row4 col0\" >2,975</td>\n",
              "                        <td id=\"T_efd354c6_494a_11eb_9aaa_0242ac1c0002row4_col1\" class=\"data row4 col1\" >129,310</td>\n",
              "            </tr>\n",
              "            <tr>\n",
              "                        <th id=\"T_efd354c6_494a_11eb_9aaa_0242ac1c0002level0_row5\" class=\"row_heading level0 row5\" >volkswagen</th>\n",
              "                        <td id=\"T_efd354c6_494a_11eb_9aaa_0242ac1c0002row5_col0\" class=\"data row5 col0\" >5,402</td>\n",
              "                        <td id=\"T_efd354c6_494a_11eb_9aaa_0242ac1c0002row5_col1\" class=\"data row5 col1\" >128,707</td>\n",
              "            </tr>\n",
              "    </tbody></table>"
            ],
            "text/plain": [
              "<pandas.io.formats.style.Styler at 0x7f02d4661710>"
            ]
          },
          "metadata": {
            "tags": []
          },
          "execution_count": 214
        }
      ]
    },
    {
      "cell_type": "markdown",
      "metadata": {
        "id": "qeR_TUk0_rJA"
      },
      "source": [
        "- There does seem to be some correlation between odometer and prices for top brand cars.  The higher priced cars tend to also have higher odometer numbers.  \n",
        "- Opel (the cheapest of the top car brands) is an exception to the trend with its mileage odometer mean almost matching Audi (the most expensive of the top car brands)"
      ]
    }
  ]
}