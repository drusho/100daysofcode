{
 "cells": [
  {
   "cell_type": "markdown",
   "metadata": {
    "collapsed": true
   },
   "source": [
    "<h1>Exploring Hackers News Posts</h1>\n",
    "\n",
    "<p>This project will compare two different types of posts from Hacker News website which specializes in technology related stories, it's very similar to Reddit. \n",
    "\n",
    "Two types of posts that will be explore in this notebook begin with either ***Ask HN*** or ***Show HN***.\n",
    "\n",
    "Users submit Ask HN posts to ask the Hacker News community a specific question, such as \"What is the best online course you've ever taken?\" Likewise, users submit Show HN posts to show the Hacker News community a project, product, or just generally something interesting.\n",
    "\n",
    "This notebook will compare these two types of posts to determine the following:\n",
    "\n",
    "- *Do Ask HN or Show HN receive more comments on average?*\n",
    "- *Do posts created at a certain time receive more comments on average?*\n",
    "\n",
    "**Note** *This data set was reduced from almost 300,000 rows to approximately 20,000 rows by removing all submissions that did not receive any comments, and then randomly sampling from the remaining submissions.*"
   ]
  },
  {
   "cell_type": "markdown",
   "metadata": {},
   "source": [
    "<h3>Import Dataset</h3>"
   ]
  },
  {
   "cell_type": "code",
   "execution_count": 163,
   "metadata": {},
   "outputs": [
    {
     "data": {
      "text/plain": [
       "[['id', 'title', 'url', 'num_points', 'num_comments', 'author', 'created_at'],\n",
       " ['12224879',\n",
       "  'Interactive Dynamic Video',\n",
       "  'http://www.interactivedynamicvideo.com/',\n",
       "  '386',\n",
       "  '52',\n",
       "  'ne0phyte',\n",
       "  '8/4/2016 11:52'],\n",
       " ['10975351',\n",
       "  'How to Use Open Source and Shut the Fuck Up at the Same Time',\n",
       "  'http://hueniverse.com/2016/01/26/how-to-use-open-source-and-shut-the-fuck-up-at-the-same-time/',\n",
       "  '39',\n",
       "  '10',\n",
       "  'josep2',\n",
       "  '1/26/2016 19:30'],\n",
       " ['11964716',\n",
       "  \"Florida DJs May Face Felony for April Fools' Water Joke\",\n",
       "  'http://www.thewire.com/entertainment/2013/04/florida-djs-april-fools-water-joke/63798/',\n",
       "  '2',\n",
       "  '1',\n",
       "  'vezycash',\n",
       "  '6/23/2016 22:20'],\n",
       " ['11919867',\n",
       "  'Technology ventures: From Idea to Enterprise',\n",
       "  'https://www.amazon.com/Technology-Ventures-Enterprise-Thomas-Byers/dp/0073523429',\n",
       "  '3',\n",
       "  '1',\n",
       "  'hswarna',\n",
       "  '6/17/2016 0:01']]"
      ]
     },
     "execution_count": 163,
     "metadata": {},
     "output_type": "execute_result"
    }
   ],
   "source": [
    "# Read in the data.\n",
    "import csv\n",
    "\n",
    "f = open('hacker_news.csv')\n",
    "hn = list(csv.reader(f))\n",
    "hn[:5]"
   ]
  },
  {
   "cell_type": "markdown",
   "metadata": {},
   "source": [
    "<h3>Separate Header from Data</h3>"
   ]
  },
  {
   "cell_type": "code",
   "execution_count": 164,
   "metadata": {},
   "outputs": [
    {
     "name": "stdout",
     "output_type": "stream",
     "text": [
      "['id', 'title', 'url', 'num_points', 'num_comments', 'author', 'created_at']\n",
      "[['12224879', 'Interactive Dynamic Video', 'http://www.interactivedynamicvideo.com/', '386', '52', 'ne0phyte', '8/4/2016 11:52'], ['10975351', 'How to Use Open Source and Shut the Fuck Up at the Same Time', 'http://hueniverse.com/2016/01/26/how-to-use-open-source-and-shut-the-fuck-up-at-the-same-time/', '39', '10', 'josep2', '1/26/2016 19:30'], ['11964716', \"Florida DJs May Face Felony for April Fools' Water Joke\", 'http://www.thewire.com/entertainment/2013/04/florida-djs-april-fools-water-joke/63798/', '2', '1', 'vezycash', '6/23/2016 22:20'], ['11919867', 'Technology ventures: From Idea to Enterprise', 'https://www.amazon.com/Technology-Ventures-Enterprise-Thomas-Byers/dp/0073523429', '3', '1', 'hswarna', '6/17/2016 0:01'], ['10301696', 'Note by Note: The Making of Steinway L1037 (2007)', 'http://www.nytimes.com/2007/11/07/movies/07stein.html?_r=0', '8', '2', 'walterbell', '9/30/2015 4:12']]\n"
     ]
    }
   ],
   "source": [
    "# Remove the headers.\n",
    "hn_header = hn[0]\n",
    "hn = hn[1:]\n",
    "print(hn_header)\n",
    "print(hn[:5])"
   ]
  },
  {
   "cell_type": "markdown",
   "metadata": {},
   "source": [
    "<h3>Filtering 'Ask HN' and 'Show HN' Posts</h3>\n",
    "\n",
    "Identify posts that begin with either `Ask HN` or `Show HN` and separate the data into different lists.\n",
    "\n"
   ]
  },
  {
   "cell_type": "code",
   "execution_count": 165,
   "metadata": {},
   "outputs": [
    {
     "name": "stdout",
     "output_type": "stream",
     "text": [
      "Len of whole dataset: 20100\n",
      "Len of ask_posts: 1744\n",
      "Len of show_posts: 1162\n",
      "Len of other_posts: 17194\n",
      "\n",
      "* Data checking:\n",
      "Len of ask_posts + show_posts + other_posts = 20100\n"
     ]
    }
   ],
   "source": [
    "# Identify posts that begin with either `Ask HN` or `Show HN` and separate the data into different lists.\n",
    "\n",
    "\n",
    "ask_posts = []\n",
    "show_posts = []\n",
    "other_posts = []\n",
    "\n",
    "for post in hn:\n",
    "    title = post[1]\n",
    "    if title.lower().startswith(\"Ask HN\".lower()):\n",
    "        ask_posts.append(post)\n",
    "    elif title.lower().startswith(\"Show HN\".lower()):\n",
    "        show_posts.append(posts)\n",
    "    else:\n",
    "        other_posts.append(posts)\n",
    "        \n",
    "        \n",
    "\n",
    "print(f'Len of whole dataset: {len(hn)}')\n",
    "print(f'Len of ask_posts: {len(ask_posts)}')\n",
    "print(f'Len of show_posts: {len(show_posts)}')\n",
    "print(f'Len of other_posts: {len(other_posts)}')\n",
    "print(f'\\n* Data checking:\\nLen of ask_posts + show_posts + other_posts = {len(ask_posts)+len(show_posts)+len(other_posts)}')\n",
    "        "
   ]
  },
  {
   "cell_type": "markdown",
   "metadata": {},
   "source": [
    "<h3>Compare Number of Comments for 'Ask HN' and 'Show HN'</h3>\n"
   ]
  },
  {
   "cell_type": "code",
   "execution_count": 167,
   "metadata": {
    "scrolled": true
   },
   "outputs": [
    {
     "name": "stdout",
     "output_type": "stream",
     "text": [
      "Header: \n",
      "['id', 'title', 'url', 'num_points', 'num_comments', 'author', 'created_at']\n",
      "\n",
      "Sample from row 4 of 'ask_posts' list:\n",
      "['10394168', 'Ask HN: Someone offered to buy my browser extension from me. What now?', '', '28', '17', 'roykolak', '10/15/2015 16:38']\n",
      "\n",
      "Comment = 17\n"
     ]
    }
   ],
   "source": [
    "print(f\"Header: \\n{hn_header}\")\n",
    "\n",
    "# Comments found in column 4\n",
    "\n",
    "# Sample from row 4 of 'ask_posts' list\n",
    "print(f\"\\nSample from row 4 of 'ask_posts' list:\\n{ask_posts[4]}\")\n",
    "print(f'\\nComment = {ask_posts[4][4]}')"
   ]
  },
  {
   "cell_type": "code",
   "execution_count": 182,
   "metadata": {},
   "outputs": [
    {
     "name": "stdout",
     "output_type": "stream",
     "text": [
      "58.0\n"
     ]
    }
   ],
   "source": [
    "# def count_comments(comlist):\n",
    "#     num_comments = 0\n",
    "#     for row in comlist:\n",
    "#         comments = int(row[4])\n",
    "#         num_comments += comments\n",
    "    \n",
    "#     return num_comments\n",
    "\n",
    "# def avg_comments(comlist):\n",
    "#     num_comments = count_comments(comlist)\n",
    "#     return round(num_comments / len(comlist))\n",
    "\n",
    "\n",
    "# print(f'Ask HN (Total Comments): {count_comments(ask_posts)}')\n",
    "# print(f'avg comments def: {avg_comments(show_)}')\n",
    "# print(f'Ask HN (Avg): {round(count_comments(ask_posts)/len(ask_posts),2)}')\n",
    "\n",
    "# print(f'\\nShow HN (Total Comments): {count_comments(show_posts)}')\n",
    "# print(f'Show HN (Avg): {round(count_comments(show_posts)/len(show_posts),2)}')\n",
    "\n",
    "# print(f'\\nOther Posts (Total Comments): {count_comments(other_posts)}')\n",
    "# print(f'Other Posts (Avg): {round(count_comments(other_posts)/len(other_posts),2)}')\n",
    "\n",
    "total_show_comments = 0\n",
    "\n",
    "for post in show_posts:\n",
    "    total_show_comments += int(post[4])\n",
    "    \n",
    "avg_show_comments = total_show_comments / len(show_posts)\n",
    "print(avg_show_comments)\n",
    "    "
   ]
  }
 ],
 "metadata": {
  "kernelspec": {
   "display_name": "Python 3",
   "language": "python",
   "name": "python3"
  },
  "language_info": {
   "codemirror_mode": {
    "name": "ipython",
    "version": 3
   },
   "file_extension": ".py",
   "mimetype": "text/x-python",
   "name": "python",
   "nbconvert_exporter": "python",
   "pygments_lexer": "ipython3",
   "version": "3.8.2"
  }
 },
 "nbformat": 4,
 "nbformat_minor": 2
}
