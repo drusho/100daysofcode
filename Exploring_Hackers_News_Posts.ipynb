{
  "nbformat": 4,
  "nbformat_minor": 0,
  "metadata": {
    "kernelspec": {
      "display_name": "Python 3",
      "language": "python",
      "name": "python3"
    },
    "language_info": {
      "codemirror_mode": {
        "name": "ipython",
        "version": 3
      },
      "file_extension": ".py",
      "mimetype": "text/x-python",
      "name": "python",
      "nbconvert_exporter": "python",
      "pygments_lexer": "ipython3",
      "version": "3.8.2"
    },
    "colab": {
      "name": "Exploring Hackers News Posts.ipynb",
      "provenance": [],
      "include_colab_link": true
    }
  },
  "cells": [
    {
      "cell_type": "markdown",
      "metadata": {
        "id": "view-in-github",
        "colab_type": "text"
      },
      "source": [
        "<a href=\"https://colab.research.google.com/github/drusho/data_analysis/blob/main/Exploring_Hackers_News_Posts.ipynb\" target=\"_parent\"><img src=\"https://colab.research.google.com/assets/colab-badge.svg\" alt=\"Open In Colab\"/></a>"
      ]
    },
    {
      "cell_type": "markdown",
      "metadata": {
        "collapsed": true,
        "id": "R6kJluSm7waQ"
      },
      "source": [
        "<h1>Exploring Hackers News Posts</h1>\n",
        "\n",
        "<p>This project will compare two different types of posts from Hacker News website which specializes in technology related stories, it's very similar to Reddit. \n",
        "\n",
        "Two types of posts that will be explore in this notebook begin with either ***Ask HN*** or ***Show HN***.\n",
        "\n",
        "Users submit Ask HN posts to ask the Hacker News community a specific question, such as \"What is the best online course you've ever taken?\" Likewise, users submit Show HN posts to show the Hacker News community a project, product, or just generally something interesting.\n",
        "\n",
        "This notebook will compare these two types of posts to determine the following:\n",
        "\n",
        "- *Do Ask HN or Show HN receive more comments on average?*\n",
        "- *Do posts created at a certain time receive more comments on average?*\n",
        "\n",
        "**Note** *This data set was reduced from almost 300,000 rows to approximately 20,000 rows by removing all submissions that did not receive any comments, and then randomly sampling from the remaining submissions.*"
      ]
    },
    {
      "cell_type": "markdown",
      "metadata": {
        "id": "_xsdBFG17waU"
      },
      "source": [
        "<h3>Import Dataset</h3>"
      ]
    },
    {
      "cell_type": "code",
      "metadata": {
        "colab": {
          "base_uri": "https://localhost:8080/"
        },
        "id": "PmvQgPGc8Prf",
        "outputId": "a27a2de2-02b8-4369-9368-5d8dd7e0d3a3"
      },
      "source": [
        "#Import CVS from github\n",
        "!curl --remote-name \\\n",
        "     -H 'Accept: application/vnd.github.v3.raw' \\\n",
        "     --location https://raw.githubusercontent.com/drusho/100daysofcode/main/Exploring_Hacker_News_Posts/hacker_news.csv"
      ],
      "execution_count": null,
      "outputs": [
        {
          "output_type": "stream",
          "text": [
            "  % Total    % Received % Xferd  Average Speed   Time    Time     Time  Current\n",
            "                                 Dload  Upload   Total   Spent    Left  Speed\n",
            "\r  0     0    0     0    0     0      0      0 --:--:-- --:--:-- --:--:--     0\r100 3032k  100 3032k    0     0  17.8M      0 --:--:-- --:--:-- --:--:-- 17.9M\n"
          ],
          "name": "stdout"
        }
      ]
    },
    {
      "cell_type": "code",
      "metadata": {
        "colab": {
          "base_uri": "https://localhost:8080/"
        },
        "id": "eZ0ityCU7waV",
        "outputId": "3f4d3b6a-7af4-4102-80f6-6ac97f98d183"
      },
      "source": [
        "# Read in the data.\n",
        "import csv\n",
        "\n",
        "f = open('hacker_news.csv')\n",
        "hn = list(csv.reader(f))\n",
        "hn[:5]"
      ],
      "execution_count": null,
      "outputs": [
        {
          "output_type": "execute_result",
          "data": {
            "text/plain": [
              "[['id', 'title', 'url', 'num_points', 'num_comments', 'author', 'created_at'],\n",
              " ['12224879',\n",
              "  'Interactive Dynamic Video',\n",
              "  'http://www.interactivedynamicvideo.com/',\n",
              "  '386',\n",
              "  '52',\n",
              "  'ne0phyte',\n",
              "  '8/4/2016 11:52'],\n",
              " ['10975351',\n",
              "  'How to Use Open Source and Shut the Fuck Up at the Same Time',\n",
              "  'http://hueniverse.com/2016/01/26/how-to-use-open-source-and-shut-the-fuck-up-at-the-same-time/',\n",
              "  '39',\n",
              "  '10',\n",
              "  'josep2',\n",
              "  '1/26/2016 19:30'],\n",
              " ['11964716',\n",
              "  \"Florida DJs May Face Felony for April Fools' Water Joke\",\n",
              "  'http://www.thewire.com/entertainment/2013/04/florida-djs-april-fools-water-joke/63798/',\n",
              "  '2',\n",
              "  '1',\n",
              "  'vezycash',\n",
              "  '6/23/2016 22:20'],\n",
              " ['11919867',\n",
              "  'Technology ventures: From Idea to Enterprise',\n",
              "  'https://www.amazon.com/Technology-Ventures-Enterprise-Thomas-Byers/dp/0073523429',\n",
              "  '3',\n",
              "  '1',\n",
              "  'hswarna',\n",
              "  '6/17/2016 0:01']]"
            ]
          },
          "metadata": {
            "tags": []
          },
          "execution_count": 40
        }
      ]
    },
    {
      "cell_type": "markdown",
      "metadata": {
        "id": "7GoJ5Whr7waW"
      },
      "source": [
        "<h3>Separate Header from Data</h3>"
      ]
    },
    {
      "cell_type": "code",
      "metadata": {
        "colab": {
          "base_uri": "https://localhost:8080/"
        },
        "id": "lGeJGFI48Prh",
        "outputId": "3e0ebe16-083b-403e-ac5a-bb856581e84e"
      },
      "source": [
        "# Fetch a single <1MB file using the raw GitHub URL.\n",
        "!curl --remote-name \\\n",
        "     -H 'Accept: application/vnd.github.v3.raw' \\\n",
        "     --location https://api.github.com/repos/jakevdp/PythonDataScienceHandbook/contents/notebooks/data/california_cities.csv"
      ],
      "execution_count": null,
      "outputs": [
        {
          "output_type": "stream",
          "text": [
            "  % Total    % Received % Xferd  Average Speed   Time    Time     Time  Current\n",
            "                                 Dload  Upload   Total   Spent    Left  Speed\n",
            "100 59658  100 59658    0     0   280k      0 --:--:-- --:--:-- --:--:--  278k\n"
          ],
          "name": "stdout"
        }
      ]
    },
    {
      "cell_type": "code",
      "metadata": {
        "colab": {
          "base_uri": "https://localhost:8080/"
        },
        "id": "QLimAAcA7waW",
        "outputId": "59cabad0-a09b-455c-c5d6-8102ea445c85"
      },
      "source": [
        "# Remove the headers.\n",
        "hn_header = hn[0]\n",
        "hn = hn[1:]\n",
        "print(hn_header)\n",
        "print(hn[:5])"
      ],
      "execution_count": null,
      "outputs": [
        {
          "output_type": "stream",
          "text": [
            "['id', 'title', 'url', 'num_points', 'num_comments', 'author', 'created_at']\n",
            "[['12224879', 'Interactive Dynamic Video', 'http://www.interactivedynamicvideo.com/', '386', '52', 'ne0phyte', '8/4/2016 11:52'], ['10975351', 'How to Use Open Source and Shut the Fuck Up at the Same Time', 'http://hueniverse.com/2016/01/26/how-to-use-open-source-and-shut-the-fuck-up-at-the-same-time/', '39', '10', 'josep2', '1/26/2016 19:30'], ['11964716', \"Florida DJs May Face Felony for April Fools' Water Joke\", 'http://www.thewire.com/entertainment/2013/04/florida-djs-april-fools-water-joke/63798/', '2', '1', 'vezycash', '6/23/2016 22:20'], ['11919867', 'Technology ventures: From Idea to Enterprise', 'https://www.amazon.com/Technology-Ventures-Enterprise-Thomas-Byers/dp/0073523429', '3', '1', 'hswarna', '6/17/2016 0:01'], ['10301696', 'Note by Note: The Making of Steinway L1037 (2007)', 'http://www.nytimes.com/2007/11/07/movies/07stein.html?_r=0', '8', '2', 'walterbell', '9/30/2015 4:12']]\n"
          ],
          "name": "stdout"
        }
      ]
    },
    {
      "cell_type": "markdown",
      "metadata": {
        "id": "Hnay3oS57waX"
      },
      "source": [
        "<h3>Filtering 'Ask HN' and 'Show HN' Posts</h3>\n",
        "\n",
        "Identify posts that begin with either `Ask HN` or `Show HN` and separate the data into different lists.\n",
        "\n"
      ]
    },
    {
      "cell_type": "code",
      "metadata": {
        "colab": {
          "base_uri": "https://localhost:8080/"
        },
        "id": "_e9H-pnO7waX",
        "outputId": "efbdeef4-59bc-40b9-ed97-299aeb9e503d"
      },
      "source": [
        "# Identify posts that begin with either `Ask HN` or `Show HN` and separate the data into different lists.\n",
        "\n",
        "\n",
        "ask_posts = []\n",
        "show_posts = []\n",
        "other_posts = []\n",
        "\n",
        "for post in hn:\n",
        "    title = post[1]\n",
        "    if title.lower().startswith(\"Ask HN\".lower()):\n",
        "        ask_posts.append(post)\n",
        "    elif title.lower().startswith(\"Show HN\".lower()):\n",
        "        show_posts.append(post)\n",
        "    else:\n",
        "        other_posts.append(post)\n",
        "        \n",
        "        \n",
        "\n",
        "print(f'Len of whole dataset: {len(hn)}')\n",
        "print(f'Len of ask_posts: {len(ask_posts)}')\n",
        "print(f'Len of show_posts: {len(show_posts)}')\n",
        "print(f'Len of other_posts: {len(other_posts)}')\n",
        "print(f'\\n* Data checking:\\nLen of ask_posts + show_posts + other_posts = {len(ask_posts)+len(show_posts)+len(other_posts)}')\n",
        "        "
      ],
      "execution_count": null,
      "outputs": [
        {
          "output_type": "stream",
          "text": [
            "Len of whole dataset: 20100\n",
            "Len of ask_posts: 1744\n",
            "Len of show_posts: 1162\n",
            "Len of other_posts: 17194\n",
            "\n",
            "* Data checking:\n",
            "Len of ask_posts + show_posts + other_posts = 20100\n"
          ],
          "name": "stdout"
        }
      ]
    },
    {
      "cell_type": "markdown",
      "metadata": {
        "id": "ACX1S3V57waY"
      },
      "source": [
        "<h3>Compare Number of Comments for 'Ask HN' and 'Show HN'</h3>\n"
      ]
    },
    {
      "cell_type": "code",
      "metadata": {
        "scrolled": true,
        "colab": {
          "base_uri": "https://localhost:8080/"
        },
        "id": "U0KWWBaH7waY",
        "outputId": "e8bcf466-80d4-40d3-bf1e-11cae49d5825"
      },
      "source": [
        "print(f\"Header: \\n{hn_header}\")\n",
        "\n",
        "# Comments found in column 4\n",
        "\n",
        "# Sample from row 4 of 'ask_posts' list\n",
        "print(f\"\\nSample from row 4 of 'ask_posts' list:\\n{ask_posts[4]}\")\n",
        "print(f'\\nComment = {ask_posts[4][4]}')"
      ],
      "execution_count": null,
      "outputs": [
        {
          "output_type": "stream",
          "text": [
            "Header: \n",
            "['id', 'title', 'url', 'num_points', 'num_comments', 'author', 'created_at']\n",
            "\n",
            "Sample from row 4 of 'ask_posts' list:\n",
            "['10394168', 'Ask HN: Someone offered to buy my browser extension from me. What now?', '', '28', '17', 'roykolak', '10/15/2015 16:38']\n",
            "\n",
            "Comment = 17\n"
          ],
          "name": "stdout"
        }
      ]
    },
    {
      "cell_type": "code",
      "metadata": {
        "colab": {
          "base_uri": "https://localhost:8080/"
        },
        "id": "-cgjvhMf7waZ",
        "outputId": "ba3e12e1-04c1-4559-eef9-807f7b5a9d14"
      },
      "source": [
        "def count_comments(comlist):\n",
        "    num_comments = 0\n",
        "    for row in comlist:\n",
        "        comments = int(row[4])\n",
        "        num_comments += comments\n",
        "    return num_comments\n",
        "\n",
        "def avg_comments(comlist):\n",
        "    num_comments = count_comments(comlist)\n",
        "    return round(num_comments / len(comlist))\n",
        "\n",
        "print('Total Comments')\n",
        "print(f'  Ask HN: {count_comments(ask_posts)}')\n",
        "print(f'  Show HN: {count_comments(show_posts)}')\n",
        "print(f'  Other Posts: {count_comments(other_posts)}')\n",
        "\n",
        "print('\\nLists Averages')\n",
        "print(f'  Ask HN: {avg_comments(ask_posts)}')\n",
        "print(f'  Show HN: {avg_comments(show_posts)}')\n",
        "print(f'  Other Posts: {avg_comments(other_posts)}')  "
      ],
      "execution_count": null,
      "outputs": [
        {
          "output_type": "stream",
          "text": [
            "Total Comments\n",
            "  Ask HN: 24483\n",
            "  Show HN: 11988\n",
            "  Other Posts: 462055\n",
            "\n",
            "Lists Averages\n",
            "  Ask HN: 14\n",
            "  Show HN: 10\n",
            "  Other Posts: 27\n"
          ],
          "name": "stdout"
        }
      ]
    },
    {
      "cell_type": "markdown",
      "metadata": {
        "id": "pKl-Hh-67waZ"
      },
      "source": [
        "<h2>Determine the Number of 'Ask HN' Comments Created by Hour</h2>\n",
        "\n",
        "*Ask HN* had a higher average of comments than *Show HN*\n",
        "\n",
        "Use *Ask HN* to determine the time of day when the most comments are received "
      ]
    },
    {
      "cell_type": "code",
      "metadata": {
        "colab": {
          "base_uri": "https://localhost:8080/"
        },
        "id": "lV7iIT2y7waa",
        "outputId": "cab1b0a3-022c-45aa-ae6a-6d0227412941"
      },
      "source": [
        "print(f'Header: \\n{hn_header}')\n",
        "print(f\"\\nColumn 7 in header = '{hn_header[6]}' \")\n",
        "\n",
        "print(f'\\nSample from row 3 of data set: \\n{hn[3][6]}')"
      ],
      "execution_count": null,
      "outputs": [
        {
          "output_type": "stream",
          "text": [
            "Header: \n",
            "['id', 'title', 'url', 'num_points', 'num_comments', 'author', 'created_at']\n",
            "\n",
            "Column 7 in header = 'created_at' \n",
            "\n",
            "Sample from row 3 of data set: \n",
            "6/17/2016 0:01\n"
          ],
          "name": "stdout"
        }
      ]
    },
    {
      "cell_type": "markdown",
      "metadata": {
        "id": "TwiC0DxB7waa"
      },
      "source": [
        "<h3>Convert column 7 in 'Ask HN' to datetime objects</h3>"
      ]
    },
    {
      "cell_type": "code",
      "metadata": {
        "colab": {
          "base_uri": "https://localhost:8080/"
        },
        "id": "7QWej8xz7waa",
        "outputId": "8c69b2f8-03f3-47df-8cd5-84e4c7b15c59"
      },
      "source": [
        "import datetime as dt\n",
        "\n",
        "result_list = []\n",
        "\n",
        "for post in ask_posts:\n",
        "    result_list.append(\n",
        "        [post[6], int(post[4])]\n",
        "    )\n",
        "\n",
        "  \n",
        "comment_created_hr = {} #Number posts per hour\n",
        "counts_by_hour = {} #Number of comments per hour\n",
        "date_format = \"%m/%d/%Y %H:%M\"\n",
        "\n",
        "# print(result_list[1])\n",
        "\n",
        "for row in result_list:\n",
        "    date = row[0]\n",
        "    comment_num = int(row[1])\n",
        "    date = dt.datetime.strptime(date,date_format)\n",
        "    hour = date.hour\n",
        "    if hour not in counts_by_hour:\n",
        "        counts_by_hour[hour] = 1\n",
        "        comment_created_hr[hour] = comment_num\n",
        "    else: \n",
        "        counts_by_hour[hour] += 1\n",
        "        comment_created_hr[hour] += comment_num\n",
        "\n",
        "\n",
        "comment_created_hr\n",
        "counts_by_hour\n",
        "        \n",
        "    "
      ],
      "execution_count": null,
      "outputs": [
        {
          "output_type": "execute_result",
          "data": {
            "text/plain": [
              "{0: 55,\n",
              " 1: 60,\n",
              " 2: 58,\n",
              " 3: 54,\n",
              " 4: 47,\n",
              " 5: 46,\n",
              " 6: 44,\n",
              " 7: 34,\n",
              " 8: 48,\n",
              " 9: 45,\n",
              " 10: 59,\n",
              " 11: 58,\n",
              " 12: 73,\n",
              " 13: 85,\n",
              " 14: 107,\n",
              " 15: 116,\n",
              " 16: 108,\n",
              " 17: 100,\n",
              " 18: 109,\n",
              " 19: 110,\n",
              " 20: 80,\n",
              " 21: 109,\n",
              " 22: 71,\n",
              " 23: 68}"
            ]
          },
          "metadata": {
            "tags": []
          },
          "execution_count": 26
        }
      ]
    },
    {
      "cell_type": "markdown",
      "metadata": {
        "id": "NIwtM6i-7wab"
      },
      "source": [
        "<h3>Calculating the Average Number of Comments for Ask HN Posts by Hour</h3>"
      ]
    },
    {
      "cell_type": "code",
      "metadata": {
        "colab": {
          "base_uri": "https://localhost:8080/"
        },
        "id": "Nebm6n3_7wab",
        "outputId": "143015f2-4b5c-4b0e-89ee-bbc546f813a6"
      },
      "source": [
        "avg_by_hour = []\n",
        "\n",
        "\n",
        "for hour in comment_created_hr:\n",
        "    avg_by_hour.append([hour,round(comment_created_hr[hour]/counts_by_hour[hour],2)])\n",
        "\n",
        "avg_by_hour"
      ],
      "execution_count": null,
      "outputs": [
        {
          "output_type": "execute_result",
          "data": {
            "text/plain": [
              "[[9, 5.58],\n",
              " [13, 14.74],\n",
              " [10, 13.44],\n",
              " [14, 13.23],\n",
              " [16, 16.8],\n",
              " [23, 7.99],\n",
              " [12, 9.41],\n",
              " [17, 11.46],\n",
              " [15, 38.59],\n",
              " [21, 16.01],\n",
              " [20, 21.52],\n",
              " [2, 23.81],\n",
              " [18, 13.2],\n",
              " [3, 7.8],\n",
              " [5, 10.09],\n",
              " [19, 10.8],\n",
              " [1, 11.38],\n",
              " [22, 6.75],\n",
              " [8, 10.25],\n",
              " [4, 7.17],\n",
              " [0, 8.13],\n",
              " [6, 9.02],\n",
              " [7, 7.85],\n",
              " [11, 11.05]]"
            ]
          },
          "metadata": {
            "tags": []
          },
          "execution_count": 27
        }
      ]
    },
    {
      "cell_type": "markdown",
      "metadata": {
        "id": "95po1cQu7wac"
      },
      "source": [
        "<h3>Sorting and Printing Values from a List of Lists</h3>"
      ]
    },
    {
      "cell_type": "code",
      "metadata": {
        "colab": {
          "base_uri": "https://localhost:8080/"
        },
        "id": "UeLbLOp77wac",
        "outputId": "326ab45a-154a-4c3d-8302-c7fe5961219a"
      },
      "source": [
        "#Sort list by hour \n",
        "\n",
        "sorted(avg_by_hour,reverse=False)"
      ],
      "execution_count": null,
      "outputs": [
        {
          "output_type": "execute_result",
          "data": {
            "text/plain": [
              "[[0, 8.13],\n",
              " [1, 11.38],\n",
              " [2, 23.81],\n",
              " [3, 7.8],\n",
              " [4, 7.17],\n",
              " [5, 10.09],\n",
              " [6, 9.02],\n",
              " [7, 7.85],\n",
              " [8, 10.25],\n",
              " [9, 5.58],\n",
              " [10, 13.44],\n",
              " [11, 11.05],\n",
              " [12, 9.41],\n",
              " [13, 14.74],\n",
              " [14, 13.23],\n",
              " [15, 38.59],\n",
              " [16, 16.8],\n",
              " [17, 11.46],\n",
              " [18, 13.2],\n",
              " [19, 10.8],\n",
              " [20, 21.52],\n",
              " [21, 16.01],\n",
              " [22, 6.75],\n",
              " [23, 7.99]]"
            ]
          },
          "metadata": {
            "tags": []
          },
          "execution_count": 28
        }
      ]
    },
    {
      "cell_type": "code",
      "metadata": {
        "colab": {
          "base_uri": "https://localhost:8080/"
        },
        "id": "8lX3ZGAU7wad",
        "outputId": "f920512d-ed02-4c70-87a2-00ba3d24c03d"
      },
      "source": [
        "# Sort list by averages\n",
        "\n",
        "avg_by_hour.sort(key=lambda x:x[1],reverse=True)\n",
        "\n",
        "avg_by_hour"
      ],
      "execution_count": null,
      "outputs": [
        {
          "output_type": "execute_result",
          "data": {
            "text/plain": [
              "[[15, 38.59],\n",
              " [2, 23.81],\n",
              " [20, 21.52],\n",
              " [16, 16.8],\n",
              " [21, 16.01],\n",
              " [13, 14.74],\n",
              " [10, 13.44],\n",
              " [14, 13.23],\n",
              " [18, 13.2],\n",
              " [17, 11.46],\n",
              " [1, 11.38],\n",
              " [11, 11.05],\n",
              " [19, 10.8],\n",
              " [8, 10.25],\n",
              " [5, 10.09],\n",
              " [12, 9.41],\n",
              " [6, 9.02],\n",
              " [0, 8.13],\n",
              " [23, 7.99],\n",
              " [7, 7.85],\n",
              " [3, 7.8],\n",
              " [4, 7.17],\n",
              " [22, 6.75],\n",
              " [9, 5.58]]"
            ]
          },
          "metadata": {
            "tags": []
          },
          "execution_count": 29
        }
      ]
    },
    {
      "cell_type": "code",
      "metadata": {
        "id": "u69M1IMC7wad"
      },
      "source": [
        "swap_avg_by_hour = []\n",
        "\n",
        "for row in avg_by_hour:\n",
        "    hour = row[0]\n",
        "    avg = row[1]\n",
        "    swap_avg_by_hour.append([avg,hour])\n",
        "\n",
        "swap_avg_by_hour = sorted(swap_avg_by_hour,reverse=True)"
      ],
      "execution_count": null,
      "outputs": []
    },
    {
      "cell_type": "code",
      "metadata": {
        "colab": {
          "base_uri": "https://localhost:8080/"
        },
        "id": "17tU7rAq7waf",
        "outputId": "48f4c013-d06d-46e9-b9dc-fefd01d392b2"
      },
      "source": [
        "print('Top 5 Hours for Ask Posts Comments')\n",
        "\n",
        "for avg, hr in swap_avg_by_hour[:5]:\n",
        "    print(\n",
        "        \"• {}: {:.2f} average comments per post\".format(\n",
        "            dt.datetime.strptime(str(hr), \"%H\").strftime(\"%H:%M\"),avg\n",
        "        )\n",
        "    )"
      ],
      "execution_count": null,
      "outputs": [
        {
          "output_type": "stream",
          "text": [
            "Top 5 Hours for Ask Posts Comments\n",
            "• 15:00: 38.59 average comments per post\n",
            "• 02:00: 23.81 average comments per post\n",
            "• 20:00: 21.52 average comments per post\n",
            "• 16:00: 16.80 average comments per post\n",
            "• 21:00: 16.01 average comments per post\n"
          ],
          "name": "stdout"
        }
      ]
    },
    {
      "cell_type": "code",
      "metadata": {
        "id": "FiQzIk_hMOFE"
      },
      "source": [
        ""
      ],
      "execution_count": null,
      "outputs": []
    },
    {
      "cell_type": "markdown",
      "metadata": {
        "id": "3IvBb7oL-46Y"
      },
      "source": [
        "# Conclusion\n",
        "\n",
        "Results of analyzing both 'Ask HN' or 'Show HN' showed that 'Ask HN' was more popular when it came to total number of comments and total number of posts."
      ]
    }
  ]
}