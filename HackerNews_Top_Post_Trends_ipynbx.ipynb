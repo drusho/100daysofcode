{
  "nbformat": 4,
  "nbformat_minor": 0,
  "metadata": {
    "colab": {
      "name": "HackerNews Top Post Trends .ipynbx",
      "provenance": [],
      "authorship_tag": "ABX9TyOYm9HTi0YvSgYszYgzmjh4",
      "include_colab_link": true
    },
    "kernelspec": {
      "name": "python3",
      "display_name": "Python 3"
    },
    "language_info": {
      "name": "python"
    }
  },
  "cells": [
    {
      "cell_type": "markdown",
      "metadata": {
        "id": "view-in-github",
        "colab_type": "text"
      },
      "source": [
        "<a href=\"https://colab.research.google.com/github/drusho/data_analysis/blob/main/HackerNews_Top_Post_Trends_ipynbx.ipynb\" target=\"_parent\"><img src=\"https://colab.research.google.com/assets/colab-badge.svg\" alt=\"Open In Colab\"/></a>"
      ]
    },
    {
      "cell_type": "markdown",
      "metadata": {
        "id": "5t7HinmCzO0U"
      },
      "source": [
        "# __Data Analysis, Visualization__\n",
        "###### _MathPlotLib, Pandas, Seaborn_\n",
        "\n",
        "<br>\n",
        "\n",
        "###__Data Source__ \n",
        "Hacker News posts from the past 12 months (including # of votes and comments) [link](https://www.kaggle.com/hacker-news/hacker-news-posts)\n",
        "\n",
        "###__Goals__\n",
        "\n",
        "* Determine if there is a correlation between number of comments and points on a post?\n",
        "* Identify top posts by comments and points.\n",
        "* Identify day/time trends of top posts\n",
        "\n",
        "<br>\n",
        "\n",
        "###__Results__\n",
        "\n",
        "Sunday at noon showed to have best average points for a post. \n",
        "\n",
        "There is a strong correlation with total number of points and number of comments.  More comments in a post can heavily enfluence a posts potients to gain more points.\n",
        "\n",
        "### __Discussion__\n",
        "Popular post results could be skewed based on creation day and date that data was collected.  Over time posts will normally accrue more points.  The pace that points are gathered over time can vary by post and links directed to post from outside sources (ex. Twitter).  Future data analysis could look into this topic with more detail to determine the time frame it takes for posts to be created and to when they might reach peak growth pace in points.\n"
      ]
    },
    {
      "cell_type": "code",
      "metadata": {
        "id": "rcLuuOYLds60"
      },
      "source": [
        "import pandas as pd\n",
        "import numpy as np\n",
        "import matplotlib.pyplot as plt\n",
        "%matplotlib inline\n",
        "\n",
        "import seaborn as sns\n",
        "\n",
        "import warnings\n",
        "warnings.simplefilter(action='ignore', category=FutureWarning)"
      ],
      "execution_count": 33,
      "outputs": []
    },
    {
      "cell_type": "code",
      "metadata": {
        "colab": {
          "base_uri": "https://localhost:8080/"
        },
        "id": "Uqso84ubmfcI",
        "outputId": "b6474299-10ed-4613-f013-31bec9368eb0"
      },
      "source": [
        "# Fetch a single <1MB file using the raw GitHub URL.\n",
        "!curl --remote-name \\\n",
        "     -H 'Accept: application/vnd.github.v3.raw' \\\n",
        "     --location https://raw.githubusercontent.com/drusho/data_analysis/main/csv_files/HN_posts_year_to_Sep_26_2016.csv"
      ],
      "execution_count": 34,
      "outputs": [
        {
          "output_type": "stream",
          "text": [
            "  % Total    % Received % Xferd  Average Speed   Time    Time     Time  Current\n",
            "                                 Dload  Upload   Total   Spent    Left  Speed\n",
            "100 45.1M  100 45.1M    0     0  51.8M      0 --:--:-- --:--:-- --:--:-- 51.7M\n"
          ],
          "name": "stdout"
        }
      ]
    },
    {
      "cell_type": "code",
      "metadata": {
        "colab": {
          "base_uri": "https://localhost:8080/",
          "height": 143
        },
        "id": "aixjIj0CjSNs",
        "outputId": "3eaa2e33-a414-4017-c13a-6b0f4cab5b8e"
      },
      "source": [
        "# Import Hacker News csv (1st Attempt)\n",
        "\n",
        "\n",
        "df1 = pd.read_csv('HN_posts_year_to_Sep_26_2016.csv')\n",
        "df1.head(3)"
      ],
      "execution_count": 35,
      "outputs": [
        {
          "output_type": "execute_result",
          "data": {
            "text/html": [
              "<div>\n",
              "<style scoped>\n",
              "    .dataframe tbody tr th:only-of-type {\n",
              "        vertical-align: middle;\n",
              "    }\n",
              "\n",
              "    .dataframe tbody tr th {\n",
              "        vertical-align: top;\n",
              "    }\n",
              "\n",
              "    .dataframe thead th {\n",
              "        text-align: right;\n",
              "    }\n",
              "</style>\n",
              "<table border=\"1\" class=\"dataframe\">\n",
              "  <thead>\n",
              "    <tr style=\"text-align: right;\">\n",
              "      <th></th>\n",
              "      <th>id</th>\n",
              "      <th>title</th>\n",
              "      <th>url</th>\n",
              "      <th>num_points</th>\n",
              "      <th>num_comments</th>\n",
              "      <th>author</th>\n",
              "      <th>created_at</th>\n",
              "    </tr>\n",
              "  </thead>\n",
              "  <tbody>\n",
              "    <tr>\n",
              "      <th>0</th>\n",
              "      <td>12579008</td>\n",
              "      <td>You have two days to comment if you want stem ...</td>\n",
              "      <td>http://www.regulations.gov/document?D=FDA-2015...</td>\n",
              "      <td>1</td>\n",
              "      <td>0</td>\n",
              "      <td>altstar</td>\n",
              "      <td>9/26/2016 3:26</td>\n",
              "    </tr>\n",
              "    <tr>\n",
              "      <th>1</th>\n",
              "      <td>12579005</td>\n",
              "      <td>SQLAR  the SQLite Archiver</td>\n",
              "      <td>https://www.sqlite.org/sqlar/doc/trunk/README.md</td>\n",
              "      <td>1</td>\n",
              "      <td>0</td>\n",
              "      <td>blacksqr</td>\n",
              "      <td>9/26/2016 3:24</td>\n",
              "    </tr>\n",
              "    <tr>\n",
              "      <th>2</th>\n",
              "      <td>12578997</td>\n",
              "      <td>What if we just printed a flatscreen televisio...</td>\n",
              "      <td>https://medium.com/vanmoof/our-secrets-out-f21...</td>\n",
              "      <td>1</td>\n",
              "      <td>0</td>\n",
              "      <td>pavel_lishin</td>\n",
              "      <td>9/26/2016 3:19</td>\n",
              "    </tr>\n",
              "  </tbody>\n",
              "</table>\n",
              "</div>"
            ],
            "text/plain": [
              "         id  ...      created_at\n",
              "0  12579008  ...  9/26/2016 3:26\n",
              "1  12579005  ...  9/26/2016 3:24\n",
              "2  12578997  ...  9/26/2016 3:19\n",
              "\n",
              "[3 rows x 7 columns]"
            ]
          },
          "metadata": {
            "tags": []
          },
          "execution_count": 35
        }
      ]
    },
    {
      "cell_type": "code",
      "metadata": {
        "colab": {
          "base_uri": "https://localhost:8080/"
        },
        "id": "i5OPQGdOjxlg",
        "outputId": "ad0f6539-e3d2-4403-f8b5-07a266a898c8"
      },
      "source": [
        "df1.info()"
      ],
      "execution_count": 36,
      "outputs": [
        {
          "output_type": "stream",
          "text": [
            "<class 'pandas.core.frame.DataFrame'>\n",
            "RangeIndex: 293119 entries, 0 to 293118\n",
            "Data columns (total 7 columns):\n",
            " #   Column        Non-Null Count   Dtype \n",
            "---  ------        --------------   ----- \n",
            " 0   id            293119 non-null  int64 \n",
            " 1   title         293119 non-null  object\n",
            " 2   url           279256 non-null  object\n",
            " 3   num_points    293119 non-null  int64 \n",
            " 4   num_comments  293119 non-null  int64 \n",
            " 5   author        293119 non-null  object\n",
            " 6   created_at    293119 non-null  object\n",
            "dtypes: int64(3), object(4)\n",
            "memory usage: 15.7+ MB\n"
          ],
          "name": "stdout"
        }
      ]
    },
    {
      "cell_type": "code",
      "metadata": {
        "colab": {
          "base_uri": "https://localhost:8080/"
        },
        "id": "3EhOOcTDj1io",
        "outputId": "6a1b1a8d-30fc-4c05-da31-7787d2f0e507"
      },
      "source": [
        "# Percentage of null values per column\n",
        "\n",
        "round(df1.isnull().sum()/df1.count()*100,2)"
      ],
      "execution_count": 37,
      "outputs": [
        {
          "output_type": "execute_result",
          "data": {
            "text/plain": [
              "id              0.00\n",
              "title           0.00\n",
              "url             4.96\n",
              "num_points      0.00\n",
              "num_comments    0.00\n",
              "author          0.00\n",
              "created_at      0.00\n",
              "dtype: float64"
            ]
          },
          "metadata": {
            "tags": []
          },
          "execution_count": 37
        }
      ]
    },
    {
      "cell_type": "markdown",
      "metadata": {
        "id": "nGgvnRs4lqxw"
      },
      "source": [
        "### __Clean Columns__\n",
        "\n",
        " 1.  Remove columns that aren't required for analysis.\n",
        "  * id\n",
        "  * url\n",
        "  * author\n",
        "\n",
        " 2.  Set date types for _created_at_ column upon import"
      ]
    },
    {
      "cell_type": "code",
      "metadata": {
        "colab": {
          "base_uri": "https://localhost:8080/"
        },
        "id": "opoY2TL6f39Q",
        "outputId": "924fe809-4f30-486d-e5b4-4ed0dcb8546f"
      },
      "source": [
        "# Import Hacker News csv (2nd attempt)\n",
        "\n",
        "cols=['title', \n",
        "      'num_points', \n",
        "      'num_comments',  \n",
        "      'created_at']\n",
        "\n",
        "df2 = pd.read_csv('HN_posts_year_to_Sep_26_2016.csv',\n",
        "                 usecols=cols,\n",
        "                 parse_dates=['created_at'])\n",
        "\n",
        "df2.info()"
      ],
      "execution_count": 38,
      "outputs": [
        {
          "output_type": "stream",
          "text": [
            "<class 'pandas.core.frame.DataFrame'>\n",
            "RangeIndex: 293119 entries, 0 to 293118\n",
            "Data columns (total 4 columns):\n",
            " #   Column        Non-Null Count   Dtype         \n",
            "---  ------        --------------   -----         \n",
            " 0   title         293119 non-null  object        \n",
            " 1   num_points    293119 non-null  int64         \n",
            " 2   num_comments  293119 non-null  int64         \n",
            " 3   created_at    293119 non-null  datetime64[ns]\n",
            "dtypes: datetime64[ns](1), int64(2), object(1)\n",
            "memory usage: 8.9+ MB\n"
          ],
          "name": "stdout"
        }
      ]
    },
    {
      "cell_type": "code",
      "metadata": {
        "colab": {
          "base_uri": "https://localhost:8080/",
          "height": 300
        },
        "id": "Vrwq9PI2UsII",
        "outputId": "332dd649-1411-438d-817d-a322434df8ec"
      },
      "source": [
        "# Description of Points and Comments\n",
        "\n",
        "round(df2.describe(),2)"
      ],
      "execution_count": 39,
      "outputs": [
        {
          "output_type": "execute_result",
          "data": {
            "text/html": [
              "<div>\n",
              "<style scoped>\n",
              "    .dataframe tbody tr th:only-of-type {\n",
              "        vertical-align: middle;\n",
              "    }\n",
              "\n",
              "    .dataframe tbody tr th {\n",
              "        vertical-align: top;\n",
              "    }\n",
              "\n",
              "    .dataframe thead th {\n",
              "        text-align: right;\n",
              "    }\n",
              "</style>\n",
              "<table border=\"1\" class=\"dataframe\">\n",
              "  <thead>\n",
              "    <tr style=\"text-align: right;\">\n",
              "      <th></th>\n",
              "      <th>num_points</th>\n",
              "      <th>num_comments</th>\n",
              "    </tr>\n",
              "  </thead>\n",
              "  <tbody>\n",
              "    <tr>\n",
              "      <th>count</th>\n",
              "      <td>293119.00</td>\n",
              "      <td>293119.00</td>\n",
              "    </tr>\n",
              "    <tr>\n",
              "      <th>mean</th>\n",
              "      <td>15.03</td>\n",
              "      <td>6.53</td>\n",
              "    </tr>\n",
              "    <tr>\n",
              "      <th>std</th>\n",
              "      <td>58.50</td>\n",
              "      <td>30.38</td>\n",
              "    </tr>\n",
              "    <tr>\n",
              "      <th>min</th>\n",
              "      <td>1.00</td>\n",
              "      <td>0.00</td>\n",
              "    </tr>\n",
              "    <tr>\n",
              "      <th>25%</th>\n",
              "      <td>1.00</td>\n",
              "      <td>0.00</td>\n",
              "    </tr>\n",
              "    <tr>\n",
              "      <th>50%</th>\n",
              "      <td>2.00</td>\n",
              "      <td>0.00</td>\n",
              "    </tr>\n",
              "    <tr>\n",
              "      <th>75%</th>\n",
              "      <td>4.00</td>\n",
              "      <td>1.00</td>\n",
              "    </tr>\n",
              "    <tr>\n",
              "      <th>max</th>\n",
              "      <td>5771.00</td>\n",
              "      <td>2531.00</td>\n",
              "    </tr>\n",
              "  </tbody>\n",
              "</table>\n",
              "</div>"
            ],
            "text/plain": [
              "       num_points  num_comments\n",
              "count   293119.00     293119.00\n",
              "mean        15.03          6.53\n",
              "std         58.50         30.38\n",
              "min          1.00          0.00\n",
              "25%          1.00          0.00\n",
              "50%          2.00          0.00\n",
              "75%          4.00          1.00\n",
              "max       5771.00       2531.00"
            ]
          },
          "metadata": {
            "tags": []
          },
          "execution_count": 39
        }
      ]
    },
    {
      "cell_type": "code",
      "metadata": {
        "colab": {
          "base_uri": "https://localhost:8080/",
          "height": 143
        },
        "id": "Lr6OPAZ90EYc",
        "outputId": "b4827b40-64d3-4721-f573-e06dede5519f"
      },
      "source": [
        "df2.sample(3)"
      ],
      "execution_count": 40,
      "outputs": [
        {
          "output_type": "execute_result",
          "data": {
            "text/html": [
              "<div>\n",
              "<style scoped>\n",
              "    .dataframe tbody tr th:only-of-type {\n",
              "        vertical-align: middle;\n",
              "    }\n",
              "\n",
              "    .dataframe tbody tr th {\n",
              "        vertical-align: top;\n",
              "    }\n",
              "\n",
              "    .dataframe thead th {\n",
              "        text-align: right;\n",
              "    }\n",
              "</style>\n",
              "<table border=\"1\" class=\"dataframe\">\n",
              "  <thead>\n",
              "    <tr style=\"text-align: right;\">\n",
              "      <th></th>\n",
              "      <th>title</th>\n",
              "      <th>num_points</th>\n",
              "      <th>num_comments</th>\n",
              "      <th>created_at</th>\n",
              "    </tr>\n",
              "  </thead>\n",
              "  <tbody>\n",
              "    <tr>\n",
              "      <th>177858</th>\n",
              "      <td>The future of Cloud</td>\n",
              "      <td>2</td>\n",
              "      <td>0</td>\n",
              "      <td>2016-02-08 04:55:00</td>\n",
              "    </tr>\n",
              "    <tr>\n",
              "      <th>63387</th>\n",
              "      <td>Newspaper publisher arrested after open record...</td>\n",
              "      <td>3</td>\n",
              "      <td>0</td>\n",
              "      <td>2016-07-01 23:02:00</td>\n",
              "    </tr>\n",
              "    <tr>\n",
              "      <th>195831</th>\n",
              "      <td>Cooperation Is What Makes Us Human (2013)</td>\n",
              "      <td>33</td>\n",
              "      <td>4</td>\n",
              "      <td>2016-01-16 16:27:00</td>\n",
              "    </tr>\n",
              "  </tbody>\n",
              "</table>\n",
              "</div>"
            ],
            "text/plain": [
              "                                                    title  ...          created_at\n",
              "177858                                The future of Cloud  ... 2016-02-08 04:55:00\n",
              "63387   Newspaper publisher arrested after open record...  ... 2016-07-01 23:02:00\n",
              "195831          Cooperation Is What Makes Us Human (2013)  ... 2016-01-16 16:27:00\n",
              "\n",
              "[3 rows x 4 columns]"
            ]
          },
          "metadata": {
            "tags": []
          },
          "execution_count": 40
        }
      ]
    },
    {
      "cell_type": "markdown",
      "metadata": {
        "id": "nhMON1slohWI"
      },
      "source": [
        "### __Datetime Values__\n",
        "\n",
        "'created_at' column information available to determine time(s) and date(s).\n",
        "\n",
        "Created additional datetime type columns in df to aid with analysis"
      ]
    },
    {
      "cell_type": "code",
      "metadata": {
        "colab": {
          "base_uri": "https://localhost:8080/",
          "height": 143
        },
        "id": "ozApdWfJ6TZs",
        "outputId": "cdf01532-2c43-4529-fca9-8e94526fc4a5"
      },
      "source": [
        "df2['ca_time'] = df2['created_at'].dt.time\n",
        "df2['ca_hour'] = df2['created_at'].dt.hour\n",
        "df2['ca_day_no'] = df2['created_at'].dt.weekday\n",
        "df2['ca_day'] = df2['created_at'].dt.day_name()\n",
        "df2['ca_month'] = df2['created_at'].dt.month_name()\n",
        "df2['ca_month_no'] = df2['created_at'].dt.month\n",
        "df2['ca_year'] = df2['created_at'].dt.year\n",
        "\n",
        "df2.sample(3)"
      ],
      "execution_count": 41,
      "outputs": [
        {
          "output_type": "execute_result",
          "data": {
            "text/html": [
              "<div>\n",
              "<style scoped>\n",
              "    .dataframe tbody tr th:only-of-type {\n",
              "        vertical-align: middle;\n",
              "    }\n",
              "\n",
              "    .dataframe tbody tr th {\n",
              "        vertical-align: top;\n",
              "    }\n",
              "\n",
              "    .dataframe thead th {\n",
              "        text-align: right;\n",
              "    }\n",
              "</style>\n",
              "<table border=\"1\" class=\"dataframe\">\n",
              "  <thead>\n",
              "    <tr style=\"text-align: right;\">\n",
              "      <th></th>\n",
              "      <th>title</th>\n",
              "      <th>num_points</th>\n",
              "      <th>num_comments</th>\n",
              "      <th>created_at</th>\n",
              "      <th>ca_time</th>\n",
              "      <th>ca_hour</th>\n",
              "      <th>ca_day_no</th>\n",
              "      <th>ca_day</th>\n",
              "      <th>ca_month</th>\n",
              "      <th>ca_month_no</th>\n",
              "      <th>ca_year</th>\n",
              "    </tr>\n",
              "  </thead>\n",
              "  <tbody>\n",
              "    <tr>\n",
              "      <th>273532</th>\n",
              "      <td>The Darkness Before the Right</td>\n",
              "      <td>2</td>\n",
              "      <td>0</td>\n",
              "      <td>2015-10-02 12:09:00</td>\n",
              "      <td>12:09:00</td>\n",
              "      <td>12</td>\n",
              "      <td>4</td>\n",
              "      <td>Friday</td>\n",
              "      <td>October</td>\n",
              "      <td>10</td>\n",
              "      <td>2015</td>\n",
              "    </tr>\n",
              "    <tr>\n",
              "      <th>63058</th>\n",
              "      <td>Elie Wiesel, Nobel Peace Prize Laureate and Ho...</td>\n",
              "      <td>99</td>\n",
              "      <td>56</td>\n",
              "      <td>2016-07-02 19:58:00</td>\n",
              "      <td>19:58:00</td>\n",
              "      <td>19</td>\n",
              "      <td>5</td>\n",
              "      <td>Saturday</td>\n",
              "      <td>July</td>\n",
              "      <td>7</td>\n",
              "      <td>2016</td>\n",
              "    </tr>\n",
              "    <tr>\n",
              "      <th>62078</th>\n",
              "      <td>Life Behind the Stacks: The Secret Apartments ...</td>\n",
              "      <td>3</td>\n",
              "      <td>0</td>\n",
              "      <td>2016-07-04 23:19:00</td>\n",
              "      <td>23:19:00</td>\n",
              "      <td>23</td>\n",
              "      <td>0</td>\n",
              "      <td>Monday</td>\n",
              "      <td>July</td>\n",
              "      <td>7</td>\n",
              "      <td>2016</td>\n",
              "    </tr>\n",
              "  </tbody>\n",
              "</table>\n",
              "</div>"
            ],
            "text/plain": [
              "                                                    title  ...  ca_year\n",
              "273532                      The Darkness Before the Right  ...     2015\n",
              "63058   Elie Wiesel, Nobel Peace Prize Laureate and Ho...  ...     2016\n",
              "62078   Life Behind the Stacks: The Secret Apartments ...  ...     2016\n",
              "\n",
              "[3 rows x 11 columns]"
            ]
          },
          "metadata": {
            "tags": []
          },
          "execution_count": 41
        }
      ]
    },
    {
      "cell_type": "markdown",
      "metadata": {
        "id": "jZkeXgzPnR50"
      },
      "source": [
        "### __Top 5 Post by Number of Comments__"
      ]
    },
    {
      "cell_type": "code",
      "metadata": {
        "id": "jLo8OduA3bFE"
      },
      "source": [
        "# Top 5 Commented Posts\n",
        "\n",
        "top_comments = df2.sort_values(\n",
        "    ascending=False, \n",
        "    by=['num_comments']).head()"
      ],
      "execution_count": 42,
      "outputs": []
    },
    {
      "cell_type": "code",
      "metadata": {
        "colab": {
          "base_uri": "https://localhost:8080/",
          "height": 265
        },
        "id": "0Rs9Jm5rBeRI",
        "outputId": "475cc06f-3211-4c26-e962-f49fde5eba24"
      },
      "source": [
        "top_comments.plot(\n",
        "    x='title',\n",
        "    y='num_comments',\n",
        "    kind='barh',\n",
        "    xlabel='').legend([\"Total Post by Comments\"])\n",
        "\n",
        "plt.show()"
      ],
      "execution_count": 43,
      "outputs": [
        {
          "output_type": "display_data",
          "data": {
            "image/png": "[encoded data removed]",
            "text/plain": [
              "<Figure size 432x288 with 1 Axes>"
            ]
          },
          "metadata": {
            "tags": [],
            "needs_background": "light"
          }
        }
      ]
    },
    {
      "cell_type": "markdown",
      "metadata": {
        "id": "6A9ahMhinWM0"
      },
      "source": [
        "### __Comparing Points and Comments with Days__"
      ]
    },
    {
      "cell_type": "markdown",
      "metadata": {
        "id": "9EpXrPRMZ1lI"
      },
      "source": [
        "### __Correlations From Heatmap__\n",
        "\n",
        "When comments are compared to points there is a fairly strong positive relationship with a correlation coefficient of 0.81"
      ]
    },
    {
      "cell_type": "code",
      "metadata": {
        "colab": {
          "base_uri": "https://localhost:8080/",
          "height": 378
        },
        "id": "VV9obCJNG4Eg",
        "outputId": "111b0d66-eb63-4b5b-d31a-d1027cbab80c"
      },
      "source": [
        "# Renaming column titles to increase readability within chart\n",
        "df3 = df2.rename(columns={'title':'Title', 'num_points':'Points', 'num_comments':'Comments',\n",
        "                          'ca_hour':'Hour', 'ca_day_no':'Day', 'ca_month_no':'Month', 'ca_year':'Year'})\n",
        "def heat_map():\n",
        "    \n",
        "    # Size of chart      \n",
        "    f, ax = plt.subplots(figsize=(10, 6))\n",
        "    \n",
        "    # Remove duplicate top half of heatmap using a mask\n",
        "    mask = np.zeros_like(df3.corr(), \n",
        "                     dtype=np.bool)\n",
        "\n",
        "    mask[np.triu_indices_from(mask)] = True\n",
        "\n",
        "    ax = sns.heatmap(data=df3.corr(), \n",
        "                    annot=True, \n",
        "                    vmin = -1, \n",
        "                    vmax = 1, \n",
        "                    center = 0, \n",
        "                    mask=mask)\n",
        "\n",
        "    # Rotate y-axis headings\n",
        "    plt.yticks(rotation = 0)\n",
        "\n",
        "heat_map()"
      ],
      "execution_count": 160,
      "outputs": [
        {
          "output_type": "display_data",
          "data": {
            "image/png": "[encoded data removed]",
            "text/plain": [
              "<Figure size 720x432 with 2 Axes>"
            ]
          },
          "metadata": {
            "tags": [],
            "needs_background": "light"
          }
        }
      ]
    },
    {
      "cell_type": "code",
      "metadata": {
        "colab": {
          "base_uri": "https://localhost:8080/",
          "height": 211
        },
        "id": "H82i91QHqQPA",
        "outputId": "60f1cccf-00f6-4527-e2d6-8475cff4c9bf"
      },
      "source": [
        "# Compare num_points and num_comments with days\n",
        "df3 = df2.rename(columns={'title':'Title', 'num_points':'Points', 'num_comments':'Comments',\n",
        "                          'ca_hour':'Hour', 'ca_day_no':'Day Num', 'ca_day':'Day','ca_month_no':'Month', 'ca_year':'Year'})\n",
        "\n",
        "def highlight_max(s):\n",
        "    is_max = s == s.max()\n",
        "    return ['background-color: yellow' if v else '' for v in is_max]\n",
        "\n",
        "num_points_groupby_day = df3.groupby(['Day Num','Day'])['Points','Comments'].mean()\n",
        "\n",
        "num_points_groupby_day.style.apply(highlight_max)"
      ],
      "execution_count": 163,
      "outputs": [
        {
          "output_type": "execute_result",
          "data": {
            "text/html": [
              "<style  type=\"text/css\" >\n",
              "#T_f1fc0f2e_9e6b_11eb_8fa2_0242ac1c0002row6_col0,#T_f1fc0f2e_9e6b_11eb_8fa2_0242ac1c0002row6_col1{\n",
              "            background-color:  yellow;\n",
              "        }</style><table id=\"T_f1fc0f2e_9e6b_11eb_8fa2_0242ac1c0002\" ><thead>    <tr>        <th class=\"blank\" ></th>        <th class=\"blank level0\" ></th>        <th class=\"col_heading level0 col0\" >Points</th>        <th class=\"col_heading level0 col1\" >Comments</th>    </tr>    <tr>        <th class=\"index_name level0\" >Day Num</th>        <th class=\"index_name level1\" >Day</th>        <th class=\"blank\" ></th>        <th class=\"blank\" ></th>    </tr></thead><tbody>\n",
              "                <tr>\n",
              "                        <th id=\"T_f1fc0f2e_9e6b_11eb_8fa2_0242ac1c0002level0_row0\" class=\"row_heading level0 row0\" >0</th>\n",
              "                        <th id=\"T_f1fc0f2e_9e6b_11eb_8fa2_0242ac1c0002level1_row0\" class=\"row_heading level1 row0\" >Monday</th>\n",
              "                        <td id=\"T_f1fc0f2e_9e6b_11eb_8fa2_0242ac1c0002row0_col0\" class=\"data row0 col0\" >15.408457</td>\n",
              "                        <td id=\"T_f1fc0f2e_9e6b_11eb_8fa2_0242ac1c0002row0_col1\" class=\"data row0 col1\" >6.611070</td>\n",
              "            </tr>\n",
              "            <tr>\n",
              "                        <th id=\"T_f1fc0f2e_9e6b_11eb_8fa2_0242ac1c0002level0_row1\" class=\"row_heading level0 row1\" >1</th>\n",
              "                        <th id=\"T_f1fc0f2e_9e6b_11eb_8fa2_0242ac1c0002level1_row1\" class=\"row_heading level1 row1\" >Tuesday</th>\n",
              "                        <td id=\"T_f1fc0f2e_9e6b_11eb_8fa2_0242ac1c0002row1_col0\" class=\"data row1 col0\" >13.856638</td>\n",
              "                        <td id=\"T_f1fc0f2e_9e6b_11eb_8fa2_0242ac1c0002row1_col1\" class=\"data row1 col1\" >6.090691</td>\n",
              "            </tr>\n",
              "            <tr>\n",
              "                        <th id=\"T_f1fc0f2e_9e6b_11eb_8fa2_0242ac1c0002level0_row2\" class=\"row_heading level0 row2\" >2</th>\n",
              "                        <th id=\"T_f1fc0f2e_9e6b_11eb_8fa2_0242ac1c0002level1_row2\" class=\"row_heading level1 row2\" >Wednesday</th>\n",
              "                        <td id=\"T_f1fc0f2e_9e6b_11eb_8fa2_0242ac1c0002row2_col0\" class=\"data row2 col0\" >14.435828</td>\n",
              "                        <td id=\"T_f1fc0f2e_9e6b_11eb_8fa2_0242ac1c0002row2_col1\" class=\"data row2 col1\" >6.266326</td>\n",
              "            </tr>\n",
              "            <tr>\n",
              "                        <th id=\"T_f1fc0f2e_9e6b_11eb_8fa2_0242ac1c0002level0_row3\" class=\"row_heading level0 row3\" >3</th>\n",
              "                        <th id=\"T_f1fc0f2e_9e6b_11eb_8fa2_0242ac1c0002level1_row3\" class=\"row_heading level1 row3\" >Thursday</th>\n",
              "                        <td id=\"T_f1fc0f2e_9e6b_11eb_8fa2_0242ac1c0002row3_col0\" class=\"data row3 col0\" >14.525682</td>\n",
              "                        <td id=\"T_f1fc0f2e_9e6b_11eb_8fa2_0242ac1c0002row3_col1\" class=\"data row3 col1\" >6.305361</td>\n",
              "            </tr>\n",
              "            <tr>\n",
              "                        <th id=\"T_f1fc0f2e_9e6b_11eb_8fa2_0242ac1c0002level0_row4\" class=\"row_heading level0 row4\" >4</th>\n",
              "                        <th id=\"T_f1fc0f2e_9e6b_11eb_8fa2_0242ac1c0002level1_row4\" class=\"row_heading level1 row4\" >Friday</th>\n",
              "                        <td id=\"T_f1fc0f2e_9e6b_11eb_8fa2_0242ac1c0002row4_col0\" class=\"data row4 col0\" >14.372634</td>\n",
              "                        <td id=\"T_f1fc0f2e_9e6b_11eb_8fa2_0242ac1c0002row4_col1\" class=\"data row4 col1\" >6.376105</td>\n",
              "            </tr>\n",
              "            <tr>\n",
              "                        <th id=\"T_f1fc0f2e_9e6b_11eb_8fa2_0242ac1c0002level0_row5\" class=\"row_heading level0 row5\" >5</th>\n",
              "                        <th id=\"T_f1fc0f2e_9e6b_11eb_8fa2_0242ac1c0002level1_row5\" class=\"row_heading level1 row5\" >Saturday</th>\n",
              "                        <td id=\"T_f1fc0f2e_9e6b_11eb_8fa2_0242ac1c0002row5_col0\" class=\"data row5 col0\" >17.331082</td>\n",
              "                        <td id=\"T_f1fc0f2e_9e6b_11eb_8fa2_0242ac1c0002row5_col1\" class=\"data row5 col1\" >7.289494</td>\n",
              "            </tr>\n",
              "            <tr>\n",
              "                        <th id=\"T_f1fc0f2e_9e6b_11eb_8fa2_0242ac1c0002level0_row6\" class=\"row_heading level0 row6\" >6</th>\n",
              "                        <th id=\"T_f1fc0f2e_9e6b_11eb_8fa2_0242ac1c0002level1_row6\" class=\"row_heading level1 row6\" >Sunday</th>\n",
              "                        <td id=\"T_f1fc0f2e_9e6b_11eb_8fa2_0242ac1c0002row6_col0\" class=\"data row6 col0\" >17.752834</td>\n",
              "                        <td id=\"T_f1fc0f2e_9e6b_11eb_8fa2_0242ac1c0002row6_col1\" class=\"data row6 col1\" >7.725273</td>\n",
              "            </tr>\n",
              "    </tbody></table>"
            ],
            "text/plain": [
              "<pandas.io.formats.style.Styler at 0x7f4bebc31f90>"
            ]
          },
          "metadata": {
            "tags": []
          },
          "execution_count": 163
        }
      ]
    },
    {
      "cell_type": "code",
      "metadata": {
        "colab": {
          "base_uri": "https://localhost:8080/",
          "height": 281
        },
        "id": "WDxM1DzQx7ts",
        "outputId": "956c062d-1120-40d4-d1f4-51320bd008e6"
      },
      "source": [
        "xlabels = ('Mon','Tues','Wed','Thurs','Fri','Sat','Sun')\n",
        "\n",
        "ax = sns.barplot(\n",
        "    data=df2, \n",
        "    x=\"ca_day_no\", \n",
        "    y=\"num_points\",\n",
        "    palette=\"Blues_d\")\n",
        "\n",
        "ax.set_xticklabels(xlabels, minor=False)\n",
        "\n",
        "plt.title('Average Points by Day')\n",
        "plt.xlabel('')\n",
        "plt.ylabel('Posts Avg Points')\n",
        "\n",
        "plt.show()"
      ],
      "execution_count": 177,
      "outputs": [
        {
          "output_type": "display_data",
          "data": {
            "image/png": "[encoded data removed]",
            "text/plain": [
              "<Figure size 432x288 with 1 Axes>"
            ]
          },
          "metadata": {
            "tags": [],
            "needs_background": "light"
          }
        }
      ]
    },
    {
      "cell_type": "code",
      "metadata": {
        "colab": {
          "base_uri": "https://localhost:8080/",
          "height": 186
        },
        "id": "wfUCc4gFw9lI",
        "outputId": "f0139590-e097-46ba-b968-fa21e11822b7"
      },
      "source": [
        "num_pts_groupby_hr = df3.groupby(\n",
        "    ['Hour'])['Points','Comments'].mean().sort_values(\n",
        "        by='Points',\n",
        "        ascending=False).head().sort_values(\n",
        "            by='Hour')\n",
        "print('Top 5 Hours for Posts by Average Points/Comments')\n",
        "\n",
        "\n",
        "num_pts_groupby_hr.style.apply(highlight_max)"
      ],
      "execution_count": 200,
      "outputs": [
        {
          "output_type": "stream",
          "text": [
            "Top 5 Hours for Posts by Average Points/Comments\n"
          ],
          "name": "stdout"
        },
        {
          "output_type": "execute_result",
          "data": {
            "text/html": [
              "<style  type=\"text/css\" >\n",
              "#T_767aba00_9e6e_11eb_8fa2_0242ac1c0002row3_col0,#T_767aba00_9e6e_11eb_8fa2_0242ac1c0002row3_col1{\n",
              "            background-color:  yellow;\n",
              "        }</style><table id=\"T_767aba00_9e6e_11eb_8fa2_0242ac1c0002\" ><thead>    <tr>        <th class=\"blank level0\" ></th>        <th class=\"col_heading level0 col0\" >Points</th>        <th class=\"col_heading level0 col1\" >Comments</th>    </tr>    <tr>        <th class=\"index_name level0\" >Hour</th>        <th class=\"blank\" ></th>        <th class=\"blank\" ></th>    </tr></thead><tbody>\n",
              "                <tr>\n",
              "                        <th id=\"T_767aba00_9e6e_11eb_8fa2_0242ac1c0002level0_row0\" class=\"row_heading level0 row0\" >0</th>\n",
              "                        <td id=\"T_767aba00_9e6e_11eb_8fa2_0242ac1c0002row0_col0\" class=\"data row0 col0\" >15.879906</td>\n",
              "                        <td id=\"T_767aba00_9e6e_11eb_8fa2_0242ac1c0002row0_col1\" class=\"data row0 col1\" >6.584634</td>\n",
              "            </tr>\n",
              "            <tr>\n",
              "                        <th id=\"T_767aba00_9e6e_11eb_8fa2_0242ac1c0002level0_row1\" class=\"row_heading level0 row1\" >2</th>\n",
              "                        <td id=\"T_767aba00_9e6e_11eb_8fa2_0242ac1c0002row1_col0\" class=\"data row1 col0\" >16.406170</td>\n",
              "                        <td id=\"T_767aba00_9e6e_11eb_8fa2_0242ac1c0002row1_col1\" class=\"data row1 col1\" >7.266533</td>\n",
              "            </tr>\n",
              "            <tr>\n",
              "                        <th id=\"T_767aba00_9e6e_11eb_8fa2_0242ac1c0002level0_row2\" class=\"row_heading level0 row2\" >11</th>\n",
              "                        <td id=\"T_767aba00_9e6e_11eb_8fa2_0242ac1c0002row2_col0\" class=\"data row2 col0\" >16.192910</td>\n",
              "                        <td id=\"T_767aba00_9e6e_11eb_8fa2_0242ac1c0002row2_col1\" class=\"data row2 col1\" >7.368818</td>\n",
              "            </tr>\n",
              "            <tr>\n",
              "                        <th id=\"T_767aba00_9e6e_11eb_8fa2_0242ac1c0002level0_row3\" class=\"row_heading level0 row3\" >12</th>\n",
              "                        <td id=\"T_767aba00_9e6e_11eb_8fa2_0242ac1c0002row3_col0\" class=\"data row3 col0\" >16.785927</td>\n",
              "                        <td id=\"T_767aba00_9e6e_11eb_8fa2_0242ac1c0002row3_col1\" class=\"data row3 col1\" >7.690042</td>\n",
              "            </tr>\n",
              "            <tr>\n",
              "                        <th id=\"T_767aba00_9e6e_11eb_8fa2_0242ac1c0002level0_row4\" class=\"row_heading level0 row4\" >13</th>\n",
              "                        <td id=\"T_767aba00_9e6e_11eb_8fa2_0242ac1c0002row4_col0\" class=\"data row4 col0\" >16.109430</td>\n",
              "                        <td id=\"T_767aba00_9e6e_11eb_8fa2_0242ac1c0002row4_col1\" class=\"data row4 col1\" >7.336828</td>\n",
              "            </tr>\n",
              "    </tbody></table>"
            ],
            "text/plain": [
              "<pandas.io.formats.style.Styler at 0x7f4beae45f90>"
            ]
          },
          "metadata": {
            "tags": []
          },
          "execution_count": 200
        }
      ]
    },
    {
      "cell_type": "code",
      "metadata": {
        "colab": {
          "base_uri": "https://localhost:8080/",
          "height": 206
        },
        "id": "xqMlDQSYCNdc",
        "outputId": "f1a0f3bf-d05e-49e1-a221-3d95ebc4d673"
      },
      "source": [
        "# Top 5 Posts by Points\n",
        "\n",
        "top_posts = df3.sort_values(\n",
        "    ascending=False,\n",
        "    by='Points').head()\n",
        "\n",
        "top_posts.head()"
      ],
      "execution_count": 140,
      "outputs": [
        {
          "output_type": "execute_result",
          "data": {
            "text/html": [
              "<div>\n",
              "<style scoped>\n",
              "    .dataframe tbody tr th:only-of-type {\n",
              "        vertical-align: middle;\n",
              "    }\n",
              "\n",
              "    .dataframe tbody tr th {\n",
              "        vertical-align: top;\n",
              "    }\n",
              "\n",
              "    .dataframe thead th {\n",
              "        text-align: right;\n",
              "    }\n",
              "</style>\n",
              "<table border=\"1\" class=\"dataframe\">\n",
              "  <thead>\n",
              "    <tr style=\"text-align: right;\">\n",
              "      <th></th>\n",
              "      <th>Title</th>\n",
              "      <th>Points</th>\n",
              "      <th>Comments</th>\n",
              "      <th>created_at</th>\n",
              "      <th>ca_time</th>\n",
              "      <th>Hour</th>\n",
              "      <th>Day Num</th>\n",
              "      <th>Day</th>\n",
              "      <th>ca_month</th>\n",
              "      <th>Month</th>\n",
              "      <th>Year</th>\n",
              "    </tr>\n",
              "  </thead>\n",
              "  <tbody>\n",
              "    <tr>\n",
              "      <th>170017</th>\n",
              "      <td>A Message to Our Customers</td>\n",
              "      <td>5771</td>\n",
              "      <td>967</td>\n",
              "      <td>2016-02-17 08:38:00</td>\n",
              "      <td>08:38:00</td>\n",
              "      <td>8</td>\n",
              "      <td>2</td>\n",
              "      <td>Wednesday</td>\n",
              "      <td>February</td>\n",
              "      <td>2</td>\n",
              "      <td>2016</td>\n",
              "    </tr>\n",
              "    <tr>\n",
              "      <th>69169</th>\n",
              "      <td>UK votes to leave EU</td>\n",
              "      <td>3125</td>\n",
              "      <td>2531</td>\n",
              "      <td>2016-06-24 03:48:00</td>\n",
              "      <td>03:48:00</td>\n",
              "      <td>3</td>\n",
              "      <td>4</td>\n",
              "      <td>Friday</td>\n",
              "      <td>June</td>\n",
              "      <td>6</td>\n",
              "      <td>2016</td>\n",
              "    </tr>\n",
              "    <tr>\n",
              "      <th>9263</th>\n",
              "      <td>Pardon Snowden</td>\n",
              "      <td>2553</td>\n",
              "      <td>781</td>\n",
              "      <td>2016-09-14 08:31:00</td>\n",
              "      <td>08:31:00</td>\n",
              "      <td>8</td>\n",
              "      <td>2</td>\n",
              "      <td>Wednesday</td>\n",
              "      <td>September</td>\n",
              "      <td>9</td>\n",
              "      <td>2016</td>\n",
              "    </tr>\n",
              "    <tr>\n",
              "      <th>57128</th>\n",
              "      <td>Tell HN: New features and a moderator</td>\n",
              "      <td>2381</td>\n",
              "      <td>451</td>\n",
              "      <td>2016-07-11 19:34:00</td>\n",
              "      <td>19:34:00</td>\n",
              "      <td>19</td>\n",
              "      <td>0</td>\n",
              "      <td>Monday</td>\n",
              "      <td>July</td>\n",
              "      <td>7</td>\n",
              "      <td>2016</td>\n",
              "    </tr>\n",
              "    <tr>\n",
              "      <th>136284</th>\n",
              "      <td>Ubuntu on Windows</td>\n",
              "      <td>2049</td>\n",
              "      <td>513</td>\n",
              "      <td>2016-03-30 16:35:00</td>\n",
              "      <td>16:35:00</td>\n",
              "      <td>16</td>\n",
              "      <td>2</td>\n",
              "      <td>Wednesday</td>\n",
              "      <td>March</td>\n",
              "      <td>3</td>\n",
              "      <td>2016</td>\n",
              "    </tr>\n",
              "  </tbody>\n",
              "</table>\n",
              "</div>"
            ],
            "text/plain": [
              "                                        Title  Points  ...  Month  Year\n",
              "170017             A Message to Our Customers    5771  ...      2  2016\n",
              "69169                    UK votes to leave EU    3125  ...      6  2016\n",
              "9263                           Pardon Snowden    2553  ...      9  2016\n",
              "57128   Tell HN: New features and a moderator    2381  ...      7  2016\n",
              "136284                      Ubuntu on Windows    2049  ...      3  2016\n",
              "\n",
              "[5 rows x 11 columns]"
            ]
          },
          "metadata": {
            "tags": []
          },
          "execution_count": 140
        }
      ]
    },
    {
      "cell_type": "code",
      "metadata": {
        "colab": {
          "base_uri": "https://localhost:8080/",
          "height": 265
        },
        "id": "Q-x-osKwCvis",
        "outputId": "82d9ed30-ed18-4d75-b31a-bc28f6ef5b25"
      },
      "source": [
        "# Top Post by Points \n",
        "\n",
        "top_posts.plot(\n",
        "    y='Points',\n",
        "    x='Title',\n",
        "    kind='barh',\n",
        "    xlabel='',\n",
        "    ylabel='Points').legend([\"Total Post by Points\"])\n",
        "\n",
        "plt.show()"
      ],
      "execution_count": 178,
      "outputs": [
        {
          "output_type": "display_data",
          "data": {
            "image/png": "[encoded data removed]",
            "text/plain": [
              "<Figure size 432x288 with 1 Axes>"
            ]
          },
          "metadata": {
            "tags": [],
            "needs_background": "light"
          }
        }
      ]
    },
    {
      "cell_type": "markdown",
      "metadata": {
        "id": "suLwbZca7NAE"
      },
      "source": [
        "# __Results__"
      ]
    },
    {
      "cell_type": "markdown",
      "metadata": {
        "id": "YXSXcKWP9PRk"
      },
      "source": [
        "### Correlation of Comments and Points\n",
        "\n",
        "A strong correlation with total number of points and number of comments. More comments in a post can heavily enfluence a posts potients to gain more points."
      ]
    },
    {
      "cell_type": "code",
      "metadata": {
        "colab": {
          "base_uri": "https://localhost:8080/",
          "height": 378
        },
        "id": "M-fjvtZ77MZA",
        "outputId": "3041d867-9860-4cf6-ef4b-3d972eac2616"
      },
      "source": [
        "heat_map()"
      ],
      "execution_count": 181,
      "outputs": [
        {
          "output_type": "display_data",
          "data": {
            "image/png": "[encoded data removed]",
            "text/plain": [
              "<Figure size 720x432 with 2 Axes>"
            ]
          },
          "metadata": {
            "tags": [],
            "needs_background": "light"
          }
        }
      ]
    },
    {
      "cell_type": "markdown",
      "metadata": {
        "id": "iIYBpbtL9bbs"
      },
      "source": [
        "<br>\n",
        "\n",
        "### Days for Top Posts\n",
        "\n",
        "Weekends showed to have posts with a higher average for points and comments."
      ]
    },
    {
      "cell_type": "code",
      "metadata": {
        "colab": {
          "base_uri": "https://localhost:8080/",
          "height": 300
        },
        "id": "Rj733ozv7oZM",
        "outputId": "6388ee84-e0bd-49f1-f138-60b71deafb73"
      },
      "source": [
        "num_points_groupby_day.sort_values(by='Points',ascending=False)"
      ],
      "execution_count": 189,
      "outputs": [
        {
          "output_type": "execute_result",
          "data": {
            "text/html": [
              "<div>\n",
              "<style scoped>\n",
              "    .dataframe tbody tr th:only-of-type {\n",
              "        vertical-align: middle;\n",
              "    }\n",
              "\n",
              "    .dataframe tbody tr th {\n",
              "        vertical-align: top;\n",
              "    }\n",
              "\n",
              "    .dataframe thead th {\n",
              "        text-align: right;\n",
              "    }\n",
              "</style>\n",
              "<table border=\"1\" class=\"dataframe\">\n",
              "  <thead>\n",
              "    <tr style=\"text-align: right;\">\n",
              "      <th></th>\n",
              "      <th></th>\n",
              "      <th>Points</th>\n",
              "      <th>Comments</th>\n",
              "    </tr>\n",
              "    <tr>\n",
              "      <th>Day Num</th>\n",
              "      <th>Day</th>\n",
              "      <th></th>\n",
              "      <th></th>\n",
              "    </tr>\n",
              "  </thead>\n",
              "  <tbody>\n",
              "    <tr>\n",
              "      <th>6</th>\n",
              "      <th>Sunday</th>\n",
              "      <td>17.752834</td>\n",
              "      <td>7.725273</td>\n",
              "    </tr>\n",
              "    <tr>\n",
              "      <th>5</th>\n",
              "      <th>Saturday</th>\n",
              "      <td>17.331082</td>\n",
              "      <td>7.289494</td>\n",
              "    </tr>\n",
              "    <tr>\n",
              "      <th>0</th>\n",
              "      <th>Monday</th>\n",
              "      <td>15.408457</td>\n",
              "      <td>6.611070</td>\n",
              "    </tr>\n",
              "    <tr>\n",
              "      <th>3</th>\n",
              "      <th>Thursday</th>\n",
              "      <td>14.525682</td>\n",
              "      <td>6.305361</td>\n",
              "    </tr>\n",
              "    <tr>\n",
              "      <th>2</th>\n",
              "      <th>Wednesday</th>\n",
              "      <td>14.435828</td>\n",
              "      <td>6.266326</td>\n",
              "    </tr>\n",
              "    <tr>\n",
              "      <th>4</th>\n",
              "      <th>Friday</th>\n",
              "      <td>14.372634</td>\n",
              "      <td>6.376105</td>\n",
              "    </tr>\n",
              "    <tr>\n",
              "      <th>1</th>\n",
              "      <th>Tuesday</th>\n",
              "      <td>13.856638</td>\n",
              "      <td>6.090691</td>\n",
              "    </tr>\n",
              "  </tbody>\n",
              "</table>\n",
              "</div>"
            ],
            "text/plain": [
              "                      Points  Comments\n",
              "Day Num Day                           \n",
              "6       Sunday     17.752834  7.725273\n",
              "5       Saturday   17.331082  7.289494\n",
              "0       Monday     15.408457  6.611070\n",
              "3       Thursday   14.525682  6.305361\n",
              "2       Wednesday  14.435828  6.266326\n",
              "4       Friday     14.372634  6.376105\n",
              "1       Tuesday    13.856638  6.090691"
            ]
          },
          "metadata": {
            "tags": []
          },
          "execution_count": 189
        }
      ]
    },
    {
      "cell_type": "markdown",
      "metadata": {
        "id": "j8DxKfY6_SmQ"
      },
      "source": [
        "### Hours for Top Post\n",
        "\n",
        "Posts with the most points showed the highest average for being posted at noon."
      ]
    },
    {
      "cell_type": "code",
      "metadata": {
        "colab": {
          "base_uri": "https://localhost:8080/",
          "height": 169
        },
        "id": "tiqdwmvx_Qkk",
        "outputId": "9cace868-cd7f-48e0-b259-e74ac80c42e6"
      },
      "source": [
        "num_pts_groupby_hr.style.apply(highlight_max)"
      ],
      "execution_count": 201,
      "outputs": [
        {
          "output_type": "execute_result",
          "data": {
            "text/html": [
              "<style  type=\"text/css\" >\n",
              "#T_7d74bc5c_9e6e_11eb_8fa2_0242ac1c0002row3_col0,#T_7d74bc5c_9e6e_11eb_8fa2_0242ac1c0002row3_col1{\n",
              "            background-color:  yellow;\n",
              "        }</style><table id=\"T_7d74bc5c_9e6e_11eb_8fa2_0242ac1c0002\" ><thead>    <tr>        <th class=\"blank level0\" ></th>        <th class=\"col_heading level0 col0\" >Points</th>        <th class=\"col_heading level0 col1\" >Comments</th>    </tr>    <tr>        <th class=\"index_name level0\" >Hour</th>        <th class=\"blank\" ></th>        <th class=\"blank\" ></th>    </tr></thead><tbody>\n",
              "                <tr>\n",
              "                        <th id=\"T_7d74bc5c_9e6e_11eb_8fa2_0242ac1c0002level0_row0\" class=\"row_heading level0 row0\" >0</th>\n",
              "                        <td id=\"T_7d74bc5c_9e6e_11eb_8fa2_0242ac1c0002row0_col0\" class=\"data row0 col0\" >15.879906</td>\n",
              "                        <td id=\"T_7d74bc5c_9e6e_11eb_8fa2_0242ac1c0002row0_col1\" class=\"data row0 col1\" >6.584634</td>\n",
              "            </tr>\n",
              "            <tr>\n",
              "                        <th id=\"T_7d74bc5c_9e6e_11eb_8fa2_0242ac1c0002level0_row1\" class=\"row_heading level0 row1\" >2</th>\n",
              "                        <td id=\"T_7d74bc5c_9e6e_11eb_8fa2_0242ac1c0002row1_col0\" class=\"data row1 col0\" >16.406170</td>\n",
              "                        <td id=\"T_7d74bc5c_9e6e_11eb_8fa2_0242ac1c0002row1_col1\" class=\"data row1 col1\" >7.266533</td>\n",
              "            </tr>\n",
              "            <tr>\n",
              "                        <th id=\"T_7d74bc5c_9e6e_11eb_8fa2_0242ac1c0002level0_row2\" class=\"row_heading level0 row2\" >11</th>\n",
              "                        <td id=\"T_7d74bc5c_9e6e_11eb_8fa2_0242ac1c0002row2_col0\" class=\"data row2 col0\" >16.192910</td>\n",
              "                        <td id=\"T_7d74bc5c_9e6e_11eb_8fa2_0242ac1c0002row2_col1\" class=\"data row2 col1\" >7.368818</td>\n",
              "            </tr>\n",
              "            <tr>\n",
              "                        <th id=\"T_7d74bc5c_9e6e_11eb_8fa2_0242ac1c0002level0_row3\" class=\"row_heading level0 row3\" >12</th>\n",
              "                        <td id=\"T_7d74bc5c_9e6e_11eb_8fa2_0242ac1c0002row3_col0\" class=\"data row3 col0\" >16.785927</td>\n",
              "                        <td id=\"T_7d74bc5c_9e6e_11eb_8fa2_0242ac1c0002row3_col1\" class=\"data row3 col1\" >7.690042</td>\n",
              "            </tr>\n",
              "            <tr>\n",
              "                        <th id=\"T_7d74bc5c_9e6e_11eb_8fa2_0242ac1c0002level0_row4\" class=\"row_heading level0 row4\" >13</th>\n",
              "                        <td id=\"T_7d74bc5c_9e6e_11eb_8fa2_0242ac1c0002row4_col0\" class=\"data row4 col0\" >16.109430</td>\n",
              "                        <td id=\"T_7d74bc5c_9e6e_11eb_8fa2_0242ac1c0002row4_col1\" class=\"data row4 col1\" >7.336828</td>\n",
              "            </tr>\n",
              "    </tbody></table>"
            ],
            "text/plain": [
              "<pandas.io.formats.style.Styler at 0x7f4beae3a510>"
            ]
          },
          "metadata": {
            "tags": []
          },
          "execution_count": 201
        }
      ]
    },
    {
      "cell_type": "markdown",
      "metadata": {
        "id": "gmrZ6_Ue-XS8"
      },
      "source": [
        "### Top 5 Posts by Total Points: \n",
        "\n",
        "_A Message to Our Customers_"
      ]
    },
    {
      "cell_type": "code",
      "metadata": {
        "colab": {
          "base_uri": "https://localhost:8080/",
          "height": 265
        },
        "id": "FBP9pI3a8CZQ",
        "outputId": "9cca0003-b898-4b1c-fe07-f1efc5fd9ed0"
      },
      "source": [
        "top_post_by_pts ()"
      ],
      "execution_count": 190,
      "outputs": [
        {
          "output_type": "display_data",
          "data": {
            "image/png": "[encoded data removed]",
            "text/plain": [
              "<Figure size 432x288 with 1 Axes>"
            ]
          },
          "metadata": {
            "tags": [],
            "needs_background": "light"
          }
        }
      ]
    }
  ]
}