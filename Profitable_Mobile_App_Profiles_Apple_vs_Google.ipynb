{
  "nbformat": 4,
  "nbformat_minor": 0,
  "metadata": {
    "kernelspec": {
      "display_name": "Python 3",
      "language": "python",
      "name": "python3"
    },
    "language_info": {
      "codemirror_mode": {
        "name": "ipython",
        "version": 3
      },
      "file_extension": ".py",
      "mimetype": "text/x-python",
      "name": "python",
      "nbconvert_exporter": "python",
      "pygments_lexer": "ipython3",
      "version": "3.8.2"
    },
    "colab": {
      "name": "Profitable_Mobile_App_Profiles_Apple_vs_Google.ipynb",
      "provenance": [],
      "collapsed_sections": [],
      "include_colab_link": true
    }
  },
  "cells": [
    {
      "cell_type": "markdown",
      "metadata": {
        "id": "view-in-github",
        "colab_type": "text"
      },
      "source": [
        "<a href=\"https://colab.research.google.com/github/drusho/data_analysis/blob/main/Profitable_Mobile_App_Profiles_Apple_vs_Google.ipynb\" target=\"_parent\"><img src=\"https://colab.research.google.com/assets/colab-badge.svg\" alt=\"Open In Colab\"/></a>"
      ]
    },
    {
      "cell_type": "markdown",
      "metadata": {
        "id": "z0mBmTLyLr3o"
      },
      "source": [
        "#Analyzing Mobile App Data\n",
        "\n",
        "###Introduction\n",
        "\n",
        "The goal of this project is analyze data from two csv files ( ) that include app sale information for Google Playstore and Apple's App Store.  Information in these csv files includes sales for app around the world.  One **goal for this project** is **to determine what types of apps are likely to attract more users on either Google Playstore and Apple's App Store.** \n",
        "\n",
        "This will include: \n",
        "- Free vs Paid Apps\n",
        "- Most popular Genres (using total reviews)\n",
        "- Most popular apps by Genre  \n",
        "\n",
        "Fun Fact: As of September 2018, there were approximately 2 million iOS apps available on the App Store, and 2.1 million Android apps on Google Play."
      ]
    },
    {
      "cell_type": "markdown",
      "metadata": {
        "id": "x8rq-VjJP8dL"
      },
      "source": [
        "### Importing two datasets and seperating the headers\n",
        "\n",
        "*Raw csv files are located on github.\n"
      ]
    },
    {
      "cell_type": "code",
      "metadata": {
        "id": "FtVSbkeBLr3s",
        "colab": {
          "base_uri": "https://localhost:8080/"
        },
        "outputId": "b1533bec-350e-42d0-92fd-c4b57b7a1e06"
      },
      "source": [
        "from csv import reader\n",
        "\n",
        "# The Google Playstore csv from GitHub\n",
        "!curl --remote-name \\\n",
        "     -H 'Accept: application/vnd.github.v3.raw' \\\n",
        "     --location https://raw.githubusercontent.com/drusho/data_analysis/main/csv_files/googleplaystore.csv\n",
        "\n",
        "open_android_file = open('googleplaystore.csv')\n",
        "read_android_file = reader(open_android_file)\n",
        "android = list(read_android_file)\n",
        "android_header = android[0]\n",
        "android = android[1:]\n",
        "\n",
        "# The Apple Store csv from Github\n",
        "!curl --remote-name \\\n",
        "     -H 'Accept: application/vnd.github.v3.raw' \\\n",
        "     --location https://raw.githubusercontent.com/drusho/100daysofcode/main/csv_files/AppleStore.csv\n",
        "\n",
        "open_apple_file = open('AppleStore.csv')\n",
        "read_apple_file = reader(open_apple_file)\n",
        "apple = list(read_apple_file)\n",
        "apple_header = apple[0]\n",
        "apple = apple[1:]\n"
      ],
      "execution_count": 3,
      "outputs": [
        {
          "output_type": "stream",
          "text": [
            "  % Total    % Received % Xferd  Average Speed   Time    Time     Time  Current\n",
            "                                 Dload  Upload   Total   Spent    Left  Speed\n",
            "100 1317k  100 1317k    0     0  5422k      0 --:--:-- --:--:-- --:--:-- 5422k\n",
            "  % Total    % Received % Xferd  Average Speed   Time    Time     Time  Current\n",
            "                                 Dload  Upload   Total   Spent    Left  Speed\n",
            "100  708k  100  708k    0     0  5211k      0 --:--:-- --:--:-- --:--:-- 5211k\n"
          ],
          "name": "stdout"
        }
      ]
    },
    {
      "cell_type": "markdown",
      "metadata": {
        "id": "seEY8so0QQ3E"
      },
      "source": [
        "####Determine the number of rows and columns for each dataset"
      ]
    },
    {
      "cell_type": "code",
      "metadata": {
        "id": "AoUQS9UeLr3t"
      },
      "source": [
        "def explore_data(dataset, start, end, rows_and_columns=False):\n",
        "    dataset_slice = dataset[start:end]\n",
        "    for row in dataset_slice:\n",
        "        print(row)\n",
        "        print('\\n') # adds a new (empty) line after each row\n",
        "        \n",
        "    if rows_and_columns:\n",
        "        print ('Number of rows: ', len(dataset))\n",
        "        print (f'Number of columns: {len(dataset[0])}')\n",
        "        "
      ],
      "execution_count": 4,
      "outputs": []
    },
    {
      "cell_type": "code",
      "metadata": {
        "colab": {
          "base_uri": "https://localhost:8080/"
        },
        "id": "8ew2aMeHLr3t",
        "outputId": "c456c252-6d32-4506-e479-86b87e1f2e4e"
      },
      "source": [
        "print(f'Android Data Set: \\n{android_header} \\n')\n",
        "print('First row of Android Data')\n",
        "explore_data(android,0,1,rows_and_columns=True)\n",
        "\n",
        "print(f'\\n Apple Data Set: \\n{apple_header} \\n')\n",
        "print('First row of Apple Data')\n",
        "explore_data(apple,0,1,True)\n",
        "\n"
      ],
      "execution_count": 5,
      "outputs": [
        {
          "output_type": "stream",
          "text": [
            "Android Data Set: \n",
            "['App', 'Category', 'Rating', 'Reviews', 'Size', 'Installs', 'Type', 'Price', 'Content Rating', 'Genres', 'Last Updated', 'Current Ver', 'Android Ver'] \n",
            "\n",
            "First row of Android Data\n",
            "['Photo Editor & Candy Camera & Grid & ScrapBook', 'ART_AND_DESIGN', '4.1', '159', '19M', '10,000+', 'Free', '0', 'Everyone', 'Art & Design', 'January 7, 2018', '1.0.0', '4.0.3 and up']\n",
            "\n",
            "\n",
            "Number of rows:  10841\n",
            "Number of columns: 13\n",
            "\n",
            " Apple Data Set: \n",
            "['id', 'track_name', 'size_bytes', 'currency', 'price', 'rating_count_tot', 'rating_count_ver', 'user_rating', 'user_rating_ver', 'ver', 'cont_rating', 'prime_genre', 'sup_devices.num', 'ipadSc_urls.num', 'lang.num', 'vpp_lic'] \n",
            "\n",
            "First row of Apple Data\n",
            "['284882215', 'Facebook', '389879808', 'USD', '0.0', '2974676', '212', '3.5', '3.5', '95.0', '4+', 'Social Networking', '37', '1', '29', '1']\n",
            "\n",
            "\n",
            "Number of rows:  7197\n",
            "Number of columns: 16\n"
          ],
          "name": "stdout"
        }
      ]
    },
    {
      "cell_type": "markdown",
      "metadata": {
        "id": "U_h-zWuAZzEJ"
      },
      "source": [
        "# Searching for errors in the datasets.\n",
        "\n",
        "The Google Play data set has a dedicated discussion section that outlines an error for row 10472 on the Google Playstore file.\n",
        "\n",
        "All rows should match what is found in the header.\n"
      ]
    },
    {
      "cell_type": "code",
      "metadata": {
        "id": "goyjwxNiaPiY",
        "colab": {
          "base_uri": "https://localhost:8080/"
        },
        "outputId": "2528d15a-5c59-4d61-f04a-2cbaa58a6a13"
      },
      "source": [
        "print(f'Google Playstore Header:\\n{android_header}\\n')  # header\n",
        "\n",
        "print(f\"Row 10472 (error in 'Rating'):\\n{android[10472]}\\n\")  # incorrect row\n",
        "\n",
        "print(f\"Row 1 (example of a correct 'Rating'):\\n{android[0]}\")  # correct row"
      ],
      "execution_count": 6,
      "outputs": [
        {
          "output_type": "stream",
          "text": [
            "Google Playstore Header:\n",
            "['App', 'Category', 'Rating', 'Reviews', 'Size', 'Installs', 'Type', 'Price', 'Content Rating', 'Genres', 'Last Updated', 'Current Ver', 'Android Ver']\n",
            "\n",
            "Row 10472 (error in 'Rating'):\n",
            "['Life Made WI-Fi Touchscreen Photo Frame', '1.9', '19', '3.0M', '1,000+', 'Free', '0', 'Everyone', '', 'February 11, 2018', '1.0.19', '4.0 and up']\n",
            "\n",
            "Row 1 (example of a correct 'Rating'):\n",
            "['Photo Editor & Candy Camera & Grid & ScrapBook', 'ART_AND_DESIGN', '4.1', '159', '19M', '10,000+', 'Free', '0', 'Everyone', 'Art & Design', 'January 7, 2018', '1.0.0', '4.0.3 and up']\n"
          ],
          "name": "stdout"
        }
      ]
    },
    {
      "cell_type": "code",
      "metadata": {
        "colab": {
          "base_uri": "https://localhost:8080/"
        },
        "id": "830zqtubg2XA",
        "outputId": "9c0502cb-eae6-4e03-ea07-6d879b3cf710"
      },
      "source": [
        "import pandas as pd\n",
        "from numpy import mean\n",
        "from numpy import median\n",
        "\n",
        "print(f\"Row 10472 'Rating': {android[10472][2]}\\n\")  # incorrect row\n",
        "print(f\"Row 1 'Rating': {android[0][2]}\\n\")      # correct row\n",
        "\n",
        "avglist = []\n",
        "typelist =[]\n",
        "for row in android:\n",
        "  try:\n",
        "    if float(row[2])>= 0.0:\n",
        "      avglist.append(float(row[2]))\n",
        "  except:\n",
        "    pass\n",
        "\n",
        "print(f\"Unique values in 'Ratings' column: {sorted(pd.Series(avglist).unique(),reverse=True)}\\n\")\n",
        "\n",
        "print(f\"Average of values in 'Ratings' column: {mean(avglist)}\")"
      ],
      "execution_count": 7,
      "outputs": [
        {
          "output_type": "stream",
          "text": [
            "Row 10472 'Rating': 19\n",
            "\n",
            "Row 1 'Rating': 4.1\n",
            "\n",
            "Unique values in 'Ratings' column: [19.0, 5.0, 4.9, 4.8, 4.7, 4.6, 4.5, 4.4, 4.3, 4.2, 4.1, 4.0, 3.9, 3.8, 3.7, 3.6, 3.5, 3.4, 3.3, 3.2, 3.1, 3.0, 2.9, 2.8, 2.7, 2.6, 2.5, 2.4, 2.3, 2.2, 2.1, 2.0, 1.9, 1.8, 1.7, 1.6, 1.5, 1.4, 1.2, 1.0]\n",
            "\n",
            "Average of values in 'Ratings' column: 4.193338315362443\n"
          ],
          "name": "stdout"
        }
      ]
    },
    {
      "cell_type": "markdown",
      "metadata": {
        "id": "cFMxgWPIjCcj"
      },
      "source": [
        "### Analysis of Row 10472 \n",
        "\n",
        "Row 10472 has a rating of 19, which is an int.  Most values for 'Rating' are floats between 0.0 - 5.0.\n",
        "\n",
        "Also the 'Category' column for row 10472 is 1.9, it should be a str datatype, not a number.  \n"
      ]
    },
    {
      "cell_type": "code",
      "metadata": {
        "id": "7qVcL7EjLr3u",
        "colab": {
          "base_uri": "https://localhost:8080/"
        },
        "outputId": "44b1bf4a-c535-4a8c-9152-e2d3b9374fb9"
      },
      "source": [
        "print(f'Length of Android Header: {len(android_header)}\\n')\n",
        "\n",
        "for row in android:\n",
        "    header_length = len(android_header)\n",
        "    row_length = len(row)\n",
        "    \n",
        "    if row_length != header_length:\n",
        "        print(row)\n",
        "        print(f'\\n Length of row: {len(row)}')\n",
        "        print(android.index(row))\n"
      ],
      "execution_count": 8,
      "outputs": [
        {
          "output_type": "stream",
          "text": [
            "Length of Android Header: 13\n",
            "\n",
            "['Life Made WI-Fi Touchscreen Photo Frame', '1.9', '19', '3.0M', '1,000+', 'Free', '0', 'Everyone', '', 'February 11, 2018', '1.0.19', '4.0 and up']\n",
            "\n",
            " Length of row: 12\n",
            "10472\n"
          ],
          "name": "stdout"
        }
      ]
    },
    {
      "cell_type": "code",
      "metadata": {
        "id": "9REaNZQza3G1",
        "colab": {
          "base_uri": "https://localhost:8080/"
        },
        "outputId": "90f6b782-44d5-4b34-bac9-07a5e5badc41"
      },
      "source": [
        "print(len(android))\n",
        "del android[10472]  # don't run this more than once\n",
        "print(len(android))"
      ],
      "execution_count": 9,
      "outputs": [
        {
          "output_type": "stream",
          "text": [
            "10841\n",
            "10840\n"
          ],
          "name": "stdout"
        }
      ]
    },
    {
      "cell_type": "markdown",
      "metadata": {
        "id": "ZCiyw-_La9u7"
      },
      "source": [
        "# Removing Duplicate Entries\n",
        "Some apps have more than one entry. For instance, the application Instagram has four entries:"
      ]
    },
    {
      "cell_type": "code",
      "metadata": {
        "id": "bolohcjkbSNi",
        "colab": {
          "base_uri": "https://localhost:8080/"
        },
        "outputId": "caf0ef70-c227-4091-bad3-56d018deb078"
      },
      "source": [
        "count = 0\n",
        "for app in android:\n",
        "    name = app[0]\n",
        "    if name == 'Instagram':\n",
        "      count +=1\n",
        "      print(app)\n",
        "print(f\"\\nNumber of times 'Instagram' appears {count}\")"
      ],
      "execution_count": 10,
      "outputs": [
        {
          "output_type": "stream",
          "text": [
            "['Instagram', 'SOCIAL', '4.5', '66577313', 'Varies with device', '1,000,000,000+', 'Free', '0', 'Teen', 'Social', 'July 31, 2018', 'Varies with device', 'Varies with device']\n",
            "['Instagram', 'SOCIAL', '4.5', '66577446', 'Varies with device', '1,000,000,000+', 'Free', '0', 'Teen', 'Social', 'July 31, 2018', 'Varies with device', 'Varies with device']\n",
            "['Instagram', 'SOCIAL', '4.5', '66577313', 'Varies with device', '1,000,000,000+', 'Free', '0', 'Teen', 'Social', 'July 31, 2018', 'Varies with device', 'Varies with device']\n",
            "['Instagram', 'SOCIAL', '4.5', '66509917', 'Varies with device', '1,000,000,000+', 'Free', '0', 'Teen', 'Social', 'July 31, 2018', 'Varies with device', 'Varies with device']\n",
            "\n",
            "Number of times 'Instagram' appears 4\n"
          ],
          "name": "stdout"
        }
      ]
    },
    {
      "cell_type": "code",
      "metadata": {
        "id": "oIJBwf7lLr3w",
        "colab": {
          "base_uri": "https://localhost:8080/"
        },
        "outputId": "b1b6a70a-f29a-4fb0-bf57-b83f69a46f34"
      },
      "source": [
        "# Search for duplicate apps names\n",
        "\n",
        "unique_applist = []\n",
        "duplicate_applist = []\n",
        "\n",
        "for app in android:\n",
        "    app_name = app[0]\n",
        "    if app_name in unique_applist:\n",
        "        duplicate_applist.append(app_name)\n",
        "    else: \n",
        "        unique_applist.append(app_name)\n",
        "\n",
        "print(f'''Duplicate Android Apps: {len(duplicate_applist)}\\n\n",
        "Unique Android Apps: {len(unique_applist)}''')\n",
        "\n",
        "print('\\n')\n",
        "print(f\"Examples of duplicate apps: {duplicate_applist[:15]}\")\n"
      ],
      "execution_count": 11,
      "outputs": [
        {
          "output_type": "stream",
          "text": [
            "Duplicate Android Apps: 1181\n",
            "\n",
            "Unique Android Apps: 9659\n",
            "\n",
            "\n",
            "Examples of duplicate apps: ['Quick PDF Scanner + OCR FREE', 'Box', 'Google My Business', 'ZOOM Cloud Meetings', 'join.me - Simple Meetings', 'Box', 'Zenefits', 'Google Ads', 'Google My Business', 'Slack', 'FreshBooks Classic', 'Insightly CRM', 'QuickBooks Accounting: Invoicing & Expenses', 'HipChat - Chat Built for Teams', 'Xero Accounting Software']\n"
          ],
          "name": "stdout"
        }
      ]
    },
    {
      "cell_type": "markdown",
      "metadata": {
        "id": "UMH7IVqWbXaC"
      },
      "source": [
        "In total, there are 1,181 cases where an app occurs more than once.\n"
      ]
    },
    {
      "cell_type": "code",
      "metadata": {
        "id": "yyaUgVmFLr3y",
        "colab": {
          "base_uri": "https://localhost:8080/"
        },
        "outputId": "19657dac-5d42-4eba-c55e-35b1c330bc05"
      },
      "source": [
        "# Explore 'Instagram, a duplicate app\n",
        "for app in android:\n",
        "    app_name = app[0]\n",
        "    if app_name == 'Instagram':\n",
        "        print(app)"
      ],
      "execution_count": 12,
      "outputs": [
        {
          "output_type": "stream",
          "text": [
            "['Instagram', 'SOCIAL', '4.5', '66577313', 'Varies with device', '1,000,000,000+', 'Free', '0', 'Teen', 'Social', 'July 31, 2018', 'Varies with device', 'Varies with device']\n",
            "['Instagram', 'SOCIAL', '4.5', '66577446', 'Varies with device', '1,000,000,000+', 'Free', '0', 'Teen', 'Social', 'July 31, 2018', 'Varies with device', 'Varies with device']\n",
            "['Instagram', 'SOCIAL', '4.5', '66577313', 'Varies with device', '1,000,000,000+', 'Free', '0', 'Teen', 'Social', 'July 31, 2018', 'Varies with device', 'Varies with device']\n",
            "['Instagram', 'SOCIAL', '4.5', '66509917', 'Varies with device', '1,000,000,000+', 'Free', '0', 'Teen', 'Social', 'July 31, 2018', 'Varies with device', 'Varies with device']\n"
          ],
          "name": "stdout"
        }
      ]
    },
    {
      "cell_type": "code",
      "metadata": {
        "id": "ebK3-BZ_Lr3z",
        "colab": {
          "base_uri": "https://localhost:8080/"
        },
        "outputId": "fc0d18da-c7af-492e-aa3a-9b4e49cc3187"
      },
      "source": [
        "# Duplicates are all the same except for column 3 \n",
        "# What is column 3?\n",
        "\n",
        "print(android_header[3])"
      ],
      "execution_count": 13,
      "outputs": [
        {
          "output_type": "stream",
          "text": [
            "Reviews\n"
          ],
          "name": "stdout"
        }
      ]
    },
    {
      "cell_type": "code",
      "metadata": {
        "id": "OixHfTsxLr3z"
      },
      "source": [
        "# 'Reviews' increase over time\n",
        "# Solution: Keep only duplicate apps with highest ratings\n",
        "\n",
        "reviews_max = {}\n",
        "\n",
        "for app in android:\n",
        "    name = app[0]\n",
        "    n_reviews = float(app[3])\n",
        "    \n",
        "    if name in reviews_max and reviews_max[name] < n_reviews:\n",
        "        reviews_max[name] = n_reviews\n",
        "        \n",
        "    elif name not in reviews_max:\n",
        "        reviews_max[name] = n_reviews"
      ],
      "execution_count": 14,
      "outputs": []
    },
    {
      "cell_type": "markdown",
      "metadata": {
        "id": "KmZM7KbneP79"
      },
      "source": [
        "Results so far show that there are 1,181 cases where an app occurs more than once, so the length the dictionary (of unique apps) should be equal to the difference between the length of our data set and 1,181.\n",
        "\n"
      ]
    },
    {
      "cell_type": "code",
      "metadata": {
        "id": "JI_Mi9PDLr30",
        "colab": {
          "base_uri": "https://localhost:8080/"
        },
        "outputId": "ca1b75db-2a9a-4e57-85da-af3de559bc50"
      },
      "source": [
        "# Test code using \"Instagram\"  Does code really pick max review?\n",
        "highest_apps=[]\n",
        "for app in android:\n",
        "    app_name = app[0]\n",
        "    if app_name == 'Instagram':\n",
        "        highest_apps.append(app[3])\n",
        "print(sorted(highest_apps))"
      ],
      "execution_count": 15,
      "outputs": [
        {
          "output_type": "stream",
          "text": [
            "['66509917', '66577313', '66577313', '66577446']\n"
          ],
          "name": "stdout"
        }
      ]
    },
    {
      "cell_type": "markdown",
      "metadata": {
        "id": "2BLDMYObfMcd"
      },
      "source": [
        "Yes, code works.  "
      ]
    },
    {
      "cell_type": "code",
      "metadata": {
        "id": "p4fF5vxheUWX",
        "colab": {
          "base_uri": "https://localhost:8080/"
        },
        "outputId": "c379a354-d085-4b0c-af7f-6ab266ce10d9"
      },
      "source": [
        "print('Expected length:', len(android) - 1181)\n",
        "print('Actual length:', len(reviews_max))"
      ],
      "execution_count": 16,
      "outputs": [
        {
          "output_type": "stream",
          "text": [
            "Expected length: 9659\n",
            "Actual length: 9659\n"
          ],
          "name": "stdout"
        }
      ]
    },
    {
      "cell_type": "markdown",
      "metadata": {
        "id": "odO0qSn5etdu"
      },
      "source": [
        "The reviews_max dictionary will be used to remove the duplicate entries. Entries with the highest number of reviews will be kept. \n",
        "\n",
        "Name of the app and the number of reviews will be isolated from the data."
      ]
    },
    {
      "cell_type": "code",
      "metadata": {
        "id": "RWJbhnMFLr31",
        "colab": {
          "base_uri": "https://localhost:8080/"
        },
        "outputId": "0dfc95f3-133e-4ccf-e39f-d4a30a85095e"
      },
      "source": [
        "# remove duplicate entries from android dataset\n",
        "\n",
        "android_clean =[] # stores new cleaned data set\n",
        "already_added =[] # stores only app names\n",
        "\n",
        "for row in android:\n",
        "    name = row[0]\n",
        "    n_reviews = float(row[3].replace('M','0000'))\n",
        "    \n",
        "    if (n_reviews == reviews_max[name]) and (name not in already_added):\n",
        "        android_clean.append(row)\n",
        "        already_added.append(name)\n",
        "        \n",
        "print(len(android_clean))\n",
        "    "
      ],
      "execution_count": 17,
      "outputs": [
        {
          "output_type": "stream",
          "text": [
            "9659\n"
          ],
          "name": "stdout"
        }
      ]
    },
    {
      "cell_type": "code",
      "metadata": {
        "id": "idKl4qb_faOT",
        "colab": {
          "base_uri": "https://localhost:8080/"
        },
        "outputId": "3f3ed135-8993-4a7e-e0b6-755d1ca14af1"
      },
      "source": [
        "explore_data(android_clean, 0, 3, True)"
      ],
      "execution_count": 18,
      "outputs": [
        {
          "output_type": "stream",
          "text": [
            "['Photo Editor & Candy Camera & Grid & ScrapBook', 'ART_AND_DESIGN', '4.1', '159', '19M', '10,000+', 'Free', '0', 'Everyone', 'Art & Design', 'January 7, 2018', '1.0.0', '4.0.3 and up']\n",
            "\n",
            "\n",
            "['U Launcher Lite – FREE Live Cool Themes, Hide Apps', 'ART_AND_DESIGN', '4.7', '87510', '8.7M', '5,000,000+', 'Free', '0', 'Everyone', 'Art & Design', 'August 1, 2018', '1.2.4', '4.0.3 and up']\n",
            "\n",
            "\n",
            "['Sketch - Draw & Paint', 'ART_AND_DESIGN', '4.5', '215644', '25M', '50,000,000+', 'Free', '0', 'Teen', 'Art & Design', 'June 8, 2018', 'Varies with device', '4.2 and up']\n",
            "\n",
            "\n",
            "Number of rows:  9659\n",
            "Number of columns: 13\n"
          ],
          "name": "stdout"
        }
      ]
    },
    {
      "cell_type": "markdown",
      "metadata": {
        "id": "CpNzz8E4fgCW"
      },
      "source": [
        "We have 9659 rows, just as expected.\n",
        "\n",
        "## Removing Non-English Apps\n"
      ]
    },
    {
      "cell_type": "code",
      "metadata": {
        "id": "cyWy1YObLr31",
        "colab": {
          "base_uri": "https://localhost:8080/"
        },
        "outputId": "fd234a2b-034c-4eef-cc02-e8608612dbd1"
      },
      "source": [
        "# Cleaning text of non-English characters \n",
        "\n",
        "# *Note: 'ord' can be used to to find ASCII number range\n",
        "print('ASCII code examples: ')\n",
        "print(f\"     English: 'A'→ {ord('A')}\")\n",
        "\n",
        "# Anything over 127 is non-English\n",
        "print((f\"     Non-English: '播'→ {ord('播')}\"))\n",
        "\n",
        "#Problems will occur with emojis and some other char types\n",
        "print(f\"     Emoji: '😜'→ {ord('😜')}\")\n",
        "\n",
        "\n",
        "\n",
        "def is_english(string):\n",
        "    non_ascii = 0\n",
        "    \n",
        "    for character in string:\n",
        "        if ord(character) > 127:\n",
        "            non_ascii += 1\n",
        "    \n",
        "    if non_ascii > 3:\n",
        "        return False\n",
        "    else:\n",
        "        return True\n",
        "\n",
        "print(is_english('Docs To Go™ Free Office Suite'))\n",
        "print(is_english('Instachat 😜'))"
      ],
      "execution_count": 19,
      "outputs": [
        {
          "output_type": "stream",
          "text": [
            "ASCII code examples: \n",
            "     English: 'A'→ 65\n",
            "     Non-English: '播'→ 25773\n",
            "     Emoji: '😜'→ 128540\n",
            "True\n",
            "True\n"
          ],
          "name": "stdout"
        }
      ]
    },
    {
      "cell_type": "markdown",
      "metadata": {
        "id": "BTcn7UF9gDcy"
      },
      "source": [
        "The function is still not perfect, and very few non-English apps might get past our filter, but this seems good enough at this point in our analysis — we shouldn't spend too much time on optimization at this point.\n",
        "\n",
        "Below, we use the is_english() function to filter out the non-English apps for both data sets:"
      ]
    },
    {
      "cell_type": "code",
      "metadata": {
        "id": "wGT3ujhiWkyP",
        "colab": {
          "base_uri": "https://localhost:8080/"
        },
        "outputId": "f7fb1609-d6c1-4f9d-ff90-7b54de9f6626"
      },
      "source": [
        "android_english = []\n",
        "ios_english = []\n",
        "\n",
        "for app in android_clean:\n",
        "    name = app[0]\n",
        "    if is_english(name):\n",
        "        android_english.append(app)\n",
        "\n",
        "for app in apple:\n",
        "    name = app[1]\n",
        "    if is_english(name):\n",
        "        ios_english.append(app)\n",
        "        \n",
        "explore_data(android_english, 0, 3, True)\n",
        "print('\\n')\n",
        "explore_data(ios_english, 0, 3, True)"
      ],
      "execution_count": 20,
      "outputs": [
        {
          "output_type": "stream",
          "text": [
            "['Photo Editor & Candy Camera & Grid & ScrapBook', 'ART_AND_DESIGN', '4.1', '159', '19M', '10,000+', 'Free', '0', 'Everyone', 'Art & Design', 'January 7, 2018', '1.0.0', '4.0.3 and up']\n",
            "\n",
            "\n",
            "['U Launcher Lite – FREE Live Cool Themes, Hide Apps', 'ART_AND_DESIGN', '4.7', '87510', '8.7M', '5,000,000+', 'Free', '0', 'Everyone', 'Art & Design', 'August 1, 2018', '1.2.4', '4.0.3 and up']\n",
            "\n",
            "\n",
            "['Sketch - Draw & Paint', 'ART_AND_DESIGN', '4.5', '215644', '25M', '50,000,000+', 'Free', '0', 'Teen', 'Art & Design', 'June 8, 2018', 'Varies with device', '4.2 and up']\n",
            "\n",
            "\n",
            "Number of rows:  9614\n",
            "Number of columns: 13\n",
            "\n",
            "\n",
            "['284882215', 'Facebook', '389879808', 'USD', '0.0', '2974676', '212', '3.5', '3.5', '95.0', '4+', 'Social Networking', '37', '1', '29', '1']\n",
            "\n",
            "\n",
            "['389801252', 'Instagram', '113954816', 'USD', '0.0', '2161558', '1289', '4.5', '4.0', '10.23', '12+', 'Photo & Video', '37', '0', '29', '1']\n",
            "\n",
            "\n",
            "['529479190', 'Clash of Clans', '116476928', 'USD', '0.0', '2130805', '579', '4.5', '4.5', '9.24.12', '9+', 'Games', '38', '5', '18', '1']\n",
            "\n",
            "\n",
            "Number of rows:  6183\n",
            "Number of columns: 16\n"
          ],
          "name": "stdout"
        }
      ]
    },
    {
      "cell_type": "markdown",
      "metadata": {
        "id": "BVTxd4R-gQaV"
      },
      "source": [
        "# Isolating the Free Apps"
      ]
    },
    {
      "cell_type": "markdown",
      "metadata": {
        "id": "wYuHofOMgSh8"
      },
      "source": [
        ""
      ]
    },
    {
      "cell_type": "code",
      "metadata": {
        "id": "a3VrAebELr32",
        "colab": {
          "base_uri": "https://localhost:8080/"
        },
        "outputId": "abff7300-1ec1-4668-e81d-54390ade30c8"
      },
      "source": [
        "android_final = []\n",
        "ios_final = []\n",
        "\n",
        "for app in android_english:\n",
        "    price = app[7]\n",
        "    if price == '0':\n",
        "        android_final.append(app)\n",
        "        \n",
        "for app in ios_english:\n",
        "    price = app[4]\n",
        "    if price == '0.0':\n",
        "        ios_final.append(app)\n",
        "\n",
        "print(\"Free Apps Breakdown:\")        \n",
        "print(f\" - Android Apps {len(android_final)}\")\n",
        "print(f\" - Apple Apps {len(ios_final)}\")\n"
      ],
      "execution_count": 21,
      "outputs": [
        {
          "output_type": "stream",
          "text": [
            "Free Apps Breakdown:\n",
            " - Android Apps 8864\n",
            " - Apple Apps 3222\n"
          ],
          "name": "stdout"
        }
      ]
    },
    {
      "cell_type": "markdown",
      "metadata": {
        "id": "ZTVF889Hgv_P"
      },
      "source": [
        "# Most Common Apps by Genre"
      ]
    },
    {
      "cell_type": "code",
      "metadata": {
        "id": "EW0NUmM5hcKI"
      },
      "source": [
        "def freq_table(dataset, index):\n",
        "    table = {}\n",
        "    total = 0\n",
        "    \n",
        "    for row in dataset:\n",
        "        total += 1\n",
        "        value = row[index]\n",
        "        if value in table:\n",
        "            table[value] += 1\n",
        "        else:\n",
        "            table[value] = 1\n",
        "    \n",
        "    table_percentages = {}\n",
        "    for key in table:\n",
        "        percentage = (table[key] / total) * 100\n",
        "        table_percentages[key] = percentage \n",
        "    \n",
        "    return table_percentages\n",
        "\n",
        "\n",
        "def display_table(dataset, index):\n",
        "    table = freq_table(dataset, index)\n",
        "    table_display = []\n",
        "    for key in table:\n",
        "        key_val_as_tuple = (table[key], key)\n",
        "        table_display.append(key_val_as_tuple)\n",
        "        \n",
        "    table_sorted = sorted(table_display, reverse = True)\n",
        "    for entry in table_sorted:\n",
        "        print(entry[1], ':', entry[0])"
      ],
      "execution_count": 22,
      "outputs": []
    },
    {
      "cell_type": "code",
      "metadata": {
        "colab": {
          "base_uri": "https://localhost:8080/"
        },
        "id": "UIFeZQuphfR6",
        "outputId": "8ffc68e4-970f-43d5-fd43-641431d2ccef"
      },
      "source": [
        "display_table(ios_final, -5)"
      ],
      "execution_count": 23,
      "outputs": [
        {
          "output_type": "stream",
          "text": [
            "Games : 58.16263190564867\n",
            "Entertainment : 7.883302296710118\n",
            "Photo & Video : 4.9658597144630665\n",
            "Education : 3.662321539416512\n",
            "Social Networking : 3.2898820608317814\n",
            "Shopping : 2.60707635009311\n",
            "Utilities : 2.5139664804469275\n",
            "Sports : 2.1415270018621975\n",
            "Music : 2.0484171322160147\n",
            "Health & Fitness : 2.0173805090006205\n",
            "Productivity : 1.7380509000620732\n",
            "Lifestyle : 1.5828677839851024\n",
            "News : 1.3345747982619491\n",
            "Travel : 1.2414649286157666\n",
            "Finance : 1.1173184357541899\n",
            "Weather : 0.8690254500310366\n",
            "Food & Drink : 0.8069522036002483\n",
            "Reference : 0.5586592178770949\n",
            "Business : 0.5276225946617008\n",
            "Book : 0.4345127250155183\n",
            "Navigation : 0.186219739292365\n",
            "Medical : 0.186219739292365\n",
            "Catalogs : 0.12414649286157665\n"
          ],
          "name": "stdout"
        }
      ]
    },
    {
      "cell_type": "code",
      "metadata": {
        "colab": {
          "base_uri": "https://localhost:8080/"
        },
        "id": "rse94cvehhV0",
        "outputId": "b9bdea7a-dd5e-4152-a954-0a10a315fa8b"
      },
      "source": [
        "display_table(android_final, 1) # Category"
      ],
      "execution_count": 24,
      "outputs": [
        {
          "output_type": "stream",
          "text": [
            "FAMILY : 18.907942238267147\n",
            "GAME : 9.724729241877256\n",
            "TOOLS : 8.461191335740072\n",
            "BUSINESS : 4.591606498194946\n",
            "LIFESTYLE : 3.9034296028880866\n",
            "PRODUCTIVITY : 3.892148014440433\n",
            "FINANCE : 3.7003610108303246\n",
            "MEDICAL : 3.531137184115524\n",
            "SPORTS : 3.395758122743682\n",
            "PERSONALIZATION : 3.3167870036101084\n",
            "COMMUNICATION : 3.2378158844765346\n",
            "HEALTH_AND_FITNESS : 3.0798736462093865\n",
            "PHOTOGRAPHY : 2.944494584837545\n",
            "NEWS_AND_MAGAZINES : 2.7978339350180503\n",
            "SOCIAL : 2.6624548736462095\n",
            "TRAVEL_AND_LOCAL : 2.33528880866426\n",
            "SHOPPING : 2.2450361010830324\n",
            "BOOKS_AND_REFERENCE : 2.1435018050541514\n",
            "DATING : 1.861462093862816\n",
            "VIDEO_PLAYERS : 1.7937725631768955\n",
            "MAPS_AND_NAVIGATION : 1.3989169675090252\n",
            "FOOD_AND_DRINK : 1.2409747292418771\n",
            "EDUCATION : 1.1620036101083033\n",
            "ENTERTAINMENT : 0.9589350180505415\n",
            "LIBRARIES_AND_DEMO : 0.9363718411552346\n",
            "AUTO_AND_VEHICLES : 0.9250902527075812\n",
            "HOUSE_AND_HOME : 0.8235559566787004\n",
            "WEATHER : 0.8009927797833934\n",
            "EVENTS : 0.7107400722021661\n",
            "PARENTING : 0.6543321299638989\n",
            "ART_AND_DESIGN : 0.6430505415162455\n",
            "COMICS : 0.6204873646209386\n",
            "BEAUTY : 0.5979241877256317\n"
          ],
          "name": "stdout"
        }
      ]
    },
    {
      "cell_type": "code",
      "metadata": {
        "colab": {
          "base_uri": "https://localhost:8080/"
        },
        "id": "xo7IuIQGhmzM",
        "outputId": "93a76f32-87d7-42d8-cb1b-5b8c053932d7"
      },
      "source": [
        "display_table(android_final, -4)"
      ],
      "execution_count": 25,
      "outputs": [
        {
          "output_type": "stream",
          "text": [
            "Tools : 8.449909747292418\n",
            "Entertainment : 6.069494584837545\n",
            "Education : 5.347472924187725\n",
            "Business : 4.591606498194946\n",
            "Productivity : 3.892148014440433\n",
            "Lifestyle : 3.892148014440433\n",
            "Finance : 3.7003610108303246\n",
            "Medical : 3.531137184115524\n",
            "Sports : 3.463447653429603\n",
            "Personalization : 3.3167870036101084\n",
            "Communication : 3.2378158844765346\n",
            "Action : 3.1024368231046933\n",
            "Health & Fitness : 3.0798736462093865\n",
            "Photography : 2.944494584837545\n",
            "News & Magazines : 2.7978339350180503\n",
            "Social : 2.6624548736462095\n",
            "Travel & Local : 2.3240072202166067\n",
            "Shopping : 2.2450361010830324\n",
            "Books & Reference : 2.1435018050541514\n",
            "Simulation : 2.0419675090252705\n",
            "Dating : 1.861462093862816\n",
            "Arcade : 1.8501805054151623\n",
            "Video Players & Editors : 1.7712093862815883\n",
            "Casual : 1.7599277978339352\n",
            "Maps & Navigation : 1.3989169675090252\n",
            "Food & Drink : 1.2409747292418771\n",
            "Puzzle : 1.128158844765343\n",
            "Racing : 0.9927797833935018\n",
            "Role Playing : 0.9363718411552346\n",
            "Libraries & Demo : 0.9363718411552346\n",
            "Auto & Vehicles : 0.9250902527075812\n",
            "Strategy : 0.9138086642599278\n",
            "House & Home : 0.8235559566787004\n",
            "Weather : 0.8009927797833934\n",
            "Events : 0.7107400722021661\n",
            "Adventure : 0.6768953068592057\n",
            "Comics : 0.6092057761732852\n",
            "Beauty : 0.5979241877256317\n",
            "Art & Design : 0.5979241877256317\n",
            "Parenting : 0.4963898916967509\n",
            "Card : 0.45126353790613716\n",
            "Casino : 0.42870036101083037\n",
            "Trivia : 0.41741877256317694\n",
            "Educational;Education : 0.39485559566787\n",
            "Board : 0.3835740072202166\n",
            "Educational : 0.3722924187725632\n",
            "Education;Education : 0.33844765342960287\n",
            "Word : 0.2594765342960289\n",
            "Casual;Pretend Play : 0.236913357400722\n",
            "Music : 0.2030685920577617\n",
            "Racing;Action & Adventure : 0.16922382671480143\n",
            "Puzzle;Brain Games : 0.16922382671480143\n",
            "Entertainment;Music & Video : 0.16922382671480143\n",
            "Casual;Brain Games : 0.13537906137184114\n",
            "Casual;Action & Adventure : 0.13537906137184114\n",
            "Arcade;Action & Adventure : 0.12409747292418773\n",
            "Action;Action & Adventure : 0.10153429602888085\n",
            "Educational;Pretend Play : 0.09025270758122744\n",
            "Simulation;Action & Adventure : 0.078971119133574\n",
            "Parenting;Education : 0.078971119133574\n",
            "Entertainment;Brain Games : 0.078971119133574\n",
            "Board;Brain Games : 0.078971119133574\n",
            "Parenting;Music & Video : 0.06768953068592057\n",
            "Educational;Brain Games : 0.06768953068592057\n",
            "Casual;Creativity : 0.06768953068592057\n",
            "Art & Design;Creativity : 0.06768953068592057\n",
            "Education;Pretend Play : 0.056407942238267145\n",
            "Role Playing;Pretend Play : 0.04512635379061372\n",
            "Education;Creativity : 0.04512635379061372\n",
            "Role Playing;Action & Adventure : 0.033844765342960284\n",
            "Puzzle;Action & Adventure : 0.033844765342960284\n",
            "Entertainment;Creativity : 0.033844765342960284\n",
            "Entertainment;Action & Adventure : 0.033844765342960284\n",
            "Educational;Creativity : 0.033844765342960284\n",
            "Educational;Action & Adventure : 0.033844765342960284\n",
            "Education;Music & Video : 0.033844765342960284\n",
            "Education;Brain Games : 0.033844765342960284\n",
            "Education;Action & Adventure : 0.033844765342960284\n",
            "Adventure;Action & Adventure : 0.033844765342960284\n",
            "Video Players & Editors;Music & Video : 0.02256317689530686\n",
            "Sports;Action & Adventure : 0.02256317689530686\n",
            "Simulation;Pretend Play : 0.02256317689530686\n",
            "Puzzle;Creativity : 0.02256317689530686\n",
            "Music;Music & Video : 0.02256317689530686\n",
            "Entertainment;Pretend Play : 0.02256317689530686\n",
            "Casual;Education : 0.02256317689530686\n",
            "Board;Action & Adventure : 0.02256317689530686\n",
            "Video Players & Editors;Creativity : 0.01128158844765343\n",
            "Trivia;Education : 0.01128158844765343\n",
            "Travel & Local;Action & Adventure : 0.01128158844765343\n",
            "Tools;Education : 0.01128158844765343\n",
            "Strategy;Education : 0.01128158844765343\n",
            "Strategy;Creativity : 0.01128158844765343\n",
            "Strategy;Action & Adventure : 0.01128158844765343\n",
            "Simulation;Education : 0.01128158844765343\n",
            "Role Playing;Brain Games : 0.01128158844765343\n",
            "Racing;Pretend Play : 0.01128158844765343\n",
            "Puzzle;Education : 0.01128158844765343\n",
            "Parenting;Brain Games : 0.01128158844765343\n",
            "Music & Audio;Music & Video : 0.01128158844765343\n",
            "Lifestyle;Pretend Play : 0.01128158844765343\n",
            "Lifestyle;Education : 0.01128158844765343\n",
            "Health & Fitness;Education : 0.01128158844765343\n",
            "Health & Fitness;Action & Adventure : 0.01128158844765343\n",
            "Entertainment;Education : 0.01128158844765343\n",
            "Communication;Creativity : 0.01128158844765343\n",
            "Comics;Creativity : 0.01128158844765343\n",
            "Casual;Music & Video : 0.01128158844765343\n",
            "Card;Action & Adventure : 0.01128158844765343\n",
            "Books & Reference;Education : 0.01128158844765343\n",
            "Art & Design;Pretend Play : 0.01128158844765343\n",
            "Art & Design;Action & Adventure : 0.01128158844765343\n",
            "Arcade;Pretend Play : 0.01128158844765343\n",
            "Adventure;Education : 0.01128158844765343\n"
          ],
          "name": "stdout"
        }
      ]
    },
    {
      "cell_type": "markdown",
      "metadata": {
        "id": "qROk04sHhqAr"
      },
      "source": [
        "# Most Popular Apps by Genre on the App Store"
      ]
    },
    {
      "cell_type": "code",
      "metadata": {
        "colab": {
          "base_uri": "https://localhost:8080/"
        },
        "id": "YUYv4NiDhylr",
        "outputId": "ff018a6e-80f3-42f6-9379-7b943c312d65"
      },
      "source": [
        "genres_ios = freq_table(ios_final, -5)\n",
        "\n",
        "for genre in genres_ios:\n",
        "    total = 0\n",
        "    len_genre = 0\n",
        "    for app in ios_final:\n",
        "        genre_app = app[-5]\n",
        "        if genre_app == genre:            \n",
        "            n_ratings = float(app[5])\n",
        "            total += n_ratings\n",
        "            len_genre += 1\n",
        "    avg_n_ratings = total / len_genre\n",
        "    print(genre, ':', \"{:,}\".format(round(avg_n_ratings,2)))"
      ],
      "execution_count": 26,
      "outputs": [
        {
          "output_type": "stream",
          "text": [
            "Social Networking : 71,548.35\n",
            "Photo & Video : 28,441.54\n",
            "Games : 22,788.67\n",
            "Music : 57,326.53\n",
            "Reference : 74,942.11\n",
            "Health & Fitness : 23,298.02\n",
            "Weather : 52,279.89\n",
            "Utilities : 18,684.46\n",
            "Travel : 28,243.8\n",
            "Shopping : 26,919.69\n",
            "News : 21,248.02\n",
            "Navigation : 86,090.33\n",
            "Lifestyle : 16,485.76\n",
            "Entertainment : 14,029.83\n",
            "Food & Drink : 33,333.92\n",
            "Sports : 23,008.9\n",
            "Book : 39,758.5\n",
            "Finance : 31,467.94\n",
            "Education : 7,003.98\n",
            "Productivity : 21,028.41\n",
            "Business : 7,491.12\n",
            "Catalogs : 4,004.0\n",
            "Medical : 612.0\n"
          ],
          "name": "stdout"
        }
      ]
    },
    {
      "cell_type": "code",
      "metadata": {
        "colab": {
          "base_uri": "https://localhost:8080/"
        },
        "id": "p7hJJHprh0M1",
        "outputId": "d68c6b6a-8374-44a2-d823-fce1c9de17ef"
      },
      "source": [
        "for app in ios_final:\n",
        "    if app[-5] == 'Navigation':\n",
        "        print(app[1], ':', app[5]) # print name and number of ratings"
      ],
      "execution_count": 27,
      "outputs": [
        {
          "output_type": "stream",
          "text": [
            "Waze - GPS Navigation, Maps & Real-time Traffic : 345046\n",
            "Google Maps - Navigation & Transit : 154911\n",
            "Geocaching® : 12811\n",
            "CoPilot GPS – Car Navigation & Offline Maps : 3582\n",
            "ImmobilienScout24: Real Estate Search in Germany : 187\n",
            "Railway Route Search : 5\n"
          ],
          "name": "stdout"
        }
      ]
    },
    {
      "cell_type": "code",
      "metadata": {
        "colab": {
          "base_uri": "https://localhost:8080/"
        },
        "id": "62xjRe2Lh3Bu",
        "outputId": "db3f2fe1-de78-4cf6-a0e6-f7116c59fa4f"
      },
      "source": [
        "for app in ios_final:\n",
        "    if app[-5] == 'Reference':\n",
        "        print(app[1], ':', app[5])"
      ],
      "execution_count": 28,
      "outputs": [
        {
          "output_type": "stream",
          "text": [
            "Bible : 985920\n",
            "Dictionary.com Dictionary & Thesaurus : 200047\n",
            "Dictionary.com Dictionary & Thesaurus for iPad : 54175\n",
            "Google Translate : 26786\n",
            "Muslim Pro: Ramadan 2017 Prayer Times, Azan, Quran : 18418\n",
            "New Furniture Mods - Pocket Wiki & Game Tools for Minecraft PC Edition : 17588\n",
            "Merriam-Webster Dictionary : 16849\n",
            "Night Sky : 12122\n",
            "City Maps for Minecraft PE - The Best Maps for Minecraft Pocket Edition (MCPE) : 8535\n",
            "LUCKY BLOCK MOD ™ for Minecraft PC Edition - The Best Pocket Wiki & Mods Installer Tools : 4693\n",
            "GUNS MODS for Minecraft PC Edition - Mods Tools : 1497\n",
            "Guides for Pokémon GO - Pokemon GO News and Cheats : 826\n",
            "WWDC : 762\n",
            "Horror Maps for Minecraft PE - Download The Scariest Maps for Minecraft Pocket Edition (MCPE) Free : 718\n",
            "VPN Express : 14\n",
            "Real Bike Traffic Rider Virtual Reality Glasses : 8\n",
            "教えて!goo : 0\n",
            "Jishokun-Japanese English Dictionary & Translator : 0\n"
          ],
          "name": "stdout"
        }
      ]
    },
    {
      "cell_type": "markdown",
      "metadata": {
        "id": "wOczm7jch53Y"
      },
      "source": [
        "# Most Popular Apps by Genre on Google Play"
      ]
    },
    {
      "cell_type": "code",
      "metadata": {
        "colab": {
          "base_uri": "https://localhost:8080/"
        },
        "id": "fvMjMytVh_Ot",
        "outputId": "66294a6c-928e-43d4-c3ab-27ef0091283b"
      },
      "source": [
        "display_table(android_final, 5) # the Installs columns"
      ],
      "execution_count": 29,
      "outputs": [
        {
          "output_type": "stream",
          "text": [
            "1,000,000+ : 15.726534296028879\n",
            "100,000+ : 11.552346570397113\n",
            "10,000,000+ : 10.548285198555957\n",
            "10,000+ : 10.198555956678701\n",
            "1,000+ : 8.393501805054152\n",
            "100+ : 6.915613718411552\n",
            "5,000,000+ : 6.825361010830325\n",
            "500,000+ : 5.561823104693141\n",
            "50,000+ : 4.7721119133574\n",
            "5,000+ : 4.512635379061372\n",
            "10+ : 3.5424187725631766\n",
            "500+ : 3.2490974729241873\n",
            "50,000,000+ : 2.3014440433213\n",
            "100,000,000+ : 2.1322202166064983\n",
            "50+ : 1.917870036101083\n",
            "5+ : 0.78971119133574\n",
            "1+ : 0.5076714801444043\n",
            "500,000,000+ : 0.2707581227436823\n",
            "1,000,000,000+ : 0.22563176895306858\n",
            "0+ : 0.04512635379061372\n",
            "0 : 0.01128158844765343\n"
          ],
          "name": "stdout"
        }
      ]
    },
    {
      "cell_type": "code",
      "metadata": {
        "colab": {
          "base_uri": "https://localhost:8080/"
        },
        "id": "yEdLFzwwiEBg",
        "outputId": "c071cbf5-5cb4-4001-893a-7e6fae13d715"
      },
      "source": [
        "categories_android = freq_table(android_final, 1)\n",
        "\n",
        "for category in categories_android:\n",
        "    total = 0\n",
        "    len_category = 0\n",
        "    for app in android_final:\n",
        "        category_app = app[1]\n",
        "        if category_app == category:            \n",
        "            n_installs = app[5]\n",
        "            n_installs = n_installs.replace(',', '')\n",
        "            n_installs = n_installs.replace('+', '')\n",
        "            total += float(n_installs)\n",
        "            len_category += 1\n",
        "    avg_n_installs = round((total / len_category),2)\n",
        "    \n",
        "    print(category, ':', \"{:,}\".format(avg_n_installs))"
      ],
      "execution_count": 30,
      "outputs": [
        {
          "output_type": "stream",
          "text": [
            "ART_AND_DESIGN : 1,986,335.09\n",
            "AUTO_AND_VEHICLES : 647,317.82\n",
            "BEAUTY : 513,151.89\n",
            "BOOKS_AND_REFERENCE : 8,767,811.89\n",
            "BUSINESS : 1,712,290.15\n",
            "COMICS : 817,657.27\n",
            "COMMUNICATION : 38,456,119.17\n",
            "DATING : 854,028.83\n",
            "EDUCATION : 1,833,495.15\n",
            "ENTERTAINMENT : 11,640,705.88\n",
            "EVENTS : 253,542.22\n",
            "FINANCE : 1,387,692.48\n",
            "FOOD_AND_DRINK : 1,924,897.74\n",
            "HEALTH_AND_FITNESS : 4,188,821.99\n",
            "HOUSE_AND_HOME : 1,331,540.56\n",
            "LIBRARIES_AND_DEMO : 638,503.73\n",
            "LIFESTYLE : 1,437,816.27\n",
            "GAME : 15,588,015.6\n",
            "FAMILY : 3,695,641.82\n",
            "MEDICAL : 120,550.62\n",
            "SOCIAL : 23,253,652.13\n",
            "SHOPPING : 7,036,877.31\n",
            "PHOTOGRAPHY : 17,840,110.4\n",
            "SPORTS : 3,638,640.14\n",
            "TRAVEL_AND_LOCAL : 13,984,077.71\n",
            "TOOLS : 10,801,391.3\n",
            "PERSONALIZATION : 5,201,482.61\n",
            "PRODUCTIVITY : 16,787,331.34\n",
            "PARENTING : 542,603.62\n",
            "WEATHER : 5,074,486.2\n",
            "VIDEO_PLAYERS : 24,727,872.45\n",
            "NEWS_AND_MAGAZINES : 9,549,178.47\n",
            "MAPS_AND_NAVIGATION : 4,056,941.77\n"
          ],
          "name": "stdout"
        }
      ]
    },
    {
      "cell_type": "code",
      "metadata": {
        "colab": {
          "base_uri": "https://localhost:8080/"
        },
        "id": "7u5c-outiG0A",
        "outputId": "05a3af61-d899-492d-8781-065f31d4c2b6"
      },
      "source": [
        "for app in android_final:\n",
        "    if app[1] == 'COMMUNICATION' and (app[5] == '1,000,000,000+'\n",
        "                                      or app[5] == '500,000,000+'\n",
        "                                      or app[5] == '100,000,000+'):\n",
        "        print(app[0], ':', app[5])"
      ],
      "execution_count": 31,
      "outputs": [
        {
          "output_type": "stream",
          "text": [
            "WhatsApp Messenger : 1,000,000,000+\n",
            "imo beta free calls and text : 100,000,000+\n",
            "Android Messages : 100,000,000+\n",
            "Google Duo - High Quality Video Calls : 500,000,000+\n",
            "Messenger – Text and Video Chat for Free : 1,000,000,000+\n",
            "imo free video calls and chat : 500,000,000+\n",
            "Skype - free IM & video calls : 1,000,000,000+\n",
            "Who : 100,000,000+\n",
            "GO SMS Pro - Messenger, Free Themes, Emoji : 100,000,000+\n",
            "LINE: Free Calls & Messages : 500,000,000+\n",
            "Google Chrome: Fast & Secure : 1,000,000,000+\n",
            "Firefox Browser fast & private : 100,000,000+\n",
            "UC Browser - Fast Download Private & Secure : 500,000,000+\n",
            "Gmail : 1,000,000,000+\n",
            "Hangouts : 1,000,000,000+\n",
            "Messenger Lite: Free Calls & Messages : 100,000,000+\n",
            "Kik : 100,000,000+\n",
            "KakaoTalk: Free Calls & Text : 100,000,000+\n",
            "Opera Mini - fast web browser : 100,000,000+\n",
            "Opera Browser: Fast and Secure : 100,000,000+\n",
            "Telegram : 100,000,000+\n",
            "Truecaller: Caller ID, SMS spam blocking & Dialer : 100,000,000+\n",
            "UC Browser Mini -Tiny Fast Private & Secure : 100,000,000+\n",
            "Viber Messenger : 500,000,000+\n",
            "WeChat : 100,000,000+\n",
            "Yahoo Mail – Stay Organized : 100,000,000+\n",
            "BBM - Free Calls & Messages : 100,000,000+\n"
          ],
          "name": "stdout"
        }
      ]
    },
    {
      "cell_type": "code",
      "metadata": {
        "colab": {
          "base_uri": "https://localhost:8080/",
          "height": 36
        },
        "id": "Vtp96j2yiKI-",
        "outputId": "59bac7fd-b553-4f32-b343-9346a129d89a"
      },
      "source": [
        "under_100_m = []\n",
        "\n",
        "for app in android_final:\n",
        "    n_installs = app[5]\n",
        "    n_installs = n_installs.replace(',', '')\n",
        "    n_installs = n_installs.replace('+', '')\n",
        "    if (app[1] == 'COMMUNICATION') and (float(n_installs) < 100000000):\n",
        "        under_100_m.append(float(n_installs))\n",
        "        \n",
        "under_100m = round(sum(under_100_m) / len(under_100_m),2)\n",
        "\"{:,} \".format(under_100m)"
      ],
      "execution_count": 32,
      "outputs": [
        {
          "output_type": "execute_result",
          "data": {
            "application/vnd.google.colaboratory.intrinsic+json": {
              "type": "string"
            },
            "text/plain": [
              "'3,603,485.39 '"
            ]
          },
          "metadata": {
            "tags": []
          },
          "execution_count": 32
        }
      ]
    },
    {
      "cell_type": "code",
      "metadata": {
        "colab": {
          "base_uri": "https://localhost:8080/"
        },
        "id": "QWsJcgAyiPTN",
        "outputId": "f903732f-f479-4978-cb2c-ca74b3997877"
      },
      "source": [
        "for app in android_final:\n",
        "    if app[1] == 'BOOKS_AND_REFERENCE':\n",
        "        print(app[0], ':', app[5])"
      ],
      "execution_count": 33,
      "outputs": [
        {
          "output_type": "stream",
          "text": [
            "E-Book Read - Read Book for free : 50,000+\n",
            "Download free book with green book : 100,000+\n",
            "Wikipedia : 10,000,000+\n",
            "Cool Reader : 10,000,000+\n",
            "Free Panda Radio Music : 100,000+\n",
            "Book store : 1,000,000+\n",
            "FBReader: Favorite Book Reader : 10,000,000+\n",
            "English Grammar Complete Handbook : 500,000+\n",
            "Free Books - Spirit Fanfiction and Stories : 1,000,000+\n",
            "Google Play Books : 1,000,000,000+\n",
            "AlReader -any text book reader : 5,000,000+\n",
            "Offline English Dictionary : 100,000+\n",
            "Offline: English to Tagalog Dictionary : 500,000+\n",
            "FamilySearch Tree : 1,000,000+\n",
            "Cloud of Books : 1,000,000+\n",
            "Recipes of Prophetic Medicine for free : 500,000+\n",
            "ReadEra – free ebook reader : 1,000,000+\n",
            "Anonymous caller detection : 10,000+\n",
            "Ebook Reader : 5,000,000+\n",
            "Litnet - E-books : 100,000+\n",
            "Read books online : 5,000,000+\n",
            "English to Urdu Dictionary : 500,000+\n",
            "eBoox: book reader fb2 epub zip : 1,000,000+\n",
            "English Persian Dictionary : 500,000+\n",
            "Flybook : 500,000+\n",
            "All Maths Formulas : 1,000,000+\n",
            "Ancestry : 5,000,000+\n",
            "HTC Help : 10,000,000+\n",
            "English translation from Bengali : 100,000+\n",
            "Pdf Book Download - Read Pdf Book : 100,000+\n",
            "Free Book Reader : 100,000+\n",
            "eBoox new: Reader for fb2 epub zip books : 50,000+\n",
            "Only 30 days in English, the guideline is guaranteed : 500,000+\n",
            "Moon+ Reader : 10,000,000+\n",
            "SH-02J Owner's Manual (Android 8.0) : 50,000+\n",
            "English-Myanmar Dictionary : 1,000,000+\n",
            "Golden Dictionary (EN-AR) : 1,000,000+\n",
            "All Language Translator Free : 1,000,000+\n",
            "Azpen eReader : 500,000+\n",
            "URBANO V 02 instruction manual : 100,000+\n",
            "Bible : 100,000,000+\n",
            "C Programs and Reference : 50,000+\n",
            "C Offline Tutorial : 1,000+\n",
            "C Programs Handbook : 50,000+\n",
            "Amazon Kindle : 100,000,000+\n",
            "Aab e Hayat Full Novel : 100,000+\n",
            "Aldiko Book Reader : 10,000,000+\n",
            "Google I/O 2018 : 500,000+\n",
            "R Language Reference Guide : 10,000+\n",
            "Learn R Programming Full : 5,000+\n",
            "R Programing Offline Tutorial : 1,000+\n",
            "Guide for R Programming : 5+\n",
            "Learn R Programming : 10+\n",
            "R Quick Reference Big Data : 1,000+\n",
            "V Made : 100,000+\n",
            "Wattpad 📖 Free Books : 100,000,000+\n",
            "Dictionary - WordWeb : 5,000,000+\n",
            "Guide (for X-MEN) : 100,000+\n",
            "AC Air condition Troubleshoot,Repair,Maintenance : 5,000+\n",
            "AE Bulletins : 1,000+\n",
            "Ae Allah na Dai (Rasa) : 10,000+\n",
            "50000 Free eBooks & Free AudioBooks : 5,000,000+\n",
            "Ag PhD Field Guide : 10,000+\n",
            "Ag PhD Deficiencies : 10,000+\n",
            "Ag PhD Planting Population Calculator : 1,000+\n",
            "Ag PhD Soybean Diseases : 1,000+\n",
            "Fertilizer Removal By Crop : 50,000+\n",
            "A-J Media Vault : 50+\n",
            "Al-Quran (Free) : 10,000,000+\n",
            "Al Quran (Tafsir & by Word) : 500,000+\n",
            "Al Quran Indonesia : 10,000,000+\n",
            "Al'Quran Bahasa Indonesia : 10,000,000+\n",
            "Al Quran Al karim : 1,000,000+\n",
            "Al-Muhaffiz : 50,000+\n",
            "Al Quran : EAlim - Translations & MP3 Offline : 5,000,000+\n",
            "Al-Quran 30 Juz free copies : 500,000+\n",
            "Koran Read &MP3 30 Juz Offline : 1,000,000+\n",
            "Hafizi Quran 15 lines per page : 1,000,000+\n",
            "Quran for Android : 10,000,000+\n",
            "Surah Al-Waqiah : 100,000+\n",
            "Hisnul Al Muslim - Hisn Invocations & Adhkaar : 100,000+\n",
            "Satellite AR : 1,000,000+\n",
            "Audiobooks from Audible : 100,000,000+\n",
            "Kinot & Eichah for Tisha B'Av : 10,000+\n",
            "AW Tozer Devotionals - Daily : 5,000+\n",
            "Tozer Devotional -Series 1 : 1,000+\n",
            "The Pursuit of God : 1,000+\n",
            "AY Sing : 5,000+\n",
            "Ay Hasnain k Nana Milad Naat : 10,000+\n",
            "Ay Mohabbat Teri Khatir Novel : 10,000+\n",
            "Arizona Statutes, ARS (AZ Law) : 1,000+\n",
            "Oxford A-Z of English Usage : 1,000,000+\n",
            "BD Fishpedia : 1,000+\n",
            "BD All Sim Offer : 10,000+\n",
            "Youboox - Livres, BD et magazines : 500,000+\n",
            "B&H Kids AR : 10,000+\n",
            "B y H Niños ES : 5,000+\n",
            "Dictionary.com: Find Definitions for English Words : 10,000,000+\n",
            "English Dictionary - Offline : 10,000,000+\n",
            "Bible KJV : 5,000,000+\n",
            "Borneo Bible, BM Bible : 10,000+\n",
            "MOD Black for BM : 100+\n",
            "BM Box : 1,000+\n",
            "Anime Mod for BM : 100+\n",
            "NOOK: Read eBooks & Magazines : 10,000,000+\n",
            "NOOK Audiobooks : 500,000+\n",
            "NOOK App for NOOK Devices : 500,000+\n",
            "Browsery by Barnes & Noble : 5,000+\n",
            "bp e-store : 1,000+\n",
            "Brilliant Quotes: Life, Love, Family & Motivation : 1,000,000+\n",
            "BR Ambedkar Biography & Quotes : 10,000+\n",
            "BU Alsace : 100+\n",
            "Catholic La Bu Zo Kam : 500+\n",
            "Khrifa Hla Bu (Solfa) : 10+\n",
            "Kristian Hla Bu : 10,000+\n",
            "SA HLA BU : 1,000+\n",
            "Learn SAP BW : 500+\n",
            "Learn SAP BW on HANA : 500+\n",
            "CA Laws 2018 (California Laws and Codes) : 5,000+\n",
            "Bootable Methods(USB-CD-DVD) : 10,000+\n",
            "cloudLibrary : 100,000+\n",
            "SDA Collegiate Quarterly : 500+\n",
            "Sabbath School : 100,000+\n",
            "Cypress College Library : 100+\n",
            "Stats Royale for Clash Royale : 1,000,000+\n",
            "GATE 21 years CS Papers(2011-2018 Solved) : 50+\n",
            "Learn CT Scan Of Head : 5,000+\n",
            "Easy Cv maker 2018 : 10,000+\n",
            "How to Write CV : 100,000+\n",
            "CW Nuclear : 1,000+\n",
            "CY Spray nozzle : 10+\n",
            "BibleRead En Cy Zh Yue : 5+\n",
            "CZ-Help : 5+\n",
            "Modlitební knížka CZ : 500+\n",
            "Guide for DB Xenoverse : 10,000+\n",
            "Guide for DB Xenoverse 2 : 10,000+\n",
            "Guide for IMS DB : 10+\n",
            "DC HSEMA : 5,000+\n",
            "DC Public Library : 1,000+\n",
            "Painting Lulu DC Super Friends : 1,000+\n",
            "Dictionary : 10,000,000+\n",
            "Fix Error Google Playstore : 1,000+\n",
            "D. H. Lawrence Poems FREE : 1,000+\n",
            "Bilingual Dictionary Audio App : 5,000+\n",
            "DM Screen : 10,000+\n",
            "wikiHow: how to do anything : 1,000,000+\n",
            "Dr. Doug's Tips : 1,000+\n",
            "Bible du Semeur-BDS (French) : 50,000+\n",
            "La citadelle du musulman : 50,000+\n",
            "DV 2019 Entry Guide : 10,000+\n",
            "DV 2019 - EDV Photo & Form : 50,000+\n",
            "DV 2018 Winners Guide : 1,000+\n",
            "EB Annual Meetings : 1,000+\n",
            "EC - AP & Telangana : 5,000+\n",
            "TN Patta Citta & EC : 10,000+\n",
            "AP Stamps and Registration : 10,000+\n",
            "CompactiMa EC pH Calibration : 100+\n",
            "EGW Writings 2 : 100,000+\n",
            "EGW Writings : 1,000,000+\n",
            "Bible with EGW Comments : 100,000+\n",
            "My Little Pony AR Guide : 1,000,000+\n",
            "SDA Sabbath School Quarterly : 500,000+\n",
            "Duaa Ek Ibaadat : 5,000+\n",
            "Spanish English Translator : 10,000,000+\n",
            "Dictionary - Merriam-Webster : 10,000,000+\n",
            "JW Library : 10,000,000+\n",
            "Oxford Dictionary of English : Free : 10,000,000+\n",
            "English Hindi Dictionary : 10,000,000+\n",
            "English to Hindi Dictionary : 5,000,000+\n",
            "EP Research Service : 1,000+\n",
            "Hymnes et Louanges : 100,000+\n",
            "EU Charter : 1,000+\n",
            "EU Data Protection : 1,000+\n",
            "EU IP Codes : 100+\n",
            "EW PDF : 5+\n",
            "BakaReader EX : 100,000+\n",
            "EZ Quran : 50,000+\n",
            "FA Part 1 & 2 Past Papers Solved Free – Offline : 5,000+\n",
            "La Fe de Jesus : 1,000+\n",
            "La Fe de Jesús : 500+\n",
            "Le Fe de Jesus : 500+\n",
            "Florida - Pocket Brainbook : 1,000+\n",
            "Florida Statutes (FL Code) : 1,000+\n",
            "English To Shona Dictionary : 10,000+\n",
            "Greek Bible FP (Audio) : 1,000+\n",
            "Golden Dictionary (FR-AR) : 500,000+\n",
            "Fanfic-FR : 5,000+\n",
            "Bulgarian French Dictionary Fr : 10,000+\n",
            "Chemin (fr) : 1,000+\n",
            "The SCP Foundation DB fr nn5n : 1,000+\n"
          ],
          "name": "stdout"
        }
      ]
    },
    {
      "cell_type": "code",
      "metadata": {
        "colab": {
          "base_uri": "https://localhost:8080/"
        },
        "id": "t1aV16rNiScS",
        "outputId": "b42f452c-1675-4588-ffb8-48f5944e4188"
      },
      "source": [
        "for app in android_final:\n",
        "    if app[1] == 'BOOKS_AND_REFERENCE' and (app[5] == '1,000,000,000+'\n",
        "                                            or app[5] == '500,000,000+'\n",
        "                                            or app[5] == '100,000,000+'):\n",
        "        print(app[0], ':', app[5])\n"
      ],
      "execution_count": 34,
      "outputs": [
        {
          "output_type": "stream",
          "text": [
            "Google Play Books : 1,000,000,000+\n",
            "Bible : 100,000,000+\n",
            "Amazon Kindle : 100,000,000+\n",
            "Wattpad 📖 Free Books : 100,000,000+\n",
            "Audiobooks from Audible : 100,000,000+\n"
          ],
          "name": "stdout"
        }
      ]
    },
    {
      "cell_type": "code",
      "metadata": {
        "colab": {
          "base_uri": "https://localhost:8080/"
        },
        "id": "keXdvIwNiW6x",
        "outputId": "60f69619-c05f-4886-8ab9-ab0e3b07eede"
      },
      "source": [
        "for app in android_final:\n",
        "    if app[1] == 'BOOKS_AND_REFERENCE' and (app[5] == '1,000,000+'\n",
        "                                            or app[5] == '5,000,000+'\n",
        "                                            or app[5] == '10,000,000+'\n",
        "                                            or app[5] == '50,000,000+'):\n",
        "        print(app[0], ':', app[5])"
      ],
      "execution_count": 35,
      "outputs": [
        {
          "output_type": "stream",
          "text": [
            "Wikipedia : 10,000,000+\n",
            "Cool Reader : 10,000,000+\n",
            "Book store : 1,000,000+\n",
            "FBReader: Favorite Book Reader : 10,000,000+\n",
            "Free Books - Spirit Fanfiction and Stories : 1,000,000+\n",
            "AlReader -any text book reader : 5,000,000+\n",
            "FamilySearch Tree : 1,000,000+\n",
            "Cloud of Books : 1,000,000+\n",
            "ReadEra – free ebook reader : 1,000,000+\n",
            "Ebook Reader : 5,000,000+\n",
            "Read books online : 5,000,000+\n",
            "eBoox: book reader fb2 epub zip : 1,000,000+\n",
            "All Maths Formulas : 1,000,000+\n",
            "Ancestry : 5,000,000+\n",
            "HTC Help : 10,000,000+\n",
            "Moon+ Reader : 10,000,000+\n",
            "English-Myanmar Dictionary : 1,000,000+\n",
            "Golden Dictionary (EN-AR) : 1,000,000+\n",
            "All Language Translator Free : 1,000,000+\n",
            "Aldiko Book Reader : 10,000,000+\n",
            "Dictionary - WordWeb : 5,000,000+\n",
            "50000 Free eBooks & Free AudioBooks : 5,000,000+\n",
            "Al-Quran (Free) : 10,000,000+\n",
            "Al Quran Indonesia : 10,000,000+\n",
            "Al'Quran Bahasa Indonesia : 10,000,000+\n",
            "Al Quran Al karim : 1,000,000+\n",
            "Al Quran : EAlim - Translations & MP3 Offline : 5,000,000+\n",
            "Koran Read &MP3 30 Juz Offline : 1,000,000+\n",
            "Hafizi Quran 15 lines per page : 1,000,000+\n",
            "Quran for Android : 10,000,000+\n",
            "Satellite AR : 1,000,000+\n",
            "Oxford A-Z of English Usage : 1,000,000+\n",
            "Dictionary.com: Find Definitions for English Words : 10,000,000+\n",
            "English Dictionary - Offline : 10,000,000+\n",
            "Bible KJV : 5,000,000+\n",
            "NOOK: Read eBooks & Magazines : 10,000,000+\n",
            "Brilliant Quotes: Life, Love, Family & Motivation : 1,000,000+\n",
            "Stats Royale for Clash Royale : 1,000,000+\n",
            "Dictionary : 10,000,000+\n",
            "wikiHow: how to do anything : 1,000,000+\n",
            "EGW Writings : 1,000,000+\n",
            "My Little Pony AR Guide : 1,000,000+\n",
            "Spanish English Translator : 10,000,000+\n",
            "Dictionary - Merriam-Webster : 10,000,000+\n",
            "JW Library : 10,000,000+\n",
            "Oxford Dictionary of English : Free : 10,000,000+\n",
            "English Hindi Dictionary : 10,000,000+\n",
            "English to Hindi Dictionary : 5,000,000+\n"
          ],
          "name": "stdout"
        }
      ]
    },
    {
      "cell_type": "markdown",
      "metadata": {
        "id": "LRC1RwVWdh5V"
      },
      "source": [
        "\n",
        "# Conclusion\n",
        "\n",
        "The reviews for app were used to determine the most popular apps in both stores.  The dataset was filter between English and non-English apps using their titles.\n",
        "\n",
        "\n",
        "#### Free vs Paid Apps\n",
        "\n",
        "\n",
        "#### Top Genres\n",
        "\n",
        "\n",
        "#### Top Apps \n",
        "\n",
        "\n",
        "\n",
        "\n"
      ]
    }
  ]
}