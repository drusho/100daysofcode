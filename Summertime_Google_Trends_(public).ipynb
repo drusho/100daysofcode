{
  "nbformat": 4,
  "nbformat_minor": 0,
  "metadata": {
    "colab": {
      "name": "Summertime - Google Trends (public).ipynb",
      "provenance": [],
      "authorship_tag": "ABX9TyOn3XBqQDpCfz+SPJmLhzYh",
      "include_colab_link": true
    },
    "kernelspec": {
      "name": "python3",
      "display_name": "Python 3"
    },
    "language_info": {
      "name": "python"
    }
  },
  "cells": [
    {
      "cell_type": "markdown",
      "metadata": {
        "id": "view-in-github",
        "colab_type": "text"
      },
      "source": [
        "<a href=\"https://colab.research.google.com/github/drusho/data_analysis/blob/gh-pages/Summertime_Google_Trends_(public).ipynb\" target=\"_parent\"><img src=\"https://colab.research.google.com/assets/colab-badge.svg\" alt=\"Open In Colab\"/></a>"
      ]
    },
    {
      "cell_type": "markdown",
      "metadata": {
        "id": "gr8cjDNEmtS0"
      },
      "source": [
        "# __Summer Google Trends__\n",
        "\n",
        "_Notebook is inspired by:_\n",
        "\n",
        "_https://medium.com/the-data-science-publication/how-to-use-the-pytrends-api-to-get-google-trends-data-4378acbaaa8a_\n",
        "\n",
        "Goal of this noteboook is to explore Google Trends for topics and keywords related to Summer of 2021\n",
        "\n",
        "\n"
      ]
    },
    {
      "cell_type": "code",
      "metadata": {
        "colab": {
          "base_uri": "https://localhost:8080/"
        },
        "id": "07hEbm0gmq2k",
        "outputId": "9980c56f-a858-40a3-cb3c-f64ad2e1b175"
      },
      "source": [
        "pip install pytrends"
      ],
      "execution_count": 1,
      "outputs": [
        {
          "output_type": "stream",
          "text": [
            "Collecting pytrends\n",
            "  Downloading https://files.pythonhosted.org/packages/96/53/a4a74c33bfdbe1740183e00769377352072e64182913562daf9f5e4f1938/pytrends-4.7.3-py3-none-any.whl\n",
            "Requirement already satisfied: lxml in /usr/local/lib/python3.7/dist-packages (from pytrends) (4.2.6)\n",
            "Requirement already satisfied: requests in /usr/local/lib/python3.7/dist-packages (from pytrends) (2.23.0)\n",
            "Requirement already satisfied: pandas>=0.25 in /usr/local/lib/python3.7/dist-packages (from pytrends) (1.1.5)\n",
            "Requirement already satisfied: urllib3!=1.25.0,!=1.25.1,<1.26,>=1.21.1 in /usr/local/lib/python3.7/dist-packages (from requests->pytrends) (1.24.3)\n",
            "Requirement already satisfied: chardet<4,>=3.0.2 in /usr/local/lib/python3.7/dist-packages (from requests->pytrends) (3.0.4)\n",
            "Requirement already satisfied: certifi>=2017.4.17 in /usr/local/lib/python3.7/dist-packages (from requests->pytrends) (2020.12.5)\n",
            "Requirement already satisfied: idna<3,>=2.5 in /usr/local/lib/python3.7/dist-packages (from requests->pytrends) (2.10)\n",
            "Requirement already satisfied: numpy>=1.15.4 in /usr/local/lib/python3.7/dist-packages (from pandas>=0.25->pytrends) (1.19.5)\n",
            "Requirement already satisfied: pytz>=2017.2 in /usr/local/lib/python3.7/dist-packages (from pandas>=0.25->pytrends) (2018.9)\n",
            "Requirement already satisfied: python-dateutil>=2.7.3 in /usr/local/lib/python3.7/dist-packages (from pandas>=0.25->pytrends) (2.8.1)\n",
            "Requirement already satisfied: six>=1.5 in /usr/local/lib/python3.7/dist-packages (from python-dateutil>=2.7.3->pandas>=0.25->pytrends) (1.15.0)\n",
            "Installing collected packages: pytrends\n",
            "Successfully installed pytrends-4.7.3\n"
          ],
          "name": "stdout"
        }
      ]
    },
    {
      "cell_type": "code",
      "metadata": {
        "id": "cmD_ST5dm4O0"
      },
      "source": [
        "# import the TrendReq method from the pytrends request module\n",
        "from pytrends.request import TrendReq\n",
        "\n",
        "# execute the TrendReq method by passing the host language (hl) and timezone (tz) parameters\n",
        "pytrends = TrendReq(hl='en-US', tz=360)"
      ],
      "execution_count": 70,
      "outputs": []
    },
    {
      "cell_type": "code",
      "metadata": {
        "id": "NJbyNHFNnHcQ"
      },
      "source": [
        "# build list of keywords\n",
        "kw_list = [\"summer\",\"spring\",\"winter\",\"fall\",\"autumn\"] \n",
        "\n",
        "# build the payload\n",
        "pytrends.build_payload(kw_list, timeframe='2019-06-03 2021-06-03', geo='US')"
      ],
      "execution_count": 158,
      "outputs": []
    },
    {
      "cell_type": "code",
      "metadata": {
        "colab": {
          "base_uri": "https://localhost:8080/",
          "height": 238
        },
        "id": "UFn1pgxFnlZc",
        "outputId": "8d657d79-77f1-4aeb-a6b8-64f1ae5fd818"
      },
      "source": [
        "# import pandas module\n",
        "import pandas as pd\n",
        "\n",
        "# store interest over time information in df\n",
        "df = pytrends.interest_over_time()\n",
        "\n",
        "# display top trending results by date\n",
        "df.sort_values(by=\"summer\",ascending=False).head()"
      ],
      "execution_count": 159,
      "outputs": [
        {
          "output_type": "execute_result",
          "data": {
            "text/html": [
              "<div>\n",
              "<style scoped>\n",
              "    .dataframe tbody tr th:only-of-type {\n",
              "        vertical-align: middle;\n",
              "    }\n",
              "\n",
              "    .dataframe tbody tr th {\n",
              "        vertical-align: top;\n",
              "    }\n",
              "\n",
              "    .dataframe thead th {\n",
              "        text-align: right;\n",
              "    }\n",
              "</style>\n",
              "<table border=\"1\" class=\"dataframe\">\n",
              "  <thead>\n",
              "    <tr style=\"text-align: right;\">\n",
              "      <th></th>\n",
              "      <th>summer</th>\n",
              "      <th>spring</th>\n",
              "      <th>winter</th>\n",
              "      <th>fall</th>\n",
              "      <th>autumn</th>\n",
              "      <th>isPartial</th>\n",
              "    </tr>\n",
              "    <tr>\n",
              "      <th>date</th>\n",
              "      <th></th>\n",
              "      <th></th>\n",
              "      <th></th>\n",
              "      <th></th>\n",
              "      <th></th>\n",
              "      <th></th>\n",
              "    </tr>\n",
              "  </thead>\n",
              "  <tbody>\n",
              "    <tr>\n",
              "      <th>2019-06-16</th>\n",
              "      <td>76</td>\n",
              "      <td>27</td>\n",
              "      <td>12</td>\n",
              "      <td>22</td>\n",
              "      <td>2</td>\n",
              "      <td>False</td>\n",
              "    </tr>\n",
              "    <tr>\n",
              "      <th>2019-06-30</th>\n",
              "      <td>68</td>\n",
              "      <td>26</td>\n",
              "      <td>12</td>\n",
              "      <td>19</td>\n",
              "      <td>2</td>\n",
              "      <td>False</td>\n",
              "    </tr>\n",
              "    <tr>\n",
              "      <th>2019-06-23</th>\n",
              "      <td>66</td>\n",
              "      <td>26</td>\n",
              "      <td>12</td>\n",
              "      <td>19</td>\n",
              "      <td>2</td>\n",
              "      <td>False</td>\n",
              "    </tr>\n",
              "    <tr>\n",
              "      <th>2019-06-09</th>\n",
              "      <td>65</td>\n",
              "      <td>27</td>\n",
              "      <td>11</td>\n",
              "      <td>18</td>\n",
              "      <td>2</td>\n",
              "      <td>False</td>\n",
              "    </tr>\n",
              "    <tr>\n",
              "      <th>2019-07-07</th>\n",
              "      <td>64</td>\n",
              "      <td>25</td>\n",
              "      <td>12</td>\n",
              "      <td>24</td>\n",
              "      <td>2</td>\n",
              "      <td>False</td>\n",
              "    </tr>\n",
              "  </tbody>\n",
              "</table>\n",
              "</div>"
            ],
            "text/plain": [
              "            summer  spring  winter  fall  autumn isPartial\n",
              "date                                                      \n",
              "2019-06-16      76      27      12    22       2     False\n",
              "2019-06-30      68      26      12    19       2     False\n",
              "2019-06-23      66      26      12    19       2     False\n",
              "2019-06-09      65      27      11    18       2     False\n",
              "2019-07-07      64      25      12    24       2     False"
            ]
          },
          "metadata": {
            "tags": []
          },
          "execution_count": 159
        }
      ]
    },
    {
      "cell_type": "markdown",
      "metadata": {
        "id": "No_OWr2mr0fw"
      },
      "source": [
        ""
      ]
    },
    {
      "cell_type": "code",
      "metadata": {
        "colab": {
          "base_uri": "https://localhost:8080/",
          "height": 542
        },
        "id": "EuteGHkqph-4",
        "outputId": "4aaea8c3-8f0c-4c4a-c81c-33b04d7774d7"
      },
      "source": [
        "import plotly.graph_objects as go\n",
        "\n",
        "# Create traces\n",
        "fig = go.Figure()\n",
        "\n",
        "fig.add_trace(go.Scatter(x=df.index, y=df[\"summer\"],\n",
        "                    mode='lines',\n",
        "                    name=\"Summer\"))\n",
        "                    # line = dict(color='cornflower blue')))\n",
        "\n",
        "\n",
        "fig.add_trace(go.Scatter(x=df.index, y=df[\"spring\"],\n",
        "                    mode='lines',\n",
        "                    name=\"Spring\"))\n",
        "                    # line = dict(color='black')))\n",
        "\n",
        "fig.add_trace(go.Scatter(x=df.index, y=df[\"winter\"],\n",
        "                    mode='lines',\n",
        "                    name=\"Winter\"))\n",
        "                    # line = dict(color='green')))\n",
        "\n",
        "fig.add_trace(go.Scatter(x=df.index, y=df[\"fall\"],\n",
        "                    mode='lines',\n",
        "                    name=\"Fall\"))\n",
        "                    # line = dict(color='green')))\n",
        "\n",
        "fig.update_layout(title_text='Google Trends Interests Over Time',title_x=0.5)\n",
        "\n",
        "fig.show()"
      ],
      "execution_count": 164,
      "outputs": [
        {
          "output_type": "display_data",
          "data": {
            "text/html": [
              "<html>\n",
              "<head><meta charset=\"utf-8\" /></head>\n",
              "<body>\n",
              "    <div>\n",
              "            <script src=\"https://cdnjs.cloudflare.com/ajax/libs/mathjax/2.7.5/MathJax.js?config=TeX-AMS-MML_SVG\"></script><script type=\"text/javascript\">if (window.MathJax) {MathJax.Hub.Config({SVG: {font: \"STIX-Web\"}});}</script>\n",
              "                <script type=\"text/javascript\">window.PlotlyConfig = {MathJaxConfig: 'local'};</script>\n",
              "        <script src=\"https://cdn.plot.ly/plotly-latest.min.js\"></script>    \n",
              "            <div id=\"ead92873-1fc0-480a-adea-59bd73dbaeb6\" class=\"plotly-graph-div\" style=\"height:525px; width:100%;\"></div>\n",
              "            <script type=\"text/javascript\">\n",
              "                \n",
              "                    window.PLOTLYENV=window.PLOTLYENV || {};\n",
              "                    \n",
              "                if (document.getElementById(\"ead92873-1fc0-480a-adea-59bd73dbaeb6\")) {\n",
              "                    Plotly.newPlot(\n",
              "                        'ead92873-1fc0-480a-adea-59bd73dbaeb6',\n",
              "                        [{\"mode\": \"lines\", \"name\": \"Summer\", \"type\": \"scatter\", \"x\": [\"2019-06-09T00:00:00\", \"2019-06-16T00:00:00\", \"2019-06-23T00:00:00\", \"2019-06-30T00:00:00\", \"2019-07-07T00:00:00\", \"2019-07-14T00:00:00\", \"2019-07-21T00:00:00\", \"2019-07-28T00:00:00\", \"2019-08-04T00:00:00\", \"2019-08-11T00:00:00\", \"2019-08-18T00:00:00\", \"2019-08-25T00:00:00\", \"2019-09-01T00:00:00\", \"2019-09-08T00:00:00\", \"2019-09-15T00:00:00\", \"2019-09-22T00:00:00\", \"2019-09-29T00:00:00\", \"2019-10-06T00:00:00\", \"2019-10-13T00:00:00\", \"2019-10-20T00:00:00\", \"2019-10-27T00:00:00\", \"2019-11-03T00:00:00\", \"2019-11-10T00:00:00\", \"2019-11-17T00:00:00\", \"2019-11-24T00:00:00\", \"2019-12-01T00:00:00\", \"2019-12-08T00:00:00\", \"2019-12-15T00:00:00\", \"2019-12-22T00:00:00\", \"2019-12-29T00:00:00\", \"2020-01-05T00:00:00\", \"2020-01-12T00:00:00\", \"2020-01-19T00:00:00\", \"2020-01-26T00:00:00\", \"2020-02-02T00:00:00\", \"2020-02-09T00:00:00\", \"2020-02-16T00:00:00\", \"2020-02-23T00:00:00\", \"2020-03-01T00:00:00\", \"2020-03-08T00:00:00\", \"2020-03-15T00:00:00\", \"2020-03-22T00:00:00\", \"2020-03-29T00:00:00\", \"2020-04-05T00:00:00\", \"2020-04-12T00:00:00\", \"2020-04-19T00:00:00\", \"2020-04-26T00:00:00\", \"2020-05-03T00:00:00\", \"2020-05-10T00:00:00\", \"2020-05-17T00:00:00\", \"2020-05-24T00:00:00\", \"2020-05-31T00:00:00\", \"2020-06-07T00:00:00\", \"2020-06-14T00:00:00\", \"2020-06-21T00:00:00\", \"2020-06-28T00:00:00\", \"2020-07-05T00:00:00\", \"2020-07-12T00:00:00\", \"2020-07-19T00:00:00\", \"2020-07-26T00:00:00\", \"2020-08-02T00:00:00\", \"2020-08-09T00:00:00\", \"2020-08-16T00:00:00\", \"2020-08-23T00:00:00\", \"2020-08-30T00:00:00\", \"2020-09-06T00:00:00\", \"2020-09-13T00:00:00\", \"2020-09-20T00:00:00\", \"2020-09-27T00:00:00\", \"2020-10-04T00:00:00\", \"2020-10-11T00:00:00\", \"2020-10-18T00:00:00\", \"2020-10-25T00:00:00\", \"2020-11-01T00:00:00\", \"2020-11-08T00:00:00\", \"2020-11-15T00:00:00\", \"2020-11-22T00:00:00\", \"2020-11-29T00:00:00\", \"2020-12-06T00:00:00\", \"2020-12-13T00:00:00\", \"2020-12-20T00:00:00\", \"2020-12-27T00:00:00\", \"2021-01-03T00:00:00\", \"2021-01-10T00:00:00\", \"2021-01-17T00:00:00\", \"2021-01-24T00:00:00\", \"2021-01-31T00:00:00\", \"2021-02-07T00:00:00\", \"2021-02-14T00:00:00\", \"2021-02-21T00:00:00\", \"2021-02-28T00:00:00\", \"2021-03-07T00:00:00\", \"2021-03-14T00:00:00\", \"2021-03-21T00:00:00\", \"2021-03-28T00:00:00\", \"2021-04-04T00:00:00\", \"2021-04-11T00:00:00\", \"2021-04-18T00:00:00\", \"2021-04-25T00:00:00\", \"2021-05-02T00:00:00\", \"2021-05-09T00:00:00\", \"2021-05-16T00:00:00\", \"2021-05-23T00:00:00\", \"2021-05-30T00:00:00\"], \"y\": [65, 76, 66, 68, 64, 51, 44, 41, 37, 35, 29, 25, 22, 18, 17, 17, 17, 17, 15, 16, 18, 16, 16, 17, 15, 15, 15, 15, 15, 18, 21, 22, 22, 22, 22, 23, 25, 26, 28, 25, 19, 21, 22, 24, 24, 28, 31, 35, 38, 43, 49, 45, 49, 54, 51, 42, 42, 36, 34, 32, 28, 27, 25, 22, 20, 19, 16, 17, 13, 12, 12, 12, 12, 9, 11, 12, 11, 11, 12, 12, 11, 12, 14, 15, 14, 16, 16, 17, 19, 21, 22, 24, 24, 27, 28, 33, 34, 37, 40, 41, 41, 50, 54, 58]}, {\"mode\": \"lines\", \"name\": \"Spring\", \"type\": \"scatter\", \"x\": [\"2019-06-09T00:00:00\", \"2019-06-16T00:00:00\", \"2019-06-23T00:00:00\", \"2019-06-30T00:00:00\", \"2019-07-07T00:00:00\", \"2019-07-14T00:00:00\", \"2019-07-21T00:00:00\", \"2019-07-28T00:00:00\", \"2019-08-04T00:00:00\", \"2019-08-11T00:00:00\", \"2019-08-18T00:00:00\", \"2019-08-25T00:00:00\", \"2019-09-01T00:00:00\", \"2019-09-08T00:00:00\", \"2019-09-15T00:00:00\", \"2019-09-22T00:00:00\", \"2019-09-29T00:00:00\", \"2019-10-06T00:00:00\", \"2019-10-13T00:00:00\", \"2019-10-20T00:00:00\", \"2019-10-27T00:00:00\", \"2019-11-03T00:00:00\", \"2019-11-10T00:00:00\", \"2019-11-17T00:00:00\", \"2019-11-24T00:00:00\", \"2019-12-01T00:00:00\", \"2019-12-08T00:00:00\", \"2019-12-15T00:00:00\", \"2019-12-22T00:00:00\", \"2019-12-29T00:00:00\", \"2020-01-05T00:00:00\", \"2020-01-12T00:00:00\", \"2020-01-19T00:00:00\", \"2020-01-26T00:00:00\", \"2020-02-02T00:00:00\", \"2020-02-09T00:00:00\", \"2020-02-16T00:00:00\", \"2020-02-23T00:00:00\", \"2020-03-01T00:00:00\", \"2020-03-08T00:00:00\", \"2020-03-15T00:00:00\", \"2020-03-22T00:00:00\", \"2020-03-29T00:00:00\", \"2020-04-05T00:00:00\", \"2020-04-12T00:00:00\", \"2020-04-19T00:00:00\", \"2020-04-26T00:00:00\", \"2020-05-03T00:00:00\", \"2020-05-10T00:00:00\", \"2020-05-17T00:00:00\", \"2020-05-24T00:00:00\", \"2020-05-31T00:00:00\", \"2020-06-07T00:00:00\", \"2020-06-14T00:00:00\", \"2020-06-21T00:00:00\", \"2020-06-28T00:00:00\", \"2020-07-05T00:00:00\", \"2020-07-12T00:00:00\", \"2020-07-19T00:00:00\", \"2020-07-26T00:00:00\", \"2020-08-02T00:00:00\", \"2020-08-09T00:00:00\", \"2020-08-16T00:00:00\", \"2020-08-23T00:00:00\", \"2020-08-30T00:00:00\", \"2020-09-06T00:00:00\", \"2020-09-13T00:00:00\", \"2020-09-20T00:00:00\", \"2020-09-27T00:00:00\", \"2020-10-04T00:00:00\", \"2020-10-11T00:00:00\", \"2020-10-18T00:00:00\", \"2020-10-25T00:00:00\", \"2020-11-01T00:00:00\", \"2020-11-08T00:00:00\", \"2020-11-15T00:00:00\", \"2020-11-22T00:00:00\", \"2020-11-29T00:00:00\", \"2020-12-06T00:00:00\", \"2020-12-13T00:00:00\", \"2020-12-20T00:00:00\", \"2020-12-27T00:00:00\", \"2021-01-03T00:00:00\", \"2021-01-10T00:00:00\", \"2021-01-17T00:00:00\", \"2021-01-24T00:00:00\", \"2021-01-31T00:00:00\", \"2021-02-07T00:00:00\", \"2021-02-14T00:00:00\", \"2021-02-21T00:00:00\", \"2021-02-28T00:00:00\", \"2021-03-07T00:00:00\", \"2021-03-14T00:00:00\", \"2021-03-21T00:00:00\", \"2021-03-28T00:00:00\", \"2021-04-04T00:00:00\", \"2021-04-11T00:00:00\", \"2021-04-18T00:00:00\", \"2021-04-25T00:00:00\", \"2021-05-02T00:00:00\", \"2021-05-09T00:00:00\", \"2021-05-16T00:00:00\", \"2021-05-23T00:00:00\", \"2021-05-30T00:00:00\"], \"y\": [27, 27, 26, 26, 25, 25, 26, 25, 25, 26, 25, 25, 25, 24, 25, 26, 26, 26, 26, 26, 25, 26, 25, 26, 22, 26, 26, 26, 26, 31, 35, 37, 36, 35, 38, 42, 49, 55, 66, 67, 97, 34, 34, 33, 31, 30, 30, 31, 29, 28, 27, 25, 25, 26, 25, 25, 24, 24, 25, 24, 24, 24, 24, 23, 24, 23, 22, 22, 23, 23, 24, 24, 23, 19, 23, 23, 21, 23, 23, 23, 22, 26, 29, 29, 30, 29, 32, 33, 37, 46, 58, 58, 93, 66, 49, 44, 40, 38, 34, 31, 30, 30, 28, 27]}, {\"mode\": \"lines\", \"name\": \"Winter\", \"type\": \"scatter\", \"x\": [\"2019-06-09T00:00:00\", \"2019-06-16T00:00:00\", \"2019-06-23T00:00:00\", \"2019-06-30T00:00:00\", \"2019-07-07T00:00:00\", \"2019-07-14T00:00:00\", \"2019-07-21T00:00:00\", \"2019-07-28T00:00:00\", \"2019-08-04T00:00:00\", \"2019-08-11T00:00:00\", \"2019-08-18T00:00:00\", \"2019-08-25T00:00:00\", \"2019-09-01T00:00:00\", \"2019-09-08T00:00:00\", \"2019-09-15T00:00:00\", \"2019-09-22T00:00:00\", \"2019-09-29T00:00:00\", \"2019-10-06T00:00:00\", \"2019-10-13T00:00:00\", \"2019-10-20T00:00:00\", \"2019-10-27T00:00:00\", \"2019-11-03T00:00:00\", \"2019-11-10T00:00:00\", \"2019-11-17T00:00:00\", \"2019-11-24T00:00:00\", \"2019-12-01T00:00:00\", \"2019-12-08T00:00:00\", \"2019-12-15T00:00:00\", \"2019-12-22T00:00:00\", \"2019-12-29T00:00:00\", \"2020-01-05T00:00:00\", \"2020-01-12T00:00:00\", \"2020-01-19T00:00:00\", \"2020-01-26T00:00:00\", \"2020-02-02T00:00:00\", \"2020-02-09T00:00:00\", \"2020-02-16T00:00:00\", \"2020-02-23T00:00:00\", \"2020-03-01T00:00:00\", \"2020-03-08T00:00:00\", \"2020-03-15T00:00:00\", \"2020-03-22T00:00:00\", \"2020-03-29T00:00:00\", \"2020-04-05T00:00:00\", \"2020-04-12T00:00:00\", \"2020-04-19T00:00:00\", \"2020-04-26T00:00:00\", \"2020-05-03T00:00:00\", \"2020-05-10T00:00:00\", \"2020-05-17T00:00:00\", \"2020-05-24T00:00:00\", \"2020-05-31T00:00:00\", \"2020-06-07T00:00:00\", \"2020-06-14T00:00:00\", \"2020-06-21T00:00:00\", \"2020-06-28T00:00:00\", \"2020-07-05T00:00:00\", \"2020-07-12T00:00:00\", \"2020-07-19T00:00:00\", \"2020-07-26T00:00:00\", \"2020-08-02T00:00:00\", \"2020-08-09T00:00:00\", \"2020-08-16T00:00:00\", \"2020-08-23T00:00:00\", \"2020-08-30T00:00:00\", \"2020-09-06T00:00:00\", \"2020-09-13T00:00:00\", \"2020-09-20T00:00:00\", \"2020-09-27T00:00:00\", \"2020-10-04T00:00:00\", \"2020-10-11T00:00:00\", \"2020-10-18T00:00:00\", \"2020-10-25T00:00:00\", \"2020-11-01T00:00:00\", \"2020-11-08T00:00:00\", \"2020-11-15T00:00:00\", \"2020-11-22T00:00:00\", \"2020-11-29T00:00:00\", \"2020-12-06T00:00:00\", \"2020-12-13T00:00:00\", \"2020-12-20T00:00:00\", \"2020-12-27T00:00:00\", \"2021-01-03T00:00:00\", \"2021-01-10T00:00:00\", \"2021-01-17T00:00:00\", \"2021-01-24T00:00:00\", \"2021-01-31T00:00:00\", \"2021-02-07T00:00:00\", \"2021-02-14T00:00:00\", \"2021-02-21T00:00:00\", \"2021-02-28T00:00:00\", \"2021-03-07T00:00:00\", \"2021-03-14T00:00:00\", \"2021-03-21T00:00:00\", \"2021-03-28T00:00:00\", \"2021-04-04T00:00:00\", \"2021-04-11T00:00:00\", \"2021-04-18T00:00:00\", \"2021-04-25T00:00:00\", \"2021-05-02T00:00:00\", \"2021-05-09T00:00:00\", \"2021-05-16T00:00:00\", \"2021-05-23T00:00:00\", \"2021-05-30T00:00:00\"], \"y\": [11, 12, 12, 12, 12, 12, 13, 13, 13, 15, 15, 18, 17, 18, 19, 20, 24, 27, 29, 28, 36, 42, 49, 39, 40, 49, 47, 54, 88, 42, 36, 32, 30, 24, 24, 22, 21, 20, 15, 13, 11, 10, 9, 10, 10, 10, 10, 11, 11, 11, 11, 10, 11, 11, 10, 11, 11, 12, 12, 12, 12, 14, 14, 15, 17, 20, 19, 22, 22, 22, 25, 31, 33, 26, 32, 34, 32, 45, 43, 51, 100, 37, 32, 28, 25, 28, 30, 31, 41, 23, 19, 19, 23, 21, 20, 19, 23, 23, 17, 13, 13, 12, 12, 12]}, {\"mode\": \"lines\", \"name\": \"Fall\", \"type\": \"scatter\", \"x\": [\"2019-06-09T00:00:00\", \"2019-06-16T00:00:00\", \"2019-06-23T00:00:00\", \"2019-06-30T00:00:00\", \"2019-07-07T00:00:00\", \"2019-07-14T00:00:00\", \"2019-07-21T00:00:00\", \"2019-07-28T00:00:00\", \"2019-08-04T00:00:00\", \"2019-08-11T00:00:00\", \"2019-08-18T00:00:00\", \"2019-08-25T00:00:00\", \"2019-09-01T00:00:00\", \"2019-09-08T00:00:00\", \"2019-09-15T00:00:00\", \"2019-09-22T00:00:00\", \"2019-09-29T00:00:00\", \"2019-10-06T00:00:00\", \"2019-10-13T00:00:00\", \"2019-10-20T00:00:00\", \"2019-10-27T00:00:00\", \"2019-11-03T00:00:00\", \"2019-11-10T00:00:00\", \"2019-11-17T00:00:00\", \"2019-11-24T00:00:00\", \"2019-12-01T00:00:00\", \"2019-12-08T00:00:00\", \"2019-12-15T00:00:00\", \"2019-12-22T00:00:00\", \"2019-12-29T00:00:00\", \"2020-01-05T00:00:00\", \"2020-01-12T00:00:00\", \"2020-01-19T00:00:00\", \"2020-01-26T00:00:00\", \"2020-02-02T00:00:00\", \"2020-02-09T00:00:00\", \"2020-02-16T00:00:00\", \"2020-02-23T00:00:00\", \"2020-03-01T00:00:00\", \"2020-03-08T00:00:00\", \"2020-03-15T00:00:00\", \"2020-03-22T00:00:00\", \"2020-03-29T00:00:00\", \"2020-04-05T00:00:00\", \"2020-04-12T00:00:00\", \"2020-04-19T00:00:00\", \"2020-04-26T00:00:00\", \"2020-05-03T00:00:00\", \"2020-05-10T00:00:00\", \"2020-05-17T00:00:00\", \"2020-05-24T00:00:00\", \"2020-05-31T00:00:00\", \"2020-06-07T00:00:00\", \"2020-06-14T00:00:00\", \"2020-06-21T00:00:00\", \"2020-06-28T00:00:00\", \"2020-07-05T00:00:00\", \"2020-07-12T00:00:00\", \"2020-07-19T00:00:00\", \"2020-07-26T00:00:00\", \"2020-08-02T00:00:00\", \"2020-08-09T00:00:00\", \"2020-08-16T00:00:00\", \"2020-08-23T00:00:00\", \"2020-08-30T00:00:00\", \"2020-09-06T00:00:00\", \"2020-09-13T00:00:00\", \"2020-09-20T00:00:00\", \"2020-09-27T00:00:00\", \"2020-10-04T00:00:00\", \"2020-10-11T00:00:00\", \"2020-10-18T00:00:00\", \"2020-10-25T00:00:00\", \"2020-11-01T00:00:00\", \"2020-11-08T00:00:00\", \"2020-11-15T00:00:00\", \"2020-11-22T00:00:00\", \"2020-11-29T00:00:00\", \"2020-12-06T00:00:00\", \"2020-12-13T00:00:00\", \"2020-12-20T00:00:00\", \"2020-12-27T00:00:00\", \"2021-01-03T00:00:00\", \"2021-01-10T00:00:00\", \"2021-01-17T00:00:00\", \"2021-01-24T00:00:00\", \"2021-01-31T00:00:00\", \"2021-02-07T00:00:00\", \"2021-02-14T00:00:00\", \"2021-02-21T00:00:00\", \"2021-02-28T00:00:00\", \"2021-03-07T00:00:00\", \"2021-03-14T00:00:00\", \"2021-03-21T00:00:00\", \"2021-03-28T00:00:00\", \"2021-04-04T00:00:00\", \"2021-04-11T00:00:00\", \"2021-04-18T00:00:00\", \"2021-04-25T00:00:00\", \"2021-05-02T00:00:00\", \"2021-05-09T00:00:00\", \"2021-05-16T00:00:00\", \"2021-05-23T00:00:00\", \"2021-05-30T00:00:00\"], \"y\": [18, 22, 19, 19, 24, 22, 23, 26, 28, 33, 39, 42, 49, 50, 59, 74, 60, 58, 52, 47, 50, 40, 27, 25, 21, 19, 19, 18, 16, 15, 17, 19, 23, 18, 16, 17, 18, 17, 18, 16, 15, 16, 17, 18, 19, 20, 21, 20, 23, 22, 20, 19, 22, 22, 22, 22, 26, 28, 28, 31, 40, 46, 50, 52, 54, 56, 58, 79, 60, 56, 50, 44, 40, 28, 29, 25, 22, 19, 18, 18, 15, 15, 16, 17, 16, 16, 17, 17, 17, 17, 18, 17, 18, 18, 16, 16, 17, 17, 17, 18, 17, 18, 17, 18]}],\n",
              "                        {\"template\": {\"data\": {\"bar\": [{\"error_x\": {\"color\": \"#2a3f5f\"}, \"error_y\": {\"color\": \"#2a3f5f\"}, \"marker\": {\"line\": {\"color\": \"#E5ECF6\", \"width\": 0.5}}, \"type\": \"bar\"}], \"barpolar\": [{\"marker\": {\"line\": {\"color\": \"#E5ECF6\", \"width\": 0.5}}, \"type\": \"barpolar\"}], \"carpet\": [{\"aaxis\": {\"endlinecolor\": \"#2a3f5f\", \"gridcolor\": \"white\", \"linecolor\": \"white\", \"minorgridcolor\": \"white\", \"startlinecolor\": \"#2a3f5f\"}, \"baxis\": {\"endlinecolor\": \"#2a3f5f\", \"gridcolor\": \"white\", \"linecolor\": \"white\", \"minorgridcolor\": \"white\", \"startlinecolor\": \"#2a3f5f\"}, \"type\": \"carpet\"}], \"choropleth\": [{\"colorbar\": {\"outlinewidth\": 0, \"ticks\": \"\"}, \"type\": \"choropleth\"}], \"contour\": [{\"colorbar\": {\"outlinewidth\": 0, \"ticks\": \"\"}, \"colorscale\": [[0.0, \"#0d0887\"], [0.1111111111111111, \"#46039f\"], [0.2222222222222222, \"#7201a8\"], [0.3333333333333333, \"#9c179e\"], [0.4444444444444444, \"#bd3786\"], [0.5555555555555556, \"#d8576b\"], [0.6666666666666666, \"#ed7953\"], [0.7777777777777778, \"#fb9f3a\"], [0.8888888888888888, \"#fdca26\"], [1.0, \"#f0f921\"]], \"type\": \"contour\"}], \"contourcarpet\": [{\"colorbar\": {\"outlinewidth\": 0, \"ticks\": \"\"}, \"type\": \"contourcarpet\"}], \"heatmap\": [{\"colorbar\": {\"outlinewidth\": 0, \"ticks\": \"\"}, \"colorscale\": [[0.0, \"#0d0887\"], [0.1111111111111111, \"#46039f\"], [0.2222222222222222, \"#7201a8\"], [0.3333333333333333, \"#9c179e\"], [0.4444444444444444, \"#bd3786\"], [0.5555555555555556, \"#d8576b\"], [0.6666666666666666, \"#ed7953\"], [0.7777777777777778, \"#fb9f3a\"], [0.8888888888888888, \"#fdca26\"], [1.0, \"#f0f921\"]], \"type\": \"heatmap\"}], \"heatmapgl\": [{\"colorbar\": {\"outlinewidth\": 0, \"ticks\": \"\"}, \"colorscale\": [[0.0, \"#0d0887\"], [0.1111111111111111, \"#46039f\"], [0.2222222222222222, \"#7201a8\"], [0.3333333333333333, \"#9c179e\"], [0.4444444444444444, \"#bd3786\"], [0.5555555555555556, \"#d8576b\"], [0.6666666666666666, \"#ed7953\"], [0.7777777777777778, \"#fb9f3a\"], [0.8888888888888888, \"#fdca26\"], [1.0, \"#f0f921\"]], \"type\": \"heatmapgl\"}], \"histogram\": [{\"marker\": {\"colorbar\": {\"outlinewidth\": 0, \"ticks\": \"\"}}, \"type\": \"histogram\"}], \"histogram2d\": [{\"colorbar\": {\"outlinewidth\": 0, \"ticks\": \"\"}, \"colorscale\": [[0.0, \"#0d0887\"], [0.1111111111111111, \"#46039f\"], [0.2222222222222222, \"#7201a8\"], [0.3333333333333333, \"#9c179e\"], [0.4444444444444444, \"#bd3786\"], [0.5555555555555556, \"#d8576b\"], [0.6666666666666666, \"#ed7953\"], [0.7777777777777778, \"#fb9f3a\"], [0.8888888888888888, \"#fdca26\"], [1.0, \"#f0f921\"]], \"type\": \"histogram2d\"}], \"histogram2dcontour\": [{\"colorbar\": {\"outlinewidth\": 0, \"ticks\": \"\"}, \"colorscale\": [[0.0, \"#0d0887\"], [0.1111111111111111, \"#46039f\"], [0.2222222222222222, \"#7201a8\"], [0.3333333333333333, \"#9c179e\"], [0.4444444444444444, \"#bd3786\"], [0.5555555555555556, \"#d8576b\"], [0.6666666666666666, \"#ed7953\"], [0.7777777777777778, \"#fb9f3a\"], [0.8888888888888888, \"#fdca26\"], [1.0, \"#f0f921\"]], \"type\": \"histogram2dcontour\"}], \"mesh3d\": [{\"colorbar\": {\"outlinewidth\": 0, \"ticks\": \"\"}, \"type\": \"mesh3d\"}], \"parcoords\": [{\"line\": {\"colorbar\": {\"outlinewidth\": 0, \"ticks\": \"\"}}, \"type\": \"parcoords\"}], \"pie\": [{\"automargin\": true, \"type\": \"pie\"}], \"scatter\": [{\"marker\": {\"colorbar\": {\"outlinewidth\": 0, \"ticks\": \"\"}}, \"type\": \"scatter\"}], \"scatter3d\": [{\"line\": {\"colorbar\": {\"outlinewidth\": 0, \"ticks\": \"\"}}, \"marker\": {\"colorbar\": {\"outlinewidth\": 0, \"ticks\": \"\"}}, \"type\": \"scatter3d\"}], \"scattercarpet\": [{\"marker\": {\"colorbar\": {\"outlinewidth\": 0, \"ticks\": \"\"}}, \"type\": \"scattercarpet\"}], \"scattergeo\": [{\"marker\": {\"colorbar\": {\"outlinewidth\": 0, \"ticks\": \"\"}}, \"type\": \"scattergeo\"}], \"scattergl\": [{\"marker\": {\"colorbar\": {\"outlinewidth\": 0, \"ticks\": \"\"}}, \"type\": \"scattergl\"}], \"scattermapbox\": [{\"marker\": {\"colorbar\": {\"outlinewidth\": 0, \"ticks\": \"\"}}, \"type\": \"scattermapbox\"}], \"scatterpolar\": [{\"marker\": {\"colorbar\": {\"outlinewidth\": 0, \"ticks\": \"\"}}, \"type\": \"scatterpolar\"}], \"scatterpolargl\": [{\"marker\": {\"colorbar\": {\"outlinewidth\": 0, \"ticks\": \"\"}}, \"type\": \"scatterpolargl\"}], \"scatterternary\": [{\"marker\": {\"colorbar\": {\"outlinewidth\": 0, \"ticks\": \"\"}}, \"type\": \"scatterternary\"}], \"surface\": [{\"colorbar\": {\"outlinewidth\": 0, \"ticks\": \"\"}, \"colorscale\": [[0.0, \"#0d0887\"], [0.1111111111111111, \"#46039f\"], [0.2222222222222222, \"#7201a8\"], [0.3333333333333333, \"#9c179e\"], [0.4444444444444444, \"#bd3786\"], [0.5555555555555556, \"#d8576b\"], [0.6666666666666666, \"#ed7953\"], [0.7777777777777778, \"#fb9f3a\"], [0.8888888888888888, \"#fdca26\"], [1.0, \"#f0f921\"]], \"type\": \"surface\"}], \"table\": [{\"cells\": {\"fill\": {\"color\": \"#EBF0F8\"}, \"line\": {\"color\": \"white\"}}, \"header\": {\"fill\": {\"color\": \"#C8D4E3\"}, \"line\": {\"color\": \"white\"}}, \"type\": \"table\"}]}, \"layout\": {\"annotationdefaults\": {\"arrowcolor\": \"#2a3f5f\", \"arrowhead\": 0, \"arrowwidth\": 1}, \"coloraxis\": {\"colorbar\": {\"outlinewidth\": 0, \"ticks\": \"\"}}, \"colorscale\": {\"diverging\": [[0, \"#8e0152\"], [0.1, \"#c51b7d\"], [0.2, \"#de77ae\"], [0.3, \"#f1b6da\"], [0.4, \"#fde0ef\"], [0.5, \"#f7f7f7\"], [0.6, \"#e6f5d0\"], [0.7, \"#b8e186\"], [0.8, \"#7fbc41\"], [0.9, \"#4d9221\"], [1, \"#276419\"]], \"sequential\": [[0.0, \"#0d0887\"], [0.1111111111111111, \"#46039f\"], [0.2222222222222222, \"#7201a8\"], [0.3333333333333333, \"#9c179e\"], [0.4444444444444444, \"#bd3786\"], [0.5555555555555556, \"#d8576b\"], [0.6666666666666666, \"#ed7953\"], [0.7777777777777778, \"#fb9f3a\"], [0.8888888888888888, \"#fdca26\"], [1.0, \"#f0f921\"]], \"sequentialminus\": [[0.0, \"#0d0887\"], [0.1111111111111111, \"#46039f\"], [0.2222222222222222, \"#7201a8\"], [0.3333333333333333, \"#9c179e\"], [0.4444444444444444, \"#bd3786\"], [0.5555555555555556, \"#d8576b\"], [0.6666666666666666, \"#ed7953\"], [0.7777777777777778, \"#fb9f3a\"], [0.8888888888888888, \"#fdca26\"], [1.0, \"#f0f921\"]]}, \"colorway\": [\"#636efa\", \"#EF553B\", \"#00cc96\", \"#ab63fa\", \"#FFA15A\", \"#19d3f3\", \"#FF6692\", \"#B6E880\", \"#FF97FF\", \"#FECB52\"], \"font\": {\"color\": \"#2a3f5f\"}, \"geo\": {\"bgcolor\": \"white\", \"lakecolor\": \"white\", \"landcolor\": \"#E5ECF6\", \"showlakes\": true, \"showland\": true, \"subunitcolor\": \"white\"}, \"hoverlabel\": {\"align\": \"left\"}, \"hovermode\": \"closest\", \"mapbox\": {\"style\": \"light\"}, \"paper_bgcolor\": \"white\", \"plot_bgcolor\": \"#E5ECF6\", \"polar\": {\"angularaxis\": {\"gridcolor\": \"white\", \"linecolor\": \"white\", \"ticks\": \"\"}, \"bgcolor\": \"#E5ECF6\", \"radialaxis\": {\"gridcolor\": \"white\", \"linecolor\": \"white\", \"ticks\": \"\"}}, \"scene\": {\"xaxis\": {\"backgroundcolor\": \"#E5ECF6\", \"gridcolor\": \"white\", \"gridwidth\": 2, \"linecolor\": \"white\", \"showbackground\": true, \"ticks\": \"\", \"zerolinecolor\": \"white\"}, \"yaxis\": {\"backgroundcolor\": \"#E5ECF6\", \"gridcolor\": \"white\", \"gridwidth\": 2, \"linecolor\": \"white\", \"showbackground\": true, \"ticks\": \"\", \"zerolinecolor\": \"white\"}, \"zaxis\": {\"backgroundcolor\": \"#E5ECF6\", \"gridcolor\": \"white\", \"gridwidth\": 2, \"linecolor\": \"white\", \"showbackground\": true, \"ticks\": \"\", \"zerolinecolor\": \"white\"}}, \"shapedefaults\": {\"line\": {\"color\": \"#2a3f5f\"}}, \"ternary\": {\"aaxis\": {\"gridcolor\": \"white\", \"linecolor\": \"white\", \"ticks\": \"\"}, \"baxis\": {\"gridcolor\": \"white\", \"linecolor\": \"white\", \"ticks\": \"\"}, \"bgcolor\": \"#E5ECF6\", \"caxis\": {\"gridcolor\": \"white\", \"linecolor\": \"white\", \"ticks\": \"\"}}, \"title\": {\"x\": 0.05}, \"xaxis\": {\"automargin\": true, \"gridcolor\": \"white\", \"linecolor\": \"white\", \"ticks\": \"\", \"title\": {\"standoff\": 15}, \"zerolinecolor\": \"white\", \"zerolinewidth\": 2}, \"yaxis\": {\"automargin\": true, \"gridcolor\": \"white\", \"linecolor\": \"white\", \"ticks\": \"\", \"title\": {\"standoff\": 15}, \"zerolinecolor\": \"white\", \"zerolinewidth\": 2}}}, \"title\": {\"text\": \"Google Trends Interests Over Time\", \"x\": 0.5}},\n",
              "                        {\"responsive\": true}\n",
              "                    ).then(function(){\n",
              "                            \n",
              "var gd = document.getElementById('ead92873-1fc0-480a-adea-59bd73dbaeb6');\n",
              "var x = new MutationObserver(function (mutations, observer) {{\n",
              "        var display = window.getComputedStyle(gd).display;\n",
              "        if (!display || display === 'none') {{\n",
              "            console.log([gd, 'removed!']);\n",
              "            Plotly.purge(gd);\n",
              "            observer.disconnect();\n",
              "        }}\n",
              "}});\n",
              "\n",
              "// Listen for the removal of the full notebook cells\n",
              "var notebookContainer = gd.closest('#notebook-container');\n",
              "if (notebookContainer) {{\n",
              "    x.observe(notebookContainer, {childList: true});\n",
              "}}\n",
              "\n",
              "// Listen for the clearing of the current output cell\n",
              "var outputEl = gd.closest('.output');\n",
              "if (outputEl) {{\n",
              "    x.observe(outputEl, {childList: true});\n",
              "}}\n",
              "\n",
              "                        })\n",
              "                };\n",
              "                \n",
              "            </script>\n",
              "        </div>\n",
              "</body>\n",
              "</html>"
            ]
          },
          "metadata": {
            "tags": []
          }
        }
      ]
    },
    {
      "cell_type": "code",
      "metadata": {
        "colab": {
          "base_uri": "https://localhost:8080/",
          "height": 394
        },
        "id": "UKdGyKqAyq8Y",
        "outputId": "287b2e2e-fb50-4fbe-fa20-9552dc5498c7"
      },
      "source": [
        "# get interest by region\n",
        "region_interests = pytrends.interest_by_region(resolution='REGION', inc_low_vol=False, inc_geo_code=True).sort_values(by=\"summer\",ascending=False)\n",
        "region_interests.geoCode = region_interests.geoCode.str.split(pat=\"-\",expand=True,)[1]\n",
        "region_interests.head(10)"
      ],
      "execution_count": 165,
      "outputs": [
        {
          "output_type": "execute_result",
          "data": {
            "text/html": [
              "<div>\n",
              "<style scoped>\n",
              "    .dataframe tbody tr th:only-of-type {\n",
              "        vertical-align: middle;\n",
              "    }\n",
              "\n",
              "    .dataframe tbody tr th {\n",
              "        vertical-align: top;\n",
              "    }\n",
              "\n",
              "    .dataframe thead th {\n",
              "        text-align: right;\n",
              "    }\n",
              "</style>\n",
              "<table border=\"1\" class=\"dataframe\">\n",
              "  <thead>\n",
              "    <tr style=\"text-align: right;\">\n",
              "      <th></th>\n",
              "      <th>geoCode</th>\n",
              "      <th>summer</th>\n",
              "      <th>spring</th>\n",
              "      <th>winter</th>\n",
              "      <th>fall</th>\n",
              "      <th>autumn</th>\n",
              "    </tr>\n",
              "    <tr>\n",
              "      <th>geoName</th>\n",
              "      <th></th>\n",
              "      <th></th>\n",
              "      <th></th>\n",
              "      <th></th>\n",
              "      <th></th>\n",
              "      <th></th>\n",
              "    </tr>\n",
              "  </thead>\n",
              "  <tbody>\n",
              "    <tr>\n",
              "      <th>Hawaii</th>\n",
              "      <td>HI</td>\n",
              "      <td>33</td>\n",
              "      <td>23</td>\n",
              "      <td>15</td>\n",
              "      <td>27</td>\n",
              "      <td>2</td>\n",
              "    </tr>\n",
              "    <tr>\n",
              "      <th>California</th>\n",
              "      <td>CA</td>\n",
              "      <td>29</td>\n",
              "      <td>27</td>\n",
              "      <td>16</td>\n",
              "      <td>26</td>\n",
              "      <td>2</td>\n",
              "    </tr>\n",
              "    <tr>\n",
              "      <th>Connecticut</th>\n",
              "      <td>CT</td>\n",
              "      <td>29</td>\n",
              "      <td>23</td>\n",
              "      <td>21</td>\n",
              "      <td>25</td>\n",
              "      <td>2</td>\n",
              "    </tr>\n",
              "    <tr>\n",
              "      <th>Delaware</th>\n",
              "      <td>DE</td>\n",
              "      <td>29</td>\n",
              "      <td>24</td>\n",
              "      <td>20</td>\n",
              "      <td>25</td>\n",
              "      <td>2</td>\n",
              "    </tr>\n",
              "    <tr>\n",
              "      <th>New Jersey</th>\n",
              "      <td>NJ</td>\n",
              "      <td>29</td>\n",
              "      <td>27</td>\n",
              "      <td>19</td>\n",
              "      <td>23</td>\n",
              "      <td>2</td>\n",
              "    </tr>\n",
              "    <tr>\n",
              "      <th>New York</th>\n",
              "      <td>NY</td>\n",
              "      <td>28</td>\n",
              "      <td>26</td>\n",
              "      <td>22</td>\n",
              "      <td>22</td>\n",
              "      <td>2</td>\n",
              "    </tr>\n",
              "    <tr>\n",
              "      <th>Louisiana</th>\n",
              "      <td>LA</td>\n",
              "      <td>27</td>\n",
              "      <td>25</td>\n",
              "      <td>17</td>\n",
              "      <td>29</td>\n",
              "      <td>2</td>\n",
              "    </tr>\n",
              "    <tr>\n",
              "      <th>Arizona</th>\n",
              "      <td>AZ</td>\n",
              "      <td>27</td>\n",
              "      <td>28</td>\n",
              "      <td>17</td>\n",
              "      <td>26</td>\n",
              "      <td>2</td>\n",
              "    </tr>\n",
              "    <tr>\n",
              "      <th>Washington</th>\n",
              "      <td>WA</td>\n",
              "      <td>27</td>\n",
              "      <td>23</td>\n",
              "      <td>22</td>\n",
              "      <td>26</td>\n",
              "      <td>2</td>\n",
              "    </tr>\n",
              "    <tr>\n",
              "      <th>New Hampshire</th>\n",
              "      <td>NH</td>\n",
              "      <td>27</td>\n",
              "      <td>20</td>\n",
              "      <td>26</td>\n",
              "      <td>25</td>\n",
              "      <td>2</td>\n",
              "    </tr>\n",
              "  </tbody>\n",
              "</table>\n",
              "</div>"
            ],
            "text/plain": [
              "              geoCode  summer  spring  winter  fall  autumn\n",
              "geoName                                                    \n",
              "Hawaii             HI      33      23      15    27       2\n",
              "California         CA      29      27      16    26       2\n",
              "Connecticut        CT      29      23      21    25       2\n",
              "Delaware           DE      29      24      20    25       2\n",
              "New Jersey         NJ      29      27      19    23       2\n",
              "New York           NY      28      26      22    22       2\n",
              "Louisiana          LA      27      25      17    29       2\n",
              "Arizona            AZ      27      28      17    26       2\n",
              "Washington         WA      27      23      22    26       2\n",
              "New Hampshire      NH      27      20      26    25       2"
            ]
          },
          "metadata": {
            "tags": []
          },
          "execution_count": 165
        }
      ]
    },
    {
      "cell_type": "code",
      "metadata": {
        "colab": {
          "base_uri": "https://localhost:8080/",
          "height": 542
        },
        "id": "iQZ6nZqou6kU",
        "outputId": "7cafe45d-ee74-46dd-db5a-118f2dfb6773"
      },
      "source": [
        "fig = go.Figure(data=go.Choropleth(\n",
        "    locations=region_interests['geoCode'], # Spatial coordinates\n",
        "    z = region_interests['summer'].astype(float), # Data to be color-coded\n",
        "    locationmode = 'USA-states', # set of locations match entries in `locations`\n",
        "    colorscale = 'oranges',\n",
        "    colorbar_title = \"Interests\",\n",
        "))\n",
        "\n",
        "fig.update_layout(\n",
        "    title_text = \"Interest by Region for keyword 'summer'\",\n",
        "    geo_scope='usa', title_x=0.5 # limite map scope to USA\n",
        ")\n",
        "\n",
        "fig.show()"
      ],
      "execution_count": 182,
      "outputs": [
        {
          "output_type": "display_data",
          "data": {
            "text/html": [
              "<html>\n",
              "<head><meta charset=\"utf-8\" /></head>\n",
              "<body>\n",
              "    <div>\n",
              "            <script src=\"https://cdnjs.cloudflare.com/ajax/libs/mathjax/2.7.5/MathJax.js?config=TeX-AMS-MML_SVG\"></script><script type=\"text/javascript\">if (window.MathJax) {MathJax.Hub.Config({SVG: {font: \"STIX-Web\"}});}</script>\n",
              "                <script type=\"text/javascript\">window.PlotlyConfig = {MathJaxConfig: 'local'};</script>\n",
              "        <script src=\"https://cdn.plot.ly/plotly-latest.min.js\"></script>    \n",
              "            <div id=\"dfe04afa-9409-45cd-acef-d4dc809884a0\" class=\"plotly-graph-div\" style=\"height:525px; width:100%;\"></div>\n",
              "            <script type=\"text/javascript\">\n",
              "                \n",
              "                    window.PLOTLYENV=window.PLOTLYENV || {};\n",
              "                    \n",
              "                if (document.getElementById(\"dfe04afa-9409-45cd-acef-d4dc809884a0\")) {\n",
              "                    Plotly.newPlot(\n",
              "                        'dfe04afa-9409-45cd-acef-d4dc809884a0',\n",
              "                        [{\"colorbar\": {\"title\": {\"text\": \"Interests\"}}, \"colorscale\": [[0.0, \"rgb(255,245,235)\"], [0.125, \"rgb(254,230,206)\"], [0.25, \"rgb(253,208,162)\"], [0.375, \"rgb(253,174,107)\"], [0.5, \"rgb(253,141,60)\"], [0.625, \"rgb(241,105,19)\"], [0.75, \"rgb(217,72,1)\"], [0.875, \"rgb(166,54,3)\"], [1.0, \"rgb(127,39,4)\"]], \"locationmode\": \"USA-states\", \"locations\": [\"HI\", \"CA\", \"CT\", \"DE\", \"NJ\", \"NY\", \"LA\", \"AZ\", \"WA\", \"NH\", \"AL\", \"MS\", \"SC\", \"GA\", \"IL\", \"NM\", \"DC\", \"VT\", \"NE\", \"MT\", \"OR\", \"UT\", \"MA\", \"MI\", \"IN\", \"OK\", \"ME\", \"NV\", \"OH\", \"VA\", \"NC\", \"PA\", \"SD\", \"TN\", \"MO\", \"KY\", \"KS\", \"IA\", \"CO\", \"AR\", \"ND\", \"TX\", \"ID\", \"WY\", \"AK\", \"MN\", \"WI\", \"MD\", \"RI\", \"WV\", \"FL\"], \"type\": \"choropleth\", \"z\": [33.0, 29.0, 29.0, 29.0, 29.0, 28.0, 27.0, 27.0, 27.0, 27.0, 26.0, 26.0, 26.0, 26.0, 25.0, 25.0, 25.0, 25.0, 25.0, 25.0, 25.0, 25.0, 24.0, 24.0, 24.0, 24.0, 24.0, 24.0, 24.0, 24.0, 24.0, 23.0, 23.0, 23.0, 23.0, 23.0, 23.0, 23.0, 23.0, 23.0, 22.0, 22.0, 22.0, 22.0, 21.0, 21.0, 21.0, 20.0, 20.0, 20.0, 18.0]}],\n",
              "                        {\"geo\": {\"scope\": \"usa\"}, \"template\": {\"data\": {\"bar\": [{\"error_x\": {\"color\": \"#2a3f5f\"}, \"error_y\": {\"color\": \"#2a3f5f\"}, \"marker\": {\"line\": {\"color\": \"#E5ECF6\", \"width\": 0.5}}, \"type\": \"bar\"}], \"barpolar\": [{\"marker\": {\"line\": {\"color\": \"#E5ECF6\", \"width\": 0.5}}, \"type\": \"barpolar\"}], \"carpet\": [{\"aaxis\": {\"endlinecolor\": \"#2a3f5f\", \"gridcolor\": \"white\", \"linecolor\": \"white\", \"minorgridcolor\": \"white\", \"startlinecolor\": \"#2a3f5f\"}, \"baxis\": {\"endlinecolor\": \"#2a3f5f\", \"gridcolor\": \"white\", \"linecolor\": \"white\", \"minorgridcolor\": \"white\", \"startlinecolor\": \"#2a3f5f\"}, \"type\": \"carpet\"}], \"choropleth\": [{\"colorbar\": {\"outlinewidth\": 0, \"ticks\": \"\"}, \"type\": \"choropleth\"}], \"contour\": [{\"colorbar\": {\"outlinewidth\": 0, \"ticks\": \"\"}, \"colorscale\": [[0.0, \"#0d0887\"], [0.1111111111111111, \"#46039f\"], [0.2222222222222222, \"#7201a8\"], [0.3333333333333333, \"#9c179e\"], [0.4444444444444444, \"#bd3786\"], [0.5555555555555556, \"#d8576b\"], [0.6666666666666666, \"#ed7953\"], [0.7777777777777778, \"#fb9f3a\"], [0.8888888888888888, \"#fdca26\"], [1.0, \"#f0f921\"]], \"type\": \"contour\"}], \"contourcarpet\": [{\"colorbar\": {\"outlinewidth\": 0, \"ticks\": \"\"}, \"type\": \"contourcarpet\"}], \"heatmap\": [{\"colorbar\": {\"outlinewidth\": 0, \"ticks\": \"\"}, \"colorscale\": [[0.0, \"#0d0887\"], [0.1111111111111111, \"#46039f\"], [0.2222222222222222, \"#7201a8\"], [0.3333333333333333, \"#9c179e\"], [0.4444444444444444, \"#bd3786\"], [0.5555555555555556, \"#d8576b\"], [0.6666666666666666, \"#ed7953\"], [0.7777777777777778, \"#fb9f3a\"], [0.8888888888888888, \"#fdca26\"], [1.0, \"#f0f921\"]], \"type\": \"heatmap\"}], \"heatmapgl\": [{\"colorbar\": {\"outlinewidth\": 0, \"ticks\": \"\"}, \"colorscale\": [[0.0, \"#0d0887\"], [0.1111111111111111, \"#46039f\"], [0.2222222222222222, \"#7201a8\"], [0.3333333333333333, \"#9c179e\"], [0.4444444444444444, \"#bd3786\"], [0.5555555555555556, \"#d8576b\"], [0.6666666666666666, \"#ed7953\"], [0.7777777777777778, \"#fb9f3a\"], [0.8888888888888888, \"#fdca26\"], [1.0, \"#f0f921\"]], \"type\": \"heatmapgl\"}], \"histogram\": [{\"marker\": {\"colorbar\": {\"outlinewidth\": 0, \"ticks\": \"\"}}, \"type\": \"histogram\"}], \"histogram2d\": [{\"colorbar\": {\"outlinewidth\": 0, \"ticks\": \"\"}, \"colorscale\": [[0.0, \"#0d0887\"], [0.1111111111111111, \"#46039f\"], [0.2222222222222222, \"#7201a8\"], [0.3333333333333333, \"#9c179e\"], [0.4444444444444444, \"#bd3786\"], [0.5555555555555556, \"#d8576b\"], [0.6666666666666666, \"#ed7953\"], [0.7777777777777778, \"#fb9f3a\"], [0.8888888888888888, \"#fdca26\"], [1.0, \"#f0f921\"]], \"type\": \"histogram2d\"}], \"histogram2dcontour\": [{\"colorbar\": {\"outlinewidth\": 0, \"ticks\": \"\"}, \"colorscale\": [[0.0, \"#0d0887\"], [0.1111111111111111, \"#46039f\"], [0.2222222222222222, \"#7201a8\"], [0.3333333333333333, \"#9c179e\"], [0.4444444444444444, \"#bd3786\"], [0.5555555555555556, \"#d8576b\"], [0.6666666666666666, \"#ed7953\"], [0.7777777777777778, \"#fb9f3a\"], [0.8888888888888888, \"#fdca26\"], [1.0, \"#f0f921\"]], \"type\": \"histogram2dcontour\"}], \"mesh3d\": [{\"colorbar\": {\"outlinewidth\": 0, \"ticks\": \"\"}, \"type\": \"mesh3d\"}], \"parcoords\": [{\"line\": {\"colorbar\": {\"outlinewidth\": 0, \"ticks\": \"\"}}, \"type\": \"parcoords\"}], \"pie\": [{\"automargin\": true, \"type\": \"pie\"}], \"scatter\": [{\"marker\": {\"colorbar\": {\"outlinewidth\": 0, \"ticks\": \"\"}}, \"type\": \"scatter\"}], \"scatter3d\": [{\"line\": {\"colorbar\": {\"outlinewidth\": 0, \"ticks\": \"\"}}, \"marker\": {\"colorbar\": {\"outlinewidth\": 0, \"ticks\": \"\"}}, \"type\": \"scatter3d\"}], \"scattercarpet\": [{\"marker\": {\"colorbar\": {\"outlinewidth\": 0, \"ticks\": \"\"}}, \"type\": \"scattercarpet\"}], \"scattergeo\": [{\"marker\": {\"colorbar\": {\"outlinewidth\": 0, \"ticks\": \"\"}}, \"type\": \"scattergeo\"}], \"scattergl\": [{\"marker\": {\"colorbar\": {\"outlinewidth\": 0, \"ticks\": \"\"}}, \"type\": \"scattergl\"}], \"scattermapbox\": [{\"marker\": {\"colorbar\": {\"outlinewidth\": 0, \"ticks\": \"\"}}, \"type\": \"scattermapbox\"}], \"scatterpolar\": [{\"marker\": {\"colorbar\": {\"outlinewidth\": 0, \"ticks\": \"\"}}, \"type\": \"scatterpolar\"}], \"scatterpolargl\": [{\"marker\": {\"colorbar\": {\"outlinewidth\": 0, \"ticks\": \"\"}}, \"type\": \"scatterpolargl\"}], \"scatterternary\": [{\"marker\": {\"colorbar\": {\"outlinewidth\": 0, \"ticks\": \"\"}}, \"type\": \"scatterternary\"}], \"surface\": [{\"colorbar\": {\"outlinewidth\": 0, \"ticks\": \"\"}, \"colorscale\": [[0.0, \"#0d0887\"], [0.1111111111111111, \"#46039f\"], [0.2222222222222222, \"#7201a8\"], [0.3333333333333333, \"#9c179e\"], [0.4444444444444444, \"#bd3786\"], [0.5555555555555556, \"#d8576b\"], [0.6666666666666666, \"#ed7953\"], [0.7777777777777778, \"#fb9f3a\"], [0.8888888888888888, \"#fdca26\"], [1.0, \"#f0f921\"]], \"type\": \"surface\"}], \"table\": [{\"cells\": {\"fill\": {\"color\": \"#EBF0F8\"}, \"line\": {\"color\": \"white\"}}, \"header\": {\"fill\": {\"color\": \"#C8D4E3\"}, \"line\": {\"color\": \"white\"}}, \"type\": \"table\"}]}, \"layout\": {\"annotationdefaults\": {\"arrowcolor\": \"#2a3f5f\", \"arrowhead\": 0, \"arrowwidth\": 1}, \"coloraxis\": {\"colorbar\": {\"outlinewidth\": 0, \"ticks\": \"\"}}, \"colorscale\": {\"diverging\": [[0, \"#8e0152\"], [0.1, \"#c51b7d\"], [0.2, \"#de77ae\"], [0.3, \"#f1b6da\"], [0.4, \"#fde0ef\"], [0.5, \"#f7f7f7\"], [0.6, \"#e6f5d0\"], [0.7, \"#b8e186\"], [0.8, \"#7fbc41\"], [0.9, \"#4d9221\"], [1, \"#276419\"]], \"sequential\": [[0.0, \"#0d0887\"], [0.1111111111111111, \"#46039f\"], [0.2222222222222222, \"#7201a8\"], [0.3333333333333333, \"#9c179e\"], [0.4444444444444444, \"#bd3786\"], [0.5555555555555556, \"#d8576b\"], [0.6666666666666666, \"#ed7953\"], [0.7777777777777778, \"#fb9f3a\"], [0.8888888888888888, \"#fdca26\"], [1.0, \"#f0f921\"]], \"sequentialminus\": [[0.0, \"#0d0887\"], [0.1111111111111111, \"#46039f\"], [0.2222222222222222, \"#7201a8\"], [0.3333333333333333, \"#9c179e\"], [0.4444444444444444, \"#bd3786\"], [0.5555555555555556, \"#d8576b\"], [0.6666666666666666, \"#ed7953\"], [0.7777777777777778, \"#fb9f3a\"], [0.8888888888888888, \"#fdca26\"], [1.0, \"#f0f921\"]]}, \"colorway\": [\"#636efa\", \"#EF553B\", \"#00cc96\", \"#ab63fa\", \"#FFA15A\", \"#19d3f3\", \"#FF6692\", \"#B6E880\", \"#FF97FF\", \"#FECB52\"], \"font\": {\"color\": \"#2a3f5f\"}, \"geo\": {\"bgcolor\": \"white\", \"lakecolor\": \"white\", \"landcolor\": \"#E5ECF6\", \"showlakes\": true, \"showland\": true, \"subunitcolor\": \"white\"}, \"hoverlabel\": {\"align\": \"left\"}, \"hovermode\": \"closest\", \"mapbox\": {\"style\": \"light\"}, \"paper_bgcolor\": \"white\", \"plot_bgcolor\": \"#E5ECF6\", \"polar\": {\"angularaxis\": {\"gridcolor\": \"white\", \"linecolor\": \"white\", \"ticks\": \"\"}, \"bgcolor\": \"#E5ECF6\", \"radialaxis\": {\"gridcolor\": \"white\", \"linecolor\": \"white\", \"ticks\": \"\"}}, \"scene\": {\"xaxis\": {\"backgroundcolor\": \"#E5ECF6\", \"gridcolor\": \"white\", \"gridwidth\": 2, \"linecolor\": \"white\", \"showbackground\": true, \"ticks\": \"\", \"zerolinecolor\": \"white\"}, \"yaxis\": {\"backgroundcolor\": \"#E5ECF6\", \"gridcolor\": \"white\", \"gridwidth\": 2, \"linecolor\": \"white\", \"showbackground\": true, \"ticks\": \"\", \"zerolinecolor\": \"white\"}, \"zaxis\": {\"backgroundcolor\": \"#E5ECF6\", \"gridcolor\": \"white\", \"gridwidth\": 2, \"linecolor\": \"white\", \"showbackground\": true, \"ticks\": \"\", \"zerolinecolor\": \"white\"}}, \"shapedefaults\": {\"line\": {\"color\": \"#2a3f5f\"}}, \"ternary\": {\"aaxis\": {\"gridcolor\": \"white\", \"linecolor\": \"white\", \"ticks\": \"\"}, \"baxis\": {\"gridcolor\": \"white\", \"linecolor\": \"white\", \"ticks\": \"\"}, \"bgcolor\": \"#E5ECF6\", \"caxis\": {\"gridcolor\": \"white\", \"linecolor\": \"white\", \"ticks\": \"\"}}, \"title\": {\"x\": 0.05}, \"xaxis\": {\"automargin\": true, \"gridcolor\": \"white\", \"linecolor\": \"white\", \"ticks\": \"\", \"title\": {\"standoff\": 15}, \"zerolinecolor\": \"white\", \"zerolinewidth\": 2}, \"yaxis\": {\"automargin\": true, \"gridcolor\": \"white\", \"linecolor\": \"white\", \"ticks\": \"\", \"title\": {\"standoff\": 15}, \"zerolinecolor\": \"white\", \"zerolinewidth\": 2}}}, \"title\": {\"text\": \"Interest by Region for keyword 'summer'\", \"x\": 0.5}},\n",
              "                        {\"responsive\": true}\n",
              "                    ).then(function(){\n",
              "                            \n",
              "var gd = document.getElementById('dfe04afa-9409-45cd-acef-d4dc809884a0');\n",
              "var x = new MutationObserver(function (mutations, observer) {{\n",
              "        var display = window.getComputedStyle(gd).display;\n",
              "        if (!display || display === 'none') {{\n",
              "            console.log([gd, 'removed!']);\n",
              "            Plotly.purge(gd);\n",
              "            observer.disconnect();\n",
              "        }}\n",
              "}});\n",
              "\n",
              "// Listen for the removal of the full notebook cells\n",
              "var notebookContainer = gd.closest('#notebook-container');\n",
              "if (notebookContainer) {{\n",
              "    x.observe(notebookContainer, {childList: true});\n",
              "}}\n",
              "\n",
              "// Listen for the clearing of the current output cell\n",
              "var outputEl = gd.closest('.output');\n",
              "if (outputEl) {{\n",
              "    x.observe(outputEl, {childList: true});\n",
              "}}\n",
              "\n",
              "                        })\n",
              "                };\n",
              "                \n",
              "            </script>\n",
              "        </div>\n",
              "</body>\n",
              "</html>"
            ]
          },
          "metadata": {
            "tags": []
          }
        }
      ]
    },
    {
      "cell_type": "code",
      "metadata": {
        "colab": {
          "base_uri": "https://localhost:8080/",
          "height": 206
        },
        "id": "fPsf27257eJs",
        "outputId": "c8fb4485-3f60-47c8-cde6-b997201bb46f"
      },
      "source": [
        "# get seach suggestions for \"summer\"\n",
        "suggestions = pd.DataFrame.from_dict(pytrends.suggestions(\"summer\"))\n",
        "suggestions.iloc[:,[1,2]]"
      ],
      "execution_count": 176,
      "outputs": [
        {
          "output_type": "execute_result",
          "data": {
            "text/html": [
              "<div>\n",
              "<style scoped>\n",
              "    .dataframe tbody tr th:only-of-type {\n",
              "        vertical-align: middle;\n",
              "    }\n",
              "\n",
              "    .dataframe tbody tr th {\n",
              "        vertical-align: top;\n",
              "    }\n",
              "\n",
              "    .dataframe thead th {\n",
              "        text-align: right;\n",
              "    }\n",
              "</style>\n",
              "<table border=\"1\" class=\"dataframe\">\n",
              "  <thead>\n",
              "    <tr style=\"text-align: right;\">\n",
              "      <th></th>\n",
              "      <th>title</th>\n",
              "      <th>type</th>\n",
              "    </tr>\n",
              "  </thead>\n",
              "  <tbody>\n",
              "    <tr>\n",
              "      <th>0</th>\n",
              "      <td>Summer</td>\n",
              "      <td>Topic</td>\n",
              "    </tr>\n",
              "    <tr>\n",
              "      <th>1</th>\n",
              "      <td>Summer Phoenix</td>\n",
              "      <td>American actress</td>\n",
              "    </tr>\n",
              "    <tr>\n",
              "      <th>2</th>\n",
              "      <td>Daylight saving time</td>\n",
              "      <td>Time zone</td>\n",
              "    </tr>\n",
              "    <tr>\n",
              "      <th>3</th>\n",
              "      <td>Summer house</td>\n",
              "      <td>Building use</td>\n",
              "    </tr>\n",
              "    <tr>\n",
              "      <th>4</th>\n",
              "      <td>2020 Summer Olympics</td>\n",
              "      <td>Olympic games</td>\n",
              "    </tr>\n",
              "  </tbody>\n",
              "</table>\n",
              "</div>"
            ],
            "text/plain": [
              "                  title              type\n",
              "0                Summer             Topic\n",
              "1        Summer Phoenix  American actress\n",
              "2  Daylight saving time         Time zone\n",
              "3          Summer house      Building use\n",
              "4  2020 Summer Olympics     Olympic games"
            ]
          },
          "metadata": {
            "tags": []
          },
          "execution_count": 176
        }
      ]
    },
    {
      "cell_type": "code",
      "metadata": {
        "id": "kvlSrvSDCN3Y",
        "colab": {
          "base_uri": "https://localhost:8080/"
        },
        "outputId": "837c0525-a02d-4427-ddf1-a15535885505"
      },
      "source": [
        "# build the payload\n",
        "pytrends.build_payload(kw_list=[\"summer\"], \n",
        "                       timeframe='2020-01-01 2021-06-03', \n",
        "                       geo='US') \n",
        "\n",
        "# get related topics\n",
        "df_rt = pytrends.related_topics()\n",
        "df_rt"
      ],
      "execution_count": 177,
      "outputs": [
        {
          "output_type": "execute_result",
          "data": {
            "text/plain": [
              "{'summer': {'rising':     value  ...                      topic_type\n",
              "  0     750  ...              Song by Bananarama\n",
              "  1     160  ...               Television series\n",
              "  2      90  ...                    Building use\n",
              "  3      80  ...                   Olympic games\n",
              "  4      80  ...                            Film\n",
              "  5      70  ...            Song by Taylor Swift\n",
              "  6      70  ...                  Music Festival\n",
              "  7      70  ...                           Plant\n",
              "  8      60  ...                           Topic\n",
              "  9      60  ...                          Squash\n",
              "  10     60  ...                        Clothing\n",
              "  11     60  ...                           Topic\n",
              "  12     60  ...  American professional wrestler\n",
              "  13     50  ...                         Garment\n",
              "  14     40  ...                          Season\n",
              "  15     40  ...                           Topic\n",
              "  \n",
              "  [16 rows x 6 columns], 'top':     value  ...                      topic_type\n",
              "  0     100  ...                           Topic\n",
              "  1      14  ...                     School type\n",
              "  2       7  ...                 School category\n",
              "  3       6  ...                         Garment\n",
              "  4       5  ...                           Topic\n",
              "  5       5  ...                       Education\n",
              "  6       5  ...                           Topic\n",
              "  7       4  ...                           Topic\n",
              "  8       4  ...                 American singer\n",
              "  9       3  ...                           Topic\n",
              "  10      2  ...                           Topic\n",
              "  11      2  ...                           Topic\n",
              "  12      2  ...                          Season\n",
              "  13      2  ...              Song by Bananarama\n",
              "  14      1  ...                           Plant\n",
              "  15      1  ...               Television series\n",
              "  16      1  ...                    Building use\n",
              "  17      1  ...                          Squash\n",
              "  18      1  ...                        Clothing\n",
              "  19      1  ...                   Olympic games\n",
              "  20      1  ...                            Film\n",
              "  21      0  ...  American professional wrestler\n",
              "  22      0  ...                  Music Festival\n",
              "  23      0  ...                           Topic\n",
              "  24      0  ...            Song by Taylor Swift\n",
              "  \n",
              "  [25 rows x 7 columns]}}"
            ]
          },
          "metadata": {
            "tags": []
          },
          "execution_count": 177
        }
      ]
    },
    {
      "cell_type": "code",
      "metadata": {
        "colab": {
          "base_uri": "https://localhost:8080/",
          "height": 551
        },
        "id": "aLR4Hf7vCh-4",
        "outputId": "4abe75a1-1b85-4836-b767-d9e2c6b9a096"
      },
      "source": [
        "# top 10 rising results for 'summer'\n",
        "rising = df_rt['summer'][\"rising\"]\n",
        "rising[['value','topic_title','topic_type']]"
      ],
      "execution_count": 180,
      "outputs": [
        {
          "output_type": "execute_result",
          "data": {
            "text/html": [
              "<div>\n",
              "<style scoped>\n",
              "    .dataframe tbody tr th:only-of-type {\n",
              "        vertical-align: middle;\n",
              "    }\n",
              "\n",
              "    .dataframe tbody tr th {\n",
              "        vertical-align: top;\n",
              "    }\n",
              "\n",
              "    .dataframe thead th {\n",
              "        text-align: right;\n",
              "    }\n",
              "</style>\n",
              "<table border=\"1\" class=\"dataframe\">\n",
              "  <thead>\n",
              "    <tr style=\"text-align: right;\">\n",
              "      <th></th>\n",
              "      <th>value</th>\n",
              "      <th>topic_title</th>\n",
              "      <th>topic_type</th>\n",
              "    </tr>\n",
              "  </thead>\n",
              "  <tbody>\n",
              "    <tr>\n",
              "      <th>0</th>\n",
              "      <td>750</td>\n",
              "      <td>Cruel Summer</td>\n",
              "      <td>Song by Bananarama</td>\n",
              "    </tr>\n",
              "    <tr>\n",
              "      <th>1</th>\n",
              "      <td>160</td>\n",
              "      <td>Summer House</td>\n",
              "      <td>Television series</td>\n",
              "    </tr>\n",
              "    <tr>\n",
              "      <th>2</th>\n",
              "      <td>90</td>\n",
              "      <td>Summer house</td>\n",
              "      <td>Building use</td>\n",
              "    </tr>\n",
              "    <tr>\n",
              "      <th>3</th>\n",
              "      <td>80</td>\n",
              "      <td>2020 Summer Olympics</td>\n",
              "      <td>Olympic games</td>\n",
              "    </tr>\n",
              "    <tr>\n",
              "      <th>4</th>\n",
              "      <td>80</td>\n",
              "      <td>Hot Summer Nights</td>\n",
              "      <td>Film</td>\n",
              "    </tr>\n",
              "    <tr>\n",
              "      <th>5</th>\n",
              "      <td>70</td>\n",
              "      <td>Cruel Summer</td>\n",
              "      <td>Song by Taylor Swift</td>\n",
              "    </tr>\n",
              "    <tr>\n",
              "      <th>6</th>\n",
              "      <td>70</td>\n",
              "      <td>Summer Camp Music Festival</td>\n",
              "      <td>Music Festival</td>\n",
              "    </tr>\n",
              "    <tr>\n",
              "      <th>7</th>\n",
              "      <td>70</td>\n",
              "      <td>Squash</td>\n",
              "      <td>Plant</td>\n",
              "    </tr>\n",
              "    <tr>\n",
              "      <th>8</th>\n",
              "      <td>60</td>\n",
              "      <td>Daytime</td>\n",
              "      <td>Topic</td>\n",
              "    </tr>\n",
              "    <tr>\n",
              "      <th>9</th>\n",
              "      <td>60</td>\n",
              "      <td>Summer squash</td>\n",
              "      <td>Squash</td>\n",
              "    </tr>\n",
              "    <tr>\n",
              "      <th>10</th>\n",
              "      <td>60</td>\n",
              "      <td>Top</td>\n",
              "      <td>Clothing</td>\n",
              "    </tr>\n",
              "    <tr>\n",
              "      <th>11</th>\n",
              "      <td>60</td>\n",
              "      <td>Sun hat</td>\n",
              "      <td>Topic</td>\n",
              "    </tr>\n",
              "    <tr>\n",
              "      <th>12</th>\n",
              "      <td>60</td>\n",
              "      <td>Summer Rae</td>\n",
              "      <td>American professional wrestler</td>\n",
              "    </tr>\n",
              "    <tr>\n",
              "      <th>13</th>\n",
              "      <td>50</td>\n",
              "      <td>Dress</td>\n",
              "      <td>Garment</td>\n",
              "    </tr>\n",
              "    <tr>\n",
              "      <th>14</th>\n",
              "      <td>40</td>\n",
              "      <td>Spring</td>\n",
              "      <td>Season</td>\n",
              "    </tr>\n",
              "    <tr>\n",
              "      <th>15</th>\n",
              "      <td>40</td>\n",
              "      <td>Summer solstice</td>\n",
              "      <td>Topic</td>\n",
              "    </tr>\n",
              "  </tbody>\n",
              "</table>\n",
              "</div>"
            ],
            "text/plain": [
              "    value                 topic_title                      topic_type\n",
              "0     750                Cruel Summer              Song by Bananarama\n",
              "1     160                Summer House               Television series\n",
              "2      90                Summer house                    Building use\n",
              "3      80        2020 Summer Olympics                   Olympic games\n",
              "4      80           Hot Summer Nights                            Film\n",
              "5      70                Cruel Summer            Song by Taylor Swift\n",
              "6      70  Summer Camp Music Festival                  Music Festival\n",
              "7      70                      Squash                           Plant\n",
              "8      60                     Daytime                           Topic\n",
              "9      60               Summer squash                          Squash\n",
              "10     60                         Top                        Clothing\n",
              "11     60                     Sun hat                           Topic\n",
              "12     60                  Summer Rae  American professional wrestler\n",
              "13     50                       Dress                         Garment\n",
              "14     40                      Spring                          Season\n",
              "15     40             Summer solstice                           Topic"
            ]
          },
          "metadata": {
            "tags": []
          },
          "execution_count": 180
        }
      ]
    },
    {
      "cell_type": "code",
      "metadata": {
        "colab": {
          "base_uri": "https://localhost:8080/",
          "height": 542
        },
        "id": "8eHV7NxXJz08",
        "outputId": "5aa01963-8cf9-47b2-b214-e645497c49d4"
      },
      "source": [
        "# top 10 rising search results for summer\n",
        "top_results = df_rt['summer'][\"rising\"].head(10)\n",
        "\n",
        "fig = go.Figure(data=[go.Bar(\n",
        "    x=top_results.topic_title,\n",
        "    y=top_results.value)])\n",
        "\n",
        "fig.update_layout(title_text=\"Top 10 Rising Google Results for 'summer'\",title_x=0.5)\n",
        "\n",
        "fig.show()"
      ],
      "execution_count": 183,
      "outputs": [
        {
          "output_type": "display_data",
          "data": {
            "text/html": [
              "<html>\n",
              "<head><meta charset=\"utf-8\" /></head>\n",
              "<body>\n",
              "    <div>\n",
              "            <script src=\"https://cdnjs.cloudflare.com/ajax/libs/mathjax/2.7.5/MathJax.js?config=TeX-AMS-MML_SVG\"></script><script type=\"text/javascript\">if (window.MathJax) {MathJax.Hub.Config({SVG: {font: \"STIX-Web\"}});}</script>\n",
              "                <script type=\"text/javascript\">window.PlotlyConfig = {MathJaxConfig: 'local'};</script>\n",
              "        <script src=\"https://cdn.plot.ly/plotly-latest.min.js\"></script>    \n",
              "            <div id=\"e0d3e3ef-0bc0-4014-a819-9338a99d3642\" class=\"plotly-graph-div\" style=\"height:525px; width:100%;\"></div>\n",
              "            <script type=\"text/javascript\">\n",
              "                \n",
              "                    window.PLOTLYENV=window.PLOTLYENV || {};\n",
              "                    \n",
              "                if (document.getElementById(\"e0d3e3ef-0bc0-4014-a819-9338a99d3642\")) {\n",
              "                    Plotly.newPlot(\n",
              "                        'e0d3e3ef-0bc0-4014-a819-9338a99d3642',\n",
              "                        [{\"type\": \"bar\", \"x\": [\"Cruel Summer\", \"Summer House\", \"Summer house\", \"2020 Summer Olympics\", \"Hot Summer Nights\", \"Cruel Summer\", \"Summer Camp Music Festival\", \"Squash\", \"Daytime\", \"Summer squash\"], \"y\": [750, 160, 90, 80, 80, 70, 70, 70, 60, 60]}],\n",
              "                        {\"template\": {\"data\": {\"bar\": [{\"error_x\": {\"color\": \"#2a3f5f\"}, \"error_y\": {\"color\": \"#2a3f5f\"}, \"marker\": {\"line\": {\"color\": \"#E5ECF6\", \"width\": 0.5}}, \"type\": \"bar\"}], \"barpolar\": [{\"marker\": {\"line\": {\"color\": \"#E5ECF6\", \"width\": 0.5}}, \"type\": \"barpolar\"}], \"carpet\": [{\"aaxis\": {\"endlinecolor\": \"#2a3f5f\", \"gridcolor\": \"white\", \"linecolor\": \"white\", \"minorgridcolor\": \"white\", \"startlinecolor\": \"#2a3f5f\"}, \"baxis\": {\"endlinecolor\": \"#2a3f5f\", \"gridcolor\": \"white\", \"linecolor\": \"white\", \"minorgridcolor\": \"white\", \"startlinecolor\": \"#2a3f5f\"}, \"type\": \"carpet\"}], \"choropleth\": [{\"colorbar\": {\"outlinewidth\": 0, \"ticks\": \"\"}, \"type\": \"choropleth\"}], \"contour\": [{\"colorbar\": {\"outlinewidth\": 0, \"ticks\": \"\"}, \"colorscale\": [[0.0, \"#0d0887\"], [0.1111111111111111, \"#46039f\"], [0.2222222222222222, \"#7201a8\"], [0.3333333333333333, \"#9c179e\"], [0.4444444444444444, \"#bd3786\"], [0.5555555555555556, \"#d8576b\"], [0.6666666666666666, \"#ed7953\"], [0.7777777777777778, \"#fb9f3a\"], [0.8888888888888888, \"#fdca26\"], [1.0, \"#f0f921\"]], \"type\": \"contour\"}], \"contourcarpet\": [{\"colorbar\": {\"outlinewidth\": 0, \"ticks\": \"\"}, \"type\": \"contourcarpet\"}], \"heatmap\": [{\"colorbar\": {\"outlinewidth\": 0, \"ticks\": \"\"}, \"colorscale\": [[0.0, \"#0d0887\"], [0.1111111111111111, \"#46039f\"], [0.2222222222222222, \"#7201a8\"], [0.3333333333333333, \"#9c179e\"], [0.4444444444444444, \"#bd3786\"], [0.5555555555555556, \"#d8576b\"], [0.6666666666666666, \"#ed7953\"], [0.7777777777777778, \"#fb9f3a\"], [0.8888888888888888, \"#fdca26\"], [1.0, \"#f0f921\"]], \"type\": \"heatmap\"}], \"heatmapgl\": [{\"colorbar\": {\"outlinewidth\": 0, \"ticks\": \"\"}, \"colorscale\": [[0.0, \"#0d0887\"], [0.1111111111111111, \"#46039f\"], [0.2222222222222222, \"#7201a8\"], [0.3333333333333333, \"#9c179e\"], [0.4444444444444444, \"#bd3786\"], [0.5555555555555556, \"#d8576b\"], [0.6666666666666666, \"#ed7953\"], [0.7777777777777778, \"#fb9f3a\"], [0.8888888888888888, \"#fdca26\"], [1.0, \"#f0f921\"]], \"type\": \"heatmapgl\"}], \"histogram\": [{\"marker\": {\"colorbar\": {\"outlinewidth\": 0, \"ticks\": \"\"}}, \"type\": \"histogram\"}], \"histogram2d\": [{\"colorbar\": {\"outlinewidth\": 0, \"ticks\": \"\"}, \"colorscale\": [[0.0, \"#0d0887\"], [0.1111111111111111, \"#46039f\"], [0.2222222222222222, \"#7201a8\"], [0.3333333333333333, \"#9c179e\"], [0.4444444444444444, \"#bd3786\"], [0.5555555555555556, \"#d8576b\"], [0.6666666666666666, \"#ed7953\"], [0.7777777777777778, \"#fb9f3a\"], [0.8888888888888888, \"#fdca26\"], [1.0, \"#f0f921\"]], \"type\": \"histogram2d\"}], \"histogram2dcontour\": [{\"colorbar\": {\"outlinewidth\": 0, \"ticks\": \"\"}, \"colorscale\": [[0.0, \"#0d0887\"], [0.1111111111111111, \"#46039f\"], [0.2222222222222222, \"#7201a8\"], [0.3333333333333333, \"#9c179e\"], [0.4444444444444444, \"#bd3786\"], [0.5555555555555556, \"#d8576b\"], [0.6666666666666666, \"#ed7953\"], [0.7777777777777778, \"#fb9f3a\"], [0.8888888888888888, \"#fdca26\"], [1.0, \"#f0f921\"]], \"type\": \"histogram2dcontour\"}], \"mesh3d\": [{\"colorbar\": {\"outlinewidth\": 0, \"ticks\": \"\"}, \"type\": \"mesh3d\"}], \"parcoords\": [{\"line\": {\"colorbar\": {\"outlinewidth\": 0, \"ticks\": \"\"}}, \"type\": \"parcoords\"}], \"pie\": [{\"automargin\": true, \"type\": \"pie\"}], \"scatter\": [{\"marker\": {\"colorbar\": {\"outlinewidth\": 0, \"ticks\": \"\"}}, \"type\": \"scatter\"}], \"scatter3d\": [{\"line\": {\"colorbar\": {\"outlinewidth\": 0, \"ticks\": \"\"}}, \"marker\": {\"colorbar\": {\"outlinewidth\": 0, \"ticks\": \"\"}}, \"type\": \"scatter3d\"}], \"scattercarpet\": [{\"marker\": {\"colorbar\": {\"outlinewidth\": 0, \"ticks\": \"\"}}, \"type\": \"scattercarpet\"}], \"scattergeo\": [{\"marker\": {\"colorbar\": {\"outlinewidth\": 0, \"ticks\": \"\"}}, \"type\": \"scattergeo\"}], \"scattergl\": [{\"marker\": {\"colorbar\": {\"outlinewidth\": 0, \"ticks\": \"\"}}, \"type\": \"scattergl\"}], \"scattermapbox\": [{\"marker\": {\"colorbar\": {\"outlinewidth\": 0, \"ticks\": \"\"}}, \"type\": \"scattermapbox\"}], \"scatterpolar\": [{\"marker\": {\"colorbar\": {\"outlinewidth\": 0, \"ticks\": \"\"}}, \"type\": \"scatterpolar\"}], \"scatterpolargl\": [{\"marker\": {\"colorbar\": {\"outlinewidth\": 0, \"ticks\": \"\"}}, \"type\": \"scatterpolargl\"}], \"scatterternary\": [{\"marker\": {\"colorbar\": {\"outlinewidth\": 0, \"ticks\": \"\"}}, \"type\": \"scatterternary\"}], \"surface\": [{\"colorbar\": {\"outlinewidth\": 0, \"ticks\": \"\"}, \"colorscale\": [[0.0, \"#0d0887\"], [0.1111111111111111, \"#46039f\"], [0.2222222222222222, \"#7201a8\"], [0.3333333333333333, \"#9c179e\"], [0.4444444444444444, \"#bd3786\"], [0.5555555555555556, \"#d8576b\"], [0.6666666666666666, \"#ed7953\"], [0.7777777777777778, \"#fb9f3a\"], [0.8888888888888888, \"#fdca26\"], [1.0, \"#f0f921\"]], \"type\": \"surface\"}], \"table\": [{\"cells\": {\"fill\": {\"color\": \"#EBF0F8\"}, \"line\": {\"color\": \"white\"}}, \"header\": {\"fill\": {\"color\": \"#C8D4E3\"}, \"line\": {\"color\": \"white\"}}, \"type\": \"table\"}]}, \"layout\": {\"annotationdefaults\": {\"arrowcolor\": \"#2a3f5f\", \"arrowhead\": 0, \"arrowwidth\": 1}, \"coloraxis\": {\"colorbar\": {\"outlinewidth\": 0, \"ticks\": \"\"}}, \"colorscale\": {\"diverging\": [[0, \"#8e0152\"], [0.1, \"#c51b7d\"], [0.2, \"#de77ae\"], [0.3, \"#f1b6da\"], [0.4, \"#fde0ef\"], [0.5, \"#f7f7f7\"], [0.6, \"#e6f5d0\"], [0.7, \"#b8e186\"], [0.8, \"#7fbc41\"], [0.9, \"#4d9221\"], [1, \"#276419\"]], \"sequential\": [[0.0, \"#0d0887\"], [0.1111111111111111, \"#46039f\"], [0.2222222222222222, \"#7201a8\"], [0.3333333333333333, \"#9c179e\"], [0.4444444444444444, \"#bd3786\"], [0.5555555555555556, \"#d8576b\"], [0.6666666666666666, \"#ed7953\"], [0.7777777777777778, \"#fb9f3a\"], [0.8888888888888888, \"#fdca26\"], [1.0, \"#f0f921\"]], \"sequentialminus\": [[0.0, \"#0d0887\"], [0.1111111111111111, \"#46039f\"], [0.2222222222222222, \"#7201a8\"], [0.3333333333333333, \"#9c179e\"], [0.4444444444444444, \"#bd3786\"], [0.5555555555555556, \"#d8576b\"], [0.6666666666666666, \"#ed7953\"], [0.7777777777777778, \"#fb9f3a\"], [0.8888888888888888, \"#fdca26\"], [1.0, \"#f0f921\"]]}, \"colorway\": [\"#636efa\", \"#EF553B\", \"#00cc96\", \"#ab63fa\", \"#FFA15A\", \"#19d3f3\", \"#FF6692\", \"#B6E880\", \"#FF97FF\", \"#FECB52\"], \"font\": {\"color\": \"#2a3f5f\"}, \"geo\": {\"bgcolor\": \"white\", \"lakecolor\": \"white\", \"landcolor\": \"#E5ECF6\", \"showlakes\": true, \"showland\": true, \"subunitcolor\": \"white\"}, \"hoverlabel\": {\"align\": \"left\"}, \"hovermode\": \"closest\", \"mapbox\": {\"style\": \"light\"}, \"paper_bgcolor\": \"white\", \"plot_bgcolor\": \"#E5ECF6\", \"polar\": {\"angularaxis\": {\"gridcolor\": \"white\", \"linecolor\": \"white\", \"ticks\": \"\"}, \"bgcolor\": \"#E5ECF6\", \"radialaxis\": {\"gridcolor\": \"white\", \"linecolor\": \"white\", \"ticks\": \"\"}}, \"scene\": {\"xaxis\": {\"backgroundcolor\": \"#E5ECF6\", \"gridcolor\": \"white\", \"gridwidth\": 2, \"linecolor\": \"white\", \"showbackground\": true, \"ticks\": \"\", \"zerolinecolor\": \"white\"}, \"yaxis\": {\"backgroundcolor\": \"#E5ECF6\", \"gridcolor\": \"white\", \"gridwidth\": 2, \"linecolor\": \"white\", \"showbackground\": true, \"ticks\": \"\", \"zerolinecolor\": \"white\"}, \"zaxis\": {\"backgroundcolor\": \"#E5ECF6\", \"gridcolor\": \"white\", \"gridwidth\": 2, \"linecolor\": \"white\", \"showbackground\": true, \"ticks\": \"\", \"zerolinecolor\": \"white\"}}, \"shapedefaults\": {\"line\": {\"color\": \"#2a3f5f\"}}, \"ternary\": {\"aaxis\": {\"gridcolor\": \"white\", \"linecolor\": \"white\", \"ticks\": \"\"}, \"baxis\": {\"gridcolor\": \"white\", \"linecolor\": \"white\", \"ticks\": \"\"}, \"bgcolor\": \"#E5ECF6\", \"caxis\": {\"gridcolor\": \"white\", \"linecolor\": \"white\", \"ticks\": \"\"}}, \"title\": {\"x\": 0.05}, \"xaxis\": {\"automargin\": true, \"gridcolor\": \"white\", \"linecolor\": \"white\", \"ticks\": \"\", \"title\": {\"standoff\": 15}, \"zerolinecolor\": \"white\", \"zerolinewidth\": 2}, \"yaxis\": {\"automargin\": true, \"gridcolor\": \"white\", \"linecolor\": \"white\", \"ticks\": \"\", \"title\": {\"standoff\": 15}, \"zerolinecolor\": \"white\", \"zerolinewidth\": 2}}}, \"title\": {\"text\": \"Top 10 Rising Google Results for 'summer'\", \"x\": 0.5}},\n",
              "                        {\"responsive\": true}\n",
              "                    ).then(function(){\n",
              "                            \n",
              "var gd = document.getElementById('e0d3e3ef-0bc0-4014-a819-9338a99d3642');\n",
              "var x = new MutationObserver(function (mutations, observer) {{\n",
              "        var display = window.getComputedStyle(gd).display;\n",
              "        if (!display || display === 'none') {{\n",
              "            console.log([gd, 'removed!']);\n",
              "            Plotly.purge(gd);\n",
              "            observer.disconnect();\n",
              "        }}\n",
              "}});\n",
              "\n",
              "// Listen for the removal of the full notebook cells\n",
              "var notebookContainer = gd.closest('#notebook-container');\n",
              "if (notebookContainer) {{\n",
              "    x.observe(notebookContainer, {childList: true});\n",
              "}}\n",
              "\n",
              "// Listen for the clearing of the current output cell\n",
              "var outputEl = gd.closest('.output');\n",
              "if (outputEl) {{\n",
              "    x.observe(outputEl, {childList: true});\n",
              "}}\n",
              "\n",
              "                        })\n",
              "                };\n",
              "                \n",
              "            </script>\n",
              "        </div>\n",
              "</body>\n",
              "</html>"
            ]
          },
          "metadata": {
            "tags": []
          }
        }
      ]
    },
    {
      "cell_type": "code",
      "metadata": {
        "colab": {
          "base_uri": "https://localhost:8080/",
          "height": 542
        },
        "id": "tH36XMMKDT1g",
        "outputId": "5c92e638-b776-4d93-c496-856a2342ec4a"
      },
      "source": [
        "# top 10 results for Mothers Day\n",
        "top_results = df_rt['summer'][\"top\"].head(10)\n",
        "\n",
        "fig = go.Figure(data=[go.Bar(\n",
        "    x=top_results.topic_title,\n",
        "    y=top_results.value)])\n",
        "\n",
        "fig.update_layout(title_text=\"Top 10 Google Results for 'summer'\",title_x=0.5)\n",
        "\n",
        "fig.show()"
      ],
      "execution_count": 154,
      "outputs": [
        {
          "output_type": "display_data",
          "data": {
            "text/html": [
              "<html>\n",
              "<head><meta charset=\"utf-8\" /></head>\n",
              "<body>\n",
              "    <div>\n",
              "            <script src=\"https://cdnjs.cloudflare.com/ajax/libs/mathjax/2.7.5/MathJax.js?config=TeX-AMS-MML_SVG\"></script><script type=\"text/javascript\">if (window.MathJax) {MathJax.Hub.Config({SVG: {font: \"STIX-Web\"}});}</script>\n",
              "                <script type=\"text/javascript\">window.PlotlyConfig = {MathJaxConfig: 'local'};</script>\n",
              "        <script src=\"https://cdn.plot.ly/plotly-latest.min.js\"></script>    \n",
              "            <div id=\"d67de292-3436-45bd-ad39-189245c30c14\" class=\"plotly-graph-div\" style=\"height:525px; width:100%;\"></div>\n",
              "            <script type=\"text/javascript\">\n",
              "                \n",
              "                    window.PLOTLYENV=window.PLOTLYENV || {};\n",
              "                    \n",
              "                if (document.getElementById(\"d67de292-3436-45bd-ad39-189245c30c14\")) {\n",
              "                    Plotly.newPlot(\n",
              "                        'd67de292-3436-45bd-ad39-189245c30c14',\n",
              "                        [{\"type\": \"bar\", \"x\": [\"Summer\", \"Summer camp\", \"Summer school\", \"Dress\", \"Camping\", \"Course\", \"Summer solstice\", \"Internship\", \"Summer Walker\", \"Daytime\"], \"y\": [100, 14, 7, 6, 5, 5, 5, 4, 4, 3]}],\n",
              "                        {\"template\": {\"data\": {\"bar\": [{\"error_x\": {\"color\": \"#2a3f5f\"}, \"error_y\": {\"color\": \"#2a3f5f\"}, \"marker\": {\"line\": {\"color\": \"#E5ECF6\", \"width\": 0.5}}, \"type\": \"bar\"}], \"barpolar\": [{\"marker\": {\"line\": {\"color\": \"#E5ECF6\", \"width\": 0.5}}, \"type\": \"barpolar\"}], \"carpet\": [{\"aaxis\": {\"endlinecolor\": \"#2a3f5f\", \"gridcolor\": \"white\", \"linecolor\": \"white\", \"minorgridcolor\": \"white\", \"startlinecolor\": \"#2a3f5f\"}, \"baxis\": {\"endlinecolor\": \"#2a3f5f\", \"gridcolor\": \"white\", \"linecolor\": \"white\", \"minorgridcolor\": \"white\", \"startlinecolor\": \"#2a3f5f\"}, \"type\": \"carpet\"}], \"choropleth\": [{\"colorbar\": {\"outlinewidth\": 0, \"ticks\": \"\"}, \"type\": \"choropleth\"}], \"contour\": [{\"colorbar\": {\"outlinewidth\": 0, \"ticks\": \"\"}, \"colorscale\": [[0.0, \"#0d0887\"], [0.1111111111111111, \"#46039f\"], [0.2222222222222222, \"#7201a8\"], [0.3333333333333333, \"#9c179e\"], [0.4444444444444444, \"#bd3786\"], [0.5555555555555556, \"#d8576b\"], [0.6666666666666666, \"#ed7953\"], [0.7777777777777778, \"#fb9f3a\"], [0.8888888888888888, \"#fdca26\"], [1.0, \"#f0f921\"]], \"type\": \"contour\"}], \"contourcarpet\": [{\"colorbar\": {\"outlinewidth\": 0, \"ticks\": \"\"}, \"type\": \"contourcarpet\"}], \"heatmap\": [{\"colorbar\": {\"outlinewidth\": 0, \"ticks\": \"\"}, \"colorscale\": [[0.0, \"#0d0887\"], [0.1111111111111111, \"#46039f\"], [0.2222222222222222, \"#7201a8\"], [0.3333333333333333, \"#9c179e\"], [0.4444444444444444, \"#bd3786\"], [0.5555555555555556, \"#d8576b\"], [0.6666666666666666, \"#ed7953\"], [0.7777777777777778, \"#fb9f3a\"], [0.8888888888888888, \"#fdca26\"], [1.0, \"#f0f921\"]], \"type\": \"heatmap\"}], \"heatmapgl\": [{\"colorbar\": {\"outlinewidth\": 0, \"ticks\": \"\"}, \"colorscale\": [[0.0, \"#0d0887\"], [0.1111111111111111, \"#46039f\"], [0.2222222222222222, \"#7201a8\"], [0.3333333333333333, \"#9c179e\"], [0.4444444444444444, \"#bd3786\"], [0.5555555555555556, \"#d8576b\"], [0.6666666666666666, \"#ed7953\"], [0.7777777777777778, \"#fb9f3a\"], [0.8888888888888888, \"#fdca26\"], [1.0, \"#f0f921\"]], \"type\": \"heatmapgl\"}], \"histogram\": [{\"marker\": {\"colorbar\": {\"outlinewidth\": 0, \"ticks\": \"\"}}, \"type\": \"histogram\"}], \"histogram2d\": [{\"colorbar\": {\"outlinewidth\": 0, \"ticks\": \"\"}, \"colorscale\": [[0.0, \"#0d0887\"], [0.1111111111111111, \"#46039f\"], [0.2222222222222222, \"#7201a8\"], [0.3333333333333333, \"#9c179e\"], [0.4444444444444444, \"#bd3786\"], [0.5555555555555556, \"#d8576b\"], [0.6666666666666666, \"#ed7953\"], [0.7777777777777778, \"#fb9f3a\"], [0.8888888888888888, \"#fdca26\"], [1.0, \"#f0f921\"]], \"type\": \"histogram2d\"}], \"histogram2dcontour\": [{\"colorbar\": {\"outlinewidth\": 0, \"ticks\": \"\"}, \"colorscale\": [[0.0, \"#0d0887\"], [0.1111111111111111, \"#46039f\"], [0.2222222222222222, \"#7201a8\"], [0.3333333333333333, \"#9c179e\"], [0.4444444444444444, \"#bd3786\"], [0.5555555555555556, \"#d8576b\"], [0.6666666666666666, \"#ed7953\"], [0.7777777777777778, \"#fb9f3a\"], [0.8888888888888888, \"#fdca26\"], [1.0, \"#f0f921\"]], \"type\": \"histogram2dcontour\"}], \"mesh3d\": [{\"colorbar\": {\"outlinewidth\": 0, \"ticks\": \"\"}, \"type\": \"mesh3d\"}], \"parcoords\": [{\"line\": {\"colorbar\": {\"outlinewidth\": 0, \"ticks\": \"\"}}, \"type\": \"parcoords\"}], \"pie\": [{\"automargin\": true, \"type\": \"pie\"}], \"scatter\": [{\"marker\": {\"colorbar\": {\"outlinewidth\": 0, \"ticks\": \"\"}}, \"type\": \"scatter\"}], \"scatter3d\": [{\"line\": {\"colorbar\": {\"outlinewidth\": 0, \"ticks\": \"\"}}, \"marker\": {\"colorbar\": {\"outlinewidth\": 0, \"ticks\": \"\"}}, \"type\": \"scatter3d\"}], \"scattercarpet\": [{\"marker\": {\"colorbar\": {\"outlinewidth\": 0, \"ticks\": \"\"}}, \"type\": \"scattercarpet\"}], \"scattergeo\": [{\"marker\": {\"colorbar\": {\"outlinewidth\": 0, \"ticks\": \"\"}}, \"type\": \"scattergeo\"}], \"scattergl\": [{\"marker\": {\"colorbar\": {\"outlinewidth\": 0, \"ticks\": \"\"}}, \"type\": \"scattergl\"}], \"scattermapbox\": [{\"marker\": {\"colorbar\": {\"outlinewidth\": 0, \"ticks\": \"\"}}, \"type\": \"scattermapbox\"}], \"scatterpolar\": [{\"marker\": {\"colorbar\": {\"outlinewidth\": 0, \"ticks\": \"\"}}, \"type\": \"scatterpolar\"}], \"scatterpolargl\": [{\"marker\": {\"colorbar\": {\"outlinewidth\": 0, \"ticks\": \"\"}}, \"type\": \"scatterpolargl\"}], \"scatterternary\": [{\"marker\": {\"colorbar\": {\"outlinewidth\": 0, \"ticks\": \"\"}}, \"type\": \"scatterternary\"}], \"surface\": [{\"colorbar\": {\"outlinewidth\": 0, \"ticks\": \"\"}, \"colorscale\": [[0.0, \"#0d0887\"], [0.1111111111111111, \"#46039f\"], [0.2222222222222222, \"#7201a8\"], [0.3333333333333333, \"#9c179e\"], [0.4444444444444444, \"#bd3786\"], [0.5555555555555556, \"#d8576b\"], [0.6666666666666666, \"#ed7953\"], [0.7777777777777778, \"#fb9f3a\"], [0.8888888888888888, \"#fdca26\"], [1.0, \"#f0f921\"]], \"type\": \"surface\"}], \"table\": [{\"cells\": {\"fill\": {\"color\": \"#EBF0F8\"}, \"line\": {\"color\": \"white\"}}, \"header\": {\"fill\": {\"color\": \"#C8D4E3\"}, \"line\": {\"color\": \"white\"}}, \"type\": \"table\"}]}, \"layout\": {\"annotationdefaults\": {\"arrowcolor\": \"#2a3f5f\", \"arrowhead\": 0, \"arrowwidth\": 1}, \"coloraxis\": {\"colorbar\": {\"outlinewidth\": 0, \"ticks\": \"\"}}, \"colorscale\": {\"diverging\": [[0, \"#8e0152\"], [0.1, \"#c51b7d\"], [0.2, \"#de77ae\"], [0.3, \"#f1b6da\"], [0.4, \"#fde0ef\"], [0.5, \"#f7f7f7\"], [0.6, \"#e6f5d0\"], [0.7, \"#b8e186\"], [0.8, \"#7fbc41\"], [0.9, \"#4d9221\"], [1, \"#276419\"]], \"sequential\": [[0.0, \"#0d0887\"], [0.1111111111111111, \"#46039f\"], [0.2222222222222222, \"#7201a8\"], [0.3333333333333333, \"#9c179e\"], [0.4444444444444444, \"#bd3786\"], [0.5555555555555556, \"#d8576b\"], [0.6666666666666666, \"#ed7953\"], [0.7777777777777778, \"#fb9f3a\"], [0.8888888888888888, \"#fdca26\"], [1.0, \"#f0f921\"]], \"sequentialminus\": [[0.0, \"#0d0887\"], [0.1111111111111111, \"#46039f\"], [0.2222222222222222, \"#7201a8\"], [0.3333333333333333, \"#9c179e\"], [0.4444444444444444, \"#bd3786\"], [0.5555555555555556, \"#d8576b\"], [0.6666666666666666, \"#ed7953\"], [0.7777777777777778, \"#fb9f3a\"], [0.8888888888888888, \"#fdca26\"], [1.0, \"#f0f921\"]]}, \"colorway\": [\"#636efa\", \"#EF553B\", \"#00cc96\", \"#ab63fa\", \"#FFA15A\", \"#19d3f3\", \"#FF6692\", \"#B6E880\", \"#FF97FF\", \"#FECB52\"], \"font\": {\"color\": \"#2a3f5f\"}, \"geo\": {\"bgcolor\": \"white\", \"lakecolor\": \"white\", \"landcolor\": \"#E5ECF6\", \"showlakes\": true, \"showland\": true, \"subunitcolor\": \"white\"}, \"hoverlabel\": {\"align\": \"left\"}, \"hovermode\": \"closest\", \"mapbox\": {\"style\": \"light\"}, \"paper_bgcolor\": \"white\", \"plot_bgcolor\": \"#E5ECF6\", \"polar\": {\"angularaxis\": {\"gridcolor\": \"white\", \"linecolor\": \"white\", \"ticks\": \"\"}, \"bgcolor\": \"#E5ECF6\", \"radialaxis\": {\"gridcolor\": \"white\", \"linecolor\": \"white\", \"ticks\": \"\"}}, \"scene\": {\"xaxis\": {\"backgroundcolor\": \"#E5ECF6\", \"gridcolor\": \"white\", \"gridwidth\": 2, \"linecolor\": \"white\", \"showbackground\": true, \"ticks\": \"\", \"zerolinecolor\": \"white\"}, \"yaxis\": {\"backgroundcolor\": \"#E5ECF6\", \"gridcolor\": \"white\", \"gridwidth\": 2, \"linecolor\": \"white\", \"showbackground\": true, \"ticks\": \"\", \"zerolinecolor\": \"white\"}, \"zaxis\": {\"backgroundcolor\": \"#E5ECF6\", \"gridcolor\": \"white\", \"gridwidth\": 2, \"linecolor\": \"white\", \"showbackground\": true, \"ticks\": \"\", \"zerolinecolor\": \"white\"}}, \"shapedefaults\": {\"line\": {\"color\": \"#2a3f5f\"}}, \"ternary\": {\"aaxis\": {\"gridcolor\": \"white\", \"linecolor\": \"white\", \"ticks\": \"\"}, \"baxis\": {\"gridcolor\": \"white\", \"linecolor\": \"white\", \"ticks\": \"\"}, \"bgcolor\": \"#E5ECF6\", \"caxis\": {\"gridcolor\": \"white\", \"linecolor\": \"white\", \"ticks\": \"\"}}, \"title\": {\"x\": 0.05}, \"xaxis\": {\"automargin\": true, \"gridcolor\": \"white\", \"linecolor\": \"white\", \"ticks\": \"\", \"title\": {\"standoff\": 15}, \"zerolinecolor\": \"white\", \"zerolinewidth\": 2}, \"yaxis\": {\"automargin\": true, \"gridcolor\": \"white\", \"linecolor\": \"white\", \"ticks\": \"\", \"title\": {\"standoff\": 15}, \"zerolinecolor\": \"white\", \"zerolinewidth\": 2}}}, \"title\": {\"text\": \"Top 10 Google Results for 'summer'\", \"x\": 0.5}},\n",
              "                        {\"responsive\": true}\n",
              "                    ).then(function(){\n",
              "                            \n",
              "var gd = document.getElementById('d67de292-3436-45bd-ad39-189245c30c14');\n",
              "var x = new MutationObserver(function (mutations, observer) {{\n",
              "        var display = window.getComputedStyle(gd).display;\n",
              "        if (!display || display === 'none') {{\n",
              "            console.log([gd, 'removed!']);\n",
              "            Plotly.purge(gd);\n",
              "            observer.disconnect();\n",
              "        }}\n",
              "}});\n",
              "\n",
              "// Listen for the removal of the full notebook cells\n",
              "var notebookContainer = gd.closest('#notebook-container');\n",
              "if (notebookContainer) {{\n",
              "    x.observe(notebookContainer, {childList: true});\n",
              "}}\n",
              "\n",
              "// Listen for the clearing of the current output cell\n",
              "var outputEl = gd.closest('.output');\n",
              "if (outputEl) {{\n",
              "    x.observe(outputEl, {childList: true});\n",
              "}}\n",
              "\n",
              "                        })\n",
              "                };\n",
              "                \n",
              "            </script>\n",
              "        </div>\n",
              "</body>\n",
              "</html>"
            ]
          },
          "metadata": {
            "tags": []
          }
        }
      ]
    }
  ]
}