{
 "cells": [
  {
   "cell_type": "markdown",
   "metadata": {
    "collapsed": true
   },
   "source": [
    "<h1>Exploring Hackers News Posts</h1>\n",
    "\n",
    "<p>This project will compare two different types of posts from Hacker News website which specializes in technology related stories, it's very similar to Reddit. \n",
    "\n",
    "Two types of posts that will be explore in this notebook begin with either ***Ask HN*** or ***Show HN***.\n",
    "\n",
    "Users submit Ask HN posts to ask the Hacker News community a specific question, such as \"What is the best online course you've ever taken?\" Likewise, users submit Show HN posts to show the Hacker News community a project, product, or just generally something interesting.\n",
    "\n",
    "This notebook will compare these two types of posts to determine the following:\n",
    "\n",
    "- *Do Ask HN or Show HN receive more comments on average?*\n",
    "- *Do posts created at a certain time receive more comments on average?*\n",
    "\n",
    "**Note** *This data set was reduced from almost 300,000 rows to approximately 20,000 rows by removing all submissions that did not receive any comments, and then randomly sampling from the remaining submissions.*"
   ]
  },
  {
   "cell_type": "markdown",
   "metadata": {},
   "source": [
    "<h3>Import Dataset</h3>"
   ]
  },
  {
   "cell_type": "code",
   "execution_count": 1,
   "metadata": {},
   "outputs": [
    {
     "data": {
      "text/plain": [
       "[['id', 'title', 'url', 'num_points', 'num_comments', 'author', 'created_at'],\n",
       " ['12224879',\n",
       "  'Interactive Dynamic Video',\n",
       "  'http://www.interactivedynamicvideo.com/',\n",
       "  '386',\n",
       "  '52',\n",
       "  'ne0phyte',\n",
       "  '8/4/2016 11:52'],\n",
       " ['10975351',\n",
       "  'How to Use Open Source and Shut the Fuck Up at the Same Time',\n",
       "  'http://hueniverse.com/2016/01/26/how-to-use-open-source-and-shut-the-fuck-up-at-the-same-time/',\n",
       "  '39',\n",
       "  '10',\n",
       "  'josep2',\n",
       "  '1/26/2016 19:30'],\n",
       " ['11964716',\n",
       "  \"Florida DJs May Face Felony for April Fools' Water Joke\",\n",
       "  'http://www.thewire.com/entertainment/2013/04/florida-djs-april-fools-water-joke/63798/',\n",
       "  '2',\n",
       "  '1',\n",
       "  'vezycash',\n",
       "  '6/23/2016 22:20'],\n",
       " ['11919867',\n",
       "  'Technology ventures: From Idea to Enterprise',\n",
       "  'https://www.amazon.com/Technology-Ventures-Enterprise-Thomas-Byers/dp/0073523429',\n",
       "  '3',\n",
       "  '1',\n",
       "  'hswarna',\n",
       "  '6/17/2016 0:01']]"
      ]
     },
     "execution_count": 1,
     "metadata": {},
     "output_type": "execute_result"
    }
   ],
   "source": [
    "# Read in the data.\n",
    "import csv\n",
    "\n",
    "f = open('hacker_news.csv')\n",
    "hn = list(csv.reader(f))\n",
    "hn[:5]"
   ]
  },
  {
   "cell_type": "markdown",
   "metadata": {},
   "source": [
    "<h3>Separate Header from Data</h3>"
   ]
  },
  {
   "cell_type": "code",
   "execution_count": 2,
   "metadata": {},
   "outputs": [
    {
     "name": "stdout",
     "output_type": "stream",
     "text": [
      "['id', 'title', 'url', 'num_points', 'num_comments', 'author', 'created_at']\n",
      "[['12224879', 'Interactive Dynamic Video', 'http://www.interactivedynamicvideo.com/', '386', '52', 'ne0phyte', '8/4/2016 11:52'], ['10975351', 'How to Use Open Source and Shut the Fuck Up at the Same Time', 'http://hueniverse.com/2016/01/26/how-to-use-open-source-and-shut-the-fuck-up-at-the-same-time/', '39', '10', 'josep2', '1/26/2016 19:30'], ['11964716', \"Florida DJs May Face Felony for April Fools' Water Joke\", 'http://www.thewire.com/entertainment/2013/04/florida-djs-april-fools-water-joke/63798/', '2', '1', 'vezycash', '6/23/2016 22:20'], ['11919867', 'Technology ventures: From Idea to Enterprise', 'https://www.amazon.com/Technology-Ventures-Enterprise-Thomas-Byers/dp/0073523429', '3', '1', 'hswarna', '6/17/2016 0:01'], ['10301696', 'Note by Note: The Making of Steinway L1037 (2007)', 'http://www.nytimes.com/2007/11/07/movies/07stein.html?_r=0', '8', '2', 'walterbell', '9/30/2015 4:12']]\n"
     ]
    }
   ],
   "source": [
    "# Remove the headers.\n",
    "hn_header = hn[0]\n",
    "hn = hn[1:]\n",
    "print(hn_header)\n",
    "print(hn[:5])"
   ]
  },
  {
   "cell_type": "markdown",
   "metadata": {},
   "source": [
    "<h3>Filtering 'Ask HN' and 'Show HN' Posts</h3>\n",
    "\n",
    "Identify posts that begin with either `Ask HN` or `Show HN` and separate the data into different lists.\n",
    "\n"
   ]
  },
  {
   "cell_type": "code",
   "execution_count": 7,
   "metadata": {},
   "outputs": [
    {
     "name": "stdout",
     "output_type": "stream",
     "text": [
      "Len of whole dataset: 20100\n",
      "Len of ask_posts: 1744\n",
      "Len of show_posts: 1162\n",
      "Len of other_posts: 17194\n",
      "\n",
      "* Data checking:\n",
      "Len of ask_posts + show_posts + other_posts = 20100\n"
     ]
    }
   ],
   "source": [
    "# Identify posts that begin with either `Ask HN` or `Show HN` and separate the data into different lists.\n",
    "\n",
    "\n",
    "ask_posts = []\n",
    "show_posts = []\n",
    "other_posts = []\n",
    "\n",
    "for post in hn:\n",
    "    title = post[1]\n",
    "    if title.lower().startswith(\"Ask HN\".lower()):\n",
    "        ask_posts.append(post)\n",
    "    elif title.lower().startswith(\"Show HN\".lower()):\n",
    "        show_posts.append(post)\n",
    "    else:\n",
    "        other_posts.append(post)\n",
    "        \n",
    "        \n",
    "\n",
    "print(f'Len of whole dataset: {len(hn)}')\n",
    "print(f'Len of ask_posts: {len(ask_posts)}')\n",
    "print(f'Len of show_posts: {len(show_posts)}')\n",
    "print(f'Len of other_posts: {len(other_posts)}')\n",
    "print(f'\\n* Data checking:\\nLen of ask_posts + show_posts + other_posts = {len(ask_posts)+len(show_posts)+len(other_posts)}')\n",
    "        "
   ]
  },
  {
   "cell_type": "markdown",
   "metadata": {},
   "source": [
    "<h3>Compare Number of Comments for 'Ask HN' and 'Show HN'</h3>\n"
   ]
  },
  {
   "cell_type": "code",
   "execution_count": 8,
   "metadata": {
    "scrolled": true
   },
   "outputs": [
    {
     "name": "stdout",
     "output_type": "stream",
     "text": [
      "Header: \n",
      "['id', 'title', 'url', 'num_points', 'num_comments', 'author', 'created_at']\n",
      "\n",
      "Sample from row 4 of 'ask_posts' list:\n",
      "['10394168', 'Ask HN: Someone offered to buy my browser extension from me. What now?', '', '28', '17', 'roykolak', '10/15/2015 16:38']\n",
      "\n",
      "Comment = 17\n"
     ]
    }
   ],
   "source": [
    "print(f\"Header: \\n{hn_header}\")\n",
    "\n",
    "# Comments found in column 4\n",
    "\n",
    "# Sample from row 4 of 'ask_posts' list\n",
    "print(f\"\\nSample from row 4 of 'ask_posts' list:\\n{ask_posts[4]}\")\n",
    "print(f'\\nComment = {ask_posts[4][4]}')"
   ]
  },
  {
   "cell_type": "code",
   "execution_count": 22,
   "metadata": {},
   "outputs": [
    {
     "name": "stdout",
     "output_type": "stream",
     "text": [
      "Total Comments\n",
      "  Ask HN: 24483\n",
      "  Show HN: 11988\n",
      "  Other Posts: 462055\n",
      "\n",
      "Lists Averages\n",
      "  Ask HN: 14\n",
      "  Show HN: 10\n",
      "  Other Posts: 27\n"
     ]
    }
   ],
   "source": [
    "def count_comments(comlist):\n",
    "    num_comments = 0\n",
    "    for row in comlist:\n",
    "        comments = int(row[4])\n",
    "        num_comments += comments\n",
    "    return num_comments\n",
    "\n",
    "def avg_comments(comlist):\n",
    "    num_comments = count_comments(comlist)\n",
    "    return round(num_comments / len(comlist))\n",
    "\n",
    "print('Total Comments')\n",
    "print(f'  Ask HN: {count_comments(ask_posts)}')\n",
    "print(f'  Show HN: {count_comments(show_posts)}')\n",
    "print(f'  Other Posts: {count_comments(other_posts)}')\n",
    "\n",
    "print('\\nLists Averages')\n",
    "print(f'  Ask HN: {avg_comments(ask_posts)}')\n",
    "print(f'  Show HN: {avg_comments(show_posts)}')\n",
    "print(f'  Other Posts: {avg_comments(other_posts)}')  "
   ]
  },
  {
   "cell_type": "markdown",
   "metadata": {},
   "source": [
    "<h2>Determine the Number of 'Ask HN' Comments Created by Hour</h2>\n",
    "\n",
    "*Ask HN* had a higher average of comments than *Show HN*\n",
    "\n",
    "Use *Ask HN* to determine the time of day when the most comments are received "
   ]
  },
  {
   "cell_type": "code",
   "execution_count": 39,
   "metadata": {},
   "outputs": [
    {
     "name": "stdout",
     "output_type": "stream",
     "text": [
      "Header: \n",
      "['id', 'title', 'url', 'num_points', 'num_comments', 'author', 'created_at']\n",
      "\n",
      "Column 7 in header = 'created_at' \n",
      "\n",
      "Sample from row 3 of data set: \n",
      "6/17/2016 0:01\n"
     ]
    }
   ],
   "source": [
    "print(f'Header: \\n{hn_header}')\n",
    "print(f\"\\nColumn 7 in header = '{hn_header[6]}' \")\n",
    "\n",
    "print(f'\\nSample from row 3 of data set: \\n{hn[3][6]}')"
   ]
  },
  {
   "cell_type": "markdown",
   "metadata": {},
   "source": [
    "<h3>Convert column 7 in 'Ask HN' to datetime objects</h3>"
   ]
  },
  {
   "cell_type": "code",
   "execution_count": 66,
   "metadata": {},
   "outputs": [
    {
     "data": {
      "text/plain": [
       "{9: 45,\n",
       " 13: 85,\n",
       " 10: 59,\n",
       " 14: 107,\n",
       " 16: 108,\n",
       " 23: 68,\n",
       " 12: 73,\n",
       " 17: 100,\n",
       " 15: 116,\n",
       " 21: 109,\n",
       " 20: 80,\n",
       " 2: 58,\n",
       " 18: 109,\n",
       " 3: 54,\n",
       " 5: 46,\n",
       " 19: 110,\n",
       " 1: 60,\n",
       " 22: 71,\n",
       " 8: 48,\n",
       " 4: 47,\n",
       " 0: 55,\n",
       " 6: 44,\n",
       " 7: 34,\n",
       " 11: 58}"
      ]
     },
     "execution_count": 66,
     "metadata": {},
     "output_type": "execute_result"
    }
   ],
   "source": [
    "import datetime as dt\n",
    "\n",
    "result_list = []\n",
    "\n",
    "for post in ask_posts:\n",
    "    result_list.append(\n",
    "        [post[6], int(post[4])]\n",
    "    )\n",
    "\n",
    "  \n",
    "comment_created_hr = {} #Number posts per hour\n",
    "counts_by_hour = {} #Number of comments per hour\n",
    "date_format = \"%m/%d/%Y %H:%M\"\n",
    "\n",
    "# print(result_list[1])\n",
    "\n",
    "for row in result_list:\n",
    "    date = row[0]\n",
    "    comment_num = int(row[1])\n",
    "    date = dt.datetime.strptime(date,date_format)\n",
    "    hour = date.hour\n",
    "    if hour not in counts_by_hour:\n",
    "        counts_by_hour[hour] = 1\n",
    "        comment_created_hr[hour] = comment_num\n",
    "    else: \n",
    "        counts_by_hour[hour] += 1\n",
    "        comment_created_hr[hour] += comment_num\n",
    "\n",
    "\n",
    "comment_created_hr\n",
    "counts_by_hour\n",
    "        \n",
    "    "
   ]
  },
  {
   "cell_type": "markdown",
   "metadata": {},
   "source": [
    "<h3>Calculating the Average Number of Comments for Ask HN Posts by Hour</h3>"
   ]
  },
  {
   "cell_type": "code",
   "execution_count": 74,
   "metadata": {},
   "outputs": [
    {
     "data": {
      "text/plain": [
       "[[9, 5.58],\n",
       " [13, 14.74],\n",
       " [10, 13.44],\n",
       " [14, 13.23],\n",
       " [16, 16.8],\n",
       " [23, 7.99],\n",
       " [12, 9.41],\n",
       " [17, 11.46],\n",
       " [15, 38.59],\n",
       " [21, 16.01],\n",
       " [20, 21.52],\n",
       " [2, 23.81],\n",
       " [18, 13.2],\n",
       " [3, 7.8],\n",
       " [5, 10.09],\n",
       " [19, 10.8],\n",
       " [1, 11.38],\n",
       " [22, 6.75],\n",
       " [8, 10.25],\n",
       " [4, 7.17],\n",
       " [0, 8.13],\n",
       " [6, 9.02],\n",
       " [7, 7.85],\n",
       " [11, 11.05]]"
      ]
     },
     "execution_count": 74,
     "metadata": {},
     "output_type": "execute_result"
    }
   ],
   "source": [
    "avg_by_hour = []\n",
    "\n",
    "\n",
    "for hour in comment_created_hr:\n",
    "    avg_by_hour.append([hour,round(comment_created_hr[hour]/counts_by_hour[hour],2)])\n",
    "\n",
    "avg_by_hour\n",
    "\n",
    "# Calculate the average amount of comments `Ask HN` posts created at each hour of the day receive.\n",
    "# avg_by_hour = []\n",
    "\n",
    "# for hr in comments_by_hour:\n",
    "#     avg_by_hour.append([hr, comments_by_hour[hr] / counts_by_hour[hr]])\n",
    "\n",
    "avg_by_hour"
   ]
  },
  {
   "cell_type": "markdown",
   "metadata": {},
   "source": [
    "<h3>Sorting and Printing Values from a List of Lists</h3>"
   ]
  },
  {
   "cell_type": "code",
   "execution_count": 107,
   "metadata": {},
   "outputs": [
    {
     "data": {
      "text/plain": [
       "[[0, 8.13],\n",
       " [1, 11.38],\n",
       " [2, 23.81],\n",
       " [3, 7.8],\n",
       " [4, 7.17],\n",
       " [5, 10.09],\n",
       " [6, 9.02],\n",
       " [7, 7.85],\n",
       " [8, 10.25],\n",
       " [9, 5.58],\n",
       " [10, 13.44],\n",
       " [11, 11.05],\n",
       " [12, 9.41],\n",
       " [13, 14.74],\n",
       " [14, 13.23],\n",
       " [15, 38.59],\n",
       " [16, 16.8],\n",
       " [17, 11.46],\n",
       " [18, 13.2],\n",
       " [19, 10.8],\n",
       " [20, 21.52],\n",
       " [21, 16.01],\n",
       " [22, 6.75],\n",
       " [23, 7.99]]"
      ]
     },
     "execution_count": 107,
     "metadata": {},
     "output_type": "execute_result"
    }
   ],
   "source": [
    "#Sort list by hour \n",
    "\n",
    "sorted(avg_by_hour,reverse=False)"
   ]
  },
  {
   "cell_type": "code",
   "execution_count": 115,
   "metadata": {},
   "outputs": [
    {
     "data": {
      "text/plain": [
       "[[15, 38.59],\n",
       " [2, 23.81],\n",
       " [20, 21.52],\n",
       " [16, 16.8],\n",
       " [21, 16.01],\n",
       " [13, 14.74],\n",
       " [10, 13.44],\n",
       " [14, 13.23],\n",
       " [18, 13.2],\n",
       " [17, 11.46],\n",
       " [1, 11.38],\n",
       " [11, 11.05],\n",
       " [19, 10.8],\n",
       " [8, 10.25],\n",
       " [5, 10.09],\n",
       " [12, 9.41],\n",
       " [6, 9.02],\n",
       " [0, 8.13],\n",
       " [23, 7.99],\n",
       " [7, 7.85],\n",
       " [3, 7.8],\n",
       " [4, 7.17],\n",
       " [22, 6.75],\n",
       " [9, 5.58]]"
      ]
     },
     "execution_count": 115,
     "metadata": {},
     "output_type": "execute_result"
    }
   ],
   "source": [
    "# Sort list by averages\n",
    "\n",
    "avg_by_hour.sort(key=lambda x:x[1],reverse=True)\n",
    "\n",
    "avg_by_hour"
   ]
  },
  {
   "cell_type": "code",
   "execution_count": 119,
   "metadata": {},
   "outputs": [
    {
     "data": {
      "text/plain": [
       "[[38.59, 15],\n",
       " [23.81, 2],\n",
       " [21.52, 20],\n",
       " [16.8, 16],\n",
       " [16.01, 21],\n",
       " [14.74, 13],\n",
       " [13.44, 10],\n",
       " [13.23, 14],\n",
       " [13.2, 18],\n",
       " [11.46, 17],\n",
       " [11.38, 1],\n",
       " [11.05, 11],\n",
       " [10.8, 19],\n",
       " [10.25, 8],\n",
       " [10.09, 5],\n",
       " [9.41, 12],\n",
       " [9.02, 6],\n",
       " [8.13, 0],\n",
       " [7.99, 23],\n",
       " [7.85, 7],\n",
       " [7.8, 3],\n",
       " [7.17, 4],\n",
       " [6.75, 22],\n",
       " [5.58, 9]]"
      ]
     },
     "execution_count": 119,
     "metadata": {},
     "output_type": "execute_result"
    }
   ],
   "source": [
    "swap_avg_by_hour = []\n",
    "\n",
    "for row in avg_by_hour:\n",
    "    hour = row[0]\n",
    "    avg = row[1]\n",
    "    swap_avg_by_hour.append([avg,hour])\n",
    "\n",
    "swap_avg_by_hour = sorted(swap_avg_by_hour,reverse=True)"
   ]
  },
  {
   "cell_type": "code",
   "execution_count": 151,
   "metadata": {},
   "outputs": [
    {
     "name": "stdout",
     "output_type": "stream",
     "text": [
      "Top 5 Hours for Ask Posts Comments\n",
      "• 15:00: 38.59 average comments per post\n",
      "• 02:00: 23.81 average comments per post\n",
      "• 20:00: 21.52 average comments per post\n",
      "• 16:00: 16.80 average comments per post\n",
      "• 21:00: 16.01 average comments per post\n"
     ]
    }
   ],
   "source": [
    "print('Top 5 Hours for Ask Posts Comments')\n",
    "\n",
    "for avg, hr in swap_avg_by_hour[:5]:\n",
    "    print(\n",
    "        \"• {}: {:.2f} average comments per post\".format(\n",
    "            dt.datetime.strptime(str(hr), \"%H\").strftime(\"%H:%M\"),avg\n",
    "        )\n",
    "    )"
   ]
  },
  {
   "cell_type": "code",
   "execution_count": null,
   "metadata": {},
   "outputs": [],
   "source": []
  }
 ],
 "metadata": {
  "kernelspec": {
   "display_name": "Python 3",
   "language": "python",
   "name": "python3"
  },
  "language_info": {
   "codemirror_mode": {
    "name": "ipython",
    "version": 3
   },
   "file_extension": ".py",
   "mimetype": "text/x-python",
   "name": "python",
   "nbconvert_exporter": "python",
   "pygments_lexer": "ipython3",
   "version": "3.8.2"
  }
 },
 "nbformat": 4,
 "nbformat_minor": 2
}
