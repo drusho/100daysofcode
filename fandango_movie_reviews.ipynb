{
  "nbformat": 4,
  "nbformat_minor": 0,
  "metadata": {
    "colab": {
      "name": "fandango_movie_reviews.ipynb",
      "provenance": [],
      "collapsed_sections": [],
      "authorship_tag": "ABX9TyPi+a2Nm2TqI8QJfYbq7YgP",
      "include_colab_link": true
    },
    "kernelspec": {
      "name": "python3",
      "display_name": "Python 3"
    }
  },
  "cells": [
    {
      "cell_type": "markdown",
      "metadata": {
        "id": "view-in-github",
        "colab_type": "text"
      },
      "source": [
        "<a href=\"https://colab.research.google.com/github/drusho/data_analysis/blob/main/fandango_movie_reviews.ipynb\" target=\"_parent\"><img src=\"https://colab.research.google.com/assets/colab-badge.svg\" alt=\"Open In Colab\"/></a>"
      ]
    },
    {
      "cell_type": "markdown",
      "metadata": {
        "id": "thozW6lGhZ34"
      },
      "source": [
        "# __Fandango Movie Reviews__\n",
        "\n",
        "The purpose of the notebook to review research orginally performed in 2015 by fivethirtyeight over potiental bias in movie reviews by Fandango.\n",
        "\n",
        "The data used in the notebook was taken from [Fivethirtyeight's Github.](\"https://github.com/fivethirtyeight/data/tree/maer/fandango#fandango\")\n",
        "\n",
        "<br>\n",
        "\n",
        "#### __Summary of Original Study by Fivethirtyeight__\n",
        "The original by FiveThirtyEight compiled data for 147 films from 2015 that have substantive reviews from both critics and consumers. Whenever a movie is released, critics from review websites such as Metacritic, Fandango, Rotten Tomatoes, and IMDB review and rate the film. They also ask the users from their respective communities to review and rate each film. An average rating is then created using reviews from both critics and users.  This average rating is then displayed on their websites.\n",
        "\n",
        "Fandango's movie ratings were the main focus of this investigation because unlike the rest of the review sites, Fandango sells movie tickets and thus has financial incentive to modify ratings to potientially increase tickets sales.  A final analysis of Fivethirtyeight's investigation can be found [here.](\"http://fivethirtyeight.com/features/fandango-movies-ratings/\") \n"
      ]
    },
    {
      "cell_type": "markdown",
      "metadata": {
        "id": "0aoO8KMamys9"
      },
      "source": [
        "#### __Begin Data Analysis__"
      ]
    },
    {
      "cell_type": "code",
      "metadata": {
        "colab": {
          "base_uri": "https://localhost:8080/"
        },
        "id": "k0t2z0L5gXVo",
        "outputId": "6c152d85-df3d-4770-e298-80dd9691e98b"
      },
      "source": [
        "# Import csv from fivethirtyeight's github.\n",
        "!curl --remote-name \\\n",
        "     -H 'Accept: application/vnd.github.v3.raw' \\\n",
        "     --location https://raw.githubusercontent.com/fivethirtyeight/data/master/fandango/fandango_score_comparison.csv"
      ],
      "execution_count": null,
      "outputs": [
        {
          "output_type": "stream",
          "text": [
            "  % Total    % Received % Xferd  Average Speed   Time    Time     Time  Current\n",
            "                                 Dload  Upload   Total   Spent    Left  Speed\n",
            "100 15144  100 15144    0     0  72459      0 --:--:-- --:--:-- --:--:-- 72459\n"
          ],
          "name": "stdout"
        }
      ]
    },
    {
      "cell_type": "code",
      "metadata": {
        "colab": {
          "base_uri": "https://localhost:8080/"
        },
        "id": "wYZN80yHgexb",
        "outputId": "ed201018-b9cf-4dbd-f94c-e956da3e2633"
      },
      "source": [
        "import pandas as pd\n",
        "\n",
        "reviews = pd.read_csv(\"fandango_score_comparison.csv\")\n",
        "reviews.info()"
      ],
      "execution_count": null,
      "outputs": [
        {
          "output_type": "stream",
          "text": [
            "<class 'pandas.core.frame.DataFrame'>\n",
            "RangeIndex: 146 entries, 0 to 145\n",
            "Data columns (total 22 columns):\n",
            " #   Column                      Non-Null Count  Dtype  \n",
            "---  ------                      --------------  -----  \n",
            " 0   FILM                        146 non-null    object \n",
            " 1   RottenTomatoes              146 non-null    int64  \n",
            " 2   RottenTomatoes_User         146 non-null    int64  \n",
            " 3   Metacritic                  146 non-null    int64  \n",
            " 4   Metacritic_User             146 non-null    float64\n",
            " 5   IMDB                        146 non-null    float64\n",
            " 6   Fandango_Stars              146 non-null    float64\n",
            " 7   Fandango_Ratingvalue        146 non-null    float64\n",
            " 8   RT_norm                     146 non-null    float64\n",
            " 9   RT_user_norm                146 non-null    float64\n",
            " 10  Metacritic_norm             146 non-null    float64\n",
            " 11  Metacritic_user_nom         146 non-null    float64\n",
            " 12  IMDB_norm                   146 non-null    float64\n",
            " 13  RT_norm_round               146 non-null    float64\n",
            " 14  RT_user_norm_round          146 non-null    float64\n",
            " 15  Metacritic_norm_round       146 non-null    float64\n",
            " 16  Metacritic_user_norm_round  146 non-null    float64\n",
            " 17  IMDB_norm_round             146 non-null    float64\n",
            " 18  Metacritic_user_vote_count  146 non-null    int64  \n",
            " 19  IMDB_user_vote_count        146 non-null    int64  \n",
            " 20  Fandango_votes              146 non-null    int64  \n",
            " 21  Fandango_Difference         146 non-null    float64\n",
            "dtypes: float64(15), int64(6), object(1)\n",
            "memory usage: 25.2+ KB\n"
          ],
          "name": "stdout"
        }
      ]
    },
    {
      "cell_type": "code",
      "metadata": {
        "colab": {
          "base_uri": "https://localhost:8080/",
          "height": 247
        },
        "id": "kgoiJUIVoVpI",
        "outputId": "ed39e7ca-ad97-4da7-82b2-5039d9b3c23f"
      },
      "source": [
        "# Load first 3 rows of csv \n",
        "reviews.head(3)"
      ],
      "execution_count": null,
      "outputs": [
        {
          "output_type": "execute_result",
          "data": {
            "text/html": [
              "<div>\n",
              "<style scoped>\n",
              "    .dataframe tbody tr th:only-of-type {\n",
              "        vertical-align: middle;\n",
              "    }\n",
              "\n",
              "    .dataframe tbody tr th {\n",
              "        vertical-align: top;\n",
              "    }\n",
              "\n",
              "    .dataframe thead th {\n",
              "        text-align: right;\n",
              "    }\n",
              "</style>\n",
              "<table border=\"1\" class=\"dataframe\">\n",
              "  <thead>\n",
              "    <tr style=\"text-align: right;\">\n",
              "      <th></th>\n",
              "      <th>FILM</th>\n",
              "      <th>RottenTomatoes</th>\n",
              "      <th>RottenTomatoes_User</th>\n",
              "      <th>Metacritic</th>\n",
              "      <th>Metacritic_User</th>\n",
              "      <th>IMDB</th>\n",
              "      <th>Fandango_Stars</th>\n",
              "      <th>Fandango_Ratingvalue</th>\n",
              "      <th>RT_norm</th>\n",
              "      <th>RT_user_norm</th>\n",
              "      <th>Metacritic_norm</th>\n",
              "      <th>Metacritic_user_nom</th>\n",
              "      <th>IMDB_norm</th>\n",
              "      <th>RT_norm_round</th>\n",
              "      <th>RT_user_norm_round</th>\n",
              "      <th>Metacritic_norm_round</th>\n",
              "      <th>Metacritic_user_norm_round</th>\n",
              "      <th>IMDB_norm_round</th>\n",
              "      <th>Metacritic_user_vote_count</th>\n",
              "      <th>IMDB_user_vote_count</th>\n",
              "      <th>Fandango_votes</th>\n",
              "      <th>Fandango_Difference</th>\n",
              "    </tr>\n",
              "  </thead>\n",
              "  <tbody>\n",
              "    <tr>\n",
              "      <th>0</th>\n",
              "      <td>Avengers: Age of Ultron (2015)</td>\n",
              "      <td>74</td>\n",
              "      <td>86</td>\n",
              "      <td>66</td>\n",
              "      <td>7.1</td>\n",
              "      <td>7.8</td>\n",
              "      <td>5.0</td>\n",
              "      <td>4.5</td>\n",
              "      <td>3.70</td>\n",
              "      <td>4.3</td>\n",
              "      <td>3.30</td>\n",
              "      <td>3.55</td>\n",
              "      <td>3.90</td>\n",
              "      <td>3.5</td>\n",
              "      <td>4.5</td>\n",
              "      <td>3.5</td>\n",
              "      <td>3.5</td>\n",
              "      <td>4.0</td>\n",
              "      <td>1330</td>\n",
              "      <td>271107</td>\n",
              "      <td>14846</td>\n",
              "      <td>0.5</td>\n",
              "    </tr>\n",
              "    <tr>\n",
              "      <th>1</th>\n",
              "      <td>Cinderella (2015)</td>\n",
              "      <td>85</td>\n",
              "      <td>80</td>\n",
              "      <td>67</td>\n",
              "      <td>7.5</td>\n",
              "      <td>7.1</td>\n",
              "      <td>5.0</td>\n",
              "      <td>4.5</td>\n",
              "      <td>4.25</td>\n",
              "      <td>4.0</td>\n",
              "      <td>3.35</td>\n",
              "      <td>3.75</td>\n",
              "      <td>3.55</td>\n",
              "      <td>4.5</td>\n",
              "      <td>4.0</td>\n",
              "      <td>3.5</td>\n",
              "      <td>4.0</td>\n",
              "      <td>3.5</td>\n",
              "      <td>249</td>\n",
              "      <td>65709</td>\n",
              "      <td>12640</td>\n",
              "      <td>0.5</td>\n",
              "    </tr>\n",
              "    <tr>\n",
              "      <th>2</th>\n",
              "      <td>Ant-Man (2015)</td>\n",
              "      <td>80</td>\n",
              "      <td>90</td>\n",
              "      <td>64</td>\n",
              "      <td>8.1</td>\n",
              "      <td>7.8</td>\n",
              "      <td>5.0</td>\n",
              "      <td>4.5</td>\n",
              "      <td>4.00</td>\n",
              "      <td>4.5</td>\n",
              "      <td>3.20</td>\n",
              "      <td>4.05</td>\n",
              "      <td>3.90</td>\n",
              "      <td>4.0</td>\n",
              "      <td>4.5</td>\n",
              "      <td>3.0</td>\n",
              "      <td>4.0</td>\n",
              "      <td>4.0</td>\n",
              "      <td>627</td>\n",
              "      <td>103660</td>\n",
              "      <td>12055</td>\n",
              "      <td>0.5</td>\n",
              "    </tr>\n",
              "  </tbody>\n",
              "</table>\n",
              "</div>"
            ],
            "text/plain": [
              "                             FILM  ...  Fandango_Difference\n",
              "0  Avengers: Age of Ultron (2015)  ...                  0.5\n",
              "1               Cinderella (2015)  ...                  0.5\n",
              "2                  Ant-Man (2015)  ...                  0.5\n",
              "\n",
              "[3 rows x 22 columns]"
            ]
          },
          "metadata": {
            "tags": []
          },
          "execution_count": 4
        }
      ]
    },
    {
      "cell_type": "markdown",
      "metadata": {
        "id": "QRWZUL7orb1H"
      },
      "source": [
        "#### __*Note about Ratings__\n",
        "\n",
        "Not all the sites use the same metric to determine their movie ratings. For example, Metacritic and Rotten Tomatoes aggregate scores from both users and film critics, while IMDB and Fandango aggregate only from their users. \n",
        "\n",
        "Since not all the sites have scores from critics, the rest of analysis will focus on user generated ratings  (_normalized to a 0 to 5 point scale_) from the following columns: \n",
        "\n",
        "\n",
        "|Column Name|Description|\n",
        "|:----------|:----------|\n",
        "| FILM|film name  |\n",
        "|RT_user_norm |average user rating from Rotten Tomatoes, normalized to a 1 to 5 point scale|\n",
        "|Metacritic_user_nom | average user rating from Metacritic, normalized to a 1 to 5 point scale|\n",
        "|IMDB_norm | average user rating from IMDB, normalized to a 1 to 5 point scale|\n",
        "|Fandango_Ratingvalue | average user rating from Fandango, normalized to a 1 to 5 point scale|\n",
        "|Fandango_Stars | the rating displayed on the Fandango website (rounded to nearest star, 1 to 5 point scale)|\n"
      ]
    },
    {
      "cell_type": "code",
      "metadata": {
        "colab": {
          "base_uri": "https://localhost:8080/",
          "height": 419
        },
        "id": "gfoBu6L7oOFE",
        "outputId": "69aa56fa-cef4-489b-baa3-d59a5651879a"
      },
      "source": [
        "# isolate database to show only user generated reviews\n",
        "norm_reviews = reviews[['FILM', 'RT_user_norm', 'Metacritic_user_nom', 'IMDB_norm', 'Fandango_Ratingvalue', 'Fandango_Stars']]\n",
        "norm_reviews"
      ],
      "execution_count": null,
      "outputs": [
        {
          "output_type": "execute_result",
          "data": {
            "text/html": [
              "<div>\n",
              "<style scoped>\n",
              "    .dataframe tbody tr th:only-of-type {\n",
              "        vertical-align: middle;\n",
              "    }\n",
              "\n",
              "    .dataframe tbody tr th {\n",
              "        vertical-align: top;\n",
              "    }\n",
              "\n",
              "    .dataframe thead th {\n",
              "        text-align: right;\n",
              "    }\n",
              "</style>\n",
              "<table border=\"1\" class=\"dataframe\">\n",
              "  <thead>\n",
              "    <tr style=\"text-align: right;\">\n",
              "      <th></th>\n",
              "      <th>FILM</th>\n",
              "      <th>RT_user_norm</th>\n",
              "      <th>Metacritic_user_nom</th>\n",
              "      <th>IMDB_norm</th>\n",
              "      <th>Fandango_Ratingvalue</th>\n",
              "      <th>Fandango_Stars</th>\n",
              "    </tr>\n",
              "  </thead>\n",
              "  <tbody>\n",
              "    <tr>\n",
              "      <th>0</th>\n",
              "      <td>Avengers: Age of Ultron (2015)</td>\n",
              "      <td>4.30</td>\n",
              "      <td>3.55</td>\n",
              "      <td>3.90</td>\n",
              "      <td>4.5</td>\n",
              "      <td>5.0</td>\n",
              "    </tr>\n",
              "    <tr>\n",
              "      <th>1</th>\n",
              "      <td>Cinderella (2015)</td>\n",
              "      <td>4.00</td>\n",
              "      <td>3.75</td>\n",
              "      <td>3.55</td>\n",
              "      <td>4.5</td>\n",
              "      <td>5.0</td>\n",
              "    </tr>\n",
              "    <tr>\n",
              "      <th>2</th>\n",
              "      <td>Ant-Man (2015)</td>\n",
              "      <td>4.50</td>\n",
              "      <td>4.05</td>\n",
              "      <td>3.90</td>\n",
              "      <td>4.5</td>\n",
              "      <td>5.0</td>\n",
              "    </tr>\n",
              "    <tr>\n",
              "      <th>3</th>\n",
              "      <td>Do You Believe? (2015)</td>\n",
              "      <td>4.20</td>\n",
              "      <td>2.35</td>\n",
              "      <td>2.70</td>\n",
              "      <td>4.5</td>\n",
              "      <td>5.0</td>\n",
              "    </tr>\n",
              "    <tr>\n",
              "      <th>4</th>\n",
              "      <td>Hot Tub Time Machine 2 (2015)</td>\n",
              "      <td>1.40</td>\n",
              "      <td>1.70</td>\n",
              "      <td>2.55</td>\n",
              "      <td>3.0</td>\n",
              "      <td>3.5</td>\n",
              "    </tr>\n",
              "    <tr>\n",
              "      <th>...</th>\n",
              "      <td>...</td>\n",
              "      <td>...</td>\n",
              "      <td>...</td>\n",
              "      <td>...</td>\n",
              "      <td>...</td>\n",
              "      <td>...</td>\n",
              "    </tr>\n",
              "    <tr>\n",
              "      <th>141</th>\n",
              "      <td>Mr. Holmes (2015)</td>\n",
              "      <td>3.90</td>\n",
              "      <td>3.95</td>\n",
              "      <td>3.70</td>\n",
              "      <td>4.0</td>\n",
              "      <td>4.0</td>\n",
              "    </tr>\n",
              "    <tr>\n",
              "      <th>142</th>\n",
              "      <td>'71 (2015)</td>\n",
              "      <td>4.10</td>\n",
              "      <td>3.75</td>\n",
              "      <td>3.60</td>\n",
              "      <td>3.5</td>\n",
              "      <td>3.5</td>\n",
              "    </tr>\n",
              "    <tr>\n",
              "      <th>143</th>\n",
              "      <td>Two Days, One Night (2014)</td>\n",
              "      <td>3.90</td>\n",
              "      <td>4.40</td>\n",
              "      <td>3.70</td>\n",
              "      <td>3.5</td>\n",
              "      <td>3.5</td>\n",
              "    </tr>\n",
              "    <tr>\n",
              "      <th>144</th>\n",
              "      <td>Gett: The Trial of Viviane Amsalem (2015)</td>\n",
              "      <td>4.05</td>\n",
              "      <td>3.65</td>\n",
              "      <td>3.90</td>\n",
              "      <td>3.5</td>\n",
              "      <td>3.5</td>\n",
              "    </tr>\n",
              "    <tr>\n",
              "      <th>145</th>\n",
              "      <td>Kumiko, The Treasure Hunter (2015)</td>\n",
              "      <td>3.15</td>\n",
              "      <td>3.20</td>\n",
              "      <td>3.35</td>\n",
              "      <td>3.5</td>\n",
              "      <td>3.5</td>\n",
              "    </tr>\n",
              "  </tbody>\n",
              "</table>\n",
              "<p>146 rows × 6 columns</p>\n",
              "</div>"
            ],
            "text/plain": [
              "                                          FILM  ...  Fandango_Stars\n",
              "0               Avengers: Age of Ultron (2015)  ...             5.0\n",
              "1                            Cinderella (2015)  ...             5.0\n",
              "2                               Ant-Man (2015)  ...             5.0\n",
              "3                       Do You Believe? (2015)  ...             5.0\n",
              "4                Hot Tub Time Machine 2 (2015)  ...             3.5\n",
              "..                                         ...  ...             ...\n",
              "141                          Mr. Holmes (2015)  ...             4.0\n",
              "142                                 '71 (2015)  ...             3.5\n",
              "143                 Two Days, One Night (2014)  ...             3.5\n",
              "144  Gett: The Trial of Viviane Amsalem (2015)  ...             3.5\n",
              "145         Kumiko, The Treasure Hunter (2015)  ...             3.5\n",
              "\n",
              "[146 rows x 6 columns]"
            ]
          },
          "metadata": {
            "tags": []
          },
          "execution_count": 5
        }
      ]
    },
    {
      "cell_type": "markdown",
      "metadata": {
        "id": "CuuuudzRpHt3"
      },
      "source": [
        "### __Norm Reviews__\n",
        "\n",
        "- Fandango and Metacritic have simliar max ratings (4.8 vs. 4.8).\n",
        "- Fandango has the highest average (3.8).  +0.5 higher than the next website, IMDB.\n",
        "- Rotten Tomatoes has both the lowest rating (1.0) and lowest average (3.1)."
      ]
    },
    {
      "cell_type": "code",
      "metadata": {
        "colab": {
          "base_uri": "https://localhost:8080/",
          "height": 365
        },
        "id": "x5XtqTJjCBCy",
        "outputId": "e141cb29-449e-419c-cae2-bf208372d555"
      },
      "source": [
        "import matplotlib.pyplot as plt\n",
        "from numpy import arange\n",
        "\n",
        "# Convert header names for num_cols to a list\n",
        "num_cols = norm_reviews.iloc[0][1:].index.tolist()\n",
        "\n",
        "movie_title = norm_reviews['FILM'].iloc[0]\n",
        "\n",
        "# Values from first row in num_cols\n",
        "bar_heights = norm_reviews[num_cols].iloc[0].values\n",
        "\n",
        "# fix bar column titles for readability\n",
        "num_cols_name_fix = ['RT Norm','Metacritic Norm','IMDB Norm', 'Fandango Norm','Fandango Stars']\n",
        "\n",
        "bar_positions = arange(len(num_cols)) + 1\n",
        "tick_positions = range(1,6)\n",
        "fig, ax = plt.subplots()\n",
        "\n",
        "# Create vertical bar chart\n",
        "ax.bar(bar_positions, bar_heights, width=0.5)\n",
        "ax.set_xticks(tick_positions)\n",
        "ax.set_xticklabels(num_cols_name_fix, rotation=90)\n",
        "\n",
        "plt.xlabel('Movie Rating Sites')\n",
        "plt.ylabel('Ratings')\n",
        "\n",
        "plt.ylabel('Rating Sites')\n",
        "plt.xlabel('User Ratings Averages')\n",
        "ax.set_title(f\"Movie: {movie_title}\")\n",
        "\n",
        "plt.show()"
      ],
      "execution_count": null,
      "outputs": [
        {
          "output_type": "display_data",
          "data": {
            "image/png": "[encoded data removed]",
            "text/plain": [
              "<Figure size 432x288 with 1 Axes>"
            ]
          },
          "metadata": {
            "tags": [],
            "needs_background": "light"
          }
        }
      ]
    },
    {
      "cell_type": "code",
      "metadata": {
        "colab": {
          "base_uri": "https://localhost:8080/",
          "height": 295
        },
        "id": "3a-oIzIoqc6V",
        "outputId": "5f384260-bdd9-4c43-ba86-8ee421d3d92b"
      },
      "source": [
        "# Convert chart to horizontal bars for readability of bar titles\n",
        "fig, ax = plt.subplots()\n",
        "\n",
        "ax.barh(bar_positions, bar_heights)\n",
        "ax.set_yticks(tick_positions)\n",
        "ax.set_yticklabels(num_cols_name_fix)\n",
        "\n",
        "plt.ylabel('Rating Sites')\n",
        "plt.xlabel('User Ratings Averages')\n",
        "ax.set_title(f\"Movie: {movie_title}\")\n",
        "\n",
        "plt.show()"
      ],
      "execution_count": null,
      "outputs": [
        {
          "output_type": "display_data",
          "data": {
            "image/png": "[encoded data removed]",
            "text/plain": [
              "<Figure size 432x288 with 1 Axes>"
            ]
          },
          "metadata": {
            "tags": [],
            "needs_background": "light"
          }
        }
      ]
    },
    {
      "cell_type": "markdown",
      "metadata": {
        "id": "gy7uXJmQ54XB"
      },
      "source": [
        "### __Fandango and Rotten Tomatoes__\n",
        "\n",
        "Fandango and Rotten Tomatoes have similiar user ratings for the movie: _Avengers: Age of Ultron (2015)_.\n"
      ]
    },
    {
      "cell_type": "code",
      "metadata": {
        "colab": {
          "base_uri": "https://localhost:8080/"
        },
        "id": "jlB0eEgc68C2",
        "outputId": "c7b15da1-0aaf-42c5-ac78-168a8cd927a6"
      },
      "source": [
        "# User ratings for Avengers: Age of Ultron (2015)\n",
        "norm_reviews[['Fandango_Ratingvalue','RT_user_norm']].iloc[0]"
      ],
      "execution_count": null,
      "outputs": [
        {
          "output_type": "execute_result",
          "data": {
            "text/plain": [
              "Fandango_Ratingvalue    4.5\n",
              "RT_user_norm            4.3\n",
              "Name: 0, dtype: float64"
            ]
          },
          "metadata": {
            "tags": []
          },
          "execution_count": 8
        }
      ]
    },
    {
      "cell_type": "markdown",
      "metadata": {
        "id": "Q6Lr6QLf8ePU"
      },
      "source": [
        "### __Compare Fandango and Rotten Tomatoes Columns__\n",
        "\n",
        "Let's take a closer look at the data from these to columns and see is there are other similarities."
      ]
    },
    {
      "cell_type": "code",
      "metadata": {
        "colab": {
          "base_uri": "https://localhost:8080/",
          "height": 279
        },
        "id": "PvdPBh8spQSA",
        "outputId": "20632be6-a262-4a9c-b410-ca6b1f736685"
      },
      "source": [
        "# Compare Fandango_Ratingvalue and RT_user_norm columns\n",
        "\n",
        "import numpy \n",
        "fig,ax = plt.subplots()\n",
        "\n",
        "x_axis = norm_reviews['Fandango_Ratingvalue']\n",
        "y_axis = norm_reviews['RT_user_norm']\n",
        "ax.scatter(x_axis,y_axis)\n",
        "\n",
        "# Rename columns for readability\n",
        "plt.xlabel(\"Fandango\")\n",
        "plt.ylabel(\"Rotten Tomatoes\")\n",
        "\n",
        "plt.show()"
      ],
      "execution_count": null,
      "outputs": [
        {
          "output_type": "display_data",
          "data": {
            "image/png": "[encoded data removed]",
            "text/plain": [
              "<Figure size 432x288 with 1 Axes>"
            ]
          },
          "metadata": {
            "tags": [],
            "needs_background": "light"
          }
        }
      ]
    },
    {
      "cell_type": "code",
      "metadata": {
        "colab": {
          "base_uri": "https://localhost:8080/"
        },
        "id": "Fg22YdHJ8ax7",
        "outputId": "7ef9e4b2-f0b8-4450-8f3e-f7840dd8b163"
      },
      "source": [
        "freq_counts = norm_reviews['Fandango_Ratingvalue'].value_counts().sort_index()\n",
        "freq_counts"
      ],
      "execution_count": null,
      "outputs": [
        {
          "output_type": "execute_result",
          "data": {
            "text/plain": [
              "2.7     2\n",
              "2.8     2\n",
              "2.9     5\n",
              "3.0     4\n",
              "3.1     3\n",
              "3.2     5\n",
              "3.3     4\n",
              "3.4     9\n",
              "3.5     9\n",
              "3.6     8\n",
              "3.7     9\n",
              "3.8     5\n",
              "3.9    12\n",
              "4.0     7\n",
              "4.1    16\n",
              "4.2    12\n",
              "4.3    11\n",
              "4.4     7\n",
              "4.5     9\n",
              "4.6     4\n",
              "4.8     3\n",
              "Name: Fandango_Ratingvalue, dtype: int64"
            ]
          },
          "metadata": {
            "tags": []
          },
          "execution_count": 10
        }
      ]
    },
    {
      "cell_type": "code",
      "metadata": {
        "colab": {
          "base_uri": "https://localhost:8080/",
          "height": 612
        },
        "id": "WIDN2kft8DeF",
        "outputId": "1b1efa77-a1ac-463d-d54e-ff50b8b58632"
      },
      "source": [
        "#Compare Top 5 count_values for all review sites\n",
        "\n",
        "# remove 'FILM' from df\n",
        "rating_sites = reviews[['RT_user_norm', 'Metacritic_user_nom', 'IMDB_norm', 'Fandango_Ratingvalue', 'Fandango_Stars']]\n",
        "\n",
        "for col in rating_sites.columns:\n",
        "    print('-' * 40 + col + '-' * 40 , end=' - ')\n",
        "    display(rating_sites[col].value_counts().head(5))"
      ],
      "execution_count": null,
      "outputs": [
        {
          "output_type": "stream",
          "text": [
            "----------------------------------------RT_user_norm---------------------------------------- - "
          ],
          "name": "stdout"
        },
        {
          "output_type": "display_data",
          "data": {
            "text/plain": [
              "4.30    8\n",
              "4.05    7\n",
              "3.40    5\n",
              "2.60    5\n",
              "2.35    4\n",
              "Name: RT_user_norm, dtype: int64"
            ]
          },
          "metadata": {
            "tags": []
          }
        },
        {
          "output_type": "stream",
          "text": [
            "----------------------------------------Metacritic_user_nom---------------------------------------- - "
          ],
          "name": "stdout"
        },
        {
          "output_type": "display_data",
          "data": {
            "text/plain": [
              "3.50    8\n",
              "3.95    8\n",
              "3.75    7\n",
              "3.20    6\n",
              "3.40    6\n",
              "Name: Metacritic_user_nom, dtype: int64"
            ]
          },
          "metadata": {
            "tags": []
          }
        },
        {
          "output_type": "stream",
          "text": [
            "----------------------------------------IMDB_norm---------------------------------------- - "
          ],
          "name": "stdout"
        },
        {
          "output_type": "display_data",
          "data": {
            "text/plain": [
              "3.60    10\n",
              "3.30     9\n",
              "3.15     9\n",
              "3.90     9\n",
              "3.70     8\n",
              "Name: IMDB_norm, dtype: int64"
            ]
          },
          "metadata": {
            "tags": []
          }
        },
        {
          "output_type": "stream",
          "text": [
            "----------------------------------------Fandango_Ratingvalue---------------------------------------- - "
          ],
          "name": "stdout"
        },
        {
          "output_type": "display_data",
          "data": {
            "text/plain": [
              "4.1    16\n",
              "4.2    12\n",
              "3.9    12\n",
              "4.3    11\n",
              "3.7     9\n",
              "Name: Fandango_Ratingvalue, dtype: int64"
            ]
          },
          "metadata": {
            "tags": []
          }
        },
        {
          "output_type": "stream",
          "text": [
            "----------------------------------------Fandango_Stars---------------------------------------- - "
          ],
          "name": "stdout"
        },
        {
          "output_type": "display_data",
          "data": {
            "text/plain": [
              "4.5    55\n",
              "4.0    41\n",
              "3.5    27\n",
              "3.0    12\n",
              "5.0    11\n",
              "Name: Fandango_Stars, dtype: int64"
            ]
          },
          "metadata": {
            "tags": []
          }
        }
      ]
    },
    {
      "cell_type": "code",
      "metadata": {
        "colab": {
          "base_uri": "https://localhost:8080/",
          "height": 297
        },
        "id": "qHpdDvOyD9E_",
        "outputId": "acacd3e6-61b0-47e0-d91f-5fcf9c8330dc"
      },
      "source": [
        "# histogram with seaborn\n",
        "\n",
        "import seaborn as sns\n",
        "\n",
        "sns.histplot(data=norm_reviews, x='Fandango_Ratingvalue',bins=5)\n",
        "\n",
        "\n"
      ],
      "execution_count": null,
      "outputs": [
        {
          "output_type": "execute_result",
          "data": {
            "text/plain": [
              "<matplotlib.axes._subplots.AxesSubplot at 0x7f8e277560f0>"
            ]
          },
          "metadata": {
            "tags": []
          },
          "execution_count": 88
        },
        {
          "output_type": "display_data",
          "data": {
            "image/png": "[encoded data removed]",
            "text/plain": [
              "<Figure size 432x288 with 1 Axes>"
            ]
          },
          "metadata": {
            "tags": [],
            "needs_background": "light"
          }
        }
      ]
    }
  ]
}