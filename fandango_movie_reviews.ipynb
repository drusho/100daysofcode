{
  "nbformat": 4,
  "nbformat_minor": 0,
  "metadata": {
    "colab": {
      "name": "fandango_movie_reviews.ipynb",
      "provenance": [],
      "collapsed_sections": [],
      "authorship_tag": "ABX9TyOxUzXjdDOOlQu/0dpRryWJ",
      "include_colab_link": true
    },
    "kernelspec": {
      "name": "python3",
      "display_name": "Python 3"
    }
  },
  "cells": [
    {
      "cell_type": "markdown",
      "metadata": {
        "id": "view-in-github",
        "colab_type": "text"
      },
      "source": [
        "<a href=\"https://colab.research.google.com/github/drusho/data_analysis/blob/main/fandango_movie_reviews.ipynb\" target=\"_parent\"><img src=\"https://colab.research.google.com/assets/colab-badge.svg\" alt=\"Open In Colab\"/></a>"
      ]
    },
    {
      "cell_type": "markdown",
      "metadata": {
        "id": "thozW6lGhZ34"
      },
      "source": [
        "# __Fandango Movie Reviews__\n",
        "\n",
        "The purpose of the notebook to review research orginally performed in 2015 by fivethirtyeight over potiental bias in movie reviews by Fandango.\n",
        "\n",
        "The data used in the notebook was taken from [Fivethirtyeight's Github.](\"https://github.com/fivethirtyeight/data/tree/maer/fandango#fandango\")\n",
        "\n",
        "<br>\n",
        "\n",
        "#### __Summary of Original Study by Fivethirtyeight__\n",
        "The original by FiveThirtyEight compiled data for 147 films from 2015 that have substantive reviews from both critics and consumers. Whenever a movie is released, critics from review websites such as Metacritic, Fandango, Rotten Tomatoes, and IMDB review and rate the film. They also ask the users from their respective communities to review and rate each film. An average rating is then created using reviews from both critics and users.  This average rating is then displayed on their websites.\n",
        "\n",
        "The purpose of this investigation was to look for potiental bias in Fandango's move ratings.  Fandango is unique among movie review websites because it also sells movie theater tickets, and thus there could be a financial incentive to modify movie ratings to increase tickets sales.  A final analysis of this investigation was [pubished](\"http://fivethirtyeight.com/features/fandango-movies-ratings/\") once it was discovered that poorily reviewed movies from other sites were still rated high by Fandango.\n"
      ]
    },
    {
      "cell_type": "markdown",
      "metadata": {
        "id": "0aoO8KMamys9"
      },
      "source": [
        "#### Import csv from Fandango's Github"
      ]
    },
    {
      "cell_type": "code",
      "metadata": {
        "colab": {
          "base_uri": "https://localhost:8080/"
        },
        "id": "k0t2z0L5gXVo",
        "outputId": "4f482c99-6230-4c14-9d32-d421c9cf26f8"
      },
      "source": [
        "# Fetch a single <1MB file using the raw GitHub URL.\n",
        "!curl --remote-name \\\n",
        "     -H 'Accept: application/vnd.github.v3.raw' \\\n",
        "     --location https://raw.githubusercontent.com/fivethirtyeight/data/master/fandango/fandango_score_comparison.csv"
      ],
      "execution_count": 1,
      "outputs": [
        {
          "output_type": "stream",
          "text": [
            "  % Total    % Received % Xferd  Average Speed   Time    Time     Time  Current\n",
            "                                 Dload  Upload   Total   Spent    Left  Speed\n",
            "100 15144  100 15144    0     0  65843      0 --:--:-- --:--:-- --:--:-- 65843\n"
          ],
          "name": "stdout"
        }
      ]
    },
    {
      "cell_type": "code",
      "metadata": {
        "colab": {
          "base_uri": "https://localhost:8080/"
        },
        "id": "wYZN80yHgexb",
        "outputId": "27e3030f-cfac-4d7a-ac58-effe05732bbb"
      },
      "source": [
        "import pandas as pd\n",
        "\n",
        "reviews = pd.read_csv(\"fandango_score_comparison.csv\")\n",
        "reviews.info()"
      ],
      "execution_count": 10,
      "outputs": [
        {
          "output_type": "stream",
          "text": [
            "<class 'pandas.core.frame.DataFrame'>\n",
            "RangeIndex: 146 entries, 0 to 145\n",
            "Data columns (total 22 columns):\n",
            " #   Column                      Non-Null Count  Dtype  \n",
            "---  ------                      --------------  -----  \n",
            " 0   FILM                        146 non-null    object \n",
            " 1   RottenTomatoes              146 non-null    int64  \n",
            " 2   RottenTomatoes_User         146 non-null    int64  \n",
            " 3   Metacritic                  146 non-null    int64  \n",
            " 4   Metacritic_User             146 non-null    float64\n",
            " 5   IMDB                        146 non-null    float64\n",
            " 6   Fandango_Stars              146 non-null    float64\n",
            " 7   Fandango_Ratingvalue        146 non-null    float64\n",
            " 8   RT_norm                     146 non-null    float64\n",
            " 9   RT_user_norm                146 non-null    float64\n",
            " 10  Metacritic_norm             146 non-null    float64\n",
            " 11  Metacritic_user_nom         146 non-null    float64\n",
            " 12  IMDB_norm                   146 non-null    float64\n",
            " 13  RT_norm_round               146 non-null    float64\n",
            " 14  RT_user_norm_round          146 non-null    float64\n",
            " 15  Metacritic_norm_round       146 non-null    float64\n",
            " 16  Metacritic_user_norm_round  146 non-null    float64\n",
            " 17  IMDB_norm_round             146 non-null    float64\n",
            " 18  Metacritic_user_vote_count  146 non-null    int64  \n",
            " 19  IMDB_user_vote_count        146 non-null    int64  \n",
            " 20  Fandango_votes              146 non-null    int64  \n",
            " 21  Fandango_Difference         146 non-null    float64\n",
            "dtypes: float64(15), int64(6), object(1)\n",
            "memory usage: 25.2+ KB\n"
          ],
          "name": "stdout"
        }
      ]
    },
    {
      "cell_type": "code",
      "metadata": {
        "colab": {
          "base_uri": "https://localhost:8080/",
          "height": 247
        },
        "id": "kgoiJUIVoVpI",
        "outputId": "8d7f1d50-c19d-4dc4-fed5-e3b833c4e98b"
      },
      "source": [
        "reviews.head(3)"
      ],
      "execution_count": 12,
      "outputs": [
        {
          "output_type": "execute_result",
          "data": {
            "text/html": [
              "<div>\n",
              "<style scoped>\n",
              "    .dataframe tbody tr th:only-of-type {\n",
              "        vertical-align: middle;\n",
              "    }\n",
              "\n",
              "    .dataframe tbody tr th {\n",
              "        vertical-align: top;\n",
              "    }\n",
              "\n",
              "    .dataframe thead th {\n",
              "        text-align: right;\n",
              "    }\n",
              "</style>\n",
              "<table border=\"1\" class=\"dataframe\">\n",
              "  <thead>\n",
              "    <tr style=\"text-align: right;\">\n",
              "      <th></th>\n",
              "      <th>FILM</th>\n",
              "      <th>RottenTomatoes</th>\n",
              "      <th>RottenTomatoes_User</th>\n",
              "      <th>Metacritic</th>\n",
              "      <th>Metacritic_User</th>\n",
              "      <th>IMDB</th>\n",
              "      <th>Fandango_Stars</th>\n",
              "      <th>Fandango_Ratingvalue</th>\n",
              "      <th>RT_norm</th>\n",
              "      <th>RT_user_norm</th>\n",
              "      <th>Metacritic_norm</th>\n",
              "      <th>Metacritic_user_nom</th>\n",
              "      <th>IMDB_norm</th>\n",
              "      <th>RT_norm_round</th>\n",
              "      <th>RT_user_norm_round</th>\n",
              "      <th>Metacritic_norm_round</th>\n",
              "      <th>Metacritic_user_norm_round</th>\n",
              "      <th>IMDB_norm_round</th>\n",
              "      <th>Metacritic_user_vote_count</th>\n",
              "      <th>IMDB_user_vote_count</th>\n",
              "      <th>Fandango_votes</th>\n",
              "      <th>Fandango_Difference</th>\n",
              "    </tr>\n",
              "  </thead>\n",
              "  <tbody>\n",
              "    <tr>\n",
              "      <th>0</th>\n",
              "      <td>Avengers: Age of Ultron (2015)</td>\n",
              "      <td>74</td>\n",
              "      <td>86</td>\n",
              "      <td>66</td>\n",
              "      <td>7.1</td>\n",
              "      <td>7.8</td>\n",
              "      <td>5.0</td>\n",
              "      <td>4.5</td>\n",
              "      <td>3.70</td>\n",
              "      <td>4.3</td>\n",
              "      <td>3.30</td>\n",
              "      <td>3.55</td>\n",
              "      <td>3.90</td>\n",
              "      <td>3.5</td>\n",
              "      <td>4.5</td>\n",
              "      <td>3.5</td>\n",
              "      <td>3.5</td>\n",
              "      <td>4.0</td>\n",
              "      <td>1330</td>\n",
              "      <td>271107</td>\n",
              "      <td>14846</td>\n",
              "      <td>0.5</td>\n",
              "    </tr>\n",
              "    <tr>\n",
              "      <th>1</th>\n",
              "      <td>Cinderella (2015)</td>\n",
              "      <td>85</td>\n",
              "      <td>80</td>\n",
              "      <td>67</td>\n",
              "      <td>7.5</td>\n",
              "      <td>7.1</td>\n",
              "      <td>5.0</td>\n",
              "      <td>4.5</td>\n",
              "      <td>4.25</td>\n",
              "      <td>4.0</td>\n",
              "      <td>3.35</td>\n",
              "      <td>3.75</td>\n",
              "      <td>3.55</td>\n",
              "      <td>4.5</td>\n",
              "      <td>4.0</td>\n",
              "      <td>3.5</td>\n",
              "      <td>4.0</td>\n",
              "      <td>3.5</td>\n",
              "      <td>249</td>\n",
              "      <td>65709</td>\n",
              "      <td>12640</td>\n",
              "      <td>0.5</td>\n",
              "    </tr>\n",
              "    <tr>\n",
              "      <th>2</th>\n",
              "      <td>Ant-Man (2015)</td>\n",
              "      <td>80</td>\n",
              "      <td>90</td>\n",
              "      <td>64</td>\n",
              "      <td>8.1</td>\n",
              "      <td>7.8</td>\n",
              "      <td>5.0</td>\n",
              "      <td>4.5</td>\n",
              "      <td>4.00</td>\n",
              "      <td>4.5</td>\n",
              "      <td>3.20</td>\n",
              "      <td>4.05</td>\n",
              "      <td>3.90</td>\n",
              "      <td>4.0</td>\n",
              "      <td>4.5</td>\n",
              "      <td>3.0</td>\n",
              "      <td>4.0</td>\n",
              "      <td>4.0</td>\n",
              "      <td>627</td>\n",
              "      <td>103660</td>\n",
              "      <td>12055</td>\n",
              "      <td>0.5</td>\n",
              "    </tr>\n",
              "  </tbody>\n",
              "</table>\n",
              "</div>"
            ],
            "text/plain": [
              "                             FILM  ...  Fandango_Difference\n",
              "0  Avengers: Age of Ultron (2015)  ...                  0.5\n",
              "1               Cinderella (2015)  ...                  0.5\n",
              "2                  Ant-Man (2015)  ...                  0.5\n",
              "\n",
              "[3 rows x 22 columns]"
            ]
          },
          "metadata": {
            "tags": []
          },
          "execution_count": 12
        }
      ]
    },
    {
      "cell_type": "markdown",
      "metadata": {
        "id": "QRWZUL7orb1H"
      },
      "source": [
        "#### __*Note about Ratings__\n",
        "\n",
        "Not all the sites use the same metric to determine their movie ratings. For example, Metacritic and Rotten Tomatoes aggregate scores from both users and film critics, while IMDB and Fandango aggregate only from their users. \n",
        "\n",
        "Since not all the sites have scores from critics, the rest of analysis will focus on user generated ratings  (_normalized to a 0 to 5 point scale_) from these columns: \n",
        "\n",
        "\n",
        "|Column Name|Description|\n",
        "|:----------|:----------|\n",
        "| FILM|film name  |\n",
        "|RT_user_norm |average user rating from Rotten Tomatoes, normalized to a 1 to 5 point scale|\n",
        "|Metacritic_user_nom | average user rating from Metacritic, normalized to a 1 to 5 point scale|\n",
        "|IMDB_norm | average user rating from IMDB, normalized to a 1 to 5 point scale|\n",
        "|Fandango_Ratingvalue | average user rating from Fandango, normalized to a 1 to 5 point scale|\n",
        "|Fandango_Stars | the rating displayed on the Fandango website (rounded to nearest star, 1 to 5 point scale)|\n"
      ]
    },
    {
      "cell_type": "code",
      "metadata": {
        "colab": {
          "base_uri": "https://localhost:8080/",
          "height": 419
        },
        "id": "gfoBu6L7oOFE",
        "outputId": "e6c8ced9-676b-4359-992d-a70c892c126a"
      },
      "source": [
        "# isolate db to show only user generated reviews\n",
        "norm_reviews = reviews[['FILM', 'RT_user_norm', 'Metacritic_user_nom', 'IMDB_norm', 'Fandango_Ratingvalue', 'Fandango_Stars']]\n",
        "norm_reviews"
      ],
      "execution_count": 11,
      "outputs": [
        {
          "output_type": "execute_result",
          "data": {
            "text/html": [
              "<div>\n",
              "<style scoped>\n",
              "    .dataframe tbody tr th:only-of-type {\n",
              "        vertical-align: middle;\n",
              "    }\n",
              "\n",
              "    .dataframe tbody tr th {\n",
              "        vertical-align: top;\n",
              "    }\n",
              "\n",
              "    .dataframe thead th {\n",
              "        text-align: right;\n",
              "    }\n",
              "</style>\n",
              "<table border=\"1\" class=\"dataframe\">\n",
              "  <thead>\n",
              "    <tr style=\"text-align: right;\">\n",
              "      <th></th>\n",
              "      <th>FILM</th>\n",
              "      <th>RT_user_norm</th>\n",
              "      <th>Metacritic_user_nom</th>\n",
              "      <th>IMDB_norm</th>\n",
              "      <th>Fandango_Ratingvalue</th>\n",
              "      <th>Fandango_Stars</th>\n",
              "    </tr>\n",
              "  </thead>\n",
              "  <tbody>\n",
              "    <tr>\n",
              "      <th>0</th>\n",
              "      <td>Avengers: Age of Ultron (2015)</td>\n",
              "      <td>4.30</td>\n",
              "      <td>3.55</td>\n",
              "      <td>3.90</td>\n",
              "      <td>4.5</td>\n",
              "      <td>5.0</td>\n",
              "    </tr>\n",
              "    <tr>\n",
              "      <th>1</th>\n",
              "      <td>Cinderella (2015)</td>\n",
              "      <td>4.00</td>\n",
              "      <td>3.75</td>\n",
              "      <td>3.55</td>\n",
              "      <td>4.5</td>\n",
              "      <td>5.0</td>\n",
              "    </tr>\n",
              "    <tr>\n",
              "      <th>2</th>\n",
              "      <td>Ant-Man (2015)</td>\n",
              "      <td>4.50</td>\n",
              "      <td>4.05</td>\n",
              "      <td>3.90</td>\n",
              "      <td>4.5</td>\n",
              "      <td>5.0</td>\n",
              "    </tr>\n",
              "    <tr>\n",
              "      <th>3</th>\n",
              "      <td>Do You Believe? (2015)</td>\n",
              "      <td>4.20</td>\n",
              "      <td>2.35</td>\n",
              "      <td>2.70</td>\n",
              "      <td>4.5</td>\n",
              "      <td>5.0</td>\n",
              "    </tr>\n",
              "    <tr>\n",
              "      <th>4</th>\n",
              "      <td>Hot Tub Time Machine 2 (2015)</td>\n",
              "      <td>1.40</td>\n",
              "      <td>1.70</td>\n",
              "      <td>2.55</td>\n",
              "      <td>3.0</td>\n",
              "      <td>3.5</td>\n",
              "    </tr>\n",
              "    <tr>\n",
              "      <th>...</th>\n",
              "      <td>...</td>\n",
              "      <td>...</td>\n",
              "      <td>...</td>\n",
              "      <td>...</td>\n",
              "      <td>...</td>\n",
              "      <td>...</td>\n",
              "    </tr>\n",
              "    <tr>\n",
              "      <th>141</th>\n",
              "      <td>Mr. Holmes (2015)</td>\n",
              "      <td>3.90</td>\n",
              "      <td>3.95</td>\n",
              "      <td>3.70</td>\n",
              "      <td>4.0</td>\n",
              "      <td>4.0</td>\n",
              "    </tr>\n",
              "    <tr>\n",
              "      <th>142</th>\n",
              "      <td>'71 (2015)</td>\n",
              "      <td>4.10</td>\n",
              "      <td>3.75</td>\n",
              "      <td>3.60</td>\n",
              "      <td>3.5</td>\n",
              "      <td>3.5</td>\n",
              "    </tr>\n",
              "    <tr>\n",
              "      <th>143</th>\n",
              "      <td>Two Days, One Night (2014)</td>\n",
              "      <td>3.90</td>\n",
              "      <td>4.40</td>\n",
              "      <td>3.70</td>\n",
              "      <td>3.5</td>\n",
              "      <td>3.5</td>\n",
              "    </tr>\n",
              "    <tr>\n",
              "      <th>144</th>\n",
              "      <td>Gett: The Trial of Viviane Amsalem (2015)</td>\n",
              "      <td>4.05</td>\n",
              "      <td>3.65</td>\n",
              "      <td>3.90</td>\n",
              "      <td>3.5</td>\n",
              "      <td>3.5</td>\n",
              "    </tr>\n",
              "    <tr>\n",
              "      <th>145</th>\n",
              "      <td>Kumiko, The Treasure Hunter (2015)</td>\n",
              "      <td>3.15</td>\n",
              "      <td>3.20</td>\n",
              "      <td>3.35</td>\n",
              "      <td>3.5</td>\n",
              "      <td>3.5</td>\n",
              "    </tr>\n",
              "  </tbody>\n",
              "</table>\n",
              "<p>146 rows × 6 columns</p>\n",
              "</div>"
            ],
            "text/plain": [
              "                                          FILM  ...  Fandango_Stars\n",
              "0               Avengers: Age of Ultron (2015)  ...             5.0\n",
              "1                            Cinderella (2015)  ...             5.0\n",
              "2                               Ant-Man (2015)  ...             5.0\n",
              "3                       Do You Believe? (2015)  ...             5.0\n",
              "4                Hot Tub Time Machine 2 (2015)  ...             3.5\n",
              "..                                         ...  ...             ...\n",
              "141                          Mr. Holmes (2015)  ...             4.0\n",
              "142                                 '71 (2015)  ...             3.5\n",
              "143                 Two Days, One Night (2014)  ...             3.5\n",
              "144  Gett: The Trial of Viviane Amsalem (2015)  ...             3.5\n",
              "145         Kumiko, The Treasure Hunter (2015)  ...             3.5\n",
              "\n",
              "[146 rows x 6 columns]"
            ]
          },
          "metadata": {
            "tags": []
          },
          "execution_count": 11
        }
      ]
    },
    {
      "cell_type": "code",
      "metadata": {
        "colab": {
          "base_uri": "https://localhost:8080/",
          "height": 297
        },
        "id": "4UBTqFh0o_ok",
        "outputId": "c91c0dc7-26e6-4e66-8d42-6271c290d624"
      },
      "source": [
        "norm_reviews.describe()"
      ],
      "execution_count": 13,
      "outputs": [
        {
          "output_type": "execute_result",
          "data": {
            "text/html": [
              "<div>\n",
              "<style scoped>\n",
              "    .dataframe tbody tr th:only-of-type {\n",
              "        vertical-align: middle;\n",
              "    }\n",
              "\n",
              "    .dataframe tbody tr th {\n",
              "        vertical-align: top;\n",
              "    }\n",
              "\n",
              "    .dataframe thead th {\n",
              "        text-align: right;\n",
              "    }\n",
              "</style>\n",
              "<table border=\"1\" class=\"dataframe\">\n",
              "  <thead>\n",
              "    <tr style=\"text-align: right;\">\n",
              "      <th></th>\n",
              "      <th>RT_user_norm</th>\n",
              "      <th>Metacritic_user_nom</th>\n",
              "      <th>IMDB_norm</th>\n",
              "      <th>Fandango_Ratingvalue</th>\n",
              "      <th>Fandango_Stars</th>\n",
              "    </tr>\n",
              "  </thead>\n",
              "  <tbody>\n",
              "    <tr>\n",
              "      <th>count</th>\n",
              "      <td>146.000000</td>\n",
              "      <td>146.000000</td>\n",
              "      <td>146.000000</td>\n",
              "      <td>146.000000</td>\n",
              "      <td>146.000000</td>\n",
              "    </tr>\n",
              "    <tr>\n",
              "      <th>mean</th>\n",
              "      <td>3.193836</td>\n",
              "      <td>3.259589</td>\n",
              "      <td>3.368493</td>\n",
              "      <td>3.845205</td>\n",
              "      <td>4.089041</td>\n",
              "    </tr>\n",
              "    <tr>\n",
              "      <th>std</th>\n",
              "      <td>1.001222</td>\n",
              "      <td>0.755356</td>\n",
              "      <td>0.479368</td>\n",
              "      <td>0.502831</td>\n",
              "      <td>0.540386</td>\n",
              "    </tr>\n",
              "    <tr>\n",
              "      <th>min</th>\n",
              "      <td>1.000000</td>\n",
              "      <td>1.200000</td>\n",
              "      <td>2.000000</td>\n",
              "      <td>2.700000</td>\n",
              "      <td>3.000000</td>\n",
              "    </tr>\n",
              "    <tr>\n",
              "      <th>25%</th>\n",
              "      <td>2.500000</td>\n",
              "      <td>2.850000</td>\n",
              "      <td>3.150000</td>\n",
              "      <td>3.500000</td>\n",
              "      <td>3.500000</td>\n",
              "    </tr>\n",
              "    <tr>\n",
              "      <th>50%</th>\n",
              "      <td>3.325000</td>\n",
              "      <td>3.425000</td>\n",
              "      <td>3.450000</td>\n",
              "      <td>3.900000</td>\n",
              "      <td>4.000000</td>\n",
              "    </tr>\n",
              "    <tr>\n",
              "      <th>75%</th>\n",
              "      <td>4.050000</td>\n",
              "      <td>3.750000</td>\n",
              "      <td>3.700000</td>\n",
              "      <td>4.200000</td>\n",
              "      <td>4.500000</td>\n",
              "    </tr>\n",
              "    <tr>\n",
              "      <th>max</th>\n",
              "      <td>4.700000</td>\n",
              "      <td>4.800000</td>\n",
              "      <td>4.300000</td>\n",
              "      <td>4.800000</td>\n",
              "      <td>5.000000</td>\n",
              "    </tr>\n",
              "  </tbody>\n",
              "</table>\n",
              "</div>"
            ],
            "text/plain": [
              "       RT_user_norm  Metacritic_user_nom  ...  Fandango_Ratingvalue  Fandango_Stars\n",
              "count    146.000000           146.000000  ...            146.000000      146.000000\n",
              "mean       3.193836             3.259589  ...              3.845205        4.089041\n",
              "std        1.001222             0.755356  ...              0.502831        0.540386\n",
              "min        1.000000             1.200000  ...              2.700000        3.000000\n",
              "25%        2.500000             2.850000  ...              3.500000        3.500000\n",
              "50%        3.325000             3.425000  ...              3.900000        4.000000\n",
              "75%        4.050000             3.750000  ...              4.200000        4.500000\n",
              "max        4.700000             4.800000  ...              4.800000        5.000000\n",
              "\n",
              "[8 rows x 5 columns]"
            ]
          },
          "metadata": {
            "tags": []
          },
          "execution_count": 13
        }
      ]
    },
    {
      "cell_type": "markdown",
      "metadata": {
        "id": "CuuuudzRpHt3"
      },
      "source": [
        "### __Norm Reviews__\n",
        "\n",
        "- Fandango and Metacritic have simliar max ratings (4.8 vs. 4.8).\n",
        "- Fandango has the highest average (3.8).  +0.5 higher than the next website, IMDB.\n",
        "- Rotten Tomatoes has both the lowest rating (1.0) and lowest average (3.1)."
      ]
    },
    {
      "cell_type": "code",
      "metadata": {
        "id": "3a-oIzIoqc6V"
      },
      "source": [
        ""
      ],
      "execution_count": 14,
      "outputs": []
    }
  ]
}